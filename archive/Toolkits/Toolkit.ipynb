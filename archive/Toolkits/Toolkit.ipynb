{
 "cells": [
  {
   "cell_type": "markdown",
   "id": "4099ce0a-eb3e-43e7-80cb-d6879b9347b3",
   "metadata": {},
   "source": [
    "# Import Dependencies"
   ]
  },
  {
   "cell_type": "code",
   "execution_count": 1,
   "id": "6ac112dd-779e-4bf3-8f3a-5b0fbf397259",
   "metadata": {},
   "outputs": [
    {
     "name": "stderr",
     "output_type": "stream",
     "text": [
      "WARNING:root:Subclass Parameter does not have a type annotation\n"
     ]
    }
   ],
   "source": [
    "from swarmauri.standard.tools.concrete.AdditionTool import AdditionTool\n",
    "from swarmauri.standard.toolkits.concrete.Toolkit import Toolkit"
   ]
  },
  {
   "cell_type": "markdown",
   "id": "8698b439-ca3c-41c0-8062-a63dc95532d6",
   "metadata": {},
   "source": [
    "# Instantiate Toolkit"
   ]
  },
  {
   "cell_type": "code",
   "execution_count": 2,
   "id": "51b888c7-64dd-414e-accf-7adcc1003467",
   "metadata": {},
   "outputs": [],
   "source": [
    "toolkit = Toolkit() \n",
    "tool_name = 'AdditionTool'\n",
    "tool = AdditionTool(name=tool_name)\n",
    "toolkit.add_tool(tool)"
   ]
  },
  {
   "cell_type": "markdown",
   "id": "ccf0d467-0801-4059-86d5-ca081c64b28d",
   "metadata": {},
   "source": [
    "# Resource and Type of Toolkit"
   ]
  },
  {
   "cell_type": "code",
   "execution_count": 3,
   "id": "26306c52-dbd1-4bbf-b181-7949e38b6e67",
   "metadata": {},
   "outputs": [
    {
     "data": {
      "text/plain": [
       "'Toolkit'"
      ]
     },
     "execution_count": 3,
     "metadata": {},
     "output_type": "execute_result"
    }
   ],
   "source": [
    "toolkit.resource"
   ]
  },
  {
   "cell_type": "code",
   "execution_count": 4,
   "id": "4db8707b-8408-4189-9db3-150da48908c2",
   "metadata": {},
   "outputs": [
    {
     "data": {
      "text/plain": [
       "'Toolkit'"
      ]
     },
     "execution_count": 4,
     "metadata": {},
     "output_type": "execute_result"
    }
   ],
   "source": [
    "toolkit.type"
   ]
  },
  {
   "cell_type": "markdown",
   "id": "dad5f9bd-f10a-4d30-b55d-9e1ca3183da2",
   "metadata": {},
   "source": [
    "# Serialization"
   ]
  },
  {
   "cell_type": "code",
   "execution_count": 5,
   "id": "6bdc86aa-3957-417c-8b40-049954fe2ffc",
   "metadata": {},
   "outputs": [
    {
     "data": {
      "text/plain": [
       "True"
      ]
     },
     "execution_count": 5,
     "metadata": {},
     "output_type": "execute_result"
    }
   ],
   "source": [
    "toolkit.id == Toolkit.model_validate_json(toolkit.model_dump_json()).id"
   ]
  },
  {
   "cell_type": "code",
   "execution_count": 6,
   "id": "da9978af-ae96-411f-a9ef-c5b1ab3f9d6a",
   "metadata": {},
   "outputs": [
    {
     "data": {
      "text/plain": [
       "'3'"
      ]
     },
     "execution_count": 6,
     "metadata": {},
     "output_type": "execute_result"
    }
   ],
   "source": [
    "toolkit.get_tool_by_name(tool_name)(1,2)"
   ]
  },
  {
   "cell_type": "markdown",
   "id": "f39dbf18-7488-4733-b23c-0ecfcde799ac",
   "metadata": {},
   "source": [
    "# Add Tool with Toolkit"
   ]
  },
  {
   "cell_type": "code",
   "execution_count": 7,
   "id": "f8eea035-e602-4bcd-b37d-12d62cfdcf87",
   "metadata": {},
   "outputs": [
    {
     "data": {
      "text/plain": [
       "1"
      ]
     },
     "execution_count": 7,
     "metadata": {},
     "output_type": "execute_result"
    }
   ],
   "source": [
    "len(toolkit.get_tools())"
   ]
  }
 ],
 "metadata": {
  "kernelspec": {
   "display_name": "Python 3 (ipykernel)",
   "language": "python",
   "name": "python3"
  },
  "language_info": {
   "codemirror_mode": {
    "name": "ipython",
    "version": 3
   },
   "file_extension": ".py",
   "mimetype": "text/x-python",
   "name": "python",
   "nbconvert_exporter": "python",
   "pygments_lexer": "ipython3",
   "version": "3.10.14"
  }
 },
 "nbformat": 4,
 "nbformat_minor": 5
}
