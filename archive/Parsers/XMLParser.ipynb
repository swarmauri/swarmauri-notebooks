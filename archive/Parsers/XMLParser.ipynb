{
 "cells": [
  {
   "cell_type": "markdown",
   "id": "a2dc6d95-ddbc-40c2-9dea-e6dbbd1ad079",
   "metadata": {},
   "source": [
    "# Import Dependencies "
   ]
  },
  {
   "cell_type": "code",
   "execution_count": 1,
   "id": "c337bab8-eae2-493a-8780-0f70152dbe5d",
   "metadata": {},
   "outputs": [],
   "source": [
    "from swarmauri.standard.parsers.concrete.XMLParser import XMLParser"
   ]
  },
  {
   "cell_type": "markdown",
   "id": "884eb4d6-2a47-4eab-8ab5-f170241019a3",
   "metadata": {},
   "source": [
    "# Instantiate Parser"
   ]
  },
  {
   "cell_type": "code",
   "execution_count": 2,
   "id": "acf76184-227d-4429-be16-6529e67b1324",
   "metadata": {},
   "outputs": [],
   "source": [
    "parser = XMLParser() "
   ]
  },
  {
   "cell_type": "markdown",
   "id": "18c69f8b-a90c-4948-874b-6499933d65dd",
   "metadata": {},
   "source": [
    "# Type and Resource of Parser"
   ]
  },
  {
   "cell_type": "code",
   "execution_count": 3,
   "id": "238f349f-6daa-4750-a5ee-0206a06a1c23",
   "metadata": {},
   "outputs": [
    {
     "name": "stdout",
     "output_type": "stream",
     "text": [
      "resource:Parser, type:XMLParser\n"
     ]
    }
   ],
   "source": [
    "print(f'resource:{parser.resource}, type:{parser.type}')"
   ]
  },
  {
   "cell_type": "markdown",
   "id": "15d05b8b-eb97-4e0d-90ad-26fd1626d8c7",
   "metadata": {},
   "source": [
    "# Parse"
   ]
  },
  {
   "cell_type": "code",
   "execution_count": 4,
   "id": "2dcad497-a1e6-4dff-8caa-5e9f11459611",
   "metadata": {},
   "outputs": [],
   "source": [
    "documents = XMLParser(element_tag='project').parse('<root><project>stuff inside project</project><project>test</project></root>')"
   ]
  },
  {
   "cell_type": "code",
   "execution_count": 5,
   "id": "5c59911b-da7f-48e7-a562-1b5966d84182",
   "metadata": {},
   "outputs": [
    {
     "data": {
      "text/plain": [
       "2"
      ]
     },
     "execution_count": 5,
     "metadata": {},
     "output_type": "execute_result"
    }
   ],
   "source": [
    "len(documents) "
   ]
  },
  {
   "cell_type": "code",
   "execution_count": 6,
   "id": "d220779a-267a-4cec-8284-7d445b59a9ea",
   "metadata": {},
   "outputs": [
    {
     "data": {
      "text/plain": [
       "'Document'"
      ]
     },
     "execution_count": 6,
     "metadata": {},
     "output_type": "execute_result"
    }
   ],
   "source": [
    "documents[0].resource"
   ]
  },
  {
   "cell_type": "code",
   "execution_count": 7,
   "id": "7db95387-c43d-4d7b-8f7d-ffd27cf244a9",
   "metadata": {},
   "outputs": [
    {
     "data": {
      "text/plain": [
       "'stuff inside project'"
      ]
     },
     "execution_count": 7,
     "metadata": {},
     "output_type": "execute_result"
    }
   ],
   "source": [
    "documents[0].content"
   ]
  },
  {
   "cell_type": "code",
   "execution_count": 8,
   "id": "6ee46111-717f-4503-aa82-f38390cea4f9",
   "metadata": {},
   "outputs": [
    {
     "data": {
      "text/plain": [
       "'Document'"
      ]
     },
     "execution_count": 8,
     "metadata": {},
     "output_type": "execute_result"
    }
   ],
   "source": [
    "documents[1].resource"
   ]
  },
  {
   "cell_type": "code",
   "execution_count": 9,
   "id": "2b3b18ce-6304-4bba-a5ca-97147e070d91",
   "metadata": {},
   "outputs": [
    {
     "data": {
      "text/plain": [
       "'test'"
      ]
     },
     "execution_count": 9,
     "metadata": {},
     "output_type": "execute_result"
    }
   ],
   "source": [
    "documents[1].content"
   ]
  },
  {
   "cell_type": "markdown",
   "id": "f2fc91f4-1d0b-4bf8-8339-a96bc986a614",
   "metadata": {},
   "source": [
    "# Serialization"
   ]
  },
  {
   "cell_type": "code",
   "execution_count": 10,
   "id": "c92a60f7-ab01-4b9b-adb3-515fd3d1f644",
   "metadata": {},
   "outputs": [
    {
     "data": {
      "text/plain": [
       "True"
      ]
     },
     "execution_count": 10,
     "metadata": {},
     "output_type": "execute_result"
    }
   ],
   "source": [
    "element_tag = 'test' \n",
    "parser = XMLParser(element_tag=element_tag)\n",
    "parser.id == XMLParser.model_validate_json(parser.model_dump_json()).id \n",
    "parser.element_tag == element_tag "
   ]
  }
 ],
 "metadata": {
  "kernelspec": {
   "display_name": "Python 3 (ipykernel)",
   "language": "python",
   "name": "python3"
  },
  "language_info": {
   "codemirror_mode": {
    "name": "ipython",
    "version": 3
   },
   "file_extension": ".py",
   "mimetype": "text/x-python",
   "name": "python",
   "nbconvert_exporter": "python",
   "pygments_lexer": "ipython3",
   "version": "3.10.11"
  }
 },
 "nbformat": 4,
 "nbformat_minor": 5
}
