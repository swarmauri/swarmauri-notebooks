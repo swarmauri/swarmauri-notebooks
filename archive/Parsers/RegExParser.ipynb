{
 "cells": [
  {
   "cell_type": "markdown",
   "id": "5fc8c666-e9f5-4e6a-b0db-7fbdef9a6813",
   "metadata": {},
   "source": [
    "# Import Dependencies "
   ]
  },
  {
   "cell_type": "code",
   "execution_count": 1,
   "id": "dc627572-56c2-4c0b-8764-60b9b56dd816",
   "metadata": {},
   "outputs": [],
   "source": [
    "from swarmauri.standard.parsers.concrete.RegExParser import RegExParser"
   ]
  },
  {
   "cell_type": "markdown",
   "id": "a3d5cded-4b62-4b74-9fc5-28caf4e194e3",
   "metadata": {},
   "source": [
    "# Instantiate Parser"
   ]
  },
  {
   "cell_type": "code",
   "execution_count": 2,
   "id": "3b3ea8a6-1623-4da8-8984-015ca18cf9c7",
   "metadata": {},
   "outputs": [],
   "source": [
    "email_pattern = r\"[a-zA-Z0-9._%+-]+@[a-zA-Z0-9.-]+\\.[a-zA-Z]{2,}\"\n",
    "parser = RegExParser(pattern=email_pattern) "
   ]
  },
  {
   "cell_type": "markdown",
   "id": "61d65fbe-8a31-4dab-a90d-f793740edf2a",
   "metadata": {},
   "source": [
    "# Type and Resource of Parser"
   ]
  },
  {
   "cell_type": "code",
   "execution_count": 3,
   "id": "c88b1d81-265f-48ef-9622-b7d888df283a",
   "metadata": {},
   "outputs": [
    {
     "name": "stdout",
     "output_type": "stream",
     "text": [
      "resource:Parser, type:RegExParser\n"
     ]
    }
   ],
   "source": [
    "print(f'resource:{parser.resource}, type:{parser.type}')"
   ]
  },
  {
   "cell_type": "markdown",
   "id": "41e98e3b-1c6d-4091-a313-13f7856f0f31",
   "metadata": {},
   "source": [
    "# Parse"
   ]
  },
  {
   "cell_type": "code",
   "execution_count": 4,
   "id": "bacd907d-8d57-4b83-b2b3-46af5db9b3e9",
   "metadata": {},
   "outputs": [],
   "source": [
    "text = \"\"\"\n",
    "    Here are some email addresses:\n",
    "    alice@example.com\n",
    "    bob.smith@work-email.org\n",
    "    contact@company.co.uk\n",
    "    \"\"\""
   ]
  },
  {
   "cell_type": "code",
   "execution_count": 5,
   "id": "1d6f441e-1c84-460c-8b6d-a619d9ad8cb1",
   "metadata": {},
   "outputs": [],
   "source": [
    "documents = parser.parse(text)"
   ]
  },
  {
   "cell_type": "code",
   "execution_count": 6,
   "id": "653ff872-e031-4a55-ae5a-c96d90d3e2da",
   "metadata": {},
   "outputs": [
    {
     "data": {
      "text/plain": [
       "'alice@example.com'"
      ]
     },
     "execution_count": 6,
     "metadata": {},
     "output_type": "execute_result"
    }
   ],
   "source": [
    "documents[0].content"
   ]
  },
  {
   "cell_type": "code",
   "execution_count": 7,
   "id": "520053ab-72ab-420c-af42-ac3de33630a6",
   "metadata": {},
   "outputs": [
    {
     "data": {
      "text/plain": [
       "'bob.smith@work-email.org'"
      ]
     },
     "execution_count": 7,
     "metadata": {},
     "output_type": "execute_result"
    }
   ],
   "source": [
    "documents[1].content"
   ]
  },
  {
   "cell_type": "code",
   "execution_count": 8,
   "id": "c16309c5-0dc9-4ee4-a39b-5b47a98d618a",
   "metadata": {},
   "outputs": [
    {
     "data": {
      "text/plain": [
       "'contact@company.co.uk'"
      ]
     },
     "execution_count": 8,
     "metadata": {},
     "output_type": "execute_result"
    }
   ],
   "source": [
    "documents[2].content"
   ]
  },
  {
   "cell_type": "markdown",
   "id": "07fca5bb-25f9-4739-a3bd-182795be1934",
   "metadata": {},
   "source": [
    "# Serialization"
   ]
  },
  {
   "cell_type": "code",
   "execution_count": 9,
   "id": "0b73daf4-2889-43a3-8f65-5ae131fde4ae",
   "metadata": {},
   "outputs": [
    {
     "data": {
      "text/plain": [
       "True"
      ]
     },
     "execution_count": 9,
     "metadata": {},
     "output_type": "execute_result"
    }
   ],
   "source": [
    "parser.id == RegExParser.model_validate_json(parser.model_dump_json()).id"
   ]
  }
 ],
 "metadata": {
  "kernelspec": {
   "display_name": "Python 3 (ipykernel)",
   "language": "python",
   "name": "python3"
  },
  "language_info": {
   "codemirror_mode": {
    "name": "ipython",
    "version": 3
   },
   "file_extension": ".py",
   "mimetype": "text/x-python",
   "name": "python",
   "nbconvert_exporter": "python",
   "pygments_lexer": "ipython3",
   "version": "3.10.11"
  }
 },
 "nbformat": 4,
 "nbformat_minor": 5
}
