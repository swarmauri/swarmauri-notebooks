{
 "cells": [
  {
   "cell_type": "markdown",
   "id": "71a2b0a0-241d-4704-b54e-6835615e5f87",
   "metadata": {},
   "source": [
    "# Import Dependencies "
   ]
  },
  {
   "cell_type": "code",
   "execution_count": 1,
   "id": "a5a793a7-f651-44af-8c4c-c8b70bd58548",
   "metadata": {},
   "outputs": [],
   "source": [
    "from swarmauri.standard.parsers.concrete.PhoneNumberExtractorParser import PhoneNumberExtractorParser"
   ]
  },
  {
   "cell_type": "markdown",
   "id": "884e84d5-02a5-4c2b-be28-6d8bbffc2f3c",
   "metadata": {},
   "source": [
    "# Instantiate Parser"
   ]
  },
  {
   "cell_type": "code",
   "execution_count": 2,
   "id": "ab56f792-a2cd-4cc8-a71a-ef9ea270db61",
   "metadata": {},
   "outputs": [],
   "source": [
    "parser = PhoneNumberExtractorParser() "
   ]
  },
  {
   "cell_type": "markdown",
   "id": "fd870bdd-5405-4247-8bce-db8403d8d27a",
   "metadata": {},
   "source": [
    "# Type and Resource of Parser"
   ]
  },
  {
   "cell_type": "code",
   "execution_count": 3,
   "id": "6b55240c-a3bb-4fde-b095-ab9b18115d6c",
   "metadata": {},
   "outputs": [
    {
     "name": "stdout",
     "output_type": "stream",
     "text": [
      "resource:Parser, type:PhoneNumberExtractorParser\n"
     ]
    }
   ],
   "source": [
    "print(f'resource:{parser.resource}, type:{parser.type}')"
   ]
  },
  {
   "cell_type": "markdown",
   "id": "f7376f0e-5a09-4120-809e-734124b16786",
   "metadata": {},
   "source": [
    "# Parse"
   ]
  },
  {
   "cell_type": "code",
   "execution_count": 4,
   "id": "278633a2-524e-42d9-a925-b6503bde6821",
   "metadata": {},
   "outputs": [],
   "source": [
    "document = parser.parse('John\\'s number is 555-555-5555')[0]"
   ]
  },
  {
   "cell_type": "code",
   "execution_count": 5,
   "id": "9c6b428c-d314-4584-bae3-648e08d9a28f",
   "metadata": {},
   "outputs": [
    {
     "data": {
      "text/plain": [
       "'555-555-5555'"
      ]
     },
     "execution_count": 5,
     "metadata": {},
     "output_type": "execute_result"
    }
   ],
   "source": [
    "document.content"
   ]
  },
  {
   "cell_type": "code",
   "execution_count": 6,
   "id": "36aa1b92-b543-4d71-8528-dd0da2f64237",
   "metadata": {},
   "outputs": [
    {
     "data": {
      "text/plain": [
       "'Document'"
      ]
     },
     "execution_count": 6,
     "metadata": {},
     "output_type": "execute_result"
    }
   ],
   "source": [
    "document.resource"
   ]
  },
  {
   "cell_type": "markdown",
   "id": "22913868-8853-4d72-9e51-fbdc234c463f",
   "metadata": {},
   "source": [
    "# Serialization"
   ]
  },
  {
   "cell_type": "code",
   "execution_count": 7,
   "id": "bfc0cb4c-9bf2-4a2a-ad5f-93bf17473d51",
   "metadata": {},
   "outputs": [
    {
     "data": {
      "text/plain": [
       "True"
      ]
     },
     "execution_count": 7,
     "metadata": {},
     "output_type": "execute_result"
    }
   ],
   "source": [
    "parser.id == PhoneNumberExtractorParser.model_validate_json(parser.model_dump_json()).id"
   ]
  }
 ],
 "metadata": {
  "kernelspec": {
   "display_name": "Python 3 (ipykernel)",
   "language": "python",
   "name": "python3"
  },
  "language_info": {
   "codemirror_mode": {
    "name": "ipython",
    "version": 3
   },
   "file_extension": ".py",
   "mimetype": "text/x-python",
   "name": "python",
   "nbconvert_exporter": "python",
   "pygments_lexer": "ipython3",
   "version": "3.10.11"
  }
 },
 "nbformat": 4,
 "nbformat_minor": 5
}
