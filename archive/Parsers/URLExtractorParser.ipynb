{
 "cells": [
  {
   "cell_type": "markdown",
   "id": "ca0c0cb7-4bdf-4dc7-a8c4-ef46a8762361",
   "metadata": {},
   "source": [
    "# Import Depedencies"
   ]
  },
  {
   "cell_type": "code",
   "execution_count": 1,
   "id": "859d4e6c-bf3b-4ce4-8715-44df8c752bdb",
   "metadata": {},
   "outputs": [],
   "source": [
    "from swarmauri.standard.parsers.concrete.URLExtractorParser import URLExtractorParser"
   ]
  },
  {
   "cell_type": "markdown",
   "id": "841972ab-7a38-46c4-ba6f-fcf5db5446a0",
   "metadata": {},
   "source": [
    "# Instantiate Parser"
   ]
  },
  {
   "cell_type": "code",
   "execution_count": 2,
   "id": "3fd5aef3-7673-4d57-ab77-ec4029692f32",
   "metadata": {},
   "outputs": [],
   "source": [
    "parser = URLExtractorParser() "
   ]
  },
  {
   "cell_type": "markdown",
   "id": "510355fb-3d11-4c11-b099-805db6825643",
   "metadata": {},
   "source": [
    "# Type and Resource of Parser"
   ]
  },
  {
   "cell_type": "code",
   "execution_count": 3,
   "id": "2c870944-6d6f-407b-b796-44c5a2a588ab",
   "metadata": {},
   "outputs": [
    {
     "name": "stdout",
     "output_type": "stream",
     "text": [
      "resource:Parser, type:URLExtractorParser\n"
     ]
    }
   ],
   "source": [
    "print(f'resource:{parser.resource}, type:{parser.type}')"
   ]
  },
  {
   "cell_type": "markdown",
   "id": "9ece78dc-bf55-44a9-91da-b329501772ce",
   "metadata": {},
   "source": [
    "# Parse "
   ]
  },
  {
   "cell_type": "code",
   "execution_count": 4,
   "id": "b4f99115-cade-43d4-a14f-d03745748c97",
   "metadata": {},
   "outputs": [],
   "source": [
    "documents = URLExtractorParser().parse('https://www.swarmauri.com, swarmauri.app, and swarmauri agents.')"
   ]
  },
  {
   "cell_type": "code",
   "execution_count": 5,
   "id": "2f8a3391-ecc4-4fc9-907a-f243b8474775",
   "metadata": {},
   "outputs": [
    {
     "data": {
      "text/plain": [
       "'Document'"
      ]
     },
     "execution_count": 5,
     "metadata": {},
     "output_type": "execute_result"
    }
   ],
   "source": [
    "documents[0].resource"
   ]
  },
  {
   "cell_type": "code",
   "execution_count": 6,
   "id": "2ced9d64-c7b9-4210-9437-48d059d65f2f",
   "metadata": {},
   "outputs": [
    {
     "data": {
      "text/plain": [
       "'https://www.swarmauri.com'"
      ]
     },
     "execution_count": 6,
     "metadata": {},
     "output_type": "execute_result"
    }
   ],
   "source": [
    "documents[0].content"
   ]
  },
  {
   "cell_type": "code",
   "execution_count": 7,
   "id": "0e0f2ce5-0710-4a41-a531-c605bb6ea78e",
   "metadata": {},
   "outputs": [
    {
     "data": {
      "text/plain": [
       "'URLExtractor'"
      ]
     },
     "execution_count": 7,
     "metadata": {},
     "output_type": "execute_result"
    }
   ],
   "source": [
    "documents[0].metadata['source'] "
   ]
  },
  {
   "cell_type": "markdown",
   "id": "813da69f-a8e4-44bf-887d-6aebfbaf454f",
   "metadata": {},
   "source": [
    "# Serialization"
   ]
  },
  {
   "cell_type": "code",
   "execution_count": 9,
   "id": "5594fc6c-5907-4b3f-8a83-9563f066ec65",
   "metadata": {},
   "outputs": [
    {
     "data": {
      "text/plain": [
       "True"
      ]
     },
     "execution_count": 9,
     "metadata": {},
     "output_type": "execute_result"
    }
   ],
   "source": [
    "parser.id == URLExtractorParser.model_validate_json(parser.model_dump_json()).id"
   ]
  }
 ],
 "metadata": {
  "kernelspec": {
   "display_name": "Python 3 (ipykernel)",
   "language": "python",
   "name": "python3"
  },
  "language_info": {
   "codemirror_mode": {
    "name": "ipython",
    "version": 3
   },
   "file_extension": ".py",
   "mimetype": "text/x-python",
   "name": "python",
   "nbconvert_exporter": "python",
   "pygments_lexer": "ipython3",
   "version": "3.10.11"
  }
 },
 "nbformat": 4,
 "nbformat_minor": 5
}
