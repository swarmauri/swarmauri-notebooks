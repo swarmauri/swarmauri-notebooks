{
 "cells": [
  {
   "cell_type": "markdown",
   "id": "01981e64-6592-478e-a339-197aa64848d7",
   "metadata": {},
   "source": [
    "# Import Dependencies"
   ]
  },
  {
   "cell_type": "code",
   "execution_count": 1,
   "id": "14200aa0-c9bb-4fae-8840-f1f83c0ef08a",
   "metadata": {},
   "outputs": [],
   "source": [
    "from swarmauri.standard.parsers.concrete.MarkdownParser import MarkdownParser"
   ]
  },
  {
   "cell_type": "markdown",
   "id": "e7d14764-b2d0-4896-9b7b-1872704a8df6",
   "metadata": {},
   "source": [
    "# Instantiate Parser"
   ]
  },
  {
   "cell_type": "code",
   "execution_count": 2,
   "id": "70fbde32-0250-4cd0-b673-7fbe6c42a220",
   "metadata": {},
   "outputs": [],
   "source": [
    "parser = MarkdownParser() "
   ]
  },
  {
   "cell_type": "markdown",
   "id": "f8bf4bd7-1b8a-489a-8181-0f3e468e2bc9",
   "metadata": {},
   "source": [
    "# Type and Resource of Parser"
   ]
  },
  {
   "cell_type": "code",
   "execution_count": 3,
   "id": "383534b6-5e9c-4e04-ac5d-bd5ba6f86dd2",
   "metadata": {},
   "outputs": [
    {
     "name": "stdout",
     "output_type": "stream",
     "text": [
      "resource:Parser, type:MarkdownParser\n"
     ]
    }
   ],
   "source": [
    "print(f'resource:{parser.resource}, type:{parser.type}')"
   ]
  },
  {
   "cell_type": "markdown",
   "id": "5c55f77c-3cea-4b09-afee-dde08d0a34cc",
   "metadata": {},
   "source": [
    "# Parse"
   ]
  },
  {
   "cell_type": "code",
   "execution_count": 4,
   "id": "ada25905-db0f-4503-9662-e68a149b7089",
   "metadata": {},
   "outputs": [],
   "source": [
    "string_to_parse = '''# test \\n\\n # TEST ## teset \\n ## sdfsdf # dsf \\n # test \\n # TEST ## teset \\n ## sdfsdf # dsf'''"
   ]
  },
  {
   "cell_type": "code",
   "execution_count": 5,
   "id": "a23bdaa1-e36c-407a-88fa-74d2fce30804",
   "metadata": {},
   "outputs": [
    {
     "data": {
      "text/plain": [
       "'Document'"
      ]
     },
     "execution_count": 5,
     "metadata": {},
     "output_type": "execute_result"
    }
   ],
   "source": [
    "parser.parse(string_to_parse)[0].resource"
   ]
  },
  {
   "cell_type": "code",
   "execution_count": 6,
   "id": "639f209a-e6b4-4ab7-8254-964bce414500",
   "metadata": {},
   "outputs": [
    {
     "data": {
      "text/plain": [
       "'<h1>test </h1><p> <h1>TEST <h2>teset </h2></h1><br> <h2>sdfsdf <h1>dsf </h2></h1><br> <h1>test </h1><br> <h1>TEST <h2>teset </h2></h1><br> <h2>sdfsdf <h1>dsf</h2></h1>'"
      ]
     },
     "execution_count": 6,
     "metadata": {},
     "output_type": "execute_result"
    }
   ],
   "source": [
    "parser.parse(string_to_parse)[0].content"
   ]
  },
  {
   "cell_type": "markdown",
   "id": "56a30a3c-4356-4b2a-ad41-397294950593",
   "metadata": {},
   "source": [
    "# Serialization"
   ]
  },
  {
   "cell_type": "code",
   "execution_count": 7,
   "id": "1063dd7e-49ed-489c-9771-4638e9b88125",
   "metadata": {},
   "outputs": [
    {
     "data": {
      "text/plain": [
       "True"
      ]
     },
     "execution_count": 7,
     "metadata": {},
     "output_type": "execute_result"
    }
   ],
   "source": [
    "parser.id == MarkdownParser.model_validate_json(parser.model_dump_json()).id"
   ]
  }
 ],
 "metadata": {
  "kernelspec": {
   "display_name": "Python 3 (ipykernel)",
   "language": "python",
   "name": "python3"
  },
  "language_info": {
   "codemirror_mode": {
    "name": "ipython",
    "version": 3
   },
   "file_extension": ".py",
   "mimetype": "text/x-python",
   "name": "python",
   "nbconvert_exporter": "python",
   "pygments_lexer": "ipython3",
   "version": "3.10.11"
  }
 },
 "nbformat": 4,
 "nbformat_minor": 5
}
