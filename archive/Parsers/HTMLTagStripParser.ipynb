{
 "cells": [
  {
   "cell_type": "markdown",
   "id": "bc412e57-9b54-4bbe-b76c-575ca3cdf322",
   "metadata": {},
   "source": [
    "# Import Dependencies "
   ]
  },
  {
   "cell_type": "code",
   "execution_count": 1,
   "id": "73cd72bd-acff-4190-9395-c7504cc10321",
   "metadata": {},
   "outputs": [],
   "source": [
    "from swarmauri.standard.parsers.concrete.HTMLTagStripParser import HTMLTagStripParser"
   ]
  },
  {
   "cell_type": "markdown",
   "id": "69fe1b43-b422-4bb6-833b-38dd651d94e9",
   "metadata": {},
   "source": [
    "# Instantiate Parser"
   ]
  },
  {
   "cell_type": "code",
   "execution_count": 2,
   "id": "cc2fa552-9c10-46e3-8878-3e421a803090",
   "metadata": {},
   "outputs": [],
   "source": [
    "parser = HTMLTagStripParser() "
   ]
  },
  {
   "cell_type": "markdown",
   "id": "18d00326-c794-4b5f-98a6-c72c053f79f1",
   "metadata": {},
   "source": [
    "# Type and Resource of Parser"
   ]
  },
  {
   "cell_type": "code",
   "execution_count": 3,
   "id": "c9b29894-3bb6-4034-aed6-39ff6c8e9800",
   "metadata": {},
   "outputs": [
    {
     "name": "stdout",
     "output_type": "stream",
     "text": [
      "resource:Parser, type:HTMLTagStripParser\n"
     ]
    }
   ],
   "source": [
    "print(f'resource:{parser.resource}, type:{parser.type}')"
   ]
  },
  {
   "cell_type": "markdown",
   "id": "839d3d5f-2c26-42fd-9128-6b5259e8d64c",
   "metadata": {},
   "source": [
    "# Parse"
   ]
  },
  {
   "cell_type": "code",
   "execution_count": 4,
   "id": "433168ca-b0e4-48f3-a2b8-933e09a0501f",
   "metadata": {},
   "outputs": [
    {
     "data": {
      "text/plain": [
       "'Document'"
      ]
     },
     "execution_count": 4,
     "metadata": {},
     "output_type": "execute_result"
    }
   ],
   "source": [
    "parser.parse('<html>test</html>')[0].resource"
   ]
  },
  {
   "cell_type": "code",
   "execution_count": 5,
   "id": "ad9c2982-65af-4afb-9546-6d8926c4fc7b",
   "metadata": {},
   "outputs": [
    {
     "data": {
      "text/plain": [
       "'test'"
      ]
     },
     "execution_count": 5,
     "metadata": {},
     "output_type": "execute_result"
    }
   ],
   "source": [
    "parser.parse('<html>test</html>')[0].content"
   ]
  },
  {
   "cell_type": "markdown",
   "id": "77795372-8c54-48bb-ba6a-85073008384d",
   "metadata": {},
   "source": [
    "# Serialization"
   ]
  },
  {
   "cell_type": "code",
   "execution_count": 6,
   "id": "6c0e7a38-98cd-4030-9692-7e1c14a696ed",
   "metadata": {},
   "outputs": [
    {
     "data": {
      "text/plain": [
       "True"
      ]
     },
     "execution_count": 6,
     "metadata": {},
     "output_type": "execute_result"
    }
   ],
   "source": [
    "parser.id == HTMLTagStripParser.model_validate_json(parser.model_dump_json()).id"
   ]
  }
 ],
 "metadata": {
  "kernelspec": {
   "display_name": "Python 3 (ipykernel)",
   "language": "python",
   "name": "python3"
  },
  "language_info": {
   "codemirror_mode": {
    "name": "ipython",
    "version": 3
   },
   "file_extension": ".py",
   "mimetype": "text/x-python",
   "name": "python",
   "nbconvert_exporter": "python",
   "pygments_lexer": "ipython3",
   "version": "3.10.11"
  }
 },
 "nbformat": 4,
 "nbformat_minor": 5
}
