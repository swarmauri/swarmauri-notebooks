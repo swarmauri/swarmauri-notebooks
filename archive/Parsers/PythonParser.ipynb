{
 "cells": [
  {
   "cell_type": "markdown",
   "id": "f1f3b5fb-ee30-4b05-a261-1625025d6039",
   "metadata": {},
   "source": [
    "# Import Dependencies "
   ]
  },
  {
   "cell_type": "code",
   "execution_count": 1,
   "id": "083ccd74-998a-4504-9a07-c465af3551af",
   "metadata": {},
   "outputs": [],
   "source": [
    "from swarmauri.standard.parsers.concrete.PythonParser import PythonParser"
   ]
  },
  {
   "cell_type": "markdown",
   "id": "9dba49df-ae7d-46b9-9c46-cbac9d229a48",
   "metadata": {},
   "source": [
    "# Instantiate Parser"
   ]
  },
  {
   "cell_type": "code",
   "execution_count": 2,
   "id": "a8e85227-4c09-4d42-a7d5-5706074e0c6a",
   "metadata": {},
   "outputs": [],
   "source": [
    "parser = PythonParser() "
   ]
  },
  {
   "cell_type": "markdown",
   "id": "73f4ebee-2f80-4588-8891-3cef8a072888",
   "metadata": {},
   "source": [
    "# Type and Resource of Parser"
   ]
  },
  {
   "cell_type": "code",
   "execution_count": 3,
   "id": "62653b3a-f6f7-4a0c-a915-f657a8ba90c6",
   "metadata": {},
   "outputs": [
    {
     "name": "stdout",
     "output_type": "stream",
     "text": [
      "resource:Parser, type:PythonParser\n"
     ]
    }
   ],
   "source": [
    "print(f'resource:{parser.resource}, type:{parser.type}')"
   ]
  },
  {
   "cell_type": "markdown",
   "id": "5f882ea0-9869-4e6e-b8a3-c917f69ea282",
   "metadata": {},
   "source": [
    "# Parse"
   ]
  },
  {
   "cell_type": "code",
   "execution_count": 4,
   "id": "92f9d131-907a-4858-961f-baa2ddc04576",
   "metadata": {},
   "outputs": [],
   "source": [
    "python_code = \"\"\"class ExampleClass:\n",
    "    \\\"\\\"\\\"\n",
    "    This is an example class.\n",
    "    \\\"\\\"\\\"\n",
    "    \n",
    "    def example_method(self):\n",
    "        \\\"\\\"\\\"\n",
    "        This is an example method.\n",
    "        \\\"\\\"\\\"\n",
    "        pass\n",
    "\n",
    "def example_function():\n",
    "    \\\"\\\"\\\"\n",
    "    This is an example function.\n",
    "    \\\"\\\"\\\"\n",
    "    pass\"\"\""
   ]
  },
  {
   "cell_type": "code",
   "execution_count": 5,
   "id": "8d0ee7f8-adc2-4cda-8b51-c03d988774a3",
   "metadata": {},
   "outputs": [
    {
     "data": {
      "text/plain": [
       "'This is an example class.'"
      ]
     },
     "execution_count": 5,
     "metadata": {},
     "output_type": "execute_result"
    }
   ],
   "source": [
    "parser.parse(python_code)[0].content"
   ]
  },
  {
   "cell_type": "code",
   "execution_count": 6,
   "id": "b2c0e646-60e5-4758-adb4-2b84a2315ca8",
   "metadata": {},
   "outputs": [
    {
     "data": {
      "text/plain": [
       "'This is an example function.'"
      ]
     },
     "execution_count": 6,
     "metadata": {},
     "output_type": "execute_result"
    }
   ],
   "source": [
    "parser.parse(python_code)[1].content"
   ]
  },
  {
   "cell_type": "code",
   "execution_count": 7,
   "id": "a6b43a66-1f58-44aa-82d1-8fa84deadcc8",
   "metadata": {},
   "outputs": [
    {
     "data": {
      "text/plain": [
       "'This is an example method.'"
      ]
     },
     "execution_count": 7,
     "metadata": {},
     "output_type": "execute_result"
    }
   ],
   "source": [
    "parser.parse(python_code)[2].content"
   ]
  },
  {
   "cell_type": "markdown",
   "id": "b616b9f1-3c7e-4e57-82a4-02e487990674",
   "metadata": {},
   "source": [
    "# Parse Class into Metadata"
   ]
  },
  {
   "cell_type": "code",
   "execution_count": 8,
   "id": "c06cecb7-72a8-4789-b119-7b273782ca78",
   "metadata": {},
   "outputs": [],
   "source": [
    "python_code = \"\"\"class ExampleClass:\n",
    "    \\\"\\\"\\\"\n",
    "    This is an example class.\n",
    "    \\\"\\\"\\\"\n",
    "    \n",
    "    def example_method(self):\n",
    "        \\\"\\\"\\\"\n",
    "        This is an example method.\n",
    "        \\\"\\\"\\\"\n",
    "        print('example method')\n",
    "\n",
    "def example_function():\n",
    "    \\\"\\\"\\\"\n",
    "    This is an example function.\n",
    "    \\\"\\\"\\\"\n",
    "    pass\"\"\"\n",
    "\n",
    "result_1 = \"\"\"class ExampleClass:\n",
    "    \\\"\\\"\\\"\n",
    "    This is an example class.\n",
    "    \\\"\\\"\\\"\n",
    "    \n",
    "    def example_method(self):\n",
    "        \\\"\\\"\\\"\n",
    "        This is an example method.\n",
    "        \\\"\\\"\\\"\n",
    "        print('example method')\"\"\"\n"
   ]
  },
  {
   "cell_type": "code",
   "execution_count": 9,
   "id": "8c45d058-29a0-49cb-9bfe-e959844ad043",
   "metadata": {},
   "outputs": [
    {
     "data": {
      "text/plain": [
       "'class ExampleClass:\\n    \"\"\"\\n    This is an example class.\\n    \"\"\"\\n    \\n    def example_method(self):\\n        \"\"\"\\n        This is an example method.\\n        \"\"\"\\n        print(\\'example method\\')'"
      ]
     },
     "execution_count": 9,
     "metadata": {},
     "output_type": "execute_result"
    }
   ],
   "source": [
    "parser.parse(python_code)[0].metadata['source_code']"
   ]
  },
  {
   "cell_type": "markdown",
   "id": "788730ce-bae8-40dc-9d02-f83cad2bfee1",
   "metadata": {},
   "source": [
    "# Parse Function into Metadata"
   ]
  },
  {
   "cell_type": "code",
   "execution_count": 10,
   "id": "da2e9ee6-3a55-4e46-9d71-4caa25c838fa",
   "metadata": {},
   "outputs": [],
   "source": [
    "python_code = \"\"\"class ExampleClass:\n",
    "    \\\"\\\"\\\"\n",
    "    This is an example class.\n",
    "    \\\"\\\"\\\"\n",
    "    \n",
    "    def example_method(self):\n",
    "        \\\"\\\"\\\"\n",
    "        This is an example method.\n",
    "        \\\"\\\"\\\"\n",
    "        print('example method')\n",
    "\n",
    "def example_function():\n",
    "    \\\"\\\"\\\"\n",
    "    This is an example function.\n",
    "    \\\"\\\"\\\"\n",
    "    pass\"\"\"\n",
    "\n",
    "\n",
    "result_2 = \"\"\"def example_function():\n",
    "    \\\"\\\"\\\"\n",
    "    This is an example function.\n",
    "    \\\"\\\"\\\"\n",
    "    pass\"\"\""
   ]
  },
  {
   "cell_type": "code",
   "execution_count": 11,
   "id": "b61ebbe7-5c78-4d9a-8d7e-94ca455910cf",
   "metadata": {},
   "outputs": [
    {
     "data": {
      "text/plain": [
       "'class ExampleClass:\\n    \"\"\"\\n    This is an example class.\\n    \"\"\"\\n    \\n    def example_method(self):\\n        \"\"\"\\n        This is an example method.\\n        \"\"\"\\n        print(\\'example method\\')'"
      ]
     },
     "execution_count": 11,
     "metadata": {},
     "output_type": "execute_result"
    }
   ],
   "source": [
    "parser.parse(python_code)[0].metadata['source_code'] "
   ]
  },
  {
   "cell_type": "markdown",
   "id": "83176d32-598d-488b-b821-d1627433ebef",
   "metadata": {},
   "source": [
    "# Parse Function into Document Resource"
   ]
  },
  {
   "cell_type": "code",
   "execution_count": 12,
   "id": "bb33af35-e345-4dd3-a518-1278f9181fcc",
   "metadata": {},
   "outputs": [],
   "source": [
    "python_code = \"\"\"class ExampleClass:\n",
    "    \\\"\\\"\\\"\n",
    "    This is an example class.\n",
    "    \\\"\\\"\\\"\n",
    "    \n",
    "    def example_method(self):\n",
    "        \\\"\\\"\\\"\n",
    "        This is an example method.\n",
    "        \\\"\\\"\\\"\n",
    "        print('example method')\n",
    "\n",
    "def example_function():\n",
    "    \\\"\\\"\\\"\n",
    "    This is an example function.\n",
    "    \\\"\\\"\\\"\n",
    "    pass\"\"\""
   ]
  },
  {
   "cell_type": "code",
   "execution_count": 13,
   "id": "a9482ea6-7f27-4d11-b712-16ef75946fb4",
   "metadata": {},
   "outputs": [
    {
     "data": {
      "text/plain": [
       "'Document'"
      ]
     },
     "execution_count": 13,
     "metadata": {},
     "output_type": "execute_result"
    }
   ],
   "source": [
    "parser.parse(python_code)[1].resource "
   ]
  },
  {
   "cell_type": "markdown",
   "id": "56f1487f-134a-47a7-9d32-26c788ac644f",
   "metadata": {},
   "source": [
    "# Serialization"
   ]
  },
  {
   "cell_type": "code",
   "execution_count": 14,
   "id": "58788c29-c549-43b1-a536-ed8f3efa4aaa",
   "metadata": {},
   "outputs": [
    {
     "data": {
      "text/plain": [
       "True"
      ]
     },
     "execution_count": 14,
     "metadata": {},
     "output_type": "execute_result"
    }
   ],
   "source": [
    "parser.id == PythonParser.model_validate_json(parser.model_dump_json()).id"
   ]
  }
 ],
 "metadata": {
  "kernelspec": {
   "display_name": "Python 3 (ipykernel)",
   "language": "python",
   "name": "python3"
  },
  "language_info": {
   "codemirror_mode": {
    "name": "ipython",
    "version": 3
   },
   "file_extension": ".py",
   "mimetype": "text/x-python",
   "name": "python",
   "nbconvert_exporter": "python",
   "pygments_lexer": "ipython3",
   "version": "3.10.11"
  }
 },
 "nbformat": 4,
 "nbformat_minor": 5
}
