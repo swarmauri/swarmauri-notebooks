{
 "cells": [
  {
   "cell_type": "markdown",
   "id": "4770ad23-3957-43a2-a380-69ee6c3a8fa3",
   "metadata": {},
   "source": [
    "# Import Dependencies "
   ]
  },
  {
   "cell_type": "code",
   "execution_count": 12,
   "id": "93603457-b276-4bf6-9163-0233efc4415d",
   "metadata": {},
   "outputs": [],
   "source": [
    "from swarmauri.standard.parsers.concrete.KeywordExtractorParser import KeywordExtractorParser "
   ]
  },
  {
   "cell_type": "markdown",
   "id": "0b8ca1a0-1eaf-4a12-8e15-991805b940d4",
   "metadata": {},
   "source": [
    "# Instantiate Parser"
   ]
  },
  {
   "cell_type": "code",
   "execution_count": 13,
   "id": "9cff2c49-4aa3-4a97-834c-eec09efb5650",
   "metadata": {},
   "outputs": [],
   "source": [
    "parser = KeywordExtractorParser() "
   ]
  },
  {
   "cell_type": "markdown",
   "id": "0461dd2d-0bf5-4b98-affe-b973078a4716",
   "metadata": {},
   "source": [
    "# Type and Resource of Parser"
   ]
  },
  {
   "cell_type": "code",
   "execution_count": 14,
   "id": "b9ee2c01-84e0-48f9-8234-eb5121026cc0",
   "metadata": {},
   "outputs": [
    {
     "name": "stdout",
     "output_type": "stream",
     "text": [
      "resource:Parser, type:KeywordExtractorParser\n"
     ]
    }
   ],
   "source": [
    "print(f'resource:{parser.resource}, type:{parser.type}')"
   ]
  },
  {
   "cell_type": "markdown",
   "id": "ccbcbb20-9845-4a16-bc00-986078b48eda",
   "metadata": {},
   "source": [
    "# Parse"
   ]
  },
  {
   "cell_type": "code",
   "execution_count": 17,
   "id": "0bc1eae5-78f0-45e0-93cd-852567038ec4",
   "metadata": {},
   "outputs": [
    {
     "data": {
      "text/plain": [
       "'Document'"
      ]
     },
     "execution_count": 17,
     "metadata": {},
     "output_type": "execute_result"
    }
   ],
   "source": [
    "parser.parse('test two burgers')[2].resource"
   ]
  },
  {
   "cell_type": "code",
   "execution_count": 18,
   "id": "06180a1c-0401-4ac9-baab-12fa919cae70",
   "metadata": {},
   "outputs": [
    {
     "data": {
      "text/plain": [
       "'burgers'"
      ]
     },
     "execution_count": 18,
     "metadata": {},
     "output_type": "execute_result"
    }
   ],
   "source": [
    "parser.parse('test two burgers')[2].content"
   ]
  },
  {
   "cell_type": "markdown",
   "id": "54ae8602-5b3c-4bd0-be75-03305a2df64f",
   "metadata": {},
   "source": [
    "# Serialization"
   ]
  },
  {
   "cell_type": "code",
   "execution_count": 19,
   "id": "0826375b-a1ff-4f2d-a08e-e0a10f4a8d97",
   "metadata": {},
   "outputs": [
    {
     "data": {
      "text/plain": [
       "True"
      ]
     },
     "execution_count": 19,
     "metadata": {},
     "output_type": "execute_result"
    }
   ],
   "source": [
    "parser.id == Parser.model_validate_json(parser.model_dump_json()).id"
   ]
  }
 ],
 "metadata": {
  "kernelspec": {
   "display_name": "Python 3 (ipykernel)",
   "language": "python",
   "name": "python3"
  },
  "language_info": {
   "codemirror_mode": {
    "name": "ipython",
    "version": 3
   },
   "file_extension": ".py",
   "mimetype": "text/x-python",
   "name": "python",
   "nbconvert_exporter": "python",
   "pygments_lexer": "ipython3",
   "version": "3.10.11"
  }
 },
 "nbformat": 4,
 "nbformat_minor": 5
}
