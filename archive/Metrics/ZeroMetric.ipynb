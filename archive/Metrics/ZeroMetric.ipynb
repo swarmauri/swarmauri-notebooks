{
 "cells": [
  {
   "cell_type": "markdown",
   "id": "96c0b45a-9de7-47ee-a359-ea959ca2f75c",
   "metadata": {},
   "source": [
    "# Import Dependencies"
   ]
  },
  {
   "cell_type": "code",
   "execution_count": 25,
   "id": "5dc5150a-cff5-4754-a12b-5ca19c7455be",
   "metadata": {},
   "outputs": [],
   "source": [
    "from swarmauri.standard.metrics.concrete.ZeroMetric import ZeroMetric"
   ]
  },
  {
   "cell_type": "markdown",
   "id": "508de018-ba9d-4f38-93a6-ddc4607a4b14",
   "metadata": {},
   "source": [
    "# Instantiate Metric"
   ]
  },
  {
   "cell_type": "code",
   "execution_count": 26,
   "id": "000f1ddf-c27b-40d1-a4f9-349153fa9f73",
   "metadata": {},
   "outputs": [],
   "source": [
    "metric = ZeroMetric(unit='points', value=10)"
   ]
  },
  {
   "cell_type": "markdown",
   "id": "a6b83a9c-cbf2-436d-9150-dc87eb7fcc1f",
   "metadata": {},
   "source": [
    "# Type and Resource of Metric"
   ]
  },
  {
   "cell_type": "code",
   "execution_count": 27,
   "id": "af64861a-26bb-45a5-a9f4-8240db87f150",
   "metadata": {},
   "outputs": [
    {
     "data": {
      "text/plain": [
       "'ZeroMetric'"
      ]
     },
     "execution_count": 27,
     "metadata": {},
     "output_type": "execute_result"
    }
   ],
   "source": [
    "metric.type"
   ]
  },
  {
   "cell_type": "code",
   "execution_count": 28,
   "id": "a4ec02f6-37be-4633-8192-4a2dc340d192",
   "metadata": {},
   "outputs": [
    {
     "data": {
      "text/plain": [
       "'Metric'"
      ]
     },
     "execution_count": 28,
     "metadata": {},
     "output_type": "execute_result"
    }
   ],
   "source": [
    "metric.resource"
   ]
  },
  {
   "cell_type": "markdown",
   "id": "1c5444f0-1a71-4f31-8500-a0e994e628ae",
   "metadata": {},
   "source": [
    "# Serialization"
   ]
  },
  {
   "cell_type": "code",
   "execution_count": 29,
   "id": "1e3e45a3-e047-4897-81b4-55beb23a18ca",
   "metadata": {},
   "outputs": [
    {
     "data": {
      "text/plain": [
       "True"
      ]
     },
     "execution_count": 29,
     "metadata": {},
     "output_type": "execute_result"
    }
   ],
   "source": [
    "metric.id == ZeroMetric.model_validate_json(metric.model_dump_json()).id"
   ]
  },
  {
   "cell_type": "markdown",
   "id": "693b92d0-ba9d-42b5-a2ea-223b6fef2267",
   "metadata": {},
   "source": [
    "# Unit and Value of Metric"
   ]
  },
  {
   "cell_type": "code",
   "execution_count": 30,
   "id": "d1d57c9c-11a1-4557-82e4-2f1e61f6cee8",
   "metadata": {},
   "outputs": [
    {
     "data": {
      "text/plain": [
       "10"
      ]
     },
     "execution_count": 30,
     "metadata": {},
     "output_type": "execute_result"
    }
   ],
   "source": [
    "metric() "
   ]
  },
  {
   "cell_type": "code",
   "execution_count": 31,
   "id": "c8a2a262-2c2a-487c-b06c-032c889b6f9c",
   "metadata": {},
   "outputs": [
    {
     "data": {
      "text/plain": [
       "10"
      ]
     },
     "execution_count": 31,
     "metadata": {},
     "output_type": "execute_result"
    }
   ],
   "source": [
    "metric.value"
   ]
  },
  {
   "cell_type": "code",
   "execution_count": 32,
   "id": "ccad1f7f-ce19-4e70-a7bd-7e24d665bb0f",
   "metadata": {},
   "outputs": [
    {
     "data": {
      "text/plain": [
       "'points'"
      ]
     },
     "execution_count": 32,
     "metadata": {},
     "output_type": "execute_result"
    }
   ],
   "source": [
    "metric.unit"
   ]
  },
  {
   "cell_type": "code",
   "execution_count": null,
   "id": "f203e731",
   "metadata": {},
   "outputs": [],
   "source": []
  },
  {
   "cell_type": "code",
   "execution_count": null,
   "id": "b962b8d5",
   "metadata": {},
   "outputs": [],
   "source": []
  }
 ],
 "metadata": {
  "kernelspec": {
   "display_name": "Python 3 (ipykernel)",
   "language": "python",
   "name": "python3"
  },
  "language_info": {
   "codemirror_mode": {
    "name": "ipython",
    "version": 3
   },
   "file_extension": ".py",
   "mimetype": "text/x-python",
   "name": "python",
   "nbconvert_exporter": "python",
   "pygments_lexer": "ipython3",
   "version": "3.10.14"
  }
 },
 "nbformat": 4,
 "nbformat_minor": 5
}
