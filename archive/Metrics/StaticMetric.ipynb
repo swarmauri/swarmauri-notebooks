{
 "cells": [
  {
   "cell_type": "markdown",
   "id": "98e05a1d-47de-4295-8ffd-7c12b4fd854b",
   "metadata": {},
   "source": [
    "# Import Dependencies"
   ]
  },
  {
   "cell_type": "code",
   "execution_count": 25,
   "id": "141bd2a9-3674-4cff-96c8-c8448d35691d",
   "metadata": {},
   "outputs": [],
   "source": [
    "from swarmauri.standard.metrics.concrete.StaticMetric import StaticMetric"
   ]
  },
  {
   "cell_type": "markdown",
   "id": "60c4b4e3-ab24-4fd3-95c2-d34d1932030c",
   "metadata": {},
   "source": [
    "# Instantiate Metric"
   ]
  },
  {
   "cell_type": "code",
   "execution_count": 26,
   "id": "6f0b9a38-fb54-42d0-a5be-4cac1a149bf8",
   "metadata": {},
   "outputs": [],
   "source": [
    "metric = StaticMetric(unit='jar of honey', value=10)"
   ]
  },
  {
   "cell_type": "markdown",
   "id": "d39103e6-cf80-4afa-9445-e74d28f656ea",
   "metadata": {},
   "source": [
    "# Type and Resource of Metric"
   ]
  },
  {
   "cell_type": "code",
   "execution_count": 27,
   "id": "c9451bb1-da10-4f66-8489-149b981dbcdf",
   "metadata": {},
   "outputs": [
    {
     "data": {
      "text/plain": [
       "'StaticMetric'"
      ]
     },
     "execution_count": 27,
     "metadata": {},
     "output_type": "execute_result"
    }
   ],
   "source": [
    "metric.type"
   ]
  },
  {
   "cell_type": "code",
   "execution_count": 28,
   "id": "4ee99423-ae9d-46b7-8cec-ee0ea3e71ae2",
   "metadata": {},
   "outputs": [
    {
     "data": {
      "text/plain": [
       "'Metric'"
      ]
     },
     "execution_count": 28,
     "metadata": {},
     "output_type": "execute_result"
    }
   ],
   "source": [
    "metric.resource"
   ]
  },
  {
   "cell_type": "markdown",
   "id": "22c1c596-b9fe-4b01-83bb-72d425491642",
   "metadata": {},
   "source": [
    "# Serialization"
   ]
  },
  {
   "cell_type": "code",
   "execution_count": 29,
   "id": "523425e0-977e-41a9-b96f-c0e17f323962",
   "metadata": {},
   "outputs": [
    {
     "data": {
      "text/plain": [
       "True"
      ]
     },
     "execution_count": 29,
     "metadata": {},
     "output_type": "execute_result"
    }
   ],
   "source": [
    " metric.id == StaticMetric.model_validate_json(metric.model_dump_json()).id"
   ]
  },
  {
   "cell_type": "markdown",
   "id": "f2938e2c-1c48-4d78-84ea-5610408d4378",
   "metadata": {},
   "source": [
    "# Unit and Value of Metric"
   ]
  },
  {
   "cell_type": "code",
   "execution_count": 30,
   "id": "fe2f1704-1d33-40c0-8dc3-b3bac6b4af99",
   "metadata": {},
   "outputs": [
    {
     "data": {
      "text/plain": [
       "10"
      ]
     },
     "execution_count": 30,
     "metadata": {},
     "output_type": "execute_result"
    }
   ],
   "source": [
    "metric()"
   ]
  },
  {
   "cell_type": "code",
   "execution_count": 31,
   "id": "fc100b5a-98db-4341-b4cf-2d53baa75de4",
   "metadata": {},
   "outputs": [
    {
     "data": {
      "text/plain": [
       "10"
      ]
     },
     "execution_count": 31,
     "metadata": {},
     "output_type": "execute_result"
    }
   ],
   "source": [
    "metric.value"
   ]
  },
  {
   "cell_type": "code",
   "execution_count": 32,
   "id": "3feec9b3-6003-4667-9e4c-a91a19687a7b",
   "metadata": {},
   "outputs": [
    {
     "data": {
      "text/plain": [
       "'jar of honey'"
      ]
     },
     "execution_count": 32,
     "metadata": {},
     "output_type": "execute_result"
    }
   ],
   "source": [
    "metric.unit"
   ]
  },
  {
   "cell_type": "code",
   "execution_count": null,
   "id": "860df2f5-d0a7-49ad-9b17-c272cda9bd6f",
   "metadata": {},
   "outputs": [],
   "source": []
  }
 ],
 "metadata": {
  "kernelspec": {
   "display_name": "Python 3 (ipykernel)",
   "language": "python",
   "name": "python3"
  },
  "language_info": {
   "codemirror_mode": {
    "name": "ipython",
    "version": 3
   },
   "file_extension": ".py",
   "mimetype": "text/x-python",
   "name": "python",
   "nbconvert_exporter": "python",
   "pygments_lexer": "ipython3",
   "version": "3.10.11"
  }
 },
 "nbformat": 4,
 "nbformat_minor": 5
}