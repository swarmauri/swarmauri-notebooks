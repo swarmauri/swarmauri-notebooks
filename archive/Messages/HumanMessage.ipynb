{
 "cells": [
  {
   "cell_type": "markdown",
   "id": "9a32b0bb-204d-42b8-83f8-6c367df608b3",
   "metadata": {},
   "source": [
    "# Import Dependencies"
   ]
  },
  {
   "cell_type": "code",
   "execution_count": 1,
   "id": "86772704-739d-4f1f-ba2c-6e064f293abc",
   "metadata": {},
   "outputs": [],
   "source": [
    "from swarmauri.standard.messages.concrete.HumanMessage import HumanMessage"
   ]
  },
  {
   "cell_type": "markdown",
   "id": "b9c471bb-3ad2-46c6-a602-67a7136fab66",
   "metadata": {},
   "source": [
    "# Instantiate Message"
   ]
  },
  {
   "cell_type": "code",
   "execution_count": 2,
   "id": "754ea76d-7ee3-44e3-9eb2-af252443eece",
   "metadata": {},
   "outputs": [],
   "source": [
    "message = HumanMessage(content='test')"
   ]
  },
  {
   "cell_type": "markdown",
   "id": "481d78e4-57fc-4b54-ad8d-2454477dd3b5",
   "metadata": {},
   "source": [
    "# Type and Resource of Message"
   ]
  },
  {
   "cell_type": "code",
   "execution_count": 3,
   "id": "7e7603ac-ddb2-4cda-bcb8-78fed8a5eed9",
   "metadata": {},
   "outputs": [
    {
     "name": "stdout",
     "output_type": "stream",
     "text": [
      "resource:Message, type:HumanMessage\n"
     ]
    }
   ],
   "source": [
    "print(f'resource:{message.resource}, type:{message.type}')"
   ]
  },
  {
   "cell_type": "markdown",
   "id": "42545229-d9e2-41f5-b785-a01598ccd711",
   "metadata": {},
   "source": [
    "# Role and Content of Message"
   ]
  },
  {
   "cell_type": "code",
   "execution_count": 4,
   "id": "455d40c8-ea18-4042-83e6-61fc291d9827",
   "metadata": {},
   "outputs": [
    {
     "data": {
      "text/plain": [
       "'user'"
      ]
     },
     "execution_count": 4,
     "metadata": {},
     "output_type": "execute_result"
    }
   ],
   "source": [
    "message.role"
   ]
  },
  {
   "cell_type": "code",
   "execution_count": 5,
   "id": "cc691cff-341c-4f5b-a3d7-e57b072f7447",
   "metadata": {},
   "outputs": [
    {
     "data": {
      "text/plain": [
       "'test'"
      ]
     },
     "execution_count": 5,
     "metadata": {},
     "output_type": "execute_result"
    }
   ],
   "source": [
    "message.content"
   ]
  },
  {
   "cell_type": "markdown",
   "id": "bc940f37-2f53-4552-8b2e-996d1d183627",
   "metadata": {},
   "source": [
    "# Serialization"
   ]
  },
  {
   "cell_type": "code",
   "execution_count": 6,
   "id": "f61f8419-6ea7-4c5d-80fc-4924a38b3c98",
   "metadata": {},
   "outputs": [
    {
     "data": {
      "text/plain": [
       "True"
      ]
     },
     "execution_count": 6,
     "metadata": {},
     "output_type": "execute_result"
    }
   ],
   "source": [
    "message.id == HumanMessage.model_validate_json(message.model_dump_json()).id  "
   ]
  },
  {
   "cell_type": "code",
   "execution_count": null,
   "id": "7bf81f35-b48a-47aa-ac98-f802704247b6",
   "metadata": {},
   "outputs": [],
   "source": []
  }
 ],
 "metadata": {
  "kernelspec": {
   "display_name": "Python 3 (ipykernel)",
   "language": "python",
   "name": "python3"
  },
  "language_info": {
   "codemirror_mode": {
    "name": "ipython",
    "version": 3
   },
   "file_extension": ".py",
   "mimetype": "text/x-python",
   "name": "python",
   "nbconvert_exporter": "python",
   "pygments_lexer": "ipython3",
   "version": "3.12.4"
  }
 },
 "nbformat": 4,
 "nbformat_minor": 5
}
