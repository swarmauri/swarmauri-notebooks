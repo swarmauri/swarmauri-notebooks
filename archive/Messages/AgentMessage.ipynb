{
 "cells": [
  {
   "cell_type": "markdown",
   "id": "a8b90b8a-b6dc-401b-b8bf-44c250a5a137",
   "metadata": {},
   "source": [
    "# Import Dependencies "
   ]
  },
  {
   "cell_type": "code",
   "execution_count": 7,
   "id": "09ca9f68-02f1-4762-917a-643bc05ee049",
   "metadata": {},
   "outputs": [],
   "source": [
    "from swarmauri.standard.messages.concrete.AgentMessage import AgentMessage"
   ]
  },
  {
   "cell_type": "markdown",
   "id": "c976e516-2ba4-4e82-b965-3df9e470e159",
   "metadata": {},
   "source": [
    "# Instantiate Message"
   ]
  },
  {
   "cell_type": "code",
   "execution_count": 8,
   "id": "a96a32bc-4862-4e7e-b156-a254ff7d969f",
   "metadata": {},
   "outputs": [],
   "source": [
    "message = AgentMessage() "
   ]
  },
  {
   "cell_type": "markdown",
   "id": "ba32edb0-50dc-4e80-95b5-85874eeada52",
   "metadata": {},
   "source": [
    "# Type and Resource of Message"
   ]
  },
  {
   "cell_type": "code",
   "execution_count": 9,
   "id": "566bd5c6-6eb6-4e80-bf2b-aed9f980f715",
   "metadata": {},
   "outputs": [
    {
     "name": "stdout",
     "output_type": "stream",
     "text": [
      "resource:Message, type:AgentMessage\n"
     ]
    }
   ],
   "source": [
    "print(f'resource:{message.resource}, type:{message.type}')"
   ]
  },
  {
   "cell_type": "markdown",
   "id": "9c3185d6-7065-4c44-b4ae-0bb0502f6919",
   "metadata": {},
   "source": [
    "# Role and Content of Message"
   ]
  },
  {
   "cell_type": "code",
   "execution_count": 10,
   "id": "8e0e56a5-8347-4fe9-ba72-4e54153a91f6",
   "metadata": {},
   "outputs": [
    {
     "data": {
      "text/plain": [
       "'assistant'"
      ]
     },
     "execution_count": 10,
     "metadata": {},
     "output_type": "execute_result"
    }
   ],
   "source": [
    "message.role"
   ]
  },
  {
   "cell_type": "code",
   "execution_count": 11,
   "id": "f015f208-9a5f-4d99-9128-1f4e5dcabb3f",
   "metadata": {},
   "outputs": [],
   "source": [
    "message.content"
   ]
  },
  {
   "cell_type": "markdown",
   "id": "3ec0a0e1-5eb5-4e62-8933-0bf44cbba544",
   "metadata": {},
   "source": [
    "# Serialization"
   ]
  },
  {
   "cell_type": "code",
   "execution_count": 12,
   "id": "aac87b49-cec0-4d2d-b154-b5eefbd9ee96",
   "metadata": {},
   "outputs": [
    {
     "data": {
      "text/plain": [
       "True"
      ]
     },
     "execution_count": 12,
     "metadata": {},
     "output_type": "execute_result"
    }
   ],
   "source": [
    "message.id == AgentMessage.model_validate_json(message.model_dump_json()).id"
   ]
  }
 ],
 "metadata": {
  "kernelspec": {
   "display_name": "Python 3 (ipykernel)",
   "language": "python",
   "name": "python3"
  },
  "language_info": {
   "codemirror_mode": {
    "name": "ipython",
    "version": 3
   },
   "file_extension": ".py",
   "mimetype": "text/x-python",
   "name": "python",
   "nbconvert_exporter": "python",
   "pygments_lexer": "ipython3",
   "version": "3.12.4"
  }
 },
 "nbformat": 4,
 "nbformat_minor": 5
}
