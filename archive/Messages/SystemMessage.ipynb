{
 "cells": [
  {
   "cell_type": "markdown",
   "id": "af70e33c-f0fb-4a36-b0c4-ac886af9721e",
   "metadata": {},
   "source": [
    "# Import Dependencies"
   ]
  },
  {
   "cell_type": "code",
   "execution_count": 1,
   "id": "79703a0a-f73f-4aa6-b30b-de2786f9fe20",
   "metadata": {},
   "outputs": [],
   "source": [
    "from swarmauri.standard.messages.concrete.SystemMessage import SystemMessage"
   ]
  },
  {
   "cell_type": "markdown",
   "id": "5bcf687d-ab0a-43dd-9df9-71d054d9ff67",
   "metadata": {},
   "source": [
    "# Instantiate Message"
   ]
  },
  {
   "cell_type": "code",
   "execution_count": 2,
   "id": "4e54a44d-c6d9-4d13-bca2-13f4db02e6d5",
   "metadata": {},
   "outputs": [],
   "source": [
    "message = SystemMessage(content='test') "
   ]
  },
  {
   "cell_type": "markdown",
   "id": "939e6c49-3866-4d9f-b2df-f3b6c9c69004",
   "metadata": {},
   "source": [
    "# Type and Resource of Message"
   ]
  },
  {
   "cell_type": "code",
   "execution_count": 3,
   "id": "a4bfc44a-2bb4-45f3-bcd4-a1a6e76cf2a2",
   "metadata": {},
   "outputs": [
    {
     "name": "stdout",
     "output_type": "stream",
     "text": [
      "resource:Message, type:SystemMessage\n"
     ]
    }
   ],
   "source": [
    "print(f'resource:{message.resource}, type:{message.type}')"
   ]
  },
  {
   "cell_type": "markdown",
   "id": "1cea4191-6236-41d3-8b06-991895404016",
   "metadata": {},
   "source": [
    "# Role and Content"
   ]
  },
  {
   "cell_type": "code",
   "execution_count": 4,
   "id": "332f16f4-7fd8-4c73-81c1-f42148bd0020",
   "metadata": {},
   "outputs": [
    {
     "data": {
      "text/plain": [
       "'system'"
      ]
     },
     "execution_count": 4,
     "metadata": {},
     "output_type": "execute_result"
    }
   ],
   "source": [
    "message.role"
   ]
  },
  {
   "cell_type": "code",
   "execution_count": 5,
   "id": "afeec5f1-1c75-47f8-a88f-bd09b3198177",
   "metadata": {},
   "outputs": [
    {
     "data": {
      "text/plain": [
       "'test'"
      ]
     },
     "execution_count": 5,
     "metadata": {},
     "output_type": "execute_result"
    }
   ],
   "source": [
    "message.content"
   ]
  },
  {
   "cell_type": "markdown",
   "id": "51c57151-bfd0-4fa4-be44-af275ea983ec",
   "metadata": {},
   "source": [
    "# Serialization"
   ]
  },
  {
   "cell_type": "code",
   "execution_count": 6,
   "id": "bf6da0ee-fb46-41f0-abd8-824e18d5db89",
   "metadata": {},
   "outputs": [
    {
     "data": {
      "text/plain": [
       "True"
      ]
     },
     "execution_count": 6,
     "metadata": {},
     "output_type": "execute_result"
    }
   ],
   "source": [
    "message.id == SystemMessage.model_validate_json(message.model_dump_json()).id"
   ]
  }
 ],
 "metadata": {
  "kernelspec": {
   "display_name": "Python 3 (ipykernel)",
   "language": "python",
   "name": "python3"
  },
  "language_info": {
   "codemirror_mode": {
    "name": "ipython",
    "version": 3
   },
   "file_extension": ".py",
   "mimetype": "text/x-python",
   "name": "python",
   "nbconvert_exporter": "python",
   "pygments_lexer": "ipython3",
   "version": "3.12.4"
  }
 },
 "nbformat": 4,
 "nbformat_minor": 5
}
