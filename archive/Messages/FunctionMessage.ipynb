{
 "cells": [
  {
   "cell_type": "markdown",
   "id": "c1192af6-fb29-4311-9bd8-296dd3427fc8",
   "metadata": {},
   "source": [
    "# Import Dependencies "
   ]
  },
  {
   "cell_type": "code",
   "execution_count": 1,
   "id": "53f7c5fb-c195-496e-907c-429792067c2a",
   "metadata": {},
   "outputs": [],
   "source": [
    "from swarmauri.standard.messages.concrete.FunctionMessage import FunctionMessage"
   ]
  },
  {
   "cell_type": "markdown",
   "id": "05c615ed-399a-4719-9524-88430691a40f",
   "metadata": {},
   "source": [
    "# Instantiate Message"
   ]
  },
  {
   "cell_type": "code",
   "execution_count": 2,
   "id": "7bd980b7-87fe-4e6b-a599-9ca3cd12c9cf",
   "metadata": {},
   "outputs": [],
   "source": [
    "message = FunctionMessage(name=\"test_name\", content='test', tool_call_id=\"test_tool_call_id\") "
   ]
  },
  {
   "cell_type": "markdown",
   "id": "0c7311c5-55fe-4d11-8744-6189cd5bcbfb",
   "metadata": {},
   "source": [
    "# Type and Resource of Message"
   ]
  },
  {
   "cell_type": "code",
   "execution_count": 3,
   "id": "5a45598f-a105-4ce2-9457-d90d084e18b2",
   "metadata": {},
   "outputs": [
    {
     "name": "stdout",
     "output_type": "stream",
     "text": [
      "resource:Message, type:FunctionMessage\n"
     ]
    }
   ],
   "source": [
    "print(f'resource:{message.resource}, type:{message.type}')"
   ]
  },
  {
   "cell_type": "markdown",
   "id": "4e56046a-550f-4004-a26f-8ebd163b189b",
   "metadata": {},
   "source": [
    "# Name, Content, Role, Tool call id of Message"
   ]
  },
  {
   "cell_type": "code",
   "execution_count": 4,
   "id": "03957966-aea0-4d07-93df-4f29fadcb1ab",
   "metadata": {},
   "outputs": [
    {
     "data": {
      "text/plain": [
       "'test_name'"
      ]
     },
     "execution_count": 4,
     "metadata": {},
     "output_type": "execute_result"
    }
   ],
   "source": [
    "message.name"
   ]
  },
  {
   "cell_type": "code",
   "execution_count": 5,
   "id": "aa540bb1-beea-4e36-8cc0-98899dc64990",
   "metadata": {},
   "outputs": [
    {
     "data": {
      "text/plain": [
       "'test'"
      ]
     },
     "execution_count": 5,
     "metadata": {},
     "output_type": "execute_result"
    }
   ],
   "source": [
    "message.content"
   ]
  },
  {
   "cell_type": "code",
   "execution_count": 6,
   "id": "8a336b2b-2ac0-4de2-b8f8-394acf258755",
   "metadata": {},
   "outputs": [
    {
     "data": {
      "text/plain": [
       "'tool'"
      ]
     },
     "execution_count": 6,
     "metadata": {},
     "output_type": "execute_result"
    }
   ],
   "source": [
    "message.role"
   ]
  },
  {
   "cell_type": "code",
   "execution_count": 7,
   "id": "65168fac-d278-48fd-abf8-d1e9ae1736a2",
   "metadata": {},
   "outputs": [
    {
     "data": {
      "text/plain": [
       "'test_tool_call_id'"
      ]
     },
     "execution_count": 7,
     "metadata": {},
     "output_type": "execute_result"
    }
   ],
   "source": [
    "message.tool_call_id"
   ]
  },
  {
   "cell_type": "markdown",
   "id": "50b326c8-0575-4b21-8750-0dc6992b97c1",
   "metadata": {},
   "source": [
    "# Serialization"
   ]
  },
  {
   "cell_type": "code",
   "execution_count": 8,
   "id": "2ff2381c-1c1f-44c7-a8d5-e4045ec95ec6",
   "metadata": {},
   "outputs": [
    {
     "data": {
      "text/plain": [
       "True"
      ]
     },
     "execution_count": 8,
     "metadata": {},
     "output_type": "execute_result"
    }
   ],
   "source": [
    "message.id == FunctionMessage.model_validate_json(message.model_dump_json()).id"
   ]
  }
 ],
 "metadata": {
  "kernelspec": {
   "display_name": "Python 3 (ipykernel)",
   "language": "python",
   "name": "python3"
  },
  "language_info": {
   "codemirror_mode": {
    "name": "ipython",
    "version": 3
   },
   "file_extension": ".py",
   "mimetype": "text/x-python",
   "name": "python",
   "nbconvert_exporter": "python",
   "pygments_lexer": "ipython3",
   "version": "3.12.4"
  }
 },
 "nbformat": 4,
 "nbformat_minor": 5
}
