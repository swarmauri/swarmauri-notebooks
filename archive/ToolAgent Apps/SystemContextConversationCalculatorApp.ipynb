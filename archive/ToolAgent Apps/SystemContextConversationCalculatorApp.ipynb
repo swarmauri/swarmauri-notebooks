{
 "cells": [
  {
   "cell_type": "markdown",
   "metadata": {},
   "source": [
    "#Install Libraries"
   ]
  },
  {
   "cell_type": "code",
   "execution_count": null,
   "metadata": {},
   "outputs": [],
   "source": [
    "pip install swarmauri[full]==0.4.0 python-dotenv\n"
   ]
  },
  {
   "cell_type": "code",
   "execution_count": null,
   "metadata": {},
   "outputs": [],
   "source": [
    "pip install gradio"
   ]
  },
  {
   "cell_type": "code",
   "execution_count": null,
   "metadata": {},
   "outputs": [],
   "source": [
    "\n",
    "import os\n",
    "from swarmauri.standard.llms.concrete.GroqToolModel import GroqToolModel\n",
    "from swarmauri.standard.agents.concrete.ToolAgent import ToolAgent\n",
    "from swarmauri.standard.tools.concrete.CalculatorTool import CalculatorTool\n",
    "from swarmauri.standard.conversations.concrete.MaxSystemContextConversation import MaxSystemContextConversation\n",
    "from dotenv import load_dotenv\n",
    "from swarmauri.standard.toolkits.concrete.Toolkit import Toolkit  # Assuming there is a Toolkit class\n",
    "\n",
    "# Fetch the API key from environment variables or define it directly\n",
    "# Load environment variables from .env file\n",
    "load_dotenv()\n",
    "\n",
    "# Fetch the API key from environment variables or define it directly\n",
    "API_KEY = os.getenv(\"API_KEY\")\n",
    "# Initialize the GroqToolModel with the API key\n",
    "llm = GroqToolModel(api_key=API_KEY)\n",
    "\n",
    "# Initialize a CalculatorTool instance\n",
    "tool = CalculatorTool()\n",
    "\n",
    "# Initialize a MaxSystemContextConversation instance\n",
    "conversation = MaxSystemContextConversation()\n",
    "\n",
    "# Create a Toolkit with the CalculatorTool (assuming Toolkit is the correct class to wrap the tools)\n",
    "toolkit = Toolkit()\n",
    "toolkit.add_tool(tool)\n",
    "\n",
    "# Create a ToolAgent using GroqToolModel, Toolkit, and MaxSystemContextConversation\n",
    "agent = ToolAgent(llm=llm, toolkit=toolkit, conversation=conversation)\n",
    "\n",
    "# Define the function to interact with the agent\n",
    "def converse(input_text, history):\n",
    "    # Ensure input_text is a string\n",
    "    input_text = str(input_text)\n",
    "    # Execute the input command with the ToolAgent\n",
    "    result = agent.exec(input_text)\n",
    "    print(result, type(result))\n",
    "    # Append the user input and agent response to the history\n",
    "    history.append((input_text, str(result)))\n",
    "    # Return the result as a string and the updated history\n",
    "    return str(result)\n",
    "\n",
    "# Set up the Gradio ChatInterface\n",
    "demo = gr.ChatInterface(\n",
    "    fn=converse,\n",
    "    examples=[\"Add 5 and 3\", \"Subtract 10 from 4\", \"Multiply 7 by 8\", \"Divide 20 by 4\"],\n",
    "    title=\"Arithmetic Operations Chat with ToolAgent\",\n",
    "    description=\"Ask me to add, subtract, multiply, or divide numbers.\"\n",
    ")\n",
    "\n",
    "if __name__ == \"__main__\":\n",
    "    demo.launch()"
   ]
  },
  {
   "cell_type": "code",
   "execution_count": null,
   "metadata": {},
   "outputs": [],
   "source": [
    "\n",
    "import os\n",
    "import gradio as gr\n",
    "from swarmauri.standard.llms.concrete.GroqToolModel import GroqToolModel\n",
    "from swarmauri.standard.agents.concrete.ToolAgent import ToolAgent\n",
    "from swarmauri.standard.tools.concrete.CalculatorTool import CalculatorTool\n",
    "from swarmauri.standard.conversations.concrete.MaxSystemContextConversation import MaxSystemContextConversation\n",
    "from swarmauri.standard.toolkits.concrete.Toolkit import Toolkit  # Assuming there is a Toolkit class\n",
    "\n",
    "# Fetch the API key from environment variables or define it directly\n",
    "API_KEY = \"YOUR API KEY\"  # Replace 'myapikey' with your actual key\n",
    "\n",
    "# Initialize the GroqToolModel with the API key\n",
    "llm = GroqToolModel(api_key=API_KEY)\n",
    "\n",
    "# Initialize a CalculatorTool instance\n",
    "tool = CalculatorTool()\n",
    "\n",
    "# Initialize a MaxSystemContextConversation instance\n",
    "conversation = MaxSystemContextConversation()\n",
    "\n",
    "# Create a Toolkit with the CalculatorTool (assuming Toolkit is the correct class to wrap the tools)\n",
    "toolkit = Toolkit()\n",
    "toolkit.add_tool(tool)\n",
    "\n",
    "# Create a ToolAgent using GroqToolModel, Toolkit, and MaxSystemContextConversation\n",
    "agent = ToolAgent(llm=llm, toolkit=toolkit, conversation=conversation)\n",
    "\n",
    "# Define the function to interact with the agent\n",
    "def converse(input_text, history):\n",
    "    # Ensure input_text is a string\n",
    "    input_text = str(input_text)\n",
    "    # Execute the input command with the ToolAgent\n",
    "    result = agent.exec(input_text)\n",
    "    print(result, type(result))\n",
    "    # Append the user input and agent response to the history\n",
    "    history.append((input_text, str(result)))\n",
    "    # Return the result as a string and the updated history\n",
    "    return str(result)\n",
    "\n",
    "# Set up the Gradio ChatInterface\n",
    "demo = gr.ChatInterface(\n",
    "    fn=converse,\n",
    "    examples=[\"Add 5 and 3\", \"Subtract 10 from 4\", \"Multiply 7 by 8\", \"Divide 20 by 4\"],\n",
    "    title=\"Arithmetic Operations Chat with ToolAgent\",\n",
    "    description=\"Ask me to add, subtract, multiply, or divide numbers.\"\n",
    ")\n",
    "\n",
    "if __name__ == \"__main__\":\n",
    "    demo.launch()"
   ]
  }
 ],
 "metadata": {
  "kernelspec": {
   "display_name": "swarmauri-0.4.1",
   "language": "python",
   "name": "python3"
  },
  "language_info": {
   "codemirror_mode": {
    "name": "ipython",
    "version": 3
   },
   "file_extension": ".py",
   "mimetype": "text/x-python",
   "name": "python",
   "nbconvert_exporter": "python",
   "pygments_lexer": "ipython3",
   "version": "3.10.14"
  }
 },
 "nbformat": 4,
 "nbformat_minor": 2
}
