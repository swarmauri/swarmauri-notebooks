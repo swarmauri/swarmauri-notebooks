{
 "cells": [
  {
   "cell_type": "markdown",
   "id": "447dd1c0-0dd8-455e-9717-7da719c5e574",
   "metadata": {},
   "source": [
    "# Import neccessary modules"
   ]
  },
  {
   "cell_type": "code",
   "execution_count": 7,
   "id": "6ad3b3ca-e80c-4066-8cca-6d063c01dcf9",
   "metadata": {},
   "outputs": [],
   "source": [
    "import json\n",
    "import os\n",
    "import gradio as gr\n",
    "from dotenv import load_dotenv\n",
    "# from swarmauri.community.tools.concrete.ZapierHookTool import ZapierHookTool as Tool\n",
    "from swarmauri.standard.llms.concrete.GroqToolModel import GroqToolModel\n",
    "from swarmauri.standard.conversations.concrete.Conversation import Conversation\n",
    "from swarmauri.standard.toolkits.concrete.Toolkit import Toolkit\n",
    "from swarmauri.standard.agents.concrete.ToolAgent import ToolAgent\n",
    "import json\n",
    "import requests\n",
    "from typing import Dict, List, Literal\n",
    "from swarmauri.standard.tools.base.ToolBase import ToolBase\n",
    "from swarmauri.standard.tools.concrete.Parameter import Parameter\n",
    "from pydantic import Field\n"
   ]
  },
  {
   "cell_type": "code",
   "execution_count": 8,
   "id": "2d3fff40",
   "metadata": {},
   "outputs": [],
   "source": [
    "\"\"\"\n",
    "- Zapier's webhooks do not require authentication for basic usage,\n",
    "    as they are designed to be secure via their unique URLs.\n",
    "- The webhook URL (https://hooks.zapier.com/hooks/catch/{zap_id}/) includes\n",
    "    a randomly generated identifier that is private to you,\n",
    "    ensuring that only those with the specific URL can trigger the Zap.\n",
    "\n",
    "Reference\n",
    "---------------\n",
    "- https://www.switchlabs.dev/resources/locating-your-webhook-url-in-zapier\n",
    "- https://zapier.com/apps/webhook/integrations\n",
    "- https://zapier.com/engineering/webhook-design/\n",
    "\n",
    "\"\"\"\n",
    "\n",
    "\n",
    "class ZapierHookTool(ToolBase):\n",
    "    version: str = \"1.0.0\"\n",
    "    parameters: List[Parameter] = Field(\n",
    "        default_factory=lambda: [\n",
    "            Parameter(\n",
    "                name=\"payload\",\n",
    "                type=\"string\",\n",
    "                description=\"A Payload to send when triggering the Zapier webhook\",\n",
    "                required=True,\n",
    "            )\n",
    "        ]\n",
    "    )\n",
    "\n",
    "    name: str = \"ZapierTool\"\n",
    "    description: str = \"Tool to authenticate with Zapier and execute zaps.\"\n",
    "    type: Literal[\"ZapierHookTool\"] = \"ZapierHookTool\"\n",
    "\n",
    "    zap_url: str\n",
    "\n",
    "    def execute_zap(self, payload: str) -> str:\n",
    "        \"\"\"Execute a zap with given payload.\n",
    "\n",
    "        Args:\n",
    "            payload (str): The data payload to send to the Zap.\n",
    "\n",
    "        Returns:\n",
    "            str: The response from Zapier API.\n",
    "        \"\"\"\n",
    "\n",
    "        response = requests.post(\n",
    "            self.zap_url,\n",
    "            json={\"data\": payload},\n",
    "        )\n",
    "        # Checking the HTTP response status for success or failure\n",
    "        if response.status_code == 200:\n",
    "            return json.dumps(response.json())\n",
    "        else:\n",
    "            response.raise_for_status()  # This will raise an error for non-200 responses\n",
    "\n",
    "    def __call__(self, payload: str) -> Dict[str, str]:\n",
    "        \"\"\"\n",
    "        Enable the tool to be called directly with the given payload and return the zap response.\n",
    "\n",
    "        Parameters:\n",
    "        payload (str): The input string to be processed by the tool.\n",
    "\n",
    "        Returns:\n",
    "        Dict[str, str]: A dictionary with a single key \"zap_response\", containing the result of executing the zap.\n",
    "\n",
    "        Example:\n",
    "        >>> tool = YourToolClass()\n",
    "        >>> result = tool(\"some payload\")\n",
    "        >>> print(result)\n",
    "        {'zap_response': 'processed result'}\n",
    "        \"\"\"\n",
    "        return {\"zap_response\": self.execute_zap(payload)}\n"
   ]
  },
  {
   "cell_type": "markdown",
   "id": "54668e90-be36-4843-94cf-cfd9846d0edd",
   "metadata": {},
   "source": [
    "# Load and instatiate needed variables"
   ]
  },
  {
   "cell_type": "code",
   "execution_count": 9,
   "id": "a561be4b-502b-4dda-91fc-d94cfe45c099",
   "metadata": {},
   "outputs": [],
   "source": [
    "load_dotenv()\n",
    "zap_url = os.getenv('ZAP_URL')"
   ]
  },
  {
   "cell_type": "markdown",
   "id": "6ddd0ecf-273a-4f00-90dd-11497f182372",
   "metadata": {},
   "source": [
    "# Load tool and payload"
   ]
  },
  {
   "cell_type": "code",
   "execution_count": 11,
   "id": "9ef3559f-0397-4f04-9719-871ad3a5ebab",
   "metadata": {},
   "outputs": [],
   "source": [
    "tool = ZapierHookTool(zap_url=zap_url)"
   ]
  },
  {
   "cell_type": "markdown",
   "id": "ce8df7fe-2e03-46a7-aec9-fec285262405",
   "metadata": {},
   "source": [
    "# Instatiate Tool Model LLM"
   ]
  },
  {
   "cell_type": "code",
   "execution_count": 12,
   "id": "83354e32-a736-4d6c-803b-8472a691dfd2",
   "metadata": {},
   "outputs": [],
   "source": [
    "# Fetch the API key from environment variables or define it directly (Not recommended for production)\n",
    "API_KEY = os.getenv('GROQ_API_KEY')\n",
    "\n",
    "# Initialize the GroqToolModel\n",
    "tool_model = GroqToolModel(api_key=API_KEY)\n",
    "\n",
    "# Create a ToolAgent with the GroqToolModel, Conversation, and Toolkit\n",
    "toolkit = Toolkit(tools={\"ZapierTool\": tool})\n",
    "tool_agent = ToolAgent(\n",
    "    llm=tool_model,\n",
    "    conversation=Conversation(),\n",
    "    toolkit=toolkit\n",
    ")"
   ]
  },
  {
   "cell_type": "markdown",
   "id": "d0b96eda-5d53-407f-89ce-e7da8937599c",
   "metadata": {},
   "source": [
    "# Instatiate the Interface"
   ]
  },
  {
   "cell_type": "code",
   "execution_count": 13,
   "id": "2a99c910-3f99-46d3-8ade-a37938cbf734",
   "metadata": {},
   "outputs": [
    {
     "name": "stdout",
     "output_type": "stream",
     "text": [
      "Running on local URL:  http://127.0.0.1:7863\n",
      "Running on public URL: https://1254fbedea40ec2425.gradio.live\n",
      "\n",
      "This share link expires in 72 hours. For free permanent hosting and GPU upgrades, run `gradio deploy` from Terminal to deploy to Spaces (https://huggingface.co/spaces)\n"
     ]
    },
    {
     "data": {
      "text/html": [
       "<div><iframe src=\"https://1254fbedea40ec2425.gradio.live\" width=\"100%\" height=\"500\" allow=\"autoplay; camera; microphone; clipboard-read; clipboard-write;\" frameborder=\"0\" allowfullscreen></iframe></div>"
      ],
      "text/plain": [
       "<IPython.core.display.HTML object>"
      ]
     },
     "metadata": {},
     "output_type": "display_data"
    }
   ],
   "source": [
    "# Define the function to be executed for the gradio interface\n",
    "def tool_agent_interface(input_text, history):\n",
    "    result = tool_agent.exec(input_text)\n",
    "    return result\n",
    "\n",
    "demo = gr.ChatInterface(tool_agent_interface)\n",
    "\n",
    "if __name__ == \"__main__\":\n",
    "    demo.launch(share=True)"
   ]
  },
  {
   "cell_type": "code",
   "execution_count": null,
   "id": "64718c7e",
   "metadata": {},
   "outputs": [],
   "source": []
  },
  {
   "cell_type": "code",
   "execution_count": null,
   "id": "7a98512c-660f-41d9-abd9-43ee5427949a",
   "metadata": {},
   "outputs": [],
   "source": []
  }
 ],
 "metadata": {
  "kernelspec": {
   "display_name": "Python 3 (ipykernel)",
   "language": "python",
   "name": "python3"
  },
  "language_info": {
   "codemirror_mode": {
    "name": "ipython",
    "version": 3
   },
   "file_extension": ".py",
   "mimetype": "text/x-python",
   "name": "python",
   "nbconvert_exporter": "python",
   "pygments_lexer": "ipython3",
   "version": "3.10.14"
  }
 },
 "nbformat": 4,
 "nbformat_minor": 5
}
