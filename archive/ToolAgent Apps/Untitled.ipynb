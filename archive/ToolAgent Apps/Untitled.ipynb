{
 "cells": [
  {
   "cell_type": "code",
   "execution_count": 13,
   "id": "23a168bf-f8de-4ad2-95cd-dae22137fcfa",
   "metadata": {},
   "outputs": [
    {
     "data": {
      "text/plain": [
       "['alibaba-cloud/qwen-2.5-72b-instruct',\n",
       " 'alibaba-cloud/qwen-2.5-coder-7b',\n",
       " 'alibaba-cloud/qwen-2.5-math-72b',\n",
       " 'anthropic/claude-3-haiku-20240307',\n",
       " 'anthropic/claude-3-opus-20240229',\n",
       " 'anthropic/claude-3.5-sonnet-20240620',\n",
       " 'cohere/command-r',\n",
       " 'cohere/command-r-08-2024',\n",
       " 'cohere/command-r-plus',\n",
       " 'cohere/command-r-plus-08-2024',\n",
       " 'google/gemini-1.5-flash',\n",
       " 'google/gemini-1.5-flash-8b-exp-0827',\n",
       " 'google/gemini-1.5-flash-exp-0827',\n",
       " 'google/gemini-1.5-pro',\n",
       " 'google/gemini-1.5-pro-exp-0827',\n",
       " 'mattshumer/reflection-llama-3.1-70b',\n",
       " 'meta-llama/meta-llama-3.1-405b-instruct',\n",
       " 'meta-llama/meta-llama-3.1-70b-instruct',\n",
       " 'meta-llama/meta-llama-3.1-8b-instruct',\n",
       " 'mistralai/codestral-2405',\n",
       " 'mistralai/mistral-nemo-instruct-2407',\n",
       " 'openai/chatgpt-4o-latest',\n",
       " 'openai/gpt-3.5-turbo-0125',\n",
       " 'openai/gpt-3.5-turbo-1106',\n",
       " 'openai/gpt-4-0125-preview',\n",
       " 'openai/gpt-4-0613',\n",
       " 'openai/gpt-4-turbo-2024-04-09',\n",
       " 'openai/gpt-4o-2024-05-13',\n",
       " 'openai/gpt-4o-2024-08-06',\n",
       " 'openai/gpt-4o-mini-2024-07-18',\n",
       " 'openai/o1-mini-2024-09-12',\n",
       " 'openai/o1-preview-2024-09-12',\n",
       " 'perplexity/llama-3.1-sonar-large-128k-chat',\n",
       " 'perplexity/llama-3.1-sonar-large-128k-online',\n",
       " 'perplexity/llama-3.1-sonar-small-128k-chat',\n",
       " 'perplexity/llama-3.1-sonar-small-128k-online',\n",
       " 'shuttleai/s1',\n",
       " 'shuttleai/s1-mini',\n",
       " 'shuttleai/shuttle-3',\n",
       " 'shuttleai/shuttle-3-mini']"
      ]
     },
     "execution_count": 13,
     "metadata": {},
     "output_type": "execute_result"
    }
   ],
   "source": [
    "a=\"\"\"alibaba-cloud/qwen-2.5-72b-instruct\n",
    "alibaba-cloud/qwen-2.5-coder-7b\n",
    "alibaba-cloud/qwen-2.5-math-72b\n",
    "anthropic/claude-3.5-sonnet-20240620\n",
    "anthropic/claude-3-haiku-20240307\n",
    "anthropic/claude-3-opus-20240229\n",
    "cohere/command-r\n",
    "cohere/command-r-plus\n",
    "cohere/command-r-plus-08-2024\n",
    "cohere/command-r-08-2024\n",
    "google/gemini-1.5-flash\n",
    "google/gemini-1.5-flash-8b-exp-0827\n",
    "google/gemini-1.5-flash-exp-0827\n",
    "google/gemini-1.5-pro\n",
    "google/gemini-1.5-pro-exp-0827\n",
    "mattshumer/reflection-llama-3.1-70b\n",
    "meta-llama/meta-llama-3.1-405b-instruct\n",
    "meta-llama/meta-llama-3.1-70b-instruct\n",
    "meta-llama/meta-llama-3.1-8b-instruct\n",
    "mistralai/codestral-2405\n",
    "mistralai/mistral-nemo-instruct-2407\n",
    "openai/chatgpt-4o-latest\n",
    "openai/gpt-3.5-turbo-0125\n",
    "openai/gpt-3.5-turbo-1106\n",
    "openai/gpt-4-0125-preview\n",
    "openai/gpt-4-0613\n",
    "openai/gpt-4-turbo-2024-04-09\n",
    "openai/gpt-4o-2024-05-13\n",
    "openai/gpt-4o-2024-08-06\n",
    "openai/gpt-4o-mini-2024-07-18\n",
    "openai/o1-mini-2024-09-12\n",
    "openai/o1-preview-2024-09-12\n",
    "perplexity/llama-3.1-sonar-large-128k-chat\n",
    "perplexity/llama-3.1-sonar-large-128k-online\n",
    "perplexity/llama-3.1-sonar-small-128k-chat\n",
    "perplexity/llama-3.1-sonar-small-128k-online\n",
    "shuttleai/s1-mini\n",
    "shuttleai/s1\n",
    "shuttleai/shuttle-3\n",
    "shuttleai/shuttle-3-mini\"\"\".split('\\n')\n",
    "a.sort()\n",
    "a"
   ]
  },
  {
   "cell_type": "code",
   "execution_count": 12,
   "id": "b7735f81-9f53-4bab-87c1-c1e9f869fd9b",
   "metadata": {},
   "outputs": [
    {
     "name": "stdout",
     "output_type": "stream",
     "text": [
      "basdasdals sdfasdf\n"
     ]
    }
   ],
   "source": [
    "from typing import List\n",
    "def predict(conversation='basdfasdf',\n",
    "        temperature=0.7,\n",
    "        max_tokens=256,\n",
    "        enable_json=False,\n",
    "        stop: List[str] = None,\n",
    "    ):\n",
    "    print(conversation, temperature)\n",
    "\n",
    "predict(conversation='basdasdals', **{'temperature': 'sdfasdf'})"
   ]
  }
 ],
 "metadata": {
  "kernelspec": {
   "display_name": "swarmauri(0.4.3)",
   "language": "python",
   "name": "swarmauri-0.4.3"
  },
  "language_info": {
   "codemirror_mode": {
    "name": "ipython",
    "version": 3
   },
   "file_extension": ".py",
   "mimetype": "text/x-python",
   "name": "python",
   "nbconvert_exporter": "python",
   "pygments_lexer": "ipython3",
   "version": "3.11.9"
  }
 },
 "nbformat": 4,
 "nbformat_minor": 5
}
