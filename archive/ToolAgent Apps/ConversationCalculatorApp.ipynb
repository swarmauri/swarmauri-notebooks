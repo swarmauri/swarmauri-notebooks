{
 "cells": [
  {
   "cell_type": "code",
   "execution_count": 1,
   "id": "9cbb8881-711b-4b32-9322-c125a2347a88",
   "metadata": {},
   "outputs": [
    {
     "name": "stderr",
     "output_type": "stream",
     "text": [
      "WARNING:root:Subclass Parameter does not have a type annotation\n"
     ]
    }
   ],
   "source": [
    "#import necessary libraries\n",
    "import os\n",
    "from swarmauri.standard.llms.concrete.GroqToolModel import GroqToolModel\n",
    "from swarmauri.standard.agents.concrete.ToolAgent import ToolAgent\n",
    "from swarmauri.standard.tools.concrete.CalculatorTool import CalculatorTool\n",
    "from swarmauri.standard.conversations.concrete.Conversation import Conversation\n",
    "from swarmauri.standard.toolkits.concrete.Toolkit import Toolkit"
   ]
  },
  {
   "cell_type": "code",
   "execution_count": 2,
   "id": "84a9fb62-e16a-4cc8-a591-3be0b87b308f",
   "metadata": {},
   "outputs": [],
   "source": [
    "# Fetch the API key from environment variables \n",
    "API_KEY = os.getenv('GROQ_API_KEY')"
   ]
  },
  {
   "cell_type": "code",
   "execution_count": 3,
   "id": "2a4de36a-cdfe-4ce1-b3c6-b776025e9cb8",
   "metadata": {},
   "outputs": [],
   "source": [
    "# Initialize the GroqToolModel\n",
    "tool_model = GroqToolModel(api_key=API_KEY)"
   ]
  },
  {
   "cell_type": "code",
   "execution_count": 4,
   "id": "26b7971a-b517-47ae-9cb9-26ef69719402",
   "metadata": {},
   "outputs": [],
   "source": [
    "# Create a CalculatorTool\n",
    "calculator_tool = CalculatorTool()"
   ]
  },
  {
   "cell_type": "code",
   "execution_count": 5,
   "id": "2beed30a-8c00-403c-8b98-29fb0abc54ab",
   "metadata": {},
   "outputs": [],
   "source": [
    "# Create a ToolAgent with the GroqToolModel, Conversation, and Toolkit\n",
    "toolkit = Toolkit(tools={\"CalculatorTool\": calculator_tool})\n",
    "tool_agent = ToolAgent(\n",
    "    llm=tool_model,\n",
    "    conversation=Conversation(),\n",
    "    toolkit=toolkit\n",
    ")"
   ]
  },
  {
   "cell_type": "code",
   "execution_count": 6,
   "id": "fbf8d57b-2170-4e0f-aaa0-db045c997ede",
   "metadata": {
    "scrolled": true
   },
   "outputs": [
    {
     "name": "stdout",
     "output_type": "stream",
     "text": [
      "Running on local URL:  http://127.0.0.1:7860\n",
      "Running on public URL: https://fd8e91b2520e5ddc7e.gradio.live\n",
      "\n",
      "This share link expires in 72 hours. For free permanent hosting and GPU upgrades, run `gradio deploy` from Terminal to deploy to Spaces (https://huggingface.co/spaces)\n"
     ]
    },
    {
     "data": {
      "text/html": [
       "<div><iframe src=\"https://fd8e91b2520e5ddc7e.gradio.live\" width=\"100%\" height=\"500\" allow=\"autoplay; camera; microphone; clipboard-read; clipboard-write;\" frameborder=\"0\" allowfullscreen></iframe></div>"
      ],
      "text/plain": [
       "<IPython.core.display.HTML object>"
      ]
     },
     "metadata": {},
     "output_type": "display_data"
    }
   ],
   "source": [
    "# Define the function to be executed for the gradio interface\n",
    "def tool_agent_interface(input_text, history):\n",
    "    result = tool_agent.exec(input_text)\n",
    "    return result\n",
    "\n",
    "demo = gr.ChatInterface(tool_agent_interface)\n",
    "\n",
    "if __name__ == \"__main__\":\n",
    "    demo.launch(share=True)"
   ]
  },
  {
   "cell_type": "code",
   "execution_count": null,
   "id": "87f92aeb-ab3a-400b-b942-db586633c869",
   "metadata": {},
   "outputs": [],
   "source": []
  }
 ],
 "metadata": {
  "kernelspec": {
   "display_name": "Python 3 (ipykernel)",
   "language": "python",
   "name": "python3"
  },
  "language_info": {
   "codemirror_mode": {
    "name": "ipython",
    "version": 3
   },
   "file_extension": ".py",
   "mimetype": "text/x-python",
   "name": "python",
   "nbconvert_exporter": "python",
   "pygments_lexer": "ipython3",
   "version": "3.10.14"
  }
 },
 "nbformat": 4,
 "nbformat_minor": 5
}
