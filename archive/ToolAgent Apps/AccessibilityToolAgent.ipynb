{
 "cells": [
  {
   "cell_type": "code",
   "execution_count": 18,
   "metadata": {},
   "outputs": [
    {
     "name": "stdout",
     "output_type": "stream",
     "text": [
      "Requirement already satisfied: swarmauri[full] in c:\\users\\bigman\\anaconda3\\envs\\swarmauri-0.4.3\\lib\\site-packages (0.4.3)\n",
      "Requirement already satisfied: numpy in c:\\users\\bigman\\anaconda3\\envs\\swarmauri-0.4.3\\lib\\site-packages (from swarmauri[full]) (1.26.4)\n",
      "Requirement already satisfied: requests in c:\\users\\bigman\\anaconda3\\envs\\swarmauri-0.4.3\\lib\\site-packages (from swarmauri[full]) (2.32.3)\n",
      "Requirement already satisfied: pydantic in c:\\users\\bigman\\anaconda3\\envs\\swarmauri-0.4.3\\lib\\site-packages (from swarmauri[full]) (2.9.2)\n",
      "Requirement already satisfied: ai21>=2.2.0 in c:\\users\\bigman\\anaconda3\\envs\\swarmauri-0.4.3\\lib\\site-packages (from swarmauri[full]) (2.14.1)\n",
      "Requirement already satisfied: shuttleai in c:\\users\\bigman\\anaconda3\\envs\\swarmauri-0.4.3\\lib\\site-packages (from swarmauri[full]) (3.9.6)\n",
      "Requirement already satisfied: transformers in c:\\users\\bigman\\anaconda3\\envs\\swarmauri-0.4.3\\lib\\site-packages (from swarmauri[full]) (4.44.2)\n",
      "Requirement already satisfied: tensorflow in c:\\users\\bigman\\anaconda3\\envs\\swarmauri-0.4.3\\lib\\site-packages (from swarmauri[full]) (2.17.0)\n",
      "Requirement already satisfied: typing-extensions in c:\\users\\bigman\\anaconda3\\envs\\swarmauri-0.4.3\\lib\\site-packages (from swarmauri[full]) (4.12.2)\n",
      "Requirement already satisfied: google-api-python-client in c:\\users\\bigman\\anaconda3\\envs\\swarmauri-0.4.3\\lib\\site-packages (from swarmauri[full]) (2.146.0)\n",
      "Requirement already satisfied: google-auth-httplib2 in c:\\users\\bigman\\anaconda3\\envs\\swarmauri-0.4.3\\lib\\site-packages (from swarmauri[full]) (0.2.0)\n",
      "Requirement already satisfied: google-auth-oauthlib in c:\\users\\bigman\\anaconda3\\envs\\swarmauri-0.4.3\\lib\\site-packages (from swarmauri[full]) (1.2.1)\n",
      "Requirement already satisfied: boto3 in c:\\users\\bigman\\anaconda3\\envs\\swarmauri-0.4.3\\lib\\site-packages (from swarmauri[full]) (1.35.21)\n",
      "Requirement already satisfied: yake in c:\\users\\bigman\\anaconda3\\envs\\swarmauri-0.4.3\\lib\\site-packages (from swarmauri[full]) (0.4.8)\n",
      "Requirement already satisfied: torch in c:\\users\\bigman\\anaconda3\\envs\\swarmauri-0.4.3\\lib\\site-packages (from swarmauri[full]) (2.4.1)\n",
      "Requirement already satisfied: scikit-learn in c:\\users\\bigman\\anaconda3\\envs\\swarmauri-0.4.3\\lib\\site-packages (from swarmauri[full]) (1.5.2)\n",
      "Requirement already satisfied: gensim in c:\\users\\bigman\\anaconda3\\envs\\swarmauri-0.4.3\\lib\\site-packages (from swarmauri[full]) (4.3.3)\n",
      "Requirement already satisfied: textblob in c:\\users\\bigman\\anaconda3\\envs\\swarmauri-0.4.3\\lib\\site-packages (from swarmauri[full]) (0.18.0.post0)\n",
      "Requirement already satisfied: spacy==3.7.4 in c:\\users\\bigman\\anaconda3\\envs\\swarmauri-0.4.3\\lib\\site-packages (from swarmauri[full]) (3.7.4)\n",
      "Requirement already satisfied: pygments in c:\\users\\bigman\\anaconda3\\envs\\swarmauri-0.4.3\\lib\\site-packages (from swarmauri[full]) (2.18.0)\n",
      "Requirement already satisfied: gradio in c:\\users\\bigman\\anaconda3\\envs\\swarmauri-0.4.3\\lib\\site-packages (from swarmauri[full]) (4.44.0)\n",
      "Requirement already satisfied: websockets in c:\\users\\bigman\\anaconda3\\envs\\swarmauri-0.4.3\\lib\\site-packages (from swarmauri[full]) (11.0.3)\n",
      "Requirement already satisfied: openai in c:\\users\\bigman\\anaconda3\\envs\\swarmauri-0.4.3\\lib\\site-packages (from swarmauri[full]) (1.46.0)\n",
      "Requirement already satisfied: groq in c:\\users\\bigman\\anaconda3\\envs\\swarmauri-0.4.3\\lib\\site-packages (from swarmauri[full]) (0.11.0)\n",
      "Requirement already satisfied: mistralai in c:\\users\\bigman\\anaconda3\\envs\\swarmauri-0.4.3\\lib\\site-packages (from swarmauri[full]) (1.1.0)\n",
      "Requirement already satisfied: cohere in c:\\users\\bigman\\anaconda3\\envs\\swarmauri-0.4.3\\lib\\site-packages (from swarmauri[full]) (5.9.2)\n",
      "Requirement already satisfied: google-generativeai in c:\\users\\bigman\\anaconda3\\envs\\swarmauri-0.4.3\\lib\\site-packages (from swarmauri[full]) (0.8.1)\n",
      "Requirement already satisfied: anthropic in c:\\users\\bigman\\anaconda3\\envs\\swarmauri-0.4.3\\lib\\site-packages (from swarmauri[full]) (0.34.2)\n",
      "Requirement already satisfied: scipy==1.10.0 in c:\\users\\bigman\\anaconda3\\envs\\swarmauri-0.4.3\\lib\\site-packages (from swarmauri[full]) (1.10.0)\n",
      "Requirement already satisfied: qdrant-client in c:\\users\\bigman\\anaconda3\\envs\\swarmauri-0.4.3\\lib\\site-packages (from swarmauri[full]) (1.11.2)\n",
      "Requirement already satisfied: chromadb in c:\\users\\bigman\\anaconda3\\envs\\swarmauri-0.4.3\\lib\\site-packages (from swarmauri[full]) (0.5.5)\n",
      "Requirement already satisfied: textstat in c:\\users\\bigman\\anaconda3\\envs\\swarmauri-0.4.3\\lib\\site-packages (from swarmauri[full]) (0.7.4)\n",
      "Requirement already satisfied: nltk in c:\\users\\bigman\\anaconda3\\envs\\swarmauri-0.4.3\\lib\\site-packages (from swarmauri[full]) (3.9.1)\n",
      "Requirement already satisfied: psutil in c:\\users\\bigman\\anaconda3\\envs\\swarmauri-0.4.3\\lib\\site-packages (from swarmauri[full]) (6.0.0)\n",
      "Requirement already satisfied: qrcode in c:\\users\\bigman\\anaconda3\\envs\\swarmauri-0.4.3\\lib\\site-packages (from swarmauri[full]) (7.4.2)\n",
      "Requirement already satisfied: folium in c:\\users\\bigman\\anaconda3\\envs\\swarmauri-0.4.3\\lib\\site-packages (from swarmauri[full]) (0.17.0)\n",
      "Requirement already satisfied: captcha in c:\\users\\bigman\\anaconda3\\envs\\swarmauri-0.4.3\\lib\\site-packages (from swarmauri[full]) (0.6.0)\n",
      "Requirement already satisfied: bs4 in c:\\users\\bigman\\anaconda3\\envs\\swarmauri-0.4.3\\lib\\site-packages (from swarmauri[full]) (0.0.2)\n",
      "Requirement already satisfied: pygithub in c:\\users\\bigman\\anaconda3\\envs\\swarmauri-0.4.3\\lib\\site-packages (from swarmauri[full]) (2.4.0)\n",
      "Requirement already satisfied: pacmap in c:\\users\\bigman\\anaconda3\\envs\\swarmauri-0.4.3\\lib\\site-packages (from swarmauri[full]) (0.7.3)\n",
      "Requirement already satisfied: tf-keras in c:\\users\\bigman\\anaconda3\\envs\\swarmauri-0.4.3\\lib\\site-packages (from swarmauri[full]) (2.17.0)\n",
      "Requirement already satisfied: spacy-legacy<3.1.0,>=3.0.11 in c:\\users\\bigman\\anaconda3\\envs\\swarmauri-0.4.3\\lib\\site-packages (from spacy==3.7.4->swarmauri[full]) (3.0.12)\n",
      "Requirement already satisfied: spacy-loggers<2.0.0,>=1.0.0 in c:\\users\\bigman\\anaconda3\\envs\\swarmauri-0.4.3\\lib\\site-packages (from spacy==3.7.4->swarmauri[full]) (1.0.5)\n",
      "Requirement already satisfied: murmurhash<1.1.0,>=0.28.0 in c:\\users\\bigman\\anaconda3\\envs\\swarmauri-0.4.3\\lib\\site-packages (from spacy==3.7.4->swarmauri[full]) (1.0.10)\n",
      "Requirement already satisfied: cymem<2.1.0,>=2.0.2 in c:\\users\\bigman\\anaconda3\\envs\\swarmauri-0.4.3\\lib\\site-packages (from spacy==3.7.4->swarmauri[full]) (2.0.8)\n",
      "Requirement already satisfied: preshed<3.1.0,>=3.0.2 in c:\\users\\bigman\\anaconda3\\envs\\swarmauri-0.4.3\\lib\\site-packages (from spacy==3.7.4->swarmauri[full]) (3.0.9)\n",
      "Requirement already satisfied: thinc<8.3.0,>=8.2.2 in c:\\users\\bigman\\anaconda3\\envs\\swarmauri-0.4.3\\lib\\site-packages (from spacy==3.7.4->swarmauri[full]) (8.2.5)\n",
      "Requirement already satisfied: wasabi<1.2.0,>=0.9.1 in c:\\users\\bigman\\anaconda3\\envs\\swarmauri-0.4.3\\lib\\site-packages (from spacy==3.7.4->swarmauri[full]) (1.1.3)\n",
      "Requirement already satisfied: srsly<3.0.0,>=2.4.3 in c:\\users\\bigman\\anaconda3\\envs\\swarmauri-0.4.3\\lib\\site-packages (from spacy==3.7.4->swarmauri[full]) (2.4.8)\n",
      "Requirement already satisfied: catalogue<2.1.0,>=2.0.6 in c:\\users\\bigman\\anaconda3\\envs\\swarmauri-0.4.3\\lib\\site-packages (from spacy==3.7.4->swarmauri[full]) (2.0.10)\n",
      "Requirement already satisfied: weasel<0.4.0,>=0.1.0 in c:\\users\\bigman\\anaconda3\\envs\\swarmauri-0.4.3\\lib\\site-packages (from spacy==3.7.4->swarmauri[full]) (0.3.4)\n",
      "Collecting typer<0.10.0,>=0.3.0 (from spacy==3.7.4->swarmauri[full])\n",
      "  Using cached typer-0.9.4-py3-none-any.whl.metadata (14 kB)\n",
      "Requirement already satisfied: smart-open<7.0.0,>=5.2.1 in c:\\users\\bigman\\anaconda3\\envs\\swarmauri-0.4.3\\lib\\site-packages (from spacy==3.7.4->swarmauri[full]) (6.4.0)\n",
      "Requirement already satisfied: tqdm<5.0.0,>=4.38.0 in c:\\users\\bigman\\anaconda3\\envs\\swarmauri-0.4.3\\lib\\site-packages (from spacy==3.7.4->swarmauri[full]) (4.66.5)\n",
      "Requirement already satisfied: jinja2 in c:\\users\\bigman\\anaconda3\\envs\\swarmauri-0.4.3\\lib\\site-packages (from spacy==3.7.4->swarmauri[full]) (3.1.4)\n",
      "Requirement already satisfied: setuptools in c:\\users\\bigman\\anaconda3\\envs\\swarmauri-0.4.3\\lib\\site-packages (from spacy==3.7.4->swarmauri[full]) (72.1.0)\n",
      "Requirement already satisfied: packaging>=20.0 in c:\\users\\bigman\\anaconda3\\envs\\swarmauri-0.4.3\\lib\\site-packages (from spacy==3.7.4->swarmauri[full]) (24.1)\n",
      "Requirement already satisfied: langcodes<4.0.0,>=3.2.0 in c:\\users\\bigman\\anaconda3\\envs\\swarmauri-0.4.3\\lib\\site-packages (from spacy==3.7.4->swarmauri[full]) (3.4.0)\n",
      "Requirement already satisfied: ai21-tokenizer<1.0.0,>=0.12.0 in c:\\users\\bigman\\anaconda3\\envs\\swarmauri-0.4.3\\lib\\site-packages (from ai21>=2.2.0->swarmauri[full]) (0.12.0)\n",
      "Requirement already satisfied: httpx<0.28.0,>=0.27.0 in c:\\users\\bigman\\anaconda3\\envs\\swarmauri-0.4.3\\lib\\site-packages (from ai21>=2.2.0->swarmauri[full]) (0.27.2)\n",
      "Requirement already satisfied: tenacity<9.0.0,>=8.3.0 in c:\\users\\bigman\\anaconda3\\envs\\swarmauri-0.4.3\\lib\\site-packages (from ai21>=2.2.0->swarmauri[full]) (8.5.0)\n",
      "Requirement already satisfied: annotated-types>=0.6.0 in c:\\users\\bigman\\anaconda3\\envs\\swarmauri-0.4.3\\lib\\site-packages (from pydantic->swarmauri[full]) (0.7.0)\n",
      "Requirement already satisfied: pydantic-core==2.23.4 in c:\\users\\bigman\\anaconda3\\envs\\swarmauri-0.4.3\\lib\\site-packages (from pydantic->swarmauri[full]) (2.23.4)\n",
      "Requirement already satisfied: charset-normalizer<4,>=2 in c:\\users\\bigman\\anaconda3\\envs\\swarmauri-0.4.3\\lib\\site-packages (from requests->swarmauri[full]) (3.3.2)\n",
      "Requirement already satisfied: idna<4,>=2.5 in c:\\users\\bigman\\anaconda3\\envs\\swarmauri-0.4.3\\lib\\site-packages (from requests->swarmauri[full]) (3.10)\n",
      "Requirement already satisfied: urllib3<3,>=1.21.1 in c:\\users\\bigman\\anaconda3\\envs\\swarmauri-0.4.3\\lib\\site-packages (from requests->swarmauri[full]) (2.2.3)\n",
      "Requirement already satisfied: certifi>=2017.4.17 in c:\\users\\bigman\\anaconda3\\envs\\swarmauri-0.4.3\\lib\\site-packages (from requests->swarmauri[full]) (2024.8.30)\n",
      "Requirement already satisfied: anyio<5,>=3.5.0 in c:\\users\\bigman\\anaconda3\\envs\\swarmauri-0.4.3\\lib\\site-packages (from anthropic->swarmauri[full]) (4.4.0)\n",
      "Requirement already satisfied: distro<2,>=1.7.0 in c:\\users\\bigman\\anaconda3\\envs\\swarmauri-0.4.3\\lib\\site-packages (from anthropic->swarmauri[full]) (1.9.0)\n",
      "Requirement already satisfied: jiter<1,>=0.4.0 in c:\\users\\bigman\\anaconda3\\envs\\swarmauri-0.4.3\\lib\\site-packages (from anthropic->swarmauri[full]) (0.5.0)\n",
      "Requirement already satisfied: sniffio in c:\\users\\bigman\\anaconda3\\envs\\swarmauri-0.4.3\\lib\\site-packages (from anthropic->swarmauri[full]) (1.3.1)\n",
      "Requirement already satisfied: tokenizers>=0.13.0 in c:\\users\\bigman\\anaconda3\\envs\\swarmauri-0.4.3\\lib\\site-packages (from anthropic->swarmauri[full]) (0.19.1)\n",
      "Requirement already satisfied: botocore<1.36.0,>=1.35.21 in c:\\users\\bigman\\anaconda3\\envs\\swarmauri-0.4.3\\lib\\site-packages (from boto3->swarmauri[full]) (1.35.21)\n",
      "Requirement already satisfied: jmespath<2.0.0,>=0.7.1 in c:\\users\\bigman\\anaconda3\\envs\\swarmauri-0.4.3\\lib\\site-packages (from boto3->swarmauri[full]) (1.0.1)\n",
      "Requirement already satisfied: s3transfer<0.11.0,>=0.10.0 in c:\\users\\bigman\\anaconda3\\envs\\swarmauri-0.4.3\\lib\\site-packages (from boto3->swarmauri[full]) (0.10.2)\n",
      "Requirement already satisfied: beautifulsoup4 in c:\\users\\bigman\\anaconda3\\envs\\swarmauri-0.4.3\\lib\\site-packages (from bs4->swarmauri[full]) (4.12.3)\n",
      "Requirement already satisfied: Pillow in c:\\users\\bigman\\anaconda3\\envs\\swarmauri-0.4.3\\lib\\site-packages (from captcha->swarmauri[full]) (10.4.0)\n",
      "Requirement already satisfied: build>=1.0.3 in c:\\users\\bigman\\anaconda3\\envs\\swarmauri-0.4.3\\lib\\site-packages (from chromadb->swarmauri[full]) (1.2.2)\n",
      "Requirement already satisfied: chroma-hnswlib==0.7.6 in c:\\users\\bigman\\anaconda3\\envs\\swarmauri-0.4.3\\lib\\site-packages (from chromadb->swarmauri[full]) (0.7.6)\n",
      "Requirement already satisfied: fastapi>=0.95.2 in c:\\users\\bigman\\anaconda3\\envs\\swarmauri-0.4.3\\lib\\site-packages (from chromadb->swarmauri[full]) (0.115.0)\n",
      "Requirement already satisfied: uvicorn>=0.18.3 in c:\\users\\bigman\\anaconda3\\envs\\swarmauri-0.4.3\\lib\\site-packages (from uvicorn[standard]>=0.18.3->chromadb->swarmauri[full]) (0.30.6)\n",
      "Requirement already satisfied: posthog>=2.4.0 in c:\\users\\bigman\\anaconda3\\envs\\swarmauri-0.4.3\\lib\\site-packages (from chromadb->swarmauri[full]) (3.6.6)\n",
      "Requirement already satisfied: onnxruntime>=1.14.1 in c:\\users\\bigman\\anaconda3\\envs\\swarmauri-0.4.3\\lib\\site-packages (from chromadb->swarmauri[full]) (1.19.2)\n",
      "Requirement already satisfied: opentelemetry-api>=1.2.0 in c:\\users\\bigman\\anaconda3\\envs\\swarmauri-0.4.3\\lib\\site-packages (from chromadb->swarmauri[full]) (1.27.0)\n",
      "Requirement already satisfied: opentelemetry-exporter-otlp-proto-grpc>=1.2.0 in c:\\users\\bigman\\anaconda3\\envs\\swarmauri-0.4.3\\lib\\site-packages (from chromadb->swarmauri[full]) (1.27.0)\n",
      "Requirement already satisfied: opentelemetry-instrumentation-fastapi>=0.41b0 in c:\\users\\bigman\\anaconda3\\envs\\swarmauri-0.4.3\\lib\\site-packages (from chromadb->swarmauri[full]) (0.48b0)\n",
      "Requirement already satisfied: opentelemetry-sdk>=1.2.0 in c:\\users\\bigman\\anaconda3\\envs\\swarmauri-0.4.3\\lib\\site-packages (from chromadb->swarmauri[full]) (1.27.0)\n",
      "Requirement already satisfied: pypika>=0.48.9 in c:\\users\\bigman\\anaconda3\\envs\\swarmauri-0.4.3\\lib\\site-packages (from chromadb->swarmauri[full]) (0.48.9)\n",
      "Requirement already satisfied: overrides>=7.3.1 in c:\\users\\bigman\\anaconda3\\envs\\swarmauri-0.4.3\\lib\\site-packages (from chromadb->swarmauri[full]) (7.7.0)\n",
      "Requirement already satisfied: importlib-resources in c:\\users\\bigman\\anaconda3\\envs\\swarmauri-0.4.3\\lib\\site-packages (from chromadb->swarmauri[full]) (6.4.5)\n",
      "Requirement already satisfied: grpcio>=1.58.0 in c:\\users\\bigman\\anaconda3\\envs\\swarmauri-0.4.3\\lib\\site-packages (from chromadb->swarmauri[full]) (1.66.1)\n",
      "Requirement already satisfied: bcrypt>=4.0.1 in c:\\users\\bigman\\anaconda3\\envs\\swarmauri-0.4.3\\lib\\site-packages (from chromadb->swarmauri[full]) (4.2.0)\n",
      "Requirement already satisfied: kubernetes>=28.1.0 in c:\\users\\bigman\\anaconda3\\envs\\swarmauri-0.4.3\\lib\\site-packages (from chromadb->swarmauri[full]) (30.1.0)\n",
      "Requirement already satisfied: PyYAML>=6.0.0 in c:\\users\\bigman\\anaconda3\\envs\\swarmauri-0.4.3\\lib\\site-packages (from chromadb->swarmauri[full]) (6.0.2)\n",
      "Requirement already satisfied: mmh3>=4.0.1 in c:\\users\\bigman\\anaconda3\\envs\\swarmauri-0.4.3\\lib\\site-packages (from chromadb->swarmauri[full]) (5.0.0)\n",
      "Requirement already satisfied: orjson>=3.9.12 in c:\\users\\bigman\\anaconda3\\envs\\swarmauri-0.4.3\\lib\\site-packages (from chromadb->swarmauri[full]) (3.10.7)\n",
      "Requirement already satisfied: fastavro<2.0.0,>=1.9.4 in c:\\users\\bigman\\anaconda3\\envs\\swarmauri-0.4.3\\lib\\site-packages (from cohere->swarmauri[full]) (1.9.7)\n",
      "Requirement already satisfied: httpx-sse==0.4.0 in c:\\users\\bigman\\anaconda3\\envs\\swarmauri-0.4.3\\lib\\site-packages (from cohere->swarmauri[full]) (0.4.0)\n",
      "Requirement already satisfied: parameterized<0.10.0,>=0.9.0 in c:\\users\\bigman\\anaconda3\\envs\\swarmauri-0.4.3\\lib\\site-packages (from cohere->swarmauri[full]) (0.9.0)\n",
      "Requirement already satisfied: types-requests<3.0.0,>=2.0.0 in c:\\users\\bigman\\anaconda3\\envs\\swarmauri-0.4.3\\lib\\site-packages (from cohere->swarmauri[full]) (2.32.0.20240914)\n",
      "Requirement already satisfied: branca>=0.6.0 in c:\\users\\bigman\\anaconda3\\envs\\swarmauri-0.4.3\\lib\\site-packages (from folium->swarmauri[full]) (0.7.2)\n",
      "Requirement already satisfied: xyzservices in c:\\users\\bigman\\anaconda3\\envs\\swarmauri-0.4.3\\lib\\site-packages (from folium->swarmauri[full]) (2024.9.0)\n",
      "Requirement already satisfied: httplib2<1.dev0,>=0.19.0 in c:\\users\\bigman\\anaconda3\\envs\\swarmauri-0.4.3\\lib\\site-packages (from google-api-python-client->swarmauri[full]) (0.22.0)\n",
      "Requirement already satisfied: google-auth!=2.24.0,!=2.25.0,<3.0.0.dev0,>=1.32.0 in c:\\users\\bigman\\anaconda3\\envs\\swarmauri-0.4.3\\lib\\site-packages (from google-api-python-client->swarmauri[full]) (2.34.0)\n",
      "Requirement already satisfied: google-api-core!=2.0.*,!=2.1.*,!=2.2.*,!=2.3.0,<3.0.0.dev0,>=1.31.5 in c:\\users\\bigman\\anaconda3\\envs\\swarmauri-0.4.3\\lib\\site-packages (from google-api-python-client->swarmauri[full]) (2.19.2)\n",
      "Requirement already satisfied: uritemplate<5,>=3.0.1 in c:\\users\\bigman\\anaconda3\\envs\\swarmauri-0.4.3\\lib\\site-packages (from google-api-python-client->swarmauri[full]) (4.1.1)\n",
      "Requirement already satisfied: requests-oauthlib>=0.7.0 in c:\\users\\bigman\\anaconda3\\envs\\swarmauri-0.4.3\\lib\\site-packages (from google-auth-oauthlib->swarmauri[full]) (2.0.0)\n",
      "Requirement already satisfied: google-ai-generativelanguage==0.6.9 in c:\\users\\bigman\\anaconda3\\envs\\swarmauri-0.4.3\\lib\\site-packages (from google-generativeai->swarmauri[full]) (0.6.9)\n",
      "Requirement already satisfied: protobuf in c:\\users\\bigman\\anaconda3\\envs\\swarmauri-0.4.3\\lib\\site-packages (from google-generativeai->swarmauri[full]) (4.25.4)\n",
      "Requirement already satisfied: proto-plus<2.0.0dev,>=1.22.3 in c:\\users\\bigman\\anaconda3\\envs\\swarmauri-0.4.3\\lib\\site-packages (from google-ai-generativelanguage==0.6.9->google-generativeai->swarmauri[full]) (1.24.0)\n",
      "Requirement already satisfied: aiofiles<24.0,>=22.0 in c:\\users\\bigman\\anaconda3\\envs\\swarmauri-0.4.3\\lib\\site-packages (from gradio->swarmauri[full]) (23.2.1)\n",
      "Requirement already satisfied: ffmpy in c:\\users\\bigman\\anaconda3\\envs\\swarmauri-0.4.3\\lib\\site-packages (from gradio->swarmauri[full]) (0.4.0)\n",
      "Requirement already satisfied: gradio-client==1.3.0 in c:\\users\\bigman\\anaconda3\\envs\\swarmauri-0.4.3\\lib\\site-packages (from gradio->swarmauri[full]) (1.3.0)\n",
      "Requirement already satisfied: huggingface-hub>=0.19.3 in c:\\users\\bigman\\anaconda3\\envs\\swarmauri-0.4.3\\lib\\site-packages (from gradio->swarmauri[full]) (0.25.0)\n",
      "Requirement already satisfied: markupsafe~=2.0 in c:\\users\\bigman\\anaconda3\\envs\\swarmauri-0.4.3\\lib\\site-packages (from gradio->swarmauri[full]) (2.1.5)\n",
      "Requirement already satisfied: matplotlib~=3.0 in c:\\users\\bigman\\anaconda3\\envs\\swarmauri-0.4.3\\lib\\site-packages (from gradio->swarmauri[full]) (3.9.2)\n",
      "Requirement already satisfied: pandas<3.0,>=1.0 in c:\\users\\bigman\\anaconda3\\envs\\swarmauri-0.4.3\\lib\\site-packages (from gradio->swarmauri[full]) (2.2.2)\n",
      "Requirement already satisfied: pydub in c:\\users\\bigman\\anaconda3\\envs\\swarmauri-0.4.3\\lib\\site-packages (from gradio->swarmauri[full]) (0.25.1)\n",
      "Requirement already satisfied: python-multipart>=0.0.9 in c:\\users\\bigman\\anaconda3\\envs\\swarmauri-0.4.3\\lib\\site-packages (from gradio->swarmauri[full]) (0.0.9)\n",
      "Requirement already satisfied: ruff>=0.2.2 in c:\\users\\bigman\\anaconda3\\envs\\swarmauri-0.4.3\\lib\\site-packages (from gradio->swarmauri[full]) (0.6.5)\n",
      "Requirement already satisfied: semantic-version~=2.0 in c:\\users\\bigman\\anaconda3\\envs\\swarmauri-0.4.3\\lib\\site-packages (from gradio->swarmauri[full]) (2.10.0)\n",
      "Requirement already satisfied: tomlkit==0.12.0 in c:\\users\\bigman\\anaconda3\\envs\\swarmauri-0.4.3\\lib\\site-packages (from gradio->swarmauri[full]) (0.12.0)\n",
      "INFO: pip is looking at multiple versions of gradio to determine which version is compatible with other requirements. This could take a while.\n",
      "Collecting gradio (from swarmauri[full])\n",
      "  Using cached gradio-4.43.0-py3-none-any.whl.metadata (15 kB)\n",
      "Collecting fastapi>=0.95.2 (from chromadb->swarmauri[full])\n",
      "  Using cached fastapi-0.112.4-py3-none-any.whl.metadata (27 kB)\n",
      "Collecting gradio (from swarmauri[full])\n",
      "  Using cached gradio-4.42.0-py3-none-any.whl.metadata (15 kB)\n",
      "  Using cached gradio-4.41.0-py3-none-any.whl.metadata (15 kB)\n",
      "  Using cached gradio-4.40.0-py3-none-any.whl.metadata (15 kB)\n",
      "Collecting gradio-client==1.2.0 (from gradio->swarmauri[full])\n",
      "  Using cached gradio_client-1.2.0-py3-none-any.whl.metadata (7.1 kB)\n",
      "Collecting gradio (from swarmauri[full])\n",
      "  Using cached gradio-4.39.0-py3-none-any.whl.metadata (15 kB)\n",
      "Collecting gradio-client==1.1.1 (from gradio->swarmauri[full])\n",
      "  Using cached gradio_client-1.1.1-py3-none-any.whl.metadata (7.1 kB)\n",
      "Collecting gradio (from swarmauri[full])\n",
      "  Using cached gradio-4.38.1-py3-none-any.whl.metadata (15 kB)\n",
      "Requirement already satisfied: altair<6.0,>=5.0 in c:\\users\\bigman\\anaconda3\\envs\\swarmauri-0.4.3\\lib\\site-packages (from gradio->swarmauri[full]) (5.4.1)\n",
      "Collecting gradio-client==1.1.0 (from gradio->swarmauri[full])\n",
      "  Using cached gradio_client-1.1.0-py3-none-any.whl.metadata (7.1 kB)\n",
      "Collecting gradio (from swarmauri[full])\n",
      "  Using cached gradio-4.38.0-py3-none-any.whl.metadata (15 kB)\n",
      "INFO: pip is still looking at multiple versions of gradio to determine which version is compatible with other requirements. This could take a while.\n",
      "  Using cached gradio-4.37.2-py3-none-any.whl.metadata (15 kB)\n",
      "Collecting gradio-client==1.0.2 (from gradio->swarmauri[full])\n",
      "  Using cached gradio_client-1.0.2-py3-none-any.whl.metadata (7.1 kB)\n",
      "Collecting gradio (from swarmauri[full])\n",
      "  Using cached gradio-4.37.1-py3-none-any.whl.metadata (15 kB)\n",
      "  Using cached gradio-4.36.1-py3-none-any.whl.metadata (15 kB)\n",
      "Collecting gradio-client==1.0.1 (from gradio->swarmauri[full])\n",
      "  Using cached gradio_client-1.0.1-py3-none-any.whl.metadata (7.1 kB)\n",
      "Collecting gradio (from swarmauri[full])\n",
      "  Using cached gradio-4.36.0-py3-none-any.whl.metadata (15 kB)\n",
      "  Using cached gradio-4.35.0-py3-none-any.whl.metadata (15 kB)\n",
      "INFO: This is taking longer than usual. You might need to provide the dependency resolver with stricter constraints to reduce runtime. See https://pip.pypa.io/warnings/backtracking for guidance. If you want to abort this run, press Ctrl + C.\n",
      "  Using cached gradio-4.33.0-py3-none-any.whl.metadata (15 kB)\n",
      "Collecting gradio-client==0.17.0 (from gradio->swarmauri[full])\n",
      "  Using cached gradio_client-0.17.0-py3-none-any.whl.metadata (7.1 kB)\n",
      "Collecting gradio (from swarmauri[full])\n",
      "  Using cached gradio-4.32.2-py3-none-any.whl.metadata (15 kB)\n",
      "  Using cached gradio-4.32.1-py3-none-any.whl.metadata (15 kB)\n",
      "  Using cached gradio-4.32.0-py3-none-any.whl.metadata (15 kB)\n",
      "  Using cached gradio-4.31.5-py3-none-any.whl.metadata (15 kB)\n",
      "Collecting gradio-client==0.16.4 (from gradio->swarmauri[full])\n",
      "  Using cached gradio_client-0.16.4-py3-none-any.whl.metadata (7.1 kB)\n",
      "Collecting gradio (from swarmauri[full])\n",
      "  Using cached gradio-4.31.4-py3-none-any.whl.metadata (15 kB)\n",
      "  Using cached gradio-4.31.3-py3-none-any.whl.metadata (15 kB)\n",
      "Collecting gradio-client==0.16.3 (from gradio->swarmauri[full])\n",
      "  Using cached gradio_client-0.16.3-py3-none-any.whl.metadata (7.1 kB)\n",
      "Collecting gradio (from swarmauri[full])\n",
      "  Using cached gradio-4.31.2-py3-none-any.whl.metadata (15 kB)\n",
      "  Using cached gradio-4.31.1-py3-none-any.whl.metadata (15 kB)\n",
      "  Using cached gradio-4.31.0-py3-none-any.whl.metadata (15 kB)\n",
      "Collecting gradio-client==0.16.2 (from gradio->swarmauri[full])\n",
      "  Using cached gradio_client-0.16.2-py3-none-any.whl.metadata (7.1 kB)\n",
      "Collecting gradio (from swarmauri[full])\n",
      "  Using cached gradio-4.29.0-py3-none-any.whl.metadata (15 kB)\n",
      "Collecting gradio-client==0.16.1 (from gradio->swarmauri[full])\n",
      "  Using cached gradio_client-0.16.1-py3-none-any.whl.metadata (7.1 kB)\n",
      "Collecting gradio (from swarmauri[full])\n",
      "  Using cached gradio-4.28.3-py3-none-any.whl.metadata (15 kB)\n",
      "Collecting gradio-client==0.16.0 (from gradio->swarmauri[full])\n",
      "  Using cached gradio_client-0.16.0-py3-none-any.whl.metadata (7.1 kB)\n",
      "Collecting gradio (from swarmauri[full])\n",
      "  Using cached gradio-4.28.2-py3-none-any.whl.metadata (15 kB)\n",
      "  Using cached gradio-4.28.1-py3-none-any.whl.metadata (15 kB)\n",
      "  Using cached gradio-4.28.0-py3-none-any.whl.metadata (15 kB)\n",
      "  Using cached gradio-4.27.0-py3-none-any.whl.metadata (15 kB)\n",
      "Collecting gradio-client==0.15.1 (from gradio->swarmauri[full])\n",
      "  Using cached gradio_client-0.15.1-py3-none-any.whl.metadata (7.1 kB)\n",
      "Collecting gradio (from swarmauri[full])\n",
      "  Using cached gradio-4.26.0-py3-none-any.whl.metadata (15 kB)\n",
      "Requirement already satisfied: fsspec in c:\\users\\bigman\\anaconda3\\envs\\swarmauri-0.4.3\\lib\\site-packages (from gradio-client==0.15.1->gradio->swarmauri[full]) (2024.9.0)\n",
      "Requirement already satisfied: eval-type-backport<0.3.0,>=0.2.0 in c:\\users\\bigman\\anaconda3\\envs\\swarmauri-0.4.3\\lib\\site-packages (from mistralai->swarmauri[full]) (0.2.0)\n",
      "Requirement already satisfied: jsonpath-python<2.0.0,>=1.0.6 in c:\\users\\bigman\\anaconda3\\envs\\swarmauri-0.4.3\\lib\\site-packages (from mistralai->swarmauri[full]) (1.0.6)\n",
      "Requirement already satisfied: python-dateutil==2.8.2 in c:\\users\\bigman\\anaconda3\\envs\\swarmauri-0.4.3\\lib\\site-packages (from mistralai->swarmauri[full]) (2.8.2)\n",
      "Requirement already satisfied: typing-inspect<0.10.0,>=0.9.0 in c:\\users\\bigman\\anaconda3\\envs\\swarmauri-0.4.3\\lib\\site-packages (from mistralai->swarmauri[full]) (0.9.0)\n",
      "Requirement already satisfied: six>=1.5 in c:\\users\\bigman\\anaconda3\\envs\\swarmauri-0.4.3\\lib\\site-packages (from python-dateutil==2.8.2->mistralai->swarmauri[full]) (1.16.0)\n",
      "Requirement already satisfied: click in c:\\users\\bigman\\anaconda3\\envs\\swarmauri-0.4.3\\lib\\site-packages (from nltk->swarmauri[full]) (8.1.7)\n",
      "Requirement already satisfied: joblib in c:\\users\\bigman\\anaconda3\\envs\\swarmauri-0.4.3\\lib\\site-packages (from nltk->swarmauri[full]) (1.4.2)\n",
      "Requirement already satisfied: regex>=2021.8.3 in c:\\users\\bigman\\anaconda3\\envs\\swarmauri-0.4.3\\lib\\site-packages (from nltk->swarmauri[full]) (2024.9.11)\n",
      "Requirement already satisfied: numba>=0.57 in c:\\users\\bigman\\anaconda3\\envs\\swarmauri-0.4.3\\lib\\site-packages (from pacmap->swarmauri[full]) (0.60.0)\n",
      "Requirement already satisfied: annoy>=1.11 in c:\\users\\bigman\\anaconda3\\envs\\swarmauri-0.4.3\\lib\\site-packages (from pacmap->swarmauri[full]) (1.17.3)\n",
      "Requirement already satisfied: threadpoolctl>=3.1.0 in c:\\users\\bigman\\anaconda3\\envs\\swarmauri-0.4.3\\lib\\site-packages (from scikit-learn->swarmauri[full]) (3.5.0)\n",
      "Requirement already satisfied: pynacl>=1.4.0 in c:\\users\\bigman\\anaconda3\\envs\\swarmauri-0.4.3\\lib\\site-packages (from pygithub->swarmauri[full]) (1.5.0)\n",
      "Requirement already satisfied: pyjwt>=2.4.0 in c:\\users\\bigman\\anaconda3\\envs\\swarmauri-0.4.3\\lib\\site-packages (from pyjwt[crypto]>=2.4.0->pygithub->swarmauri[full]) (2.9.0)\n",
      "Requirement already satisfied: Deprecated in c:\\users\\bigman\\anaconda3\\envs\\swarmauri-0.4.3\\lib\\site-packages (from pygithub->swarmauri[full]) (1.2.14)\n",
      "Requirement already satisfied: grpcio-tools>=1.41.0 in c:\\users\\bigman\\anaconda3\\envs\\swarmauri-0.4.3\\lib\\site-packages (from qdrant-client->swarmauri[full]) (1.62.3)\n",
      "Requirement already satisfied: portalocker<3.0.0,>=2.7.0 in c:\\users\\bigman\\anaconda3\\envs\\swarmauri-0.4.3\\lib\\site-packages (from qdrant-client->swarmauri[full]) (2.10.1)\n",
      "Requirement already satisfied: pypng in c:\\users\\bigman\\anaconda3\\envs\\swarmauri-0.4.3\\lib\\site-packages (from qrcode->swarmauri[full]) (0.20220715.0)\n",
      "Requirement already satisfied: colorama in c:\\users\\bigman\\anaconda3\\envs\\swarmauri-0.4.3\\lib\\site-packages (from qrcode->swarmauri[full]) (0.4.6)\n",
      "Requirement already satisfied: aiohttp in c:\\users\\bigman\\anaconda3\\envs\\swarmauri-0.4.3\\lib\\site-packages (from shuttleai->swarmauri[full]) (3.10.5)\n",
      "Requirement already satisfied: tensorflow-intel==2.17.0 in c:\\users\\bigman\\anaconda3\\envs\\swarmauri-0.4.3\\lib\\site-packages (from tensorflow->swarmauri[full]) (2.17.0)\n",
      "Requirement already satisfied: absl-py>=1.0.0 in c:\\users\\bigman\\anaconda3\\envs\\swarmauri-0.4.3\\lib\\site-packages (from tensorflow-intel==2.17.0->tensorflow->swarmauri[full]) (2.1.0)\n",
      "Requirement already satisfied: astunparse>=1.6.0 in c:\\users\\bigman\\anaconda3\\envs\\swarmauri-0.4.3\\lib\\site-packages (from tensorflow-intel==2.17.0->tensorflow->swarmauri[full]) (1.6.3)\n",
      "Requirement already satisfied: flatbuffers>=24.3.25 in c:\\users\\bigman\\anaconda3\\envs\\swarmauri-0.4.3\\lib\\site-packages (from tensorflow-intel==2.17.0->tensorflow->swarmauri[full]) (24.3.25)\n",
      "Requirement already satisfied: gast!=0.5.0,!=0.5.1,!=0.5.2,>=0.2.1 in c:\\users\\bigman\\anaconda3\\envs\\swarmauri-0.4.3\\lib\\site-packages (from tensorflow-intel==2.17.0->tensorflow->swarmauri[full]) (0.6.0)\n",
      "Requirement already satisfied: google-pasta>=0.1.1 in c:\\users\\bigman\\anaconda3\\envs\\swarmauri-0.4.3\\lib\\site-packages (from tensorflow-intel==2.17.0->tensorflow->swarmauri[full]) (0.2.0)\n",
      "Requirement already satisfied: h5py>=3.10.0 in c:\\users\\bigman\\anaconda3\\envs\\swarmauri-0.4.3\\lib\\site-packages (from tensorflow-intel==2.17.0->tensorflow->swarmauri[full]) (3.11.0)\n",
      "Requirement already satisfied: libclang>=13.0.0 in c:\\users\\bigman\\anaconda3\\envs\\swarmauri-0.4.3\\lib\\site-packages (from tensorflow-intel==2.17.0->tensorflow->swarmauri[full]) (18.1.1)\n",
      "Requirement already satisfied: ml-dtypes<0.5.0,>=0.3.1 in c:\\users\\bigman\\anaconda3\\envs\\swarmauri-0.4.3\\lib\\site-packages (from tensorflow-intel==2.17.0->tensorflow->swarmauri[full]) (0.4.1)\n",
      "Requirement already satisfied: opt-einsum>=2.3.2 in c:\\users\\bigman\\anaconda3\\envs\\swarmauri-0.4.3\\lib\\site-packages (from tensorflow-intel==2.17.0->tensorflow->swarmauri[full]) (3.3.0)\n",
      "Requirement already satisfied: termcolor>=1.1.0 in c:\\users\\bigman\\anaconda3\\envs\\swarmauri-0.4.3\\lib\\site-packages (from tensorflow-intel==2.17.0->tensorflow->swarmauri[full]) (2.4.0)\n",
      "Requirement already satisfied: wrapt>=1.11.0 in c:\\users\\bigman\\anaconda3\\envs\\swarmauri-0.4.3\\lib\\site-packages (from tensorflow-intel==2.17.0->tensorflow->swarmauri[full]) (1.16.0)\n",
      "Requirement already satisfied: tensorboard<2.18,>=2.17 in c:\\users\\bigman\\anaconda3\\envs\\swarmauri-0.4.3\\lib\\site-packages (from tensorflow-intel==2.17.0->tensorflow->swarmauri[full]) (2.17.1)\n",
      "Requirement already satisfied: keras>=3.2.0 in c:\\users\\bigman\\anaconda3\\envs\\swarmauri-0.4.3\\lib\\site-packages (from tensorflow-intel==2.17.0->tensorflow->swarmauri[full]) (3.5.0)\n",
      "Requirement already satisfied: tensorflow-io-gcs-filesystem>=0.23.1 in c:\\users\\bigman\\anaconda3\\envs\\swarmauri-0.4.3\\lib\\site-packages (from tensorflow-intel==2.17.0->tensorflow->swarmauri[full]) (0.31.0)\n",
      "Requirement already satisfied: pyphen in c:\\users\\bigman\\anaconda3\\envs\\swarmauri-0.4.3\\lib\\site-packages (from textstat->swarmauri[full]) (0.16.0)\n",
      "Requirement already satisfied: filelock in c:\\users\\bigman\\anaconda3\\envs\\swarmauri-0.4.3\\lib\\site-packages (from torch->swarmauri[full]) (3.16.1)\n",
      "Requirement already satisfied: sympy in c:\\users\\bigman\\anaconda3\\envs\\swarmauri-0.4.3\\lib\\site-packages (from torch->swarmauri[full]) (1.13.2)\n",
      "Requirement already satisfied: networkx in c:\\users\\bigman\\anaconda3\\envs\\swarmauri-0.4.3\\lib\\site-packages (from torch->swarmauri[full]) (3.3)\n",
      "Requirement already satisfied: safetensors>=0.4.1 in c:\\users\\bigman\\anaconda3\\envs\\swarmauri-0.4.3\\lib\\site-packages (from transformers->swarmauri[full]) (0.4.5)\n",
      "Requirement already satisfied: tabulate in c:\\users\\bigman\\anaconda3\\envs\\swarmauri-0.4.3\\lib\\site-packages (from yake->swarmauri[full]) (0.9.0)\n",
      "Requirement already satisfied: segtok in c:\\users\\bigman\\anaconda3\\envs\\swarmauri-0.4.3\\lib\\site-packages (from yake->swarmauri[full]) (1.5.11)\n",
      "Requirement already satisfied: jellyfish in c:\\users\\bigman\\anaconda3\\envs\\swarmauri-0.4.3\\lib\\site-packages (from yake->swarmauri[full]) (1.1.0)\n",
      "Requirement already satisfied: sentencepiece<1.0.0,>=0.2.0 in c:\\users\\bigman\\anaconda3\\envs\\swarmauri-0.4.3\\lib\\site-packages (from ai21-tokenizer<1.0.0,>=0.12.0->ai21>=2.2.0->swarmauri[full]) (0.2.0)\n",
      "Requirement already satisfied: jsonschema>=3.0 in c:\\users\\bigman\\anaconda3\\envs\\swarmauri-0.4.3\\lib\\site-packages (from altair<6.0,>=5.0->gradio->swarmauri[full]) (4.23.0)\n",
      "Requirement already satisfied: narwhals>=1.5.2 in c:\\users\\bigman\\anaconda3\\envs\\swarmauri-0.4.3\\lib\\site-packages (from altair<6.0,>=5.0->gradio->swarmauri[full]) (1.8.1)\n",
      "Requirement already satisfied: pyproject_hooks in c:\\users\\bigman\\anaconda3\\envs\\swarmauri-0.4.3\\lib\\site-packages (from build>=1.0.3->chromadb->swarmauri[full]) (1.1.0)\n",
      "Requirement already satisfied: starlette<0.39.0,>=0.37.2 in c:\\users\\bigman\\anaconda3\\envs\\swarmauri-0.4.3\\lib\\site-packages (from fastapi>=0.95.2->chromadb->swarmauri[full]) (0.38.5)\n",
      "Requirement already satisfied: googleapis-common-protos<2.0.dev0,>=1.56.2 in c:\\users\\bigman\\anaconda3\\envs\\swarmauri-0.4.3\\lib\\site-packages (from google-api-core!=2.0.*,!=2.1.*,!=2.2.*,!=2.3.0,<3.0.0.dev0,>=1.31.5->google-api-python-client->swarmauri[full]) (1.65.0)\n",
      "Requirement already satisfied: cachetools<6.0,>=2.0.0 in c:\\users\\bigman\\anaconda3\\envs\\swarmauri-0.4.3\\lib\\site-packages (from google-auth!=2.24.0,!=2.25.0,<3.0.0.dev0,>=1.32.0->google-api-python-client->swarmauri[full]) (5.5.0)\n",
      "Requirement already satisfied: pyasn1-modules>=0.2.1 in c:\\users\\bigman\\anaconda3\\envs\\swarmauri-0.4.3\\lib\\site-packages (from google-auth!=2.24.0,!=2.25.0,<3.0.0.dev0,>=1.32.0->google-api-python-client->swarmauri[full]) (0.4.1)\n",
      "Requirement already satisfied: rsa<5,>=3.1.4 in c:\\users\\bigman\\anaconda3\\envs\\swarmauri-0.4.3\\lib\\site-packages (from google-auth!=2.24.0,!=2.25.0,<3.0.0.dev0,>=1.32.0->google-api-python-client->swarmauri[full]) (4.9)\n",
      "Requirement already satisfied: pyparsing!=3.0.0,!=3.0.1,!=3.0.2,!=3.0.3,<4,>=2.4.2 in c:\\users\\bigman\\anaconda3\\envs\\swarmauri-0.4.3\\lib\\site-packages (from httplib2<1.dev0,>=0.19.0->google-api-python-client->swarmauri[full]) (3.1.4)\n",
      "Requirement already satisfied: httpcore==1.* in c:\\users\\bigman\\anaconda3\\envs\\swarmauri-0.4.3\\lib\\site-packages (from httpx<0.28.0,>=0.27.0->ai21>=2.2.0->swarmauri[full]) (1.0.5)\n",
      "Requirement already satisfied: h11<0.15,>=0.13 in c:\\users\\bigman\\anaconda3\\envs\\swarmauri-0.4.3\\lib\\site-packages (from httpcore==1.*->httpx<0.28.0,>=0.27.0->ai21>=2.2.0->swarmauri[full]) (0.14.0)\n",
      "Requirement already satisfied: h2<5,>=3 in c:\\users\\bigman\\anaconda3\\envs\\swarmauri-0.4.3\\lib\\site-packages (from httpx[http2]>=0.20.0->qdrant-client->swarmauri[full]) (4.1.0)\n",
      "Requirement already satisfied: websocket-client!=0.40.0,!=0.41.*,!=0.42.*,>=0.32.0 in c:\\users\\bigman\\anaconda3\\envs\\swarmauri-0.4.3\\lib\\site-packages (from kubernetes>=28.1.0->chromadb->swarmauri[full]) (1.8.0)\n",
      "Requirement already satisfied: oauthlib>=3.2.2 in c:\\users\\bigman\\anaconda3\\envs\\swarmauri-0.4.3\\lib\\site-packages (from kubernetes>=28.1.0->chromadb->swarmauri[full]) (3.2.2)\n",
      "Requirement already satisfied: language-data>=1.2 in c:\\users\\bigman\\anaconda3\\envs\\swarmauri-0.4.3\\lib\\site-packages (from langcodes<4.0.0,>=3.2.0->spacy==3.7.4->swarmauri[full]) (1.2.0)\n",
      "Requirement already satisfied: contourpy>=1.0.1 in c:\\users\\bigman\\anaconda3\\envs\\swarmauri-0.4.3\\lib\\site-packages (from matplotlib~=3.0->gradio->swarmauri[full]) (1.3.0)\n",
      "Requirement already satisfied: cycler>=0.10 in c:\\users\\bigman\\anaconda3\\envs\\swarmauri-0.4.3\\lib\\site-packages (from matplotlib~=3.0->gradio->swarmauri[full]) (0.12.1)\n",
      "Requirement already satisfied: fonttools>=4.22.0 in c:\\users\\bigman\\anaconda3\\envs\\swarmauri-0.4.3\\lib\\site-packages (from matplotlib~=3.0->gradio->swarmauri[full]) (4.53.1)\n",
      "Requirement already satisfied: kiwisolver>=1.3.1 in c:\\users\\bigman\\anaconda3\\envs\\swarmauri-0.4.3\\lib\\site-packages (from matplotlib~=3.0->gradio->swarmauri[full]) (1.4.7)\n",
      "Requirement already satisfied: llvmlite<0.44,>=0.43.0dev0 in c:\\users\\bigman\\anaconda3\\envs\\swarmauri-0.4.3\\lib\\site-packages (from numba>=0.57->pacmap->swarmauri[full]) (0.43.0)\n",
      "Requirement already satisfied: coloredlogs in c:\\users\\bigman\\anaconda3\\envs\\swarmauri-0.4.3\\lib\\site-packages (from onnxruntime>=1.14.1->chromadb->swarmauri[full]) (15.0.1)\n",
      "Requirement already satisfied: importlib-metadata<=8.4.0,>=6.0 in c:\\users\\bigman\\anaconda3\\envs\\swarmauri-0.4.3\\lib\\site-packages (from opentelemetry-api>=1.2.0->chromadb->swarmauri[full]) (8.4.0)\n",
      "Requirement already satisfied: opentelemetry-exporter-otlp-proto-common==1.27.0 in c:\\users\\bigman\\anaconda3\\envs\\swarmauri-0.4.3\\lib\\site-packages (from opentelemetry-exporter-otlp-proto-grpc>=1.2.0->chromadb->swarmauri[full]) (1.27.0)\n",
      "Requirement already satisfied: opentelemetry-proto==1.27.0 in c:\\users\\bigman\\anaconda3\\envs\\swarmauri-0.4.3\\lib\\site-packages (from opentelemetry-exporter-otlp-proto-grpc>=1.2.0->chromadb->swarmauri[full]) (1.27.0)\n",
      "Requirement already satisfied: opentelemetry-instrumentation-asgi==0.48b0 in c:\\users\\bigman\\anaconda3\\envs\\swarmauri-0.4.3\\lib\\site-packages (from opentelemetry-instrumentation-fastapi>=0.41b0->chromadb->swarmauri[full]) (0.48b0)\n",
      "Requirement already satisfied: opentelemetry-instrumentation==0.48b0 in c:\\users\\bigman\\anaconda3\\envs\\swarmauri-0.4.3\\lib\\site-packages (from opentelemetry-instrumentation-fastapi>=0.41b0->chromadb->swarmauri[full]) (0.48b0)\n",
      "Requirement already satisfied: opentelemetry-semantic-conventions==0.48b0 in c:\\users\\bigman\\anaconda3\\envs\\swarmauri-0.4.3\\lib\\site-packages (from opentelemetry-instrumentation-fastapi>=0.41b0->chromadb->swarmauri[full]) (0.48b0)\n",
      "Requirement already satisfied: opentelemetry-util-http==0.48b0 in c:\\users\\bigman\\anaconda3\\envs\\swarmauri-0.4.3\\lib\\site-packages (from opentelemetry-instrumentation-fastapi>=0.41b0->chromadb->swarmauri[full]) (0.48b0)\n",
      "Requirement already satisfied: asgiref~=3.0 in c:\\users\\bigman\\anaconda3\\envs\\swarmauri-0.4.3\\lib\\site-packages (from opentelemetry-instrumentation-asgi==0.48b0->opentelemetry-instrumentation-fastapi>=0.41b0->chromadb->swarmauri[full]) (3.8.1)\n",
      "Requirement already satisfied: pytz>=2020.1 in c:\\users\\bigman\\anaconda3\\envs\\swarmauri-0.4.3\\lib\\site-packages (from pandas<3.0,>=1.0->gradio->swarmauri[full]) (2024.2)\n",
      "Requirement already satisfied: tzdata>=2022.7 in c:\\users\\bigman\\anaconda3\\envs\\swarmauri-0.4.3\\lib\\site-packages (from pandas<3.0,>=1.0->gradio->swarmauri[full]) (2024.1)\n",
      "Requirement already satisfied: pywin32>=226 in c:\\users\\bigman\\anaconda3\\envs\\swarmauri-0.4.3\\lib\\site-packages (from portalocker<3.0.0,>=2.7.0->qdrant-client->swarmauri[full]) (306)\n",
      "Requirement already satisfied: monotonic>=1.5 in c:\\users\\bigman\\anaconda3\\envs\\swarmauri-0.4.3\\lib\\site-packages (from posthog>=2.4.0->chromadb->swarmauri[full]) (1.6)\n",
      "Requirement already satisfied: backoff>=1.10.0 in c:\\users\\bigman\\anaconda3\\envs\\swarmauri-0.4.3\\lib\\site-packages (from posthog>=2.4.0->chromadb->swarmauri[full]) (2.2.1)\n",
      "Requirement already satisfied: cryptography>=3.4.0 in c:\\users\\bigman\\anaconda3\\envs\\swarmauri-0.4.3\\lib\\site-packages (from pyjwt[crypto]>=2.4.0->pygithub->swarmauri[full]) (43.0.1)\n",
      "Requirement already satisfied: cffi>=1.4.1 in c:\\users\\bigman\\anaconda3\\envs\\swarmauri-0.4.3\\lib\\site-packages (from pynacl>=1.4.0->pygithub->swarmauri[full]) (1.17.1)\n",
      "Requirement already satisfied: blis<0.8.0,>=0.7.8 in c:\\users\\bigman\\anaconda3\\envs\\swarmauri-0.4.3\\lib\\site-packages (from thinc<8.3.0,>=8.2.2->spacy==3.7.4->swarmauri[full]) (0.7.11)\n",
      "Requirement already satisfied: confection<1.0.0,>=0.0.1 in c:\\users\\bigman\\anaconda3\\envs\\swarmauri-0.4.3\\lib\\site-packages (from thinc<8.3.0,>=8.2.2->spacy==3.7.4->swarmauri[full]) (0.1.5)\n",
      "Requirement already satisfied: shellingham<2.0.0,>=1.3.0 in c:\\users\\bigman\\anaconda3\\envs\\swarmauri-0.4.3\\lib\\site-packages (from typer[all]<1.0,>=0.9; sys_platform != \"emscripten\"->gradio->swarmauri[full]) (1.5.4)\n",
      "Requirement already satisfied: rich<14.0.0,>=10.11.0 in c:\\users\\bigman\\anaconda3\\envs\\swarmauri-0.4.3\\lib\\site-packages (from typer[all]<1.0,>=0.9; sys_platform != \"emscripten\"->gradio->swarmauri[full]) (13.8.1)\n",
      "Requirement already satisfied: mypy-extensions>=0.3.0 in c:\\users\\bigman\\anaconda3\\envs\\swarmauri-0.4.3\\lib\\site-packages (from typing-inspect<0.10.0,>=0.9.0->mistralai->swarmauri[full]) (1.0.0)\n",
      "Requirement already satisfied: httptools>=0.5.0 in c:\\users\\bigman\\anaconda3\\envs\\swarmauri-0.4.3\\lib\\site-packages (from uvicorn[standard]>=0.18.3->chromadb->swarmauri[full]) (0.6.1)\n",
      "Requirement already satisfied: python-dotenv>=0.13 in c:\\users\\bigman\\anaconda3\\envs\\swarmauri-0.4.3\\lib\\site-packages (from uvicorn[standard]>=0.18.3->chromadb->swarmauri[full]) (1.0.1)\n",
      "Requirement already satisfied: watchfiles>=0.13 in c:\\users\\bigman\\anaconda3\\envs\\swarmauri-0.4.3\\lib\\site-packages (from uvicorn[standard]>=0.18.3->chromadb->swarmauri[full]) (0.24.0)\n",
      "Requirement already satisfied: cloudpathlib<0.17.0,>=0.7.0 in c:\\users\\bigman\\anaconda3\\envs\\swarmauri-0.4.3\\lib\\site-packages (from weasel<0.4.0,>=0.1.0->spacy==3.7.4->swarmauri[full]) (0.16.0)\n",
      "Requirement already satisfied: aiohappyeyeballs>=2.3.0 in c:\\users\\bigman\\anaconda3\\envs\\swarmauri-0.4.3\\lib\\site-packages (from aiohttp->shuttleai->swarmauri[full]) (2.4.0)\n",
      "Requirement already satisfied: aiosignal>=1.1.2 in c:\\users\\bigman\\anaconda3\\envs\\swarmauri-0.4.3\\lib\\site-packages (from aiohttp->shuttleai->swarmauri[full]) (1.3.1)\n",
      "Requirement already satisfied: attrs>=17.3.0 in c:\\users\\bigman\\anaconda3\\envs\\swarmauri-0.4.3\\lib\\site-packages (from aiohttp->shuttleai->swarmauri[full]) (24.2.0)\n",
      "Requirement already satisfied: frozenlist>=1.1.1 in c:\\users\\bigman\\anaconda3\\envs\\swarmauri-0.4.3\\lib\\site-packages (from aiohttp->shuttleai->swarmauri[full]) (1.4.1)\n",
      "Requirement already satisfied: multidict<7.0,>=4.5 in c:\\users\\bigman\\anaconda3\\envs\\swarmauri-0.4.3\\lib\\site-packages (from aiohttp->shuttleai->swarmauri[full]) (6.1.0)\n",
      "Requirement already satisfied: yarl<2.0,>=1.0 in c:\\users\\bigman\\anaconda3\\envs\\swarmauri-0.4.3\\lib\\site-packages (from aiohttp->shuttleai->swarmauri[full]) (1.11.1)\n",
      "Requirement already satisfied: soupsieve>1.2 in c:\\users\\bigman\\anaconda3\\envs\\swarmauri-0.4.3\\lib\\site-packages (from beautifulsoup4->bs4->swarmauri[full]) (2.6)\n",
      "Requirement already satisfied: mpmath<1.4,>=1.1.0 in c:\\users\\bigman\\anaconda3\\envs\\swarmauri-0.4.3\\lib\\site-packages (from sympy->torch->swarmauri[full]) (1.3.0)\n",
      "Requirement already satisfied: wheel<1.0,>=0.23.0 in c:\\users\\bigman\\anaconda3\\envs\\swarmauri-0.4.3\\lib\\site-packages (from astunparse>=1.6.0->tensorflow-intel==2.17.0->tensorflow->swarmauri[full]) (0.44.0)\n",
      "Requirement already satisfied: pycparser in c:\\users\\bigman\\anaconda3\\envs\\swarmauri-0.4.3\\lib\\site-packages (from cffi>=1.4.1->pynacl>=1.4.0->pygithub->swarmauri[full]) (2.22)\n",
      "Requirement already satisfied: grpcio-status<2.0.dev0,>=1.33.2 in c:\\users\\bigman\\anaconda3\\envs\\swarmauri-0.4.3\\lib\\site-packages (from google-api-core[grpc]!=2.0.*,!=2.1.*,!=2.10.*,!=2.2.*,!=2.3.*,!=2.4.*,!=2.5.*,!=2.6.*,!=2.7.*,!=2.8.*,!=2.9.*,<3.0.0dev,>=1.34.1->google-ai-generativelanguage==0.6.9->google-generativeai->swarmauri[full]) (1.62.3)\n",
      "Requirement already satisfied: hyperframe<7,>=6.0 in c:\\users\\bigman\\anaconda3\\envs\\swarmauri-0.4.3\\lib\\site-packages (from h2<5,>=3->httpx[http2]>=0.20.0->qdrant-client->swarmauri[full]) (6.0.1)\n",
      "Requirement already satisfied: hpack<5,>=4.0 in c:\\users\\bigman\\anaconda3\\envs\\swarmauri-0.4.3\\lib\\site-packages (from h2<5,>=3->httpx[http2]>=0.20.0->qdrant-client->swarmauri[full]) (4.0.0)\n",
      "Requirement already satisfied: zipp>=0.5 in c:\\users\\bigman\\anaconda3\\envs\\swarmauri-0.4.3\\lib\\site-packages (from importlib-metadata<=8.4.0,>=6.0->opentelemetry-api>=1.2.0->chromadb->swarmauri[full]) (3.20.2)\n",
      "Requirement already satisfied: jsonschema-specifications>=2023.03.6 in c:\\users\\bigman\\anaconda3\\envs\\swarmauri-0.4.3\\lib\\site-packages (from jsonschema>=3.0->altair<6.0,>=5.0->gradio->swarmauri[full]) (2023.12.1)\n",
      "Requirement already satisfied: referencing>=0.28.4 in c:\\users\\bigman\\anaconda3\\envs\\swarmauri-0.4.3\\lib\\site-packages (from jsonschema>=3.0->altair<6.0,>=5.0->gradio->swarmauri[full]) (0.35.1)\n",
      "Requirement already satisfied: rpds-py>=0.7.1 in c:\\users\\bigman\\anaconda3\\envs\\swarmauri-0.4.3\\lib\\site-packages (from jsonschema>=3.0->altair<6.0,>=5.0->gradio->swarmauri[full]) (0.20.0)\n",
      "Requirement already satisfied: namex in c:\\users\\bigman\\anaconda3\\envs\\swarmauri-0.4.3\\lib\\site-packages (from keras>=3.2.0->tensorflow-intel==2.17.0->tensorflow->swarmauri[full]) (0.0.8)\n",
      "Requirement already satisfied: optree in c:\\users\\bigman\\anaconda3\\envs\\swarmauri-0.4.3\\lib\\site-packages (from keras>=3.2.0->tensorflow-intel==2.17.0->tensorflow->swarmauri[full]) (0.12.1)\n",
      "Requirement already satisfied: marisa-trie>=0.7.7 in c:\\users\\bigman\\anaconda3\\envs\\swarmauri-0.4.3\\lib\\site-packages (from language-data>=1.2->langcodes<4.0.0,>=3.2.0->spacy==3.7.4->swarmauri[full]) (1.2.0)\n",
      "Requirement already satisfied: pyasn1<0.7.0,>=0.4.6 in c:\\users\\bigman\\anaconda3\\envs\\swarmauri-0.4.3\\lib\\site-packages (from pyasn1-modules>=0.2.1->google-auth!=2.24.0,!=2.25.0,<3.0.0.dev0,>=1.32.0->google-api-python-client->swarmauri[full]) (0.6.1)\n",
      "Requirement already satisfied: markdown-it-py>=2.2.0 in c:\\users\\bigman\\anaconda3\\envs\\swarmauri-0.4.3\\lib\\site-packages (from rich<14.0.0,>=10.11.0->typer[all]<1.0,>=0.9; sys_platform != \"emscripten\"->gradio->swarmauri[full]) (3.0.0)\n",
      "Requirement already satisfied: markdown>=2.6.8 in c:\\users\\bigman\\anaconda3\\envs\\swarmauri-0.4.3\\lib\\site-packages (from tensorboard<2.18,>=2.17->tensorflow-intel==2.17.0->tensorflow->swarmauri[full]) (3.7)\n",
      "Requirement already satisfied: tensorboard-data-server<0.8.0,>=0.7.0 in c:\\users\\bigman\\anaconda3\\envs\\swarmauri-0.4.3\\lib\\site-packages (from tensorboard<2.18,>=2.17->tensorflow-intel==2.17.0->tensorflow->swarmauri[full]) (0.7.2)\n",
      "Requirement already satisfied: werkzeug>=1.0.1 in c:\\users\\bigman\\anaconda3\\envs\\swarmauri-0.4.3\\lib\\site-packages (from tensorboard<2.18,>=2.17->tensorflow-intel==2.17.0->tensorflow->swarmauri[full]) (3.0.4)\n",
      "Requirement already satisfied: humanfriendly>=9.1 in c:\\users\\bigman\\anaconda3\\envs\\swarmauri-0.4.3\\lib\\site-packages (from coloredlogs->onnxruntime>=1.14.1->chromadb->swarmauri[full]) (10.0)\n",
      "Requirement already satisfied: pyreadline3 in c:\\users\\bigman\\anaconda3\\envs\\swarmauri-0.4.3\\lib\\site-packages (from humanfriendly>=9.1->coloredlogs->onnxruntime>=1.14.1->chromadb->swarmauri[full]) (3.5.3)\n",
      "Requirement already satisfied: mdurl~=0.1 in c:\\users\\bigman\\anaconda3\\envs\\swarmauri-0.4.3\\lib\\site-packages (from markdown-it-py>=2.2.0->rich<14.0.0,>=10.11.0->typer[all]<1.0,>=0.9; sys_platform != \"emscripten\"->gradio->swarmauri[full]) (0.1.2)\n",
      "Using cached gradio-4.26.0-py3-none-any.whl (17.1 MB)\n",
      "Using cached gradio_client-0.15.1-py3-none-any.whl (313 kB)\n",
      "Using cached typer-0.9.4-py3-none-any.whl (45 kB)\n",
      "Installing collected packages: typer, gradio-client, gradio\n",
      "  Attempting uninstall: typer\n",
      "    Found existing installation: typer 0.12.5\n",
      "    Uninstalling typer-0.12.5:\n",
      "      Successfully uninstalled typer-0.12.5\n",
      "  Attempting uninstall: gradio-client\n",
      "    Found existing installation: gradio_client 1.3.0\n",
      "    Uninstalling gradio_client-1.3.0:\n",
      "      Successfully uninstalled gradio_client-1.3.0\n",
      "  Attempting uninstall: gradio\n",
      "    Found existing installation: gradio 4.44.0\n",
      "    Uninstalling gradio-4.44.0:\n",
      "      Successfully uninstalled gradio-4.44.0\n",
      "Successfully installed gradio-4.26.0 gradio-client-0.15.1 typer-0.9.4\n"
     ]
    }
   ],
   "source": [
    "! pip install --upgrade swarmauri[full]"
   ]
  },
  {
   "cell_type": "code",
   "execution_count": 3,
   "metadata": {},
   "outputs": [
    {
     "name": "stdout",
     "output_type": "stream",
     "text": [
      "Python version: 3.11.9 | packaged by Anaconda, Inc. | (main, Apr 19 2024, 16:40:41) [MSC v.1916 64 bit (AMD64)]\n",
      "swarmauri SDK version: 0.4.3\n",
      "Gradio version: 4.26.0\n"
     ]
    }
   ],
   "source": [
    "# Display the versions of Python, swarmauri SDK, and Gradio\n",
    "import sys\n",
    "import swarmauri\n",
    "import gradio\n",
    "\n",
    "# Print the versions\n",
    "print(f\"Python version: {sys.version}\")\n",
    "print(f\"swarmauri SDK version: {swarmauri.__version__}\")\n",
    "print(f\"Gradio version: {gradio.__version__}\")"
   ]
  },
  {
   "cell_type": "markdown",
   "metadata": {},
   "source": [
    "### Import necessary libraries"
   ]
  },
  {
   "cell_type": "code",
   "execution_count": 4,
   "metadata": {},
   "outputs": [
    {
     "name": "stderr",
     "output_type": "stream",
     "text": [
      "WARNING:root:Subclass Parameter does not have a type annotation\n"
     ]
    }
   ],
   "source": [
    "import os\n",
    "from dotenv import load_dotenv\n",
    "import gradio as gr\n",
    "from swarmauri.standard.llms.concrete.GroqToolModel import GroqToolModel\n",
    "from swarmauri.standard.agents.concrete.ToolAgent import ToolAgent\n",
    "from swarmauri.standard.toolkits.concrete.AccessibilityToolkit import AccessibilityToolkit as Tool\n",
    "from swarmauri.standard.conversations.concrete.Conversation import Conversation\n",
    "from swarmauri.standard.toolkits.concrete.Toolkit import Toolkit"
   ]
  },
  {
   "cell_type": "markdown",
   "metadata": {},
   "source": [
    "### Fetch the API key from environment variables or define it directly (Not recommended for production)"
   ]
  },
  {
   "cell_type": "code",
   "execution_count": 5,
   "metadata": {},
   "outputs": [],
   "source": [
    "load_dotenv()\n",
    "API_KEY = os.getenv('GROQ_API_KEY')"
   ]
  },
  {
   "cell_type": "markdown",
   "metadata": {},
   "source": [
    "### Initialize the GroqToolModel"
   ]
  },
  {
   "cell_type": "code",
   "execution_count": 6,
   "metadata": {},
   "outputs": [],
   "source": [
    "tool_model = GroqToolModel(api_key=API_KEY)"
   ]
  },
  {
   "cell_type": "code",
   "execution_count": 7,
   "metadata": {},
   "outputs": [
    {
     "data": {
      "text/plain": [
       "'llama3-groq-70b-8192-tool-use-preview'"
      ]
     },
     "execution_count": 7,
     "metadata": {},
     "output_type": "execute_result"
    }
   ],
   "source": [
    "tool_model.name"
   ]
  },
  {
   "cell_type": "markdown",
   "metadata": {},
   "source": [
    "### Create an AccessibilityTool"
   ]
  },
  {
   "cell_type": "code",
   "execution_count": 8,
   "metadata": {},
   "outputs": [],
   "source": [
    "accessibility_tool = Tool(name=\"AccessibilityTool\")"
   ]
  },
  {
   "cell_type": "code",
   "execution_count": 9,
   "metadata": {},
   "outputs": [],
   "source": [
    "# Use the tool within your toolkit\n",
    "toolkit = Toolkit(tools={\n",
    "    \"AutomatedReadabilityIndexTool\": accessibility_tool.automated_readability_index_tool,\n",
    "    \"ColemanLiauIndexTool\": accessibility_tool.coleman_liau_index_tool,  \n",
    "    \"FleschKincaidTool\": accessibility_tool.flesch_kincaid_tool,\n",
    "    \"FleschReadingEaseTool\": accessibility_tool.flesch_reading_ease_tool,\n",
    "    \"GunningFogTool\": accessibility_tool.gunning_fog_tool\n",
    "})"
   ]
  },
  {
   "cell_type": "markdown",
   "metadata": {},
   "source": [
    "### Create a ToolAgent with the GroqToolModel, Conversation, and Toolkit"
   ]
  },
  {
   "cell_type": "code",
   "execution_count": 10,
   "metadata": {},
   "outputs": [
    {
     "ename": "ValidationError",
     "evalue": "1 validation error for ToolAgent\ntoolkit\n  Input should be a valid dictionary or instance of Toolkit [type=model_type, input_value=AccessibilityToolkit(name...ired=True, enum=None)])), input_type=AccessibilityToolkit]\n    For further information visit https://errors.pydantic.dev/2.9/v/model_type",
     "output_type": "error",
     "traceback": [
      "\u001b[1;31m---------------------------------------------------------------------------\u001b[0m",
      "\u001b[1;31mValidationError\u001b[0m                           Traceback (most recent call last)",
      "Cell \u001b[1;32mIn[10], line 1\u001b[0m\n\u001b[1;32m----> 1\u001b[0m tool_agent \u001b[38;5;241m=\u001b[39m \u001b[43mToolAgent\u001b[49m\u001b[43m(\u001b[49m\n\u001b[0;32m      2\u001b[0m \u001b[43m    \u001b[49m\u001b[43mllm\u001b[49m\u001b[38;5;241;43m=\u001b[39;49m\u001b[43mtool_model\u001b[49m\u001b[43m,\u001b[49m\n\u001b[0;32m      3\u001b[0m \u001b[43m    \u001b[49m\u001b[43mconversation\u001b[49m\u001b[38;5;241;43m=\u001b[39;49m\u001b[43mConversation\u001b[49m\u001b[43m(\u001b[49m\u001b[43m)\u001b[49m\u001b[43m,\u001b[49m\n\u001b[0;32m      4\u001b[0m \u001b[43m    \u001b[49m\u001b[43mtoolkit\u001b[49m\u001b[38;5;241;43m=\u001b[39;49m\u001b[43maccessibility_tool\u001b[49m\n\u001b[0;32m      5\u001b[0m \u001b[43m)\u001b[49m\n",
      "File \u001b[1;32m~\\anaconda3\\envs\\swarmauri-0.4.3\\Lib\\site-packages\\pydantic\\main.py:212\u001b[0m, in \u001b[0;36mBaseModel.__init__\u001b[1;34m(self, **data)\u001b[0m\n\u001b[0;32m    210\u001b[0m \u001b[38;5;66;03m# `__tracebackhide__` tells pytest and some other tools to omit this function from tracebacks\u001b[39;00m\n\u001b[0;32m    211\u001b[0m __tracebackhide__ \u001b[38;5;241m=\u001b[39m \u001b[38;5;28;01mTrue\u001b[39;00m\n\u001b[1;32m--> 212\u001b[0m validated_self \u001b[38;5;241m=\u001b[39m \u001b[38;5;28;43mself\u001b[39;49m\u001b[38;5;241;43m.\u001b[39;49m\u001b[43m__pydantic_validator__\u001b[49m\u001b[38;5;241;43m.\u001b[39;49m\u001b[43mvalidate_python\u001b[49m\u001b[43m(\u001b[49m\u001b[43mdata\u001b[49m\u001b[43m,\u001b[49m\u001b[43m \u001b[49m\u001b[43mself_instance\u001b[49m\u001b[38;5;241;43m=\u001b[39;49m\u001b[38;5;28;43mself\u001b[39;49m\u001b[43m)\u001b[49m\n\u001b[0;32m    213\u001b[0m \u001b[38;5;28;01mif\u001b[39;00m \u001b[38;5;28mself\u001b[39m \u001b[38;5;129;01mis\u001b[39;00m \u001b[38;5;129;01mnot\u001b[39;00m validated_self:\n\u001b[0;32m    214\u001b[0m     warnings\u001b[38;5;241m.\u001b[39mwarn(\n\u001b[0;32m    215\u001b[0m         \u001b[38;5;124m'\u001b[39m\u001b[38;5;124mA custom validator is returning a value other than `self`.\u001b[39m\u001b[38;5;130;01m\\n\u001b[39;00m\u001b[38;5;124m'\u001b[39m\n\u001b[0;32m    216\u001b[0m         \u001b[38;5;124m\"\u001b[39m\u001b[38;5;124mReturning anything other than `self` from a top level model validator isn\u001b[39m\u001b[38;5;124m'\u001b[39m\u001b[38;5;124mt supported when validating via `__init__`.\u001b[39m\u001b[38;5;130;01m\\n\u001b[39;00m\u001b[38;5;124m\"\u001b[39m\n\u001b[0;32m    217\u001b[0m         \u001b[38;5;124m'\u001b[39m\u001b[38;5;124mSee the `model_validator` docs (https://docs.pydantic.dev/latest/concepts/validators/#model-validators) for more details.\u001b[39m\u001b[38;5;124m'\u001b[39m,\n\u001b[0;32m    218\u001b[0m         category\u001b[38;5;241m=\u001b[39m\u001b[38;5;28;01mNone\u001b[39;00m,\n\u001b[0;32m    219\u001b[0m     )\n",
      "\u001b[1;31mValidationError\u001b[0m: 1 validation error for ToolAgent\ntoolkit\n  Input should be a valid dictionary or instance of Toolkit [type=model_type, input_value=AccessibilityToolkit(name...ired=True, enum=None)])), input_type=AccessibilityToolkit]\n    For further information visit https://errors.pydantic.dev/2.9/v/model_type"
     ]
    }
   ],
   "source": [
    "tool_agent = ToolAgent(\n",
    "    llm=tool_model,\n",
    "    conversation=Conversation(),\n",
    "    toolkit=accessibility_tool\n",
    ")"
   ]
  },
  {
   "cell_type": "markdown",
   "metadata": {},
   "source": [
    "### Define the function to be executed for the gradio interface"
   ]
  },
  {
   "cell_type": "code",
   "execution_count": 11,
   "metadata": {},
   "outputs": [
    {
     "name": "stdout",
     "output_type": "stream",
     "text": [
      "Running on local URL:  http://127.0.0.1:7860\n",
      "IMPORTANT: You are using gradio version 4.26.0, however version 4.29.0 is available, please upgrade.\n",
      "--------\n",
      "Running on public URL: https://10f57887e58a91b557.gradio.live\n",
      "\n",
      "This share link expires in 72 hours. For free permanent hosting and GPU upgrades, run `gradio deploy` from Terminal to deploy to Spaces (https://huggingface.co/spaces)\n"
     ]
    },
    {
     "data": {
      "text/html": [
       "<div><iframe src=\"https://10f57887e58a91b557.gradio.live\" width=\"100%\" height=\"500\" allow=\"autoplay; camera; microphone; clipboard-read; clipboard-write;\" frameborder=\"0\" allowfullscreen></iframe></div>"
      ],
      "text/plain": [
       "<IPython.core.display.HTML object>"
      ]
     },
     "metadata": {},
     "output_type": "display_data"
    }
   ],
   "source": [
    "# Define the function to be executed for the Gradio interface\n",
    "def tool_agent_interface(input_text, history):\n",
    "    # Directly pass the input_text (string) to tool_agent.exec\n",
    "    result = tool_agent.exec(input_text)\n",
    "    return result\n",
    "\n",
    "# Initialize the Gradio interface\n",
    "demo = gr.ChatInterface(tool_agent_interface)\n",
    "\n",
    "if __name__ == \"__main__\":\n",
    "    demo.launch(share=True)\n"
   ]
  },
  {
   "cell_type": "code",
   "execution_count": null,
   "metadata": {},
   "outputs": [],
   "source": []
  }
 ],
 "metadata": {
  "kernelspec": {
   "display_name": "swarmauri(0.4.3)",
   "language": "python",
   "name": "swarmauri-0.4.3"
  },
  "language_info": {
   "codemirror_mode": {
    "name": "ipython",
    "version": 3
   },
   "file_extension": ".py",
   "mimetype": "text/x-python",
   "name": "python",
   "nbconvert_exporter": "python",
   "pygments_lexer": "ipython3",
   "version": "3.11.9"
  }
 },
 "nbformat": 4,
 "nbformat_minor": 4
}
