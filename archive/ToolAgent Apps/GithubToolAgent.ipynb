{
 "cells": [
  {
   "cell_type": "markdown",
   "metadata": {},
   "source": [
    "### Import necessary libraries"
   ]
  },
  {
   "cell_type": "code",
   "execution_count": 1,
   "metadata": {},
   "outputs": [
    {
     "name": "stderr",
     "output_type": "stream",
     "text": [
      "WARNING:root:Subclass Parameter does not have a type annotation\n"
     ]
    }
   ],
   "source": [
    "import os\n",
    "import gradio as gr\n",
    "from dotenv import load_dotenv\n",
    "from swarmauri.standard.llms.concrete.OpenAIToolModel import OpenAIToolModel\n",
    "from swarmauri.standard.agents.concrete.ToolAgent import ToolAgent\n",
    "from swarmauri.community.toolkits.concrete.GithubToolkit import GithubToolkit\n",
    "from swarmauri.standard.conversations.concrete.Conversation import Conversation\n",
    "from swarmauri.standard.toolkits.concrete.Toolkit import Toolkit"
   ]
  },
  {
   "cell_type": "markdown",
   "metadata": {},
   "source": [
    "### Fetch the API key from environment variables or define it directly (Not recommended for production)"
   ]
  },
  {
   "cell_type": "code",
   "execution_count": 2,
   "metadata": {},
   "outputs": [],
   "source": [
    "load_dotenv()\n",
    "API_KEY = os.getenv('OPENAPI_API_KEY')\n",
    "GITHUB_ACCESS_TOKEN = os.getenv('GITHUB_ACCESS_TOKEN')"
   ]
  },
  {
   "cell_type": "markdown",
   "metadata": {},
   "source": [
    "### Initialize the OpenAIToolModel"
   ]
  },
  {
   "cell_type": "code",
   "execution_count": 3,
   "metadata": {},
   "outputs": [],
   "source": [
    "tool_model = OpenAIToolModel(api_key=API_KEY)"
   ]
  },
  {
   "cell_type": "code",
   "execution_count": 4,
   "metadata": {},
   "outputs": [],
   "source": [
    "github_tool = GithubToolkit(token=GITHUB_ACCESS_TOKEN)"
   ]
  },
  {
   "cell_type": "code",
   "execution_count": 5,
   "metadata": {},
   "outputs": [],
   "source": [
    "toolkit = Toolkit(tools={\n",
    "    \"GithubRepoTool\": github_tool.github_repo_tool,\n",
    "    \"GithubIssueTool\": github_tool.github_issue_tool,  \n",
    "    \"GithubPRTool\": github_tool.github_pr_tool,\n",
    "    \"GithubBranchTool\": github_tool.github_branch_tool,\n",
    "    \"GithubCommitTool\": github_tool.github_commit_tool\n",
    "})"
   ]
  },
  {
   "cell_type": "markdown",
   "metadata": {},
   "source": [
    "### Create a ToolAgent with the OpenAIToolModel, Conversation, and Toolkit"
   ]
  },
  {
   "cell_type": "code",
   "execution_count": 6,
   "metadata": {},
   "outputs": [],
   "source": [
    "tool_agent = ToolAgent(\n",
    "    llm=tool_model,\n",
    "    conversation=Conversation(),\n",
    "    toolkit=toolkit\n",
    ")"
   ]
  },
  {
   "cell_type": "code",
   "execution_count": 7,
   "metadata": {},
   "outputs": [
    {
     "name": "stdout",
     "output_type": "stream",
     "text": [
      "Running on local URL:  http://127.0.0.1:7864\n",
      "Running on public URL: https://e9aa474ecded634c54.gradio.live\n",
      "\n",
      "This share link expires in 72 hours. For free permanent hosting and GPU upgrades, run `gradio deploy` from Terminal to deploy to Spaces (https://huggingface.co/spaces)\n"
     ]
    },
    {
     "data": {
      "text/html": [
       "<div><iframe src=\"https://e9aa474ecded634c54.gradio.live\" width=\"100%\" height=\"500\" allow=\"autoplay; camera; microphone; clipboard-read; clipboard-write;\" frameborder=\"0\" allowfullscreen></iframe></div>"
      ],
      "text/plain": [
       "<IPython.core.display.HTML object>"
      ]
     },
     "metadata": {},
     "output_type": "display_data"
    }
   ],
   "source": [
    "# Define the function to be executed for the Gradio interface\n",
    "def tool_agent_interface(input_text, history):\n",
    "    # Directly pass the input_text (string) to tool_agent.exec\n",
    "    result = tool_agent.exec(input_text)\n",
    "    return result\n",
    "\n",
    "# Initialize the Gradio interface\n",
    "demo = gr.ChatInterface(tool_agent_interface)\n",
    "\n",
    "if __name__ == \"__main__\":\n",
    "    demo.launch(share=True)\n"
   ]
  }
 ],
 "metadata": {
  "kernelspec": {
   "display_name": "swarmauri-0.4.dev1",
   "language": "python",
   "name": "python3"
  },
  "language_info": {
   "codemirror_mode": {
    "name": "ipython",
    "version": 3
   },
   "file_extension": ".py",
   "mimetype": "text/x-python",
   "name": "python",
   "nbconvert_exporter": "python",
   "pygments_lexer": "ipython3",
   "version": "3.10.14"
  }
 },
 "nbformat": 4,
 "nbformat_minor": 2
}
