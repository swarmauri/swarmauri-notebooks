{
 "cells": [
  {
   "cell_type": "markdown",
   "id": "7a3027f7-19c0-4b21-9b25-201f9c43fb45",
   "metadata": {},
   "source": [
    "# Import Dependencies"
   ]
  },
  {
   "cell_type": "code",
   "execution_count": null,
   "id": "8194383b-eb08-4f47-ae65-7ba38534a646",
   "metadata": {},
   "outputs": [],
   "source": [
    "from swarmauri.standard.chains.concrete.ChainStep import ChainStep\n",
    "from swarmauri.standard.tools.concrete.AdditionTool import AdditionTool"
   ]
  },
  {
   "cell_type": "markdown",
   "id": "513beb50-479c-4910-b590-32dfdb8ae245",
   "metadata": {},
   "source": [
    "# Instantiate ChainStep"
   ]
  },
  {
   "cell_type": "code",
   "execution_count": null,
   "id": "f857ed1b-146b-42c8-aef5-390ad8732216",
   "metadata": {},
   "outputs": [],
   "source": [
    "tool = AdditionTool() \n",
    "chain = ChainStep(key='test', method=tool, args=(1, 2), kwargs={}, ref=None)  "
   ]
  },
  {
   "cell_type": "markdown",
   "id": "a84ae987-d271-454c-a9bd-c563eaabadb9",
   "metadata": {},
   "source": [
    "# Resource and Type of Chain"
   ]
  },
  {
   "cell_type": "code",
   "execution_count": null,
   "id": "b2ebdd3a-c00b-4ab1-9f61-a58d0006d254",
   "metadata": {},
   "outputs": [],
   "source": [
    "chain.resource"
   ]
  },
  {
   "cell_type": "code",
   "execution_count": null,
   "id": "ecfcd3bc-c8a4-4a91-951f-95ed5aae14c5",
   "metadata": {},
   "outputs": [],
   "source": [
    "chain.type"
   ]
  },
  {
   "cell_type": "markdown",
   "id": "0bd5b207-2cf1-4b79-b146-bac9974d24cd",
   "metadata": {},
   "source": [
    "# Calling chain with method arguments"
   ]
  },
  {
   "cell_type": "code",
   "execution_count": null,
   "id": "819ba3d5-49f7-40e8-990f-da3802b9064b",
   "metadata": {},
   "outputs": [],
   "source": [
    "chain.method(*chain.args, **chain.kwargs) "
   ]
  },
  {
   "cell_type": "markdown",
   "id": "d1160c98-77b4-4c32-ad4a-0735e44c90a7",
   "metadata": {},
   "source": [
    "# Serialization"
   ]
  },
  {
   "cell_type": "code",
   "execution_count": null,
   "id": "fa9fa869-4ee6-492c-bd83-2ab2b2ecfc37",
   "metadata": {},
   "outputs": [],
   "source": [
    "tool = AdditionTool()\n",
    "args = (1,2)\n",
    "kwargs = {}\n",
    "step = ChainStep(key='test', method=tool, args=args, kwargs=kwargs, ref=None)\n",
    "step.id == ChainStep.model_validate_json(step.model_dump_json()).id"
   ]
  }
 ],
 "metadata": {
  "kernelspec": {
   "display_name": "Python 3 (ipykernel)",
   "language": "python",
   "name": "python3"
  },
  "language_info": {
   "codemirror_mode": {
    "name": "ipython",
    "version": 3
   },
   "file_extension": ".py",
   "mimetype": "text/x-python",
   "name": "python",
   "nbconvert_exporter": "python",
   "pygments_lexer": "ipython3",
   "version": "3.10.14"
  }
 },
 "nbformat": 4,
 "nbformat_minor": 5
}
