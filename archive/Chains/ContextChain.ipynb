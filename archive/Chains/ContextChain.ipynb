{
 "cells": [
  {
   "cell_type": "markdown",
   "id": "f7aea0a4-c5e0-473b-b382-305d9880624c",
   "metadata": {},
   "source": [
    "# Import Dependencies"
   ]
  },
  {
   "cell_type": "code",
   "execution_count": null,
   "id": "b2d18360-a11a-49df-8708-781d19cf53c3",
   "metadata": {},
   "outputs": [],
   "source": [
    "from swarmauri.standard.chains.concrete.ContextChain import ContextChain\n",
    "from swarmauri.standard.tools.concrete.AdditionTool import AdditionTool"
   ]
  },
  {
   "cell_type": "markdown",
   "id": "bf5149f8-91f9-4926-a813-21625b04d060",
   "metadata": {},
   "source": [
    "# Instantiate Context"
   ]
  },
  {
   "cell_type": "code",
   "execution_count": null,
   "id": "de22a10c-7510-4255-8fae-78603ead0793",
   "metadata": {},
   "outputs": [],
   "source": [
    "chain = ContextChain()"
   ]
  },
  {
   "cell_type": "markdown",
   "id": "fd90d2dc-8852-4051-96de-de09c9cbc452",
   "metadata": {},
   "source": [
    "# Type and Resource of Chain"
   ]
  },
  {
   "cell_type": "code",
   "execution_count": null,
   "id": "340d796e-0575-4618-8813-2d8a64bc80e6",
   "metadata": {},
   "outputs": [],
   "source": [
    "chain.resource"
   ]
  },
  {
   "cell_type": "code",
   "execution_count": null,
   "id": "073ecf5f-7ea5-4f84-8292-84706efa9190",
   "metadata": {},
   "outputs": [],
   "source": [
    "chain.type"
   ]
  },
  {
   "cell_type": "markdown",
   "id": "eab00e93-622b-4fce-badb-237a278b7873",
   "metadata": {},
   "source": [
    "# Chain execute state and value"
   ]
  },
  {
   "cell_type": "code",
   "execution_count": null,
   "id": "205cafeb-7aef-4a3c-9b0e-b84d17f3d087",
   "metadata": {},
   "outputs": [],
   "source": [
    "ref = 'test_result' \n",
    "args = (1, 2) \n",
    "kwargs = {} \n",
    "tool = AdditionTool(name='AdditionTool')  \n",
    "chain.add_step(key='key_1', method=tool, args=args, kwargs=kwargs, ref='test_result') "
   ]
  },
  {
   "cell_type": "code",
   "execution_count": null,
   "id": "2580fb6f-d7b7-4b94-b49b-b11e2d258c33",
   "metadata": {},
   "outputs": [],
   "source": [
    "chain.execute() "
   ]
  },
  {
   "cell_type": "code",
   "execution_count": null,
   "id": "e6898906-2298-4bdb-b848-ce6d99f63c51",
   "metadata": {},
   "outputs": [],
   "source": [
    "chain.context\n"
   ]
  },
  {
   "cell_type": "code",
   "execution_count": null,
   "id": "2ed318b9-d69a-436d-996d-71703bbf0b67",
   "metadata": {},
   "outputs": [],
   "source": [
    "chain.id == ContextChain.model_validate_json(chain.model_dump_json()).id"
   ]
  }
 ],
 "metadata": {
  "kernelspec": {
   "display_name": "Python 3 (ipykernel)",
   "language": "python",
   "name": "python3"
  },
  "language_info": {
   "codemirror_mode": {
    "name": "ipython",
    "version": 3
   },
   "file_extension": ".py",
   "mimetype": "text/x-python",
   "name": "python",
   "nbconvert_exporter": "python",
   "pygments_lexer": "ipython3",
   "version": "3.10.14"
  }
 },
 "nbformat": 4,
 "nbformat_minor": 5
}
