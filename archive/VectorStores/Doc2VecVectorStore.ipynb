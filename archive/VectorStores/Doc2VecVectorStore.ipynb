{
 "cells": [
  {
   "cell_type": "markdown",
   "id": "f09bf289-16f2-424a-8c1a-07337639053e",
   "metadata": {},
   "source": [
    "# Import Dependencies"
   ]
  },
  {
   "cell_type": "markdown",
   "id": "bc49a348",
   "metadata": {},
   "source": []
  },
  {
   "cell_type": "code",
   "execution_count": 8,
   "id": "ba63fdd9-32fb-45ee-9bc0-13dc916c5f01",
   "metadata": {},
   "outputs": [],
   "source": [
    "from swarmauri.standard.documents.concrete.Document import Document\n",
    "from swarmauri.standard.vector_stores.concrete.Doc2VecVectorStore import Doc2VecVectorStore"
   ]
  },
  {
   "cell_type": "markdown",
   "id": "f85a3eb7-5601-43af-8b75-ae8312073067",
   "metadata": {},
   "source": [
    "# Instantiate VectorStore"
   ]
  },
  {
   "cell_type": "code",
   "execution_count": 2,
   "id": "545e59e6-54ea-485f-b5fa-2033a2fa5d1b",
   "metadata": {},
   "outputs": [],
   "source": [
    "vs = Doc2VecVectorStore()"
   ]
  },
  {
   "cell_type": "markdown",
   "id": "35b341f8-808a-41c5-bdc5-10ed44bee7b9",
   "metadata": {},
   "source": [
    "# Type and Resource of VectorStore"
   ]
  },
  {
   "cell_type": "code",
   "execution_count": 3,
   "id": "48996351-f9df-4e39-b404-4b824bfb7668",
   "metadata": {},
   "outputs": [
    {
     "data": {
      "text/plain": [
       "'VectorStore'"
      ]
     },
     "execution_count": 3,
     "metadata": {},
     "output_type": "execute_result"
    }
   ],
   "source": [
    "vs.resource"
   ]
  },
  {
   "cell_type": "code",
   "execution_count": 4,
   "id": "0803afd8-56f8-4eac-b2cf-f07d3a300097",
   "metadata": {},
   "outputs": [
    {
     "data": {
      "text/plain": [
       "'Embedding'"
      ]
     },
     "execution_count": 4,
     "metadata": {},
     "output_type": "execute_result"
    }
   ],
   "source": [
    "vs.embedder.resource"
   ]
  },
  {
   "cell_type": "code",
   "execution_count": 12,
   "execution_count": 5,
   "id": "aeef19b2-5443-404c-ba22-50385db8e66f",
   "metadata": {},
   "outputs": [
    {
     "data": {
      "text/plain": [
       "'Doc2VecVectorStore'"
      ]
     },
     "execution_count": 5,
     "metadata": {},
     "output_type": "execute_result"
    }
   ],
   "source": [
    "vs.type"
   ]
  },
  {
   "cell_type": "markdown",
   "id": "6ff27c8c-a3b9-4468-85ec-8eceb4e4f100",
   "metadata": {},
   "source": [
    "# Serialization"
   ]
  },
  {
   "cell_type": "code",
   "execution_count": 6,
   "id": "1908aa03-babe-45bc-9add-2a7c2f48556b",
   "metadata": {},
   "outputs": [
    {
     "data": {
      "text/plain": [
       "True"
      ]
     },
     "execution_count": 13,
     "metadata": {},
     "output_type": "execute_result"
    }
   ],
   "source": [
    "vs.id == Doc2VecVectorStore.model_validate_json(vs.model_dump_json()).id"
   ]
  },
  {
   "cell_type": "markdown",
   "id": "f5a4bdb0-6967-4ae3-a65e-0a21fd2bbdf8",
   "metadata": {},
   "source": [
    "# Retrieving top documents"
   ]
  },
  {
   "cell_type": "code",
   "execution_count": 14
   "id": "f31702a0-7cfd-493e-88fa-4760170791d1",
   "metadata": {},
   "outputs": [
    {
     "data": {
      "text/plain": [
       "2"
      ]
     },
     "execution_count": 7,
     "metadata": {},
     "output_type": "execute_result"
    }
   ],
   "source": [
    "documents = [Document(content=\"test\"),\n",
    "\t     Document(content='test1'),\n",
    "\t     Document(content='test2'),\n",
    "\t     Document(content='test3')]\n",
    "vs.add_documents(documents) \n",
    "len(vs.retrieve(query='test', top_k=2))"
   ]
  }
 ],
 "metadata": {
  "kernelspec": {
   "display_name": "swarmauri(0.4.1)",
   "language": "python",
   "name": "swarmauri-0.4.1"
  },
  "language_info": {
   "codemirror_mode": {
    "name": "ipython",
    "version": 3
   },
   "file_extension": ".py",
   "mimetype": "text/x-python",
   "name": "python",
   "nbconvert_exporter": "python",
   "pygments_lexer": "ipython3",
   "version": "3.10.14"
  }
 },
 "nbformat": 4,
 "nbformat_minor": 5
}
