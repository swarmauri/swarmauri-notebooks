{
 "cells": [
  {
   "cell_type": "markdown",
   "id": "eb2fcd83-3a96-4c61-ba72-be2c556fb78c",
   "metadata": {},
   "source": [
    "# Import Dependencies"
   ]
  },
  {
   "cell_type": "code",
   "execution_count": 13,
   "id": "e5cc818a-cae4-41f8-b68a-466f440c7677",
   "metadata": {},
   "outputs": [],
   "source": [
    "from swarmauri.standard.tools.concrete.CalculatorTool import CalculatorTool"
   ]
  },
  {
   "cell_type": "markdown",
   "id": "67918706-494f-452f-aec2-a2074f62b952",
   "metadata": {},
   "source": [
    "# Instantiate Tool "
   ]
  },
  {
   "cell_type": "code",
   "execution_count": 5,
   "id": "43971cd5-ba09-41c0-8975-2e875a46b77c",
   "metadata": {},
   "outputs": [],
   "source": [
    "tool = CalculatorTool() "
   ]
  },
  {
   "cell_type": "markdown",
   "id": "7161af11-444d-4ec3-8123-a65fe071c144",
   "metadata": {},
   "source": [
    "# Resource, Path, Id of Tool "
   ]
  },
  {
   "cell_type": "code",
   "execution_count": 6,
   "id": "2956d41e-32d2-40f3-b39d-c22d7e77e548",
   "metadata": {},
   "outputs": [
    {
     "data": {
      "text/plain": [
       "'Tool'"
      ]
     },
     "execution_count": 6,
     "metadata": {},
     "output_type": "execute_result"
    }
   ],
   "source": [
    "tool.resource"
   ]
  },
  {
   "cell_type": "code",
   "execution_count": 7,
   "id": "8fe9c047-dd35-472b-90fb-91a275bdfe88",
   "metadata": {},
   "outputs": [
    {
     "data": {
      "text/plain": [
       "str"
      ]
     },
     "execution_count": 7,
     "metadata": {},
     "output_type": "execute_result"
    }
   ],
   "source": [
    "type(tool.swm_path)"
   ]
  },
  {
   "cell_type": "code",
   "execution_count": 8,
   "id": "a2329bcc-8669-4e54-8bae-330058910560",
   "metadata": {},
   "outputs": [
    {
     "data": {
      "text/plain": [
       "str"
      ]
     },
     "execution_count": 8,
     "metadata": {},
     "output_type": "execute_result"
    }
   ],
   "source": [
    "type(tool.id) "
   ]
  },
  {
   "cell_type": "markdown",
   "id": "0eea703e-897b-4e78-be8b-c473495dd759",
   "metadata": {},
   "source": [
    "# Working of Tool "
   ]
  },
  {
   "cell_type": "code",
   "execution_count": 9,
   "id": "7600a589-867f-45bb-981a-79af1b7dd74f",
   "metadata": {},
   "outputs": [
    {
     "data": {
      "text/plain": [
       "'5'"
      ]
     },
     "execution_count": 9,
     "metadata": {},
     "output_type": "execute_result"
    }
   ],
   "source": [
    "tool('add', 2, 3) "
   ]
  },
  {
   "cell_type": "code",
   "execution_count": 10,
   "id": "eb3ccde0-91e2-405c-8432-eaa05bd425e6",
   "metadata": {},
   "outputs": [
    {
     "data": {
      "text/plain": [
       "'15'"
      ]
     },
     "execution_count": 10,
     "metadata": {},
     "output_type": "execute_result"
    }
   ],
   "source": [
    "tool('subtract', 17, 2)"
   ]
  },
  {
   "cell_type": "code",
   "execution_count": 11,
   "id": "247b25c5-6973-4304-bec5-5aa9f109ca37",
   "metadata": {},
   "outputs": [
    {
     "data": {
      "text/plain": [
       "'500'"
      ]
     },
     "execution_count": 11,
     "metadata": {},
     "output_type": "execute_result"
    }
   ],
   "source": [
    "tool('multiply', 100, 5)"
   ]
  },
  {
   "cell_type": "code",
   "execution_count": 12,
   "id": "0326368c-467c-4fd3-b7cc-591c91acaf3e",
   "metadata": {},
   "outputs": [
    {
     "data": {
      "text/plain": [
       "'50.0'"
      ]
     },
     "execution_count": 12,
     "metadata": {},
     "output_type": "execute_result"
    }
   ],
   "source": [
    "tool('divide', 100, 2)"
   ]
  },
  {
   "cell_type": "code",
   "execution_count": null,
   "id": "88d7f6a0-65d9-4c69-a502-7ef8ee75da88",
   "metadata": {},
   "outputs": [],
   "source": []
  },
  {
   "cell_type": "code",
   "execution_count": null,
   "id": "5a29e4f9-9513-49d5-8ccb-044414fec631",
   "metadata": {},
   "outputs": [],
   "source": []
  }
 ],
 "metadata": {
  "kernelspec": {
   "display_name": "Python 3 (ipykernel)",
   "language": "python",
   "name": "python3"
  },
  "language_info": {
   "codemirror_mode": {
    "name": "ipython",
    "version": 3
   },
   "file_extension": ".py",
   "mimetype": "text/x-python",
   "name": "python",
   "nbconvert_exporter": "python",
   "pygments_lexer": "ipython3",
   "version": "3.10.14"
  }
 },
 "nbformat": 4,
 "nbformat_minor": 5
}
