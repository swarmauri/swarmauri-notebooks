{
 "cells": [
  {
   "cell_type": "markdown",
   "id": "8d924d1b-09e2-482c-b710-8ec4afd82c2b",
   "metadata": {},
   "source": [
    "# Import Dependencies"
   ]
  },
  {
   "cell_type": "code",
   "execution_count": 3,
   "id": "40388eba-5cab-4871-a458-dc2d02fceb44",
   "metadata": {},
   "outputs": [],
   "source": [
    "from swarmauri.standard.tools.concrete.CodeInterpreterTool import CodeInterpreterTool"
   ]
  },
  {
   "cell_type": "markdown",
   "id": "97661568-f5a9-4abe-8e36-d57865c1e339",
   "metadata": {},
   "source": [
    "# Instantiate Tool "
   ]
  },
  {
   "cell_type": "code",
   "execution_count": 4,
   "id": "d4a8c605-cb51-4eec-9597-5724f6d344a0",
   "metadata": {},
   "outputs": [],
   "source": [
    "tool = CodeInterpreterTool() "
   ]
  },
  {
   "cell_type": "markdown",
   "id": "4675ec8f-b10e-4e95-a35c-b4ef54f632fe",
   "metadata": {},
   "source": [
    "# Resource, Path, Id of Tool "
   ]
  },
  {
   "cell_type": "code",
   "execution_count": 5,
   "id": "2a83ba64-1c60-459f-973b-0d08b29c1b4e",
   "metadata": {},
   "outputs": [
    {
     "data": {
      "text/plain": [
       "'Tool'"
      ]
     },
     "execution_count": 5,
     "metadata": {},
     "output_type": "execute_result"
    }
   ],
   "source": [
    "tool.resource"
   ]
  },
  {
   "cell_type": "code",
   "execution_count": 6,
   "id": "f03fd320-d800-4946-99cf-e8decde23ae0",
   "metadata": {},
   "outputs": [
    {
     "data": {
      "text/plain": [
       "str"
      ]
     },
     "execution_count": 6,
     "metadata": {},
     "output_type": "execute_result"
    }
   ],
   "source": [
    "type(tool.swm_path)"
   ]
  },
  {
   "cell_type": "code",
   "execution_count": 7,
   "id": "27f903e0-17e3-416b-9719-b4afbd03be63",
   "metadata": {},
   "outputs": [
    {
     "data": {
      "text/plain": [
       "str"
      ]
     },
     "execution_count": 7,
     "metadata": {},
     "output_type": "execute_result"
    }
   ],
   "source": [
    "type(tool.id) "
   ]
  },
  {
   "cell_type": "markdown",
   "id": "22db8f2c-48be-4b2c-b7c5-5cdb244d5933",
   "metadata": {},
   "source": [
    "# Working of Tool"
   ]
  },
  {
   "cell_type": "code",
   "execution_count": 8,
   "id": "f22d07b3-c1e3-4b7b-906d-10917b3fd203",
   "metadata": {},
   "outputs": [],
   "source": [
    "python_code = \"print('hello world')\""
   ]
  },
  {
   "cell_type": "code",
   "execution_count": 10,
   "id": "2fe83b23-56c2-4ce1-95b4-9b9c787ece51",
   "metadata": {},
   "outputs": [
    {
     "data": {
      "text/plain": [
       "'hello world\\n'"
      ]
     },
     "execution_count": 10,
     "metadata": {},
     "output_type": "execute_result"
    }
   ],
   "source": [
    "tool(python_code) "
   ]
  },
  {
   "cell_type": "code",
   "execution_count": null,
   "id": "e4944710-0eb7-41e9-b603-5a291b87fa84",
   "metadata": {},
   "outputs": [],
   "source": []
  }
 ],
 "metadata": {
  "kernelspec": {
   "display_name": "Python 3 (ipykernel)",
   "language": "python",
   "name": "python3"
  },
  "language_info": {
   "codemirror_mode": {
    "name": "ipython",
    "version": 3
   },
   "file_extension": ".py",
   "mimetype": "text/x-python",
   "name": "python",
   "nbconvert_exporter": "python",
   "pygments_lexer": "ipython3",
   "version": "3.10.14"
  }
 },
 "nbformat": 4,
 "nbformat_minor": 5
}
