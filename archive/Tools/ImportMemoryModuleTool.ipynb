{
 "cells": [
  {
   "cell_type": "markdown",
   "id": "5549ffe2-a21f-4b29-93b3-a05ff7e42dca",
   "metadata": {},
   "source": [
    "# Import Dependencies"
   ]
  },
  {
   "cell_type": "code",
   "execution_count": 3,
   "id": "e2576c37-5f7d-4809-9d27-bdbf838760c8",
   "metadata": {},
   "outputs": [],
   "source": [
    "from swarmauri.standard.tools.concrete.ImportMemoryModuleTool import ImportMemoryModuleTool"
   ]
  },
  {
   "cell_type": "markdown",
   "id": "3c378adb-2d1d-4f7c-ac8c-529ffba5053c",
   "metadata": {},
   "source": [
    "# Instantiate Tool "
   ]
  },
  {
   "cell_type": "code",
   "execution_count": 4,
   "id": "a87b05d8-7171-409d-85c4-462973414cf4",
   "metadata": {},
   "outputs": [],
   "source": [
    "tool = ImportMemoryModuleTool() "
   ]
  },
  {
   "cell_type": "markdown",
   "id": "8b1c4e97-9569-493b-ae65-f690d4359faf",
   "metadata": {},
   "source": [
    "# Resource, Path, Id of Tool "
   ]
  },
  {
   "cell_type": "code",
   "execution_count": 5,
   "id": "e234eaf6-4341-49ee-9b33-637c69f34e8b",
   "metadata": {},
   "outputs": [
    {
     "data": {
      "text/plain": [
       "'Tool'"
      ]
     },
     "execution_count": 5,
     "metadata": {},
     "output_type": "execute_result"
    }
   ],
   "source": [
    "tool.resource"
   ]
  },
  {
   "cell_type": "code",
   "execution_count": 6,
   "id": "bb79b909-97bb-4cf2-8224-317dfbaa983b",
   "metadata": {},
   "outputs": [
    {
     "data": {
      "text/plain": [
       "str"
      ]
     },
     "execution_count": 6,
     "metadata": {},
     "output_type": "execute_result"
    }
   ],
   "source": [
    "type(tool.swm_path)"
   ]
  },
  {
   "cell_type": "code",
   "execution_count": 7,
   "id": "459b4e9f-2048-4c23-af19-34f50e5d1753",
   "metadata": {},
   "outputs": [
    {
     "data": {
      "text/plain": [
       "str"
      ]
     },
     "execution_count": 7,
     "metadata": {},
     "output_type": "execute_result"
    }
   ],
   "source": [
    "type(tool.id) "
   ]
  },
  {
   "cell_type": "markdown",
   "id": "688cb597-42f4-4514-909d-30a3d9449703",
   "metadata": {},
   "source": [
    "# Working of Tool "
   ]
  },
  {
   "cell_type": "code",
   "execution_count": 8,
   "id": "c9181b6d-702d-41cf-b343-0c4bc9859d7e",
   "metadata": {},
   "outputs": [],
   "source": [
    "name_of_new_module = 'test_module' "
   ]
  },
  {
   "cell_type": "code",
   "execution_count": 9,
   "id": "a4795a8f-5201-4c55-9ff0-9c1c1276c487",
   "metadata": {},
   "outputs": [],
   "source": [
    "code_snippet = \"def example_function():\" \\\n",
    "            \"\\t\\treturn 'This function is imported from memory.'\""
   ]
  },
  {
   "cell_type": "code",
   "execution_count": 10,
   "id": "b6d00d97-c99d-4520-ad26-37a3a1a31630",
   "metadata": {},
   "outputs": [],
   "source": [
    "dot_separated_package_page = \"test_package\""
   ]
  },
  {
   "cell_type": "code",
   "execution_count": 11,
   "id": "7456de99-c4da-47db-b645-2fde03b6ba9a",
   "metadata": {},
   "outputs": [],
   "source": [
    "result = tool(name_of_new_module, code_snippet, dot_separated_package_page)"
   ]
  },
  {
   "cell_type": "code",
   "execution_count": 12,
   "id": "4e3ba9f6-c64d-436a-b5fb-ca3af05221e0",
   "metadata": {},
   "outputs": [
    {
     "data": {
      "text/plain": [
       "'This function is imported from memory.'"
      ]
     },
     "execution_count": 12,
     "metadata": {},
     "output_type": "execute_result"
    }
   ],
   "source": [
    "from test_package.test_module import example_function \n",
    "example_function() "
   ]
  },
  {
   "cell_type": "code",
   "execution_count": null,
   "id": "81945d2b-625d-4978-8fb1-5b67916dee8e",
   "metadata": {},
   "outputs": [],
   "source": []
  }
 ],
 "metadata": {
  "kernelspec": {
   "display_name": "Python 3 (ipykernel)",
   "language": "python",
   "name": "python3"
  },
  "language_info": {
   "codemirror_mode": {
    "name": "ipython",
    "version": 3
   },
   "file_extension": ".py",
   "mimetype": "text/x-python",
   "name": "python",
   "nbconvert_exporter": "python",
   "pygments_lexer": "ipython3",
   "version": "3.10.14"
  }
 },
 "nbformat": 4,
 "nbformat_minor": 5
}
