{
 "cells": [
  {
   "cell_type": "markdown",
   "id": "9aaac44e-21f4-4106-b5dc-c8e1446e9616",
   "metadata": {},
   "source": [
    "# Import Dependencies"
   ]
  },
  {
   "cell_type": "code",
   "execution_count": 13,
   "id": "0a9b1f27-57f6-4c8f-9f1b-2b01fd48c12d",
   "metadata": {},
   "outputs": [],
   "source": [
    "from swarmauri.standard.tools.concrete.AdditionTool import AdditionTool"
   ]
  },
  {
   "cell_type": "markdown",
   "id": "d1cf7b44-1e09-4509-89d4-bd61499b66a5",
   "metadata": {},
   "source": [
    "# Instantiate Tool "
   ]
  },
  {
   "cell_type": "code",
   "execution_count": 7,
   "id": "08ad006c-5b80-44fd-9333-c897c0395d4a",
   "metadata": {},
   "outputs": [],
   "source": [
    "tool = AdditionTool() "
   ]
  },
  {
   "cell_type": "markdown",
   "id": "0d2d1290-1717-4a2e-9494-2a383023764d",
   "metadata": {},
   "source": [
    "# Resource, Path, Id of Tool "
   ]
  },
  {
   "cell_type": "code",
   "execution_count": 8,
   "id": "529af265-e1b1-4655-bab1-29555cac7fcb",
   "metadata": {},
   "outputs": [
    {
     "data": {
      "text/plain": [
       "'Tool'"
      ]
     },
     "execution_count": 8,
     "metadata": {},
     "output_type": "execute_result"
    }
   ],
   "source": [
    "tool.resource"
   ]
  },
  {
   "cell_type": "code",
   "execution_count": 9,
   "id": "0b1071ca-f8e8-47e0-b788-39860ff3746a",
   "metadata": {},
   "outputs": [
    {
     "data": {
      "text/plain": [
       "str"
      ]
     },
     "execution_count": 9,
     "metadata": {},
     "output_type": "execute_result"
    }
   ],
   "source": [
    "type(tool.swm_path)"
   ]
  },
  {
   "cell_type": "code",
   "execution_count": 10,
   "id": "3be5c457-f505-4fce-b080-72598007560d",
   "metadata": {},
   "outputs": [
    {
     "data": {
      "text/plain": [
       "str"
      ]
     },
     "execution_count": 10,
     "metadata": {},
     "output_type": "execute_result"
    }
   ],
   "source": [
    "type(tool.id) "
   ]
  },
  {
   "cell_type": "markdown",
   "id": "ffb2d380-c73c-4c7f-90a9-99696e2493a2",
   "metadata": {},
   "source": [
    "# Working of Tool "
   ]
  },
  {
   "cell_type": "code",
   "execution_count": 11,
   "id": "0c08738f-41db-472e-919b-ec286dc57090",
   "metadata": {},
   "outputs": [
    {
     "data": {
      "text/plain": [
       "'5'"
      ]
     },
     "execution_count": 11,
     "metadata": {},
     "output_type": "execute_result"
    }
   ],
   "source": [
    "tool(2, 3) "
   ]
  },
  {
   "cell_type": "code",
   "execution_count": 12,
   "id": "a6c60bd6-79a5-4230-b768-dafa2619d486",
   "metadata": {},
   "outputs": [
    {
     "data": {
      "text/plain": [
       "'20'"
      ]
     },
     "execution_count": 12,
     "metadata": {},
     "output_type": "execute_result"
    }
   ],
   "source": [
    "tool(10, 10) "
   ]
  },
  {
   "cell_type": "code",
   "execution_count": null,
   "id": "aa2e7938-8fe3-43a6-9756-8c7daf46c466",
   "metadata": {},
   "outputs": [],
   "source": []
  }
 ],
 "metadata": {
  "kernelspec": {
   "display_name": "Python 3 (ipykernel)",
   "language": "python",
   "name": "python3"
  },
  "language_info": {
   "codemirror_mode": {
    "name": "ipython",
    "version": 3
   },
   "file_extension": ".py",
   "mimetype": "text/x-python",
   "name": "python",
   "nbconvert_exporter": "python",
   "pygments_lexer": "ipython3",
   "version": "3.10.14"
  }
 },
 "nbformat": 4,
 "nbformat_minor": 5
}
