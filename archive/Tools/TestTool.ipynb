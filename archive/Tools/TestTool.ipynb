{
 "cells": [
  {
   "cell_type": "markdown",
   "id": "fa6612ef-931b-4f29-9ed5-d5ed897fed4f",
   "metadata": {},
   "source": [
    "# Import Dependencies"
   ]
  },
  {
   "cell_type": "code",
   "execution_count": 8,
   "id": "05a23743-8f6f-4681-8758-bc5d01f118bc",
   "metadata": {},
   "outputs": [],
   "source": [
    "from swarmauri.standard.tools.concrete.TestTool import TestTool "
   ]
  },
  {
   "cell_type": "markdown",
   "id": "19ff757c-f136-44aa-b81a-599223e6f2ac",
   "metadata": {},
   "source": [
    "# Instantiate TestTool"
   ]
  },
  {
   "cell_type": "code",
   "execution_count": 9,
   "id": "b262a089-42b1-4b57-a08f-a6bdeca02cfa",
   "metadata": {},
   "outputs": [],
   "source": [
    "tool = TestTool() "
   ]
  },
  {
   "cell_type": "markdown",
   "id": "cc6d1e6f-c9ce-46b6-8be0-84261d5a737f",
   "metadata": {},
   "source": [
    "# Resource of Tool "
   ]
  },
  {
   "cell_type": "code",
   "execution_count": 10,
   "id": "9c530d15-745b-432c-adfb-18568baa8999",
   "metadata": {},
   "outputs": [
    {
     "data": {
      "text/plain": [
       "'Tool'"
      ]
     },
     "execution_count": 10,
     "metadata": {},
     "output_type": "execute_result"
    }
   ],
   "source": [
    "tool.resource"
   ]
  },
  {
   "cell_type": "markdown",
   "id": "dbb71aed-d915-4417-bcc0-f76df9c304ac",
   "metadata": {},
   "source": [
    "# Calling Tool "
   ]
  },
  {
   "cell_type": "code",
   "execution_count": 11,
   "id": "91f912f2-3fa8-4ec3-b932-bd15e967c4ff",
   "metadata": {},
   "outputs": [
    {
     "data": {
      "text/plain": [
       "'Program Opened: calc'"
      ]
     },
     "execution_count": 11,
     "metadata": {},
     "output_type": "execute_result"
    }
   ],
   "source": [
    "tool('calc') "
   ]
  },
  {
   "cell_type": "code",
   "execution_count": null,
   "id": "2aa65640-009a-4e4e-aa7d-c74f676d703b",
   "metadata": {},
   "outputs": [],
   "source": []
  }
 ],
 "metadata": {
  "kernelspec": {
   "display_name": "Python 3 (ipykernel)",
   "language": "python",
   "name": "python3"
  },
  "language_info": {
   "codemirror_mode": {
    "name": "ipython",
    "version": 3
   },
   "file_extension": ".py",
   "mimetype": "text/x-python",
   "name": "python",
   "nbconvert_exporter": "python",
   "pygments_lexer": "ipython3",
   "version": "3.10.14"
  }
 },
 "nbformat": 4,
 "nbformat_minor": 5
}
