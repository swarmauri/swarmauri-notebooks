{
 "cells": [
  {
   "cell_type": "markdown",
   "id": "df821d15-0c22-4867-a7d5-e70701f73b6c",
   "metadata": {},
   "source": [
    "# Import Dependencies "
   ]
  },
  {
   "cell_type": "code",
   "execution_count": 1,
   "id": "0f7ca356-b6dd-4309-9de8-4a9055ebb7b6",
   "metadata": {},
   "outputs": [
    {
     "name": "stderr",
     "output_type": "stream",
     "text": [
      "WARNING:root:Subclass Parameter does not have a type annotation\n"
     ]
    }
   ],
   "source": [
    "from swarmauri.standard.tools.concrete.WeatherTool import WeatherTool "
   ]
  },
  {
   "cell_type": "markdown",
   "id": "811d4cf1-1a0c-4bcf-a37e-29d3e6bfb4c1",
   "metadata": {},
   "source": [
    "# Instantiate WeatherTool "
   ]
  },
  {
   "cell_type": "code",
   "execution_count": 2,
   "id": "22055e58-400b-430c-b18e-ef9fa8269f79",
   "metadata": {},
   "outputs": [],
   "source": [
    "tool = WeatherTool() "
   ]
  },
  {
   "cell_type": "markdown",
   "id": "633996b3-d405-4ed1-bf2a-9ffbdf7a4fe4",
   "metadata": {},
   "source": [
    "# Resource of Tool "
   ]
  },
  {
   "cell_type": "code",
   "execution_count": 3,
   "id": "64008d9f-50c8-4f29-b66e-66981ce05947",
   "metadata": {},
   "outputs": [
    {
     "data": {
      "text/plain": [
       "'Tool'"
      ]
     },
     "execution_count": 3,
     "metadata": {},
     "output_type": "execute_result"
    }
   ],
   "source": [
    "tool.resource"
   ]
  },
  {
   "cell_type": "markdown",
   "id": "cd67bab3-af1b-4376-ab7b-2b28b74947a7",
   "metadata": {},
   "source": [
    "# Calling Tool "
   ]
  },
  {
   "cell_type": "code",
   "execution_count": 4,
   "id": "93075939-2e69-4b96-a1a8-55831fdd8f75",
   "metadata": {},
   "outputs": [
    {
     "data": {
      "text/plain": [
       "\"Weather Info: ('Dallas', 'fahrenheit')\\n\""
      ]
     },
     "execution_count": 4,
     "metadata": {},
     "output_type": "execute_result"
    }
   ],
   "source": [
    "location = 'Dallas'\n",
    "tool(location) "
   ]
  },
  {
   "cell_type": "code",
   "execution_count": null,
   "id": "2717d206-b066-4317-b18f-af1f2de49e87",
   "metadata": {},
   "outputs": [],
   "source": []
  }
 ],
 "metadata": {
  "kernelspec": {
   "display_name": "Python 3 (ipykernel)",
   "language": "python",
   "name": "python3"
  },
  "language_info": {
   "codemirror_mode": {
    "name": "ipython",
    "version": 3
   },
   "file_extension": ".py",
   "mimetype": "text/x-python",
   "name": "python",
   "nbconvert_exporter": "python",
   "pygments_lexer": "ipython3",
   "version": "3.10.14"
  }
 },
 "nbformat": 4,
 "nbformat_minor": 5
}
