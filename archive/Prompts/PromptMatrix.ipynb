{
 "cells": [
  {
   "cell_type": "markdown",
   "id": "be65f732-8365-4e75-9cd5-292339e603c1",
   "metadata": {},
   "source": [
    "# Import Dependencies"
   ]
  },
  {
   "cell_type": "code",
   "execution_count": 1,
   "id": "2105304a-fa80-408d-b0a1-dda689ab65a2",
   "metadata": {
    "execution": {
     "iopub.execute_input": "2024-08-28T10:10:23.550258Z",
     "iopub.status.busy": "2024-08-28T10:10:23.550258Z",
     "iopub.status.idle": "2024-08-28T10:10:23.815056Z",
     "shell.execute_reply": "2024-08-28T10:10:23.814058Z"
    }
   },
   "outputs": [],
   "source": [
    "from swarmauri.standard.prompts.concrete.PromptMatrix import PromptMatrix"
   ]
  },
  {
   "cell_type": "markdown",
   "id": "7cec1695-f88a-4aa1-9cae-dc8623ed813a",
   "metadata": {},
   "source": [
    "# Instantiate Prompt"
   ]
  },
  {
   "cell_type": "code",
   "execution_count": 2,
   "id": "301a97cc-713b-413c-8b8c-e7ef27a2abd6",
   "metadata": {
    "execution": {
     "iopub.execute_input": "2024-08-28T10:10:23.820043Z",
     "iopub.status.busy": "2024-08-28T10:10:23.819047Z",
     "iopub.status.idle": "2024-08-28T10:10:23.831017Z",
     "shell.execute_reply": "2024-08-28T10:10:23.830016Z"
    }
   },
   "outputs": [],
   "source": [
    "prompt_matrix = PromptMatrix(matrix=[[\"1\",\"2\"],[\"3\",\"4\"]])"
   ]
  },
  {
   "cell_type": "markdown",
   "id": "8df7acdd-91ff-4d60-a4c4-7dc716701c6a",
   "metadata": {},
   "source": [
    "# Resource and Type of Prompt"
   ]
  },
  {
   "cell_type": "code",
   "execution_count": 3,
   "id": "95188239-c691-4408-ad46-943406232c61",
   "metadata": {
    "execution": {
     "iopub.execute_input": "2024-08-28T10:10:23.838994Z",
     "iopub.status.busy": "2024-08-28T10:10:23.837997Z",
     "iopub.status.idle": "2024-08-28T10:10:23.861931Z",
     "shell.execute_reply": "2024-08-28T10:10:23.860934Z"
    }
   },
   "outputs": [
    {
     "data": {
      "text/plain": [
       "'Prompt'"
      ]
     },
     "execution_count": 3,
     "metadata": {},
     "output_type": "execute_result"
    }
   ],
   "source": [
    "prompt_matrix.resource"
   ]
  },
  {
   "cell_type": "code",
   "execution_count": 4,
   "id": "ce8d3192-5d97-4d8f-b4d6-26eb596d977f",
   "metadata": {
    "execution": {
     "iopub.execute_input": "2024-08-28T10:10:23.865921Z",
     "iopub.status.busy": "2024-08-28T10:10:23.864922Z",
     "iopub.status.idle": "2024-08-28T10:10:23.879527Z",
     "shell.execute_reply": "2024-08-28T10:10:23.876532Z"
    }
   },
   "outputs": [
    {
     "data": {
      "text/plain": [
       "'PromptMatrix'"
      ]
     },
     "execution_count": 4,
     "metadata": {},
     "output_type": "execute_result"
    }
   ],
   "source": [
    "prompt_matrix.type"
   ]
  },
  {
   "cell_type": "markdown",
   "id": "4e789caa-0638-408e-b5eb-f74d617e31ec",
   "metadata": {},
   "source": [
    "# Serialization"
   ]
  },
  {
   "cell_type": "code",
   "execution_count": 5,
   "id": "f73715ac-9222-4fc0-bc6c-9068da223be5",
   "metadata": {
    "execution": {
     "iopub.execute_input": "2024-08-28T10:10:23.888500Z",
     "iopub.status.busy": "2024-08-28T10:10:23.888500Z",
     "iopub.status.idle": "2024-08-28T10:10:23.911460Z",
     "shell.execute_reply": "2024-08-28T10:10:23.907445Z"
    }
   },
   "outputs": [
    {
     "data": {
      "text/plain": [
       "True"
      ]
     },
     "execution_count": 5,
     "metadata": {},
     "output_type": "execute_result"
    }
   ],
   "source": [
    "prompt_matrix.id == PromptMatrix.model_validate_json(prompt_matrix.model_dump_json()).id"
   ]
  },
  {
   "cell_type": "code",
   "execution_count": 6,
   "id": "e7b75b26-994c-4b96-a522-e8d4df44fe78",
   "metadata": {
    "execution": {
     "iopub.execute_input": "2024-08-28T10:10:23.921427Z",
     "iopub.status.busy": "2024-08-28T10:10:23.920429Z",
     "iopub.status.idle": "2024-08-28T10:10:23.941659Z",
     "shell.execute_reply": "2024-08-28T10:10:23.938657Z"
    }
   },
   "outputs": [],
   "source": [
    "# Shape Interface and Content of Matrix"
   ]
  },
  {
   "cell_type": "code",
   "execution_count": 7,
   "id": "67e33259-f37e-41d7-a736-efa84df9c636",
   "metadata": {
    "execution": {
     "iopub.execute_input": "2024-08-28T10:10:23.957627Z",
     "iopub.status.busy": "2024-08-28T10:10:23.956686Z",
     "iopub.status.idle": "2024-08-28T10:10:23.972714Z",
     "shell.execute_reply": "2024-08-28T10:10:23.970198Z"
    }
   },
   "outputs": [
    {
     "data": {
      "text/plain": [
       "(2, 2)"
      ]
     },
     "execution_count": 7,
     "metadata": {},
     "output_type": "execute_result"
    }
   ],
   "source": [
    "prompt_matrix.shape"
   ]
  },
  {
   "cell_type": "code",
   "execution_count": 8,
   "id": "1e36f4ba-1d8e-46b3-aa9d-d27a5b0fe7ae",
   "metadata": {
    "execution": {
     "iopub.execute_input": "2024-08-28T10:10:23.979733Z",
     "iopub.status.busy": "2024-08-28T10:10:23.979733Z",
     "iopub.status.idle": "2024-08-28T10:10:24.004285Z",
     "shell.execute_reply": "2024-08-28T10:10:24.001330Z"
    }
   },
   "outputs": [
    {
     "data": {
      "text/plain": [
       "[['1', '2'], ['3', '4']]"
      ]
     },
     "execution_count": 8,
     "metadata": {},
     "output_type": "execute_result"
    }
   ],
   "source": [
    "prompt_matrix.show() "
   ]
  }
 ],
 "metadata": {
  "kernelspec": {
   "display_name": "Python 3 (ipykernel)",
   "language": "python",
   "name": "python3"
  },
  "language_info": {
   "codemirror_mode": {
    "name": "ipython",
    "version": 3
   },
   "file_extension": ".py",
   "mimetype": "text/x-python",
   "name": "python",
   "nbconvert_exporter": "python",
   "pygments_lexer": "ipython3",
   "version": "3.10.8"
  }
 },
 "nbformat": 4,
 "nbformat_minor": 5
}
