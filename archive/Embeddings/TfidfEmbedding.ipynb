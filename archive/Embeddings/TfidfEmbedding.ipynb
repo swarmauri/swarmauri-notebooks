{
 "cells": [
  {
   "cell_type": "markdown",
   "id": "8dcfe5f5-5802-4d82-ba1f-6270d67ce5b7",
   "metadata": {},
   "source": [
    "# Import Dependencies "
   ]
  },
  {
   "cell_type": "code",
   "execution_count": 15,
   "id": "eeef9055-d590-4ae5-a809-4cd9c65ad34e",
   "metadata": {},
   "outputs": [],
   "source": [
    "from swarmauri.standard.embeddings.concrete.TfidfEmbedding import TfidfEmbedding"
   ]
  },
  {
   "cell_type": "markdown",
   "id": "10ffe809-1bdc-400f-877b-0730fe8481e8",
   "metadata": {},
   "source": [
    "# Instantiate Embedding"
   ]
  },
  {
   "cell_type": "code",
   "execution_count": 16,
   "id": "3cdb266d-14cb-4be0-8b3c-a9ad8cc2fd1f",
   "metadata": {},
   "outputs": [],
   "source": [
    "embedder = TfidfEmbedding() "
   ]
  },
  {
   "cell_type": "markdown",
   "id": "e7258461-e86c-4896-84fe-71deb15a9764",
   "metadata": {},
   "source": [
    "# Type and Resource of Embedding"
   ]
  },
  {
   "cell_type": "code",
   "execution_count": 17,
   "id": "a74d1b34-6aea-40b8-8687-2d2cb52f3c94",
   "metadata": {},
   "outputs": [
    {
     "data": {
      "text/plain": [
       "'TfidfEmbedding'"
      ]
     },
     "execution_count": 17,
     "metadata": {},
     "output_type": "execute_result"
    }
   ],
   "source": [
    "embedder.type "
   ]
  },
  {
   "cell_type": "code",
   "execution_count": 18,
   "id": "1988ee79-619b-4bc4-ae76-66fa3d7ee3ca",
   "metadata": {},
   "outputs": [
    {
     "data": {
      "text/plain": [
       "'Embedding'"
      ]
     },
     "execution_count": 18,
     "metadata": {},
     "output_type": "execute_result"
    }
   ],
   "source": [
    "embedder.resource"
   ]
  },
  {
   "cell_type": "markdown",
   "id": "b7dfca16-e511-453f-8aa6-7308776326d9",
   "metadata": {},
   "source": [
    "# Serialization"
   ]
  },
  {
   "cell_type": "code",
   "execution_count": 19,
   "id": "274f74ea-1b6b-43eb-a63a-a0bc527834c1",
   "metadata": {},
   "outputs": [
    {
     "data": {
      "text/plain": [
       "True"
      ]
     },
     "execution_count": 19,
     "metadata": {},
     "output_type": "execute_result"
    }
   ],
   "source": [
    "embedder.id == TfidfEmbedding.model_validate_json(embedder.model_dump_json()).id"
   ]
  },
  {
   "cell_type": "markdown",
   "id": "33881a01-8e21-4be8-9f05-5eb9117010d8",
   "metadata": {},
   "source": [
    "# Fit Transform"
   ]
  },
  {
   "cell_type": "code",
   "execution_count": 20,
   "id": "bbe1f370-dfaf-473b-a832-0b59c51e97ba",
   "metadata": {},
   "outputs": [],
   "source": [
    "documents = ['test', 'test1', 'test2']\n",
    "embedder.fit_transform(documents); "
   ]
  },
  {
   "cell_type": "code",
   "execution_count": 21,
   "id": "8e4611bc-fd2f-4422-8e5b-93a1d5f74357",
   "metadata": {},
   "outputs": [
    {
     "data": {
      "text/plain": [
       "['test', 'test1', 'test2']"
      ]
     },
     "execution_count": 21,
     "metadata": {},
     "output_type": "execute_result"
    }
   ],
   "source": [
    "embedder.extract_features() \n"
   ]
  }
 ],
 "metadata": {
  "kernelspec": {
   "display_name": "Python 3 (ipykernel)",
   "language": "python",
   "name": "python3"
  },
  "language_info": {
   "codemirror_mode": {
    "name": "ipython",
    "version": 3
   },
   "file_extension": ".py",
   "mimetype": "text/x-python",
   "name": "python",
   "nbconvert_exporter": "python",
   "pygments_lexer": "ipython3",
   "version": "3.10.0rc2"
  }
 },
 "nbformat": 4,
 "nbformat_minor": 5
}
