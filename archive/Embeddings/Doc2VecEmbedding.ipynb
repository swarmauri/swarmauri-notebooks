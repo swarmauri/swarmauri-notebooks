{
 "cells": [
  {
   "cell_type": "markdown",
   "id": "cb70a7d5-f353-44d3-90ae-24a792c6a202",
   "metadata": {},
   "source": [
    "# Import Dependencies "
   ]
  },
  {
   "cell_type": "code",
   "execution_count": 24,
   "id": "7036b0bb-5e7f-4694-adaa-ee95c75835b5",
   "metadata": {},
   "outputs": [],
   "source": [
    "from swarmauri.standard.embeddings.concrete.Doc2VecEmbedding import Doc2VecEmbedding"
   ]
  },
  {
   "cell_type": "markdown",
   "id": "98e8ce97-7d97-4600-beb7-4e8054b9cd6f",
   "metadata": {},
   "source": [
    "# Instantiate Doc2VecEmbedding"
   ]
  },
  {
   "cell_type": "code",
   "execution_count": 25,
   "id": "ba232680-3173-4cbc-b789-61dd461385cf",
   "metadata": {},
   "outputs": [],
   "source": [
    "embedder = Doc2VecEmbedding() "
   ]
  },
  {
   "cell_type": "markdown",
   "id": "23197d1f-814c-485d-9256-f10744c6e40a",
   "metadata": {},
   "source": [
    "# Type and Resource of Embedder"
   ]
  },
  {
   "cell_type": "code",
   "execution_count": 26,
   "id": "4ae5b177-8fd8-4e1f-aba1-0bf6748ff4a6",
   "metadata": {},
   "outputs": [
    {
     "data": {
      "text/plain": [
       "'Doc2VecEmbedding'"
      ]
     },
     "execution_count": 26,
     "metadata": {},
     "output_type": "execute_result"
    }
   ],
   "source": [
    "embedder.type"
   ]
  },
  {
   "cell_type": "code",
   "execution_count": 27,
   "id": "5aa4aae4-8820-4106-89df-495e735bdd0e",
   "metadata": {},
   "outputs": [
    {
     "data": {
      "text/plain": [
       "'Embedding'"
      ]
     },
     "execution_count": 27,
     "metadata": {},
     "output_type": "execute_result"
    }
   ],
   "source": [
    "embedder.resource"
   ]
  },
  {
   "cell_type": "markdown",
   "id": "91e3cddd-23b3-4bc4-9f03-f48702e73b10",
   "metadata": {},
   "source": [
    "# Serialization"
   ]
  },
  {
   "cell_type": "code",
   "execution_count": 28,
   "id": "80f65d94-2e18-49ef-9432-977068649f68",
   "metadata": {},
   "outputs": [
    {
     "data": {
      "text/plain": [
       "True"
      ]
     },
     "execution_count": 28,
     "metadata": {},
     "output_type": "execute_result"
    }
   ],
   "source": [
    "embedder.id == Doc2VecEmbedding.model_validate_json(embedder.model_dump_json()).id"
   ]
  },
  {
   "cell_type": "markdown",
   "id": "51eee381-edd0-43f8-992b-12ea05e6fcf1",
   "metadata": {},
   "source": [
    "# Fit Transform"
   ]
  },
  {
   "cell_type": "code",
   "execution_count": 29,
   "id": "b2aa57df-fdba-42d7-a17b-e144c6b6ff06",
   "metadata": {},
   "outputs": [],
   "source": [
    "documents = ['test', 'cat', 'banana']\n",
    "embedder.fit_transform(documents); "
   ]
  },
  {
   "cell_type": "code",
   "execution_count": 30,
   "id": "5da94f6a-3132-4de6-894c-38d4265e94fc",
   "metadata": {},
   "outputs": [
    {
     "data": {
      "text/plain": [
       "['banana', 'cat', 'test']"
      ]
     },
     "execution_count": 30,
     "metadata": {},
     "output_type": "execute_result"
    }
   ],
   "source": [
    "embedder.extract_features() "
   ]
  }
 ],
 "metadata": {
  "kernelspec": {
   "display_name": "Python 3 (ipykernel)",
   "language": "python",
   "name": "python3"
  },
  "language_info": {
   "codemirror_mode": {
    "name": "ipython",
    "version": 3
   },
   "file_extension": ".py",
   "mimetype": "text/x-python",
   "name": "python",
   "nbconvert_exporter": "python",
   "pygments_lexer": "ipython3",
   "version": "3.10.0rc2"
  }
 },
 "nbformat": 4,
 "nbformat_minor": 5
}
