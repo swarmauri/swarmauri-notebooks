{
 "cells": [
  {
   "cell_type": "markdown",
   "id": "2fc9e09a-c8c6-41e2-a579-f92c6ade42eb",
   "metadata": {},
   "source": [
    "# Import Dependencies "
   ]
  },
  {
   "cell_type": "code",
   "execution_count": 20,
   "id": "750d2525-7828-4717-8da7-d66c7e8bf0fe",
   "metadata": {},
   "outputs": [],
   "source": [
    "from swarmauri.standard.embeddings.concrete.NmfEmbedding import NmfEmbedding"
   ]
  },
  {
   "cell_type": "markdown",
   "id": "ac31ab23-1a17-4294-adfd-39b48adbe040",
   "metadata": {},
   "source": [
    "# Instantiate Embedder"
   ]
  },
  {
   "cell_type": "code",
   "execution_count": 21,
   "id": "6fe4a198-2993-43d9-ad4c-43591613c97e",
   "metadata": {},
   "outputs": [],
   "source": [
    "embedder = NmfEmbedding() "
   ]
  },
  {
   "cell_type": "markdown",
   "id": "448fb7e0-eae2-4cb2-9c61-df5b7f3ae82f",
   "metadata": {},
   "source": [
    "# Type and Resource of Embedder"
   ]
  },
  {
   "cell_type": "code",
   "execution_count": 22,
   "id": "338f9f3f-0606-47de-8c07-30d87c59b872",
   "metadata": {},
   "outputs": [
    {
     "data": {
      "text/plain": [
       "'NmfEmbedding'"
      ]
     },
     "execution_count": 22,
     "metadata": {},
     "output_type": "execute_result"
    }
   ],
   "source": [
    "embedder.type "
   ]
  },
  {
   "cell_type": "code",
   "execution_count": 23,
   "id": "026dc838-5e06-4bff-89cf-8ab94c66536f",
   "metadata": {},
   "outputs": [
    {
     "data": {
      "text/plain": [
       "'Embedding'"
      ]
     },
     "execution_count": 23,
     "metadata": {},
     "output_type": "execute_result"
    }
   ],
   "source": [
    "embedder.resource"
   ]
  },
  {
   "cell_type": "markdown",
   "id": "ef1029d4-e193-47b2-a272-ae901082fdbf",
   "metadata": {},
   "source": [
    "# Serialization"
   ]
  },
  {
   "cell_type": "code",
   "execution_count": 24,
   "id": "46bd5afb-516a-4fa6-9af5-7206d5e5f1f4",
   "metadata": {},
   "outputs": [
    {
     "data": {
      "text/plain": [
       "True"
      ]
     },
     "execution_count": 24,
     "metadata": {},
     "output_type": "execute_result"
    }
   ],
   "source": [
    "embedder.id == NmfEmbedding.model_validate_json(embedder.model_dump_json()).id"
   ]
  },
  {
   "cell_type": "markdown",
   "id": "8c469d93-40cc-4aa5-9d63-ca0faded0a6e",
   "metadata": {},
   "source": [
    "# Fit Transform"
   ]
  },
  {
   "cell_type": "code",
   "execution_count": 25,
   "id": "5bb8087d-4231-4888-bbd6-253ec14f5e9e",
   "metadata": {},
   "outputs": [],
   "source": [
    "documents = ['test', 'test1', 'test2']\n",
    "embedder.fit_transform(documents); "
   ]
  },
  {
   "cell_type": "code",
   "execution_count": 26,
   "id": "6a5c49a0-1971-4722-aaa7-48b0629f49ab",
   "metadata": {},
   "outputs": [
    {
     "data": {
      "text/plain": [
       "['test', 'test1', 'test2']"
      ]
     },
     "execution_count": 26,
     "metadata": {},
     "output_type": "execute_result"
    }
   ],
   "source": [
    "embedder.extract_features() "
   ]
  }
 ],
 "metadata": {
  "kernelspec": {
   "display_name": "Python 3 (ipykernel)",
   "language": "python",
   "name": "python3"
  },
  "language_info": {
   "codemirror_mode": {
    "name": "ipython",
    "version": 3
   },
   "file_extension": ".py",
   "mimetype": "text/x-python",
   "name": "python",
   "nbconvert_exporter": "python",
   "pygments_lexer": "ipython3",
   "version": "3.10.0rc2"
  }
 },
 "nbformat": 4,
 "nbformat_minor": 5
}
