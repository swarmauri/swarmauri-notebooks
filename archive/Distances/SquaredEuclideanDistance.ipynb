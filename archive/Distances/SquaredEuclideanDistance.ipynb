{
 "cells": [
  {
   "cell_type": "markdown",
   "metadata": {},
   "source": [
    "# **Understanding Squared Euclidean Distance in Vector Space**\n",
    "\n",
    "In this notebook, we will learn how to use the `SquaredEuclideanDistance` class from the `swarmauri` SDK to compute distances between vectors. The squared Euclidean distance is a variation of the Euclidean distance, commonly used in various machine learning algorithms, such as K-means clustering, because it emphasizes larger distances.\n",
    "\n",
    "The Squared Euclidean distance between two vectors \\( \\mathbf{x} \\) and \\( \\mathbf{y} \\) in an n-dimensional space is defined as:\n",
    "\n",
    "$$\n",
    "\\text{Squared Euclidean Distance} = \\sum_{i=1}^{n} (x_i - y_i)^2\n",
    "$$\n",
    "\n",
    "Unlike the standard Euclidean distance, this version does not take the square root of the sum of squared differences, making it computationally simpler and faster.\n",
    "\n",
    "### **Step 1: Importing Required Libraries**\n",
    "\n",
    "To begin, we need to import the necessary libraries. The `SquaredEuclideanDistance` class provides the functionality to compute the squared Euclidean distance between two vectors. The `Vector` class is used to create vector representations of the data points.\n"
   ]
  },
  {
   "cell_type": "code",
   "execution_count": 1,
   "metadata": {},
   "outputs": [],
   "source": [
    "from swarmauri.standard.distances.concrete.SquaredEuclideanDistance import SquaredEuclideanDistance\n",
    "from swarmauri.standard.vectors.concrete.Vector import Vector\n"
   ]
  },
  {
   "cell_type": "markdown",
   "metadata": {},
   "source": [
    "## Step 2: Exploring the SquaredEuclideanDistance Class\n",
    "\n",
    "Understanding the Resource Attribute\n",
    "\n",
    "The `resource` attribute in the `SquaredEuclideanDistance` class provides metadata or configuration details related to the squared Euclidean distance calculation. Let’s explore what this attribute contains."
   ]
  },
  {
   "cell_type": "code",
   "execution_count": 2,
   "metadata": {},
   "outputs": [
    {
     "data": {
      "text/plain": [
       "'Distance'"
      ]
     },
     "execution_count": 2,
     "metadata": {},
     "output_type": "execute_result"
    }
   ],
   "source": [
    "SquaredEuclideanDistance().resource \n"
   ]
  },
  {
   "cell_type": "markdown",
   "metadata": {},
   "source": [
    "Understanding the Type Attribute\n",
    "\n",
    "The `type` attribute indicates the specific type or class of the distance metric. This helps distinguish `SquaredEuclideanDistance` from other metrics available in the SDK."
   ]
  },
  {
   "cell_type": "code",
   "execution_count": 3,
   "metadata": {},
   "outputs": [
    {
     "data": {
      "text/plain": [
       "'SquaredEuclideanDistance'"
      ]
     },
     "execution_count": 3,
     "metadata": {},
     "output_type": "execute_result"
    }
   ],
   "source": [
    "SquaredEuclideanDistance().type \n"
   ]
  },
  {
   "cell_type": "markdown",
   "metadata": {},
   "source": [
    "## Step 3: Ensuring Object Consistency Through Serialization\n",
    "\n",
    "Serializing and Deserializing the SquaredEuclideanDistance Object\n",
    "\n",
    "Serialization converts a `SquaredEuclideanDistance` object into a JSON string for storage or transmission. Deserialization converts the JSON string back into a SquaredEuclideanDistance object. This process is crucial for applications where distance metric configurations need to be saved and restored."
   ]
  },
  {
   "cell_type": "code",
   "execution_count": 4,
   "metadata": {},
   "outputs": [
    {
     "data": {
      "text/plain": [
       "True"
      ]
     },
     "execution_count": 4,
     "metadata": {},
     "output_type": "execute_result"
    }
   ],
   "source": [
    "distance = SquaredEuclideanDistance() \n",
    "distance.id == SquaredEuclideanDistance.model_validate_json(distance.model_dump_json()).id\n"
   ]
  },
  {
   "cell_type": "markdown",
   "metadata": {},
   "source": [
    "## Step 4: Calculating Squared Euclidean Distance Between Two Vectors\n",
    "\n",
    "Practical Example: Calculating Distance Between Identical Vectors\n",
    "\n",
    "The `SquaredEuclideanDistance` class provides a `distance()` method to compute the squared Euclidean distance between two vectors. This metric measures the squared differences between corresponding elements of two vectors. Let’s compute the distance between two identical vectors, which should result in a distance of `0.0` because they are exactly the same."
   ]
  },
  {
   "cell_type": "code",
   "execution_count": 5,
   "metadata": {},
   "outputs": [
    {
     "data": {
      "text/plain": [
       "True"
      ]
     },
     "execution_count": 5,
     "metadata": {},
     "output_type": "execute_result"
    }
   ],
   "source": [
    "SquaredEuclideanDistance().distance(\n",
    "\t    Vector(value=[1,2]), \n",
    "\t    Vector(value=[1,2])\n",
    "\t    ) == 0.0"
   ]
  },
  {
   "cell_type": "markdown",
   "metadata": {},
   "source": [
    "A More Complex Example: Distance Between Different Vectors\n",
    "\n",
    "To further illustrate the use of the squared Euclidean distance, let’s calculate the distance between two different vectors and observe how the metric responds to varying levels of dissimilarity."
   ]
  },
  {
   "cell_type": "code",
   "execution_count": 6,
   "metadata": {},
   "outputs": [
    {
     "data": {
      "text/plain": [
       "1.0"
      ]
     },
     "execution_count": 6,
     "metadata": {},
     "output_type": "execute_result"
    }
   ],
   "source": [
    "# Define two different vectors\n",
    "vector3 = Vector(value=[1, 3])\n",
    "vector4 = Vector(value=[1, 2])\n",
    "\n",
    "# Compute the Squared Euclidean distance between the two vectors\n",
    "distance_result_different = SquaredEuclideanDistance().distance(vector3, vector4)\n",
    "\n",
    "# Output the computed distance\n",
    "distance_result_different\n"
   ]
  },
  {
   "cell_type": "markdown",
   "metadata": {},
   "source": [
    "The squared Euclidean distance is a valuable tool for various data science applications, particularly in clustering and classification tasks. By understanding how to effectively use this metric, developers can enhance their models and make more informed decisions based on data similarity."
   ]
  },
  {
   "cell_type": "code",
   "execution_count": null,
   "metadata": {},
   "outputs": [],
   "source": []
  }
 ],
 "metadata": {
  "kernelspec": {
   "display_name": ".venv",
   "language": "python",
   "name": "python3"
  },
  "language_info": {
   "codemirror_mode": {
    "name": "ipython",
    "version": 3
   },
   "file_extension": ".py",
   "mimetype": "text/x-python",
   "name": "python",
   "nbconvert_exporter": "python",
   "pygments_lexer": "ipython3",
   "version": "3.10.9"
  }
 },
 "nbformat": 4,
 "nbformat_minor": 2
}
