{
 "cells": [
  {
   "cell_type": "markdown",
   "metadata": {},
   "source": [
    "# Importing Required Libraries\n",
    "\n",
    "First, we need to import the necessary libraries and modules. The `HaversineDistance` class is used to compute the Haversine distance, which calculates the shortest distance over the Earth's surface, providing a measure of the arc or great-circle distance. The `Vector` class is used to represent the vectors (coordinates) involved in the distance calculation."
   ]
  },
  {
   "cell_type": "code",
   "execution_count": 1,
   "metadata": {},
   "outputs": [],
   "source": [
    "from swarmauri.standard.distances.concrete.HaversineDistance import HaversineDistance\n",
    "from swarmauri.standard.vectors.concrete.Vector import Vector\n"
   ]
  },
  {
   "cell_type": "markdown",
   "metadata": {},
   "source": [
    "# Exploring HaversineDistance Class Attributes\n",
    "\n",
    "Checking Resource Attribute\n",
    "\n",
    "The `resource` attribute in the `HaversineDistance` class provides metadata or configurations related to the Haversine distance calculation. Understanding this attribute helps us know what resources are being referenced or utilized by this distance metric."
   ]
  },
  {
   "cell_type": "code",
   "execution_count": 3,
   "metadata": {},
   "outputs": [
    {
     "data": {
      "text/plain": [
       "'Distance'"
      ]
     },
     "execution_count": 3,
     "metadata": {},
     "output_type": "execute_result"
    }
   ],
   "source": [
    "HaversineDistance().resource \n",
    "\n"
   ]
  },
  {
   "cell_type": "markdown",
   "metadata": {},
   "source": [
    "Checking Type Attribute\n",
    "\n",
    "The `type` attribute typically indicates the type of distance metric or the class type. This helps distinguish between various distance metrics provided in the SDK."
   ]
  },
  {
   "cell_type": "code",
   "execution_count": 4,
   "metadata": {},
   "outputs": [
    {
     "data": {
      "text/plain": [
       "'HaversineDistance'"
      ]
     },
     "execution_count": 4,
     "metadata": {},
     "output_type": "execute_result"
    }
   ],
   "source": [
    "HaversineDistance().type \n"
   ]
  },
  {
   "cell_type": "markdown",
   "metadata": {},
   "source": [
    "# Validating HaversineDistance Object Serialization\n",
    "\n",
    "Serializing and Deserializing HaversineDistance Object\n",
    "\n",
    "Serialization is the process of converting an object into a format that can be stored or transmitted and then reconstructed later. Here, we are serializing the `HaversineDistance` object to JSON and then deserializing it back to ensure consistency."
   ]
  },
  {
   "cell_type": "code",
   "execution_count": 5,
   "metadata": {},
   "outputs": [
    {
     "data": {
      "text/plain": [
       "True"
      ]
     },
     "execution_count": 5,
     "metadata": {},
     "output_type": "execute_result"
    }
   ],
   "source": [
    "distance = HaversineDistance() \n",
    "distance.id == HaversineDistance.model_validate_json(distance.model_dump_json()).id\n"
   ]
  },
  {
   "cell_type": "markdown",
   "metadata": {},
   "source": [
    "# Calculating Haversine Distance Between Two Vectors\n",
    "\n",
    "Using the HaversineDistance to Compute Distance\n",
    "\n",
    "The HaversineDistance class provides a `distance()` method to compute the Haversine distance between two points represented as vectors. This distance metric is particularly useful in geospatial contexts where the surface distance between two points on a sphere (e.g., Earth) is needed. Here, we'll compute the Haversine distance between two identical vectors, which should result in a distance of `0.0`."
   ]
  },
  {
   "cell_type": "code",
   "execution_count": 7,
   "metadata": {},
   "outputs": [
    {
     "data": {
      "text/plain": [
       "True"
      ]
     },
     "execution_count": 7,
     "metadata": {},
     "output_type": "execute_result"
    }
   ],
   "source": [
    "# Create two identical vectors (coordinates)\n",
    "vector1 = Vector(value=[1, 2])\n",
    "vector2 = Vector(value=[1, 2])\n",
    "\n",
    "# Compute the Haversine distance between the two vectors\n",
    "distance_result = HaversineDistance().distance(vector1, vector2)\n",
    "\n",
    "# Verify that the distance between two identical vectors is 0.0\n",
    "distance_result == 0.0\n"
   ]
  },
  {
   "cell_type": "markdown",
   "metadata": {},
   "source": [
    "Explanation:\n",
    "\n",
    "- The `distance()` method calculates the Haversine distance between the two input vectors (`vector1` and `vector2`).\n",
    "Since both vectors represent the same point on the Earth's surface with values `[1, 2]`, the Haversine distance is `0.0`, indicating no difference between the two points."
   ]
  },
  {
   "cell_type": "code",
   "execution_count": null,
   "metadata": {},
   "outputs": [],
   "source": []
  }
 ],
 "metadata": {
  "kernelspec": {
   "display_name": ".venv",
   "language": "python",
   "name": "python3"
  },
  "language_info": {
   "codemirror_mode": {
    "name": "ipython",
    "version": 3
   },
   "file_extension": ".py",
   "mimetype": "text/x-python",
   "name": "python",
   "nbconvert_exporter": "python",
   "pygments_lexer": "ipython3",
   "version": "3.10.9"
  }
 },
 "nbformat": 4,
 "nbformat_minor": 2
}
