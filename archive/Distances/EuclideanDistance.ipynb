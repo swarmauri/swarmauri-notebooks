{
 "cells": [
  {
   "cell_type": "markdown",
   "id": "cb95114d-1c99-4651-b011-67f337b78672",
   "metadata": {},
   "source": [
    "# Import Dependencies"
   ]
  },
  {
   "cell_type": "code",
   "execution_count": 1,
   "id": "57d216f2-8b63-4e94-af43-6bf924616ae0",
   "metadata": {},
   "outputs": [],
   "source": [
    "from swarmauri.standard.distances.concrete.EuclideanDistance import EuclideanDistance\n",
    "from swarmauri.standard.vectors.concrete.Vector import Vector"
   ]
  },
  {
   "cell_type": "markdown",
   "id": "e225cdef-4bc3-4357-a976-e49499383c40",
   "metadata": {},
   "source": [
    "# Instantiate Distance"
   ]
  },
  {
   "cell_type": "code",
   "execution_count": 2,
   "id": "4c656523-e36d-4e7b-bf76-498b37337d2f",
   "metadata": {},
   "outputs": [],
   "source": [
    "euclidean_distance = EuclideanDistance() "
   ]
  },
  {
   "cell_type": "markdown",
   "id": "ef63949c-46b2-4429-a521-093533acbbad",
   "metadata": {},
   "source": [
    "# Type and Resource of Distance"
   ]
  },
  {
   "cell_type": "code",
   "execution_count": 3,
   "id": "632af08e-d0d6-47dd-9f9d-0df12a66b841",
   "metadata": {},
   "outputs": [
    {
     "name": "stdout",
     "output_type": "stream",
     "text": [
      "resource:Distance, type:EuclideanDistance\n"
     ]
    }
   ],
   "source": [
    "print(f'resource:{euclidean_distance.resource}, type:{euclidean_distance.type}')"
   ]
  },
  {
   "cell_type": "markdown",
   "id": "1f8f44bb-d140-45c0-b2d2-e375668b3a95",
   "metadata": {},
   "source": [
    "# Distance"
   ]
  },
  {
   "cell_type": "code",
   "execution_count": 4,
   "id": "dc89cdb5-2092-49c1-a32e-d5b53f9ee59a",
   "metadata": {},
   "outputs": [
    {
     "data": {
      "text/plain": [
       "0.0"
      ]
     },
     "execution_count": 4,
     "metadata": {},
     "output_type": "execute_result"
    }
   ],
   "source": [
    "euclidean_distance.distance(\n",
    "        Vector(value=[1,2]), \n",
    "        Vector(value=[1,2])\n",
    "        )"
   ]
  },
  {
   "cell_type": "markdown",
   "id": "1b37ae5d-73fa-4d64-afd5-2ff7f492a29c",
   "metadata": {},
   "source": [
    "# Serialization"
   ]
  },
  {
   "cell_type": "code",
   "execution_count": 5,
   "id": "074170b4-6c19-40d6-b02a-d32c5685759c",
   "metadata": {},
   "outputs": [
    {
     "data": {
      "text/plain": [
       "True"
      ]
     },
     "execution_count": 5,
     "metadata": {},
     "output_type": "execute_result"
    }
   ],
   "source": [
    "euclidean_distance.id == EuclideanDistance.model_validate_json(euclidean_distance.model_dump_json()).id"
   ]
  }
 ],
 "metadata": {
  "kernelspec": {
   "display_name": "Python 3 (ipykernel)",
   "language": "python",
   "name": "python3"
  },
  "language_info": {
   "codemirror_mode": {
    "name": "ipython",
    "version": 3
   },
   "file_extension": ".py",
   "mimetype": "text/x-python",
   "name": "python",
   "nbconvert_exporter": "python",
   "pygments_lexer": "ipython3",
   "version": "3.10.11"
  }
 },
 "nbformat": 4,
 "nbformat_minor": 5
}
