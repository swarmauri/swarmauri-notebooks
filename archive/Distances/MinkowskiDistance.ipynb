{
 "cells": [
  {
   "cell_type": "markdown",
   "metadata": {},
   "source": [
    "# **Understanding Minkowski Distance in Vector Space**\n",
    "\n",
    "In this notebook, we will learn how to use the `MinkowskiDistance` class from the `swarmauri` SDK to compute distances between vectors. The Minkowski distance is a generalized metric that includes both the Manhattan (L1 norm) and Euclidean (L2 norm) distances as special cases. It is defined as:\n",
    "\n",
    "$$\n",
    "\\text{Minkowski Distance} = \\left( \\sum_{i=1}^n |x_i - y_i|^p \\right)^{\\frac{1}{p}}\n",
    "$$\n",
    "\n",
    "where \\( p \\) is a parameter that defines the type of distance metric. When \\( p = 1 \\), it is equivalent to the Manhattan distance, and when \\( p = 2 \\), it is equivalent to the Euclidean distance.\n",
    "\n",
    "### **Step 1: Importing Required Libraries**\n",
    "\n",
    "To begin, we need to import the necessary libraries. The `MinkowskiDistance` class provides the functionality to compute the Minkowski distance between two vectors. The `Vector` class is used to create vector representations of the data points.\n"
   ]
  },
  {
   "cell_type": "code",
   "execution_count": 1,
   "metadata": {},
   "outputs": [],
   "source": [
    "from swarmauri.standard.distances.concrete.MinkowskiDistance import MinkowskiDistance\n",
    "from swarmauri.standard.vectors.concrete.Vector import Vector\n"
   ]
  },
  {
   "cell_type": "markdown",
   "metadata": {},
   "source": [
    "# Step 2: Exploring the MinkowskiDistance Class\n",
    "\n",
    "Understanding the Resource Attribute\n",
    "\n",
    "The `resource` attribute in the `MinkowskiDistance` class provides metadata or configuration details related to the Minkowski distance calculation. Let's explore what this attribute contains."
   ]
  },
  {
   "cell_type": "code",
   "execution_count": 2,
   "metadata": {},
   "outputs": [
    {
     "data": {
      "text/plain": [
       "'Distance'"
      ]
     },
     "execution_count": 2,
     "metadata": {},
     "output_type": "execute_result"
    }
   ],
   "source": [
    "MinkowskiDistance().resource \n",
    "\n"
   ]
  },
  {
   "cell_type": "markdown",
   "metadata": {},
   "source": [
    "Understanding the Type Attribute\n",
    "\n",
    "The `type` attribute indicates the specific type of the distance metric or class. This helps distinguish MinkowskiDistance from other metrics available in the SDK."
   ]
  },
  {
   "cell_type": "code",
   "execution_count": 3,
   "metadata": {},
   "outputs": [
    {
     "data": {
      "text/plain": [
       "'MinkowskiDistance'"
      ]
     },
     "execution_count": 3,
     "metadata": {},
     "output_type": "execute_result"
    }
   ],
   "source": [
    "MinkowskiDistance().type \n",
    "\n"
   ]
  },
  {
   "cell_type": "markdown",
   "metadata": {},
   "source": [
    "# Step 3: Ensuring Object Consistency Through Serialization\n",
    "\n",
    "Serializing and Deserializing the `MinkowskiDistance` Object\n",
    "\n",
    "Serialization converts the `MinkowskiDistance` object to a JSON string for storage or transmission. Deserialization restores the object from the JSON string. Ensuring consistency after this process is vital for applications requiring persistent object states."
   ]
  },
  {
   "cell_type": "code",
   "execution_count": 4,
   "metadata": {},
   "outputs": [
    {
     "data": {
      "text/plain": [
       "True"
      ]
     },
     "execution_count": 4,
     "metadata": {},
     "output_type": "execute_result"
    }
   ],
   "source": [
    "distance = MinkowskiDistance() \n",
    "distance.id == MinkowskiDistance.model_validate_json(distance.model_dump_json()).id\n"
   ]
  },
  {
   "cell_type": "markdown",
   "metadata": {},
   "source": [
    "# Step 4: Calculating Minkowski Distance Between Two Vectors\n",
    "\n",
    "Practical Example: Calculating Distance Between Identical Vectors\n",
    "\n",
    "The `MinkowskiDistance` class provides a `distance()` method to compute the Minkowski distance between two vectors. This metric allows flexibility in how distances are computed by adjusting the 𝑝 parameter. Here, we compute the Minkowski distance between two identical vectors, which should result in a distance of 0.0."
   ]
  },
  {
   "cell_type": "code",
   "execution_count": 5,
   "metadata": {},
   "outputs": [
    {
     "data": {
      "text/plain": [
       "True"
      ]
     },
     "execution_count": 5,
     "metadata": {},
     "output_type": "execute_result"
    }
   ],
   "source": [
    "MinkowskiDistance().distance(\n",
    "\t    Vector(value=[1,2]), \n",
    "\t    Vector(value=[1,2])\n",
    "\t    ) == 0.0"
   ]
  },
  {
   "cell_type": "markdown",
   "metadata": {},
   "source": [
    "Explanation:\n",
    "\n",
    "- Since both vectors have the same values `[1, 2]`, the Minkowski distance is `0.0`, indicating no difference between the two points."
   ]
  },
  {
   "cell_type": "markdown",
   "metadata": {},
   "source": [
    "Experimenting with Different Values of 𝑝\n",
    "\n",
    "To showcase the flexibility of the Minkowski distance, let's explore how changing the parameter 𝑝 affects the distance calculation between two different vectors."
   ]
  },
  {
   "cell_type": "code",
   "execution_count": 6,
   "metadata": {},
   "outputs": [
    {
     "data": {
      "text/plain": [
       "(4.0, 2.8284271247461903)"
      ]
     },
     "execution_count": 6,
     "metadata": {},
     "output_type": "execute_result"
    }
   ],
   "source": [
    "# Define two different vectors\n",
    "vector3 = Vector(value=[3, 4])\n",
    "vector4 = Vector(value=[1, 2])\n",
    "\n",
    "# Create a MinkowskiDistance object with p = 1 (Manhattan distance)\n",
    "distance_p1 = MinkowskiDistance(p=1)\n",
    "manhattan_distance = distance_p1.distance(vector3, vector4)\n",
    "\n",
    "# Create a MinkowskiDistance object with p = 2 (Euclidean distance)\n",
    "distance_p2 = MinkowskiDistance(p=2)\n",
    "euclidean_distance = distance_p2.distance(vector3, vector4)\n",
    "\n",
    "# Output the computed distances\n",
    "manhattan_distance, euclidean_distance\n"
   ]
  },
  {
   "cell_type": "markdown",
   "metadata": {},
   "source": [
    "Explanation:\n",
    "\n",
    "- Manhattan Distance (p = 1): Calculates the sum of the absolute differences between corresponding elements of the vectors.\n",
    "\n",
    "- Euclidean Distance (p = 2): Computes the square root of the sum of the squared differences between corresponding elements of the vectors."
   ]
  },
  {
   "cell_type": "markdown",
   "metadata": {},
   "source": [
    "# Conclusion\n",
    "\n",
    "In this notebook, we covered:\n",
    "\n",
    "- Importing Required Libraries: We loaded the `MinkowskiDistance` and `Vector` classes from the SDK.\n",
    "\n",
    "- Exploring Class Attributes: We examined the `resource` and `type` attributes of the `MinkowskiDistance` class.\n",
    "\n",
    "- Ensuring Object Consistency: We demonstrated how to serialize and deserialize a `MinkowskiDistance` object and verified its consistency.\n",
    "\n",
    "- Calculating Minkowski Distance: We computed the Minkowski distance for identical vectors and explored the impact of different 𝑝 values on distance calculations.\n",
    "\n",
    "The Minkowski distance metric is a versatile tool in various fields, such as machine learning, data analysis, and computer vision. It provides a general framework for distance calculation, encompassing both Manhattan and Euclidean distances. By understanding how to effectively use this metric, developers can enhance their models' performance and make more informed decisions based on the spatial properties of their data."
   ]
  },
  {
   "cell_type": "code",
   "execution_count": null,
   "metadata": {},
   "outputs": [],
   "source": []
  }
 ],
 "metadata": {
  "kernelspec": {
   "display_name": ".venv",
   "language": "python",
   "name": "python3"
  },
  "language_info": {
   "codemirror_mode": {
    "name": "ipython",
    "version": 3
   },
   "file_extension": ".py",
   "mimetype": "text/x-python",
   "name": "python",
   "nbconvert_exporter": "python",
   "pygments_lexer": "ipython3",
   "version": "3.10.9"
  }
 },
 "nbformat": 4,
 "nbformat_minor": 2
}
