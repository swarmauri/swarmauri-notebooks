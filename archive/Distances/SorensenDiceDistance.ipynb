{
 "cells": [
  {
   "cell_type": "markdown",
   "metadata": {},
   "source": [
    "# **Understanding Sørensen–Dice Distance in Vector Space**\n",
    "\n",
    "In this notebook, we will explore how to use the `SorensenDiceDistance` class from the `swarmauri` SDK to compute distances between vectors. The Sørensen–Dice distance is a measure of similarity between two sets, commonly used in data analysis, text comparison, and clustering tasks. It is particularly useful when comparing two binary data sets or sets of categorical data.\n",
    "\n",
    "The Sørensen–Dice distance is defined as:\n",
    "\n",
    "$$\n",
    "\\text{Sørensen–Dice Distance} = 1 - \\frac{2 \\times |A \\cap B|}{|A| + |B|}\n",
    "$$\n",
    "\n",
    "where \\( A \\) and \\( B \\) are two sets, and \\( |A \\cap B| \\) is the number of elements in the intersection of \\( A \\) and \\( B \\).\n",
    "\n",
    "### **Step 1: Importing Required Libraries**\n",
    "\n",
    "To begin, we need to import the necessary libraries. The `SorensenDiceDistance` class provides the functionality to compute the Sørensen–Dice distance between two vectors. The `Vector` class is used to create vector representations of the data points.\n"
   ]
  },
  {
   "cell_type": "code",
   "execution_count": 9,
   "metadata": {},
   "outputs": [],
   "source": [
    "\n",
    "from swarmauri.standard.distances.concrete.SorensenDiceDistance import SorensenDiceDistance\n",
    "from swarmauri.standard.vectors.concrete.Vector import Vector\n"
   ]
  },
  {
   "cell_type": "markdown",
   "metadata": {},
   "source": [
    "## Step 2: Exploring the SorensenDiceDistance Class\n",
    "\n",
    "Understanding the Resource Attribute\n",
    "\n",
    "The `resource` attribute in the `SorensenDiceDistance` class provides metadata or configuration details related to the Sørensen–Dice distance calculation. Let’s explore what this attribute contains."
   ]
  },
  {
   "cell_type": "code",
   "execution_count": 4,
   "metadata": {},
   "outputs": [
    {
     "data": {
      "text/plain": [
       "'Distance'"
      ]
     },
     "execution_count": 4,
     "metadata": {},
     "output_type": "execute_result"
    }
   ],
   "source": [
    "SorensenDiceDistance().resource \n",
    "\n"
   ]
  },
  {
   "cell_type": "markdown",
   "metadata": {},
   "source": [
    "Understanding the Type Attribute\n",
    "\n",
    "The `type` attribute indicates the specific type or class of the distance metric. This is helpful for distinguishing SorensenDiceDistance from other metrics available in the SDK."
   ]
  },
  {
   "cell_type": "code",
   "execution_count": 6,
   "metadata": {},
   "outputs": [
    {
     "data": {
      "text/plain": [
       "'SorensenDiceDistance'"
      ]
     },
     "execution_count": 6,
     "metadata": {},
     "output_type": "execute_result"
    }
   ],
   "source": [
    "SorensenDiceDistance().type"
   ]
  },
  {
   "cell_type": "markdown",
   "metadata": {},
   "source": [
    "## Step 3: Ensuring Object Consistency Through Serialization\n",
    "\n",
    "Serializing and Deserializing the SorensenDiceDistance Object\n",
    "\n",
    "Serialization converts a `SorensenDiceDistance` object into a JSON string for storage or transmission. Deserialization converts the JSON string back into a `SorensenDiceDistance` object. This process is crucial for applications where distance metric configurations need to be saved and restored."
   ]
  },
  {
   "cell_type": "code",
   "execution_count": 4,
   "metadata": {},
   "outputs": [
    {
     "data": {
      "text/plain": [
       "True"
      ]
     },
     "execution_count": 4,
     "metadata": {},
     "output_type": "execute_result"
    }
   ],
   "source": [
    "distance = SorensenDiceDistance() \n",
    "distance.id == SorensenDiceDistance.model_validate_json(distance.model_dump_json()).id\n",
    "\n"
   ]
  },
  {
   "cell_type": "markdown",
   "metadata": {},
   "source": [
    "## Step 4: Calculating Sørensen–Dice Distance Between Two Vectors\n",
    "\n",
    "Practical Example: Calculating Distance Between Identical Vectors\n",
    "\n",
    "The `SorensenDiceDistance` class provides a `distance()` method to compute the Sørensen–Dice distance between two vectors. This metric measures the similarity between two vectors by comparing the elements they share. Let's compute the distance between two identical vectors, which should result in a distance of `0.0` because they are exactly the same."
   ]
  },
  {
   "cell_type": "code",
   "execution_count": 5,
   "metadata": {},
   "outputs": [
    {
     "data": {
      "text/plain": [
       "True"
      ]
     },
     "execution_count": 5,
     "metadata": {},
     "output_type": "execute_result"
    }
   ],
   "source": [
    "SorensenDiceDistance().distance(\n",
    "\t    Vector(value=[1,2]), \n",
    "\t    Vector(value=[1,2])\n",
    "\t    ) == 0.0"
   ]
  },
  {
   "cell_type": "markdown",
   "metadata": {},
   "source": [
    "A More Complex Example: Distance Between Different Vectors\n",
    "\n",
    "To further illustrate the use of the Sørensen–Dice distance, let’s calculate the distance between two different vectors and observe how the metric responds to varying levels of similarity."
   ]
  },
  {
   "cell_type": "code",
   "execution_count": 10,
   "metadata": {},
   "outputs": [
    {
     "data": {
      "text/plain": [
       "0.0"
      ]
     },
     "execution_count": 10,
     "metadata": {},
     "output_type": "execute_result"
    }
   ],
   "source": [
    "# Define two different vectors\n",
    "vector3 = Vector(value=[1, 3])\n",
    "vector4 = Vector(value=[1, 2])\n",
    "\n",
    "# Compute the Sørensen–Dice distance between the two vectors\n",
    "distance_result_different = SorensenDiceDistance().distance(vector3, vector4)\n",
    "\n",
    "# Output the computed distance\n",
    "distance_result_different\n"
   ]
  },
  {
   "cell_type": "markdown",
   "metadata": {},
   "source": [
    "The Sørensen–Dice distance is a valuable tool for comparing sets, especially in fields such as bioinformatics, text analysis, and clustering. By understanding how to effectively use this metric, developers can improve their models' performance and make more informed decisions based on data similarity."
   ]
  },
  {
   "cell_type": "markdown",
   "metadata": {},
   "source": [
    "**Next Steps**\n",
    "\n",
    "Experiment with different vectors and see how the Sørensen–Dice distance changes. Consider how this metric could be used in real-world scenarios such as comparing genetic sequences, detecting plagiarism, or clustering documents based on content similarity."
   ]
  },
  {
   "cell_type": "code",
   "execution_count": null,
   "metadata": {},
   "outputs": [],
   "source": []
  }
 ],
 "metadata": {
  "kernelspec": {
   "display_name": ".venv",
   "language": "python",
   "name": "python3"
  },
  "language_info": {
   "codemirror_mode": {
    "name": "ipython",
    "version": 3
   },
   "file_extension": ".py",
   "mimetype": "text/x-python",
   "name": "python",
   "nbconvert_exporter": "python",
   "pygments_lexer": "ipython3",
   "version": "3.10.9"
  }
 },
 "nbformat": 4,
 "nbformat_minor": 2
}
