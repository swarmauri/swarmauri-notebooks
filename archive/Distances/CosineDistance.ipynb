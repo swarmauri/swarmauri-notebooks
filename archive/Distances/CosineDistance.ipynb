{
 "cells": [
  {
   "cell_type": "markdown",
   "id": "17b62cfd-4515-48ac-9051-d6c15bd7d011",
   "metadata": {},
   "source": [
    "# Import Dependencies"
   ]
  },
  {
   "cell_type": "code",
   "execution_count": 1,
   "id": "ea9dc61a-1871-4581-8e12-4ce883ba027c",
   "metadata": {},
   "outputs": [],
   "source": [
    "from swarmauri.standard.distances.concrete.CosineDistance import CosineDistance\n",
    "from swarmauri.standard.vectors.concrete.Vector import Vector"
   ]
  },
  {
   "cell_type": "markdown",
   "id": "ed2eeb4d-44e0-4f25-9771-a9cf00f99b17",
   "metadata": {},
   "source": [
    "# Instantiate Distance"
   ]
  },
  {
   "cell_type": "code",
   "execution_count": 2,
   "id": "4a5d75d7-8f45-4b69-9047-3c5131d9d7a9",
   "metadata": {},
   "outputs": [],
   "source": [
    "cosine_distance = CosineDistance() "
   ]
  },
  {
   "cell_type": "markdown",
   "id": "72ded508-aaee-4ecd-8cd9-888e0db0e71b",
   "metadata": {},
   "source": [
    "# Type and Resource of Distance"
   ]
  },
  {
   "cell_type": "code",
   "execution_count": 3,
   "id": "e36a4860-99ce-43c6-a9ac-eb0520c50007",
   "metadata": {},
   "outputs": [
    {
     "name": "stdout",
     "output_type": "stream",
     "text": [
      "resource:Distance, type:CosineDistance\n"
     ]
    }
   ],
   "source": [
    "print(f'resource:{cosine_distance.resource}, type:{cosine_distance.type}')"
   ]
  },
  {
   "cell_type": "markdown",
   "id": "e00c3d63-a0ed-4835-b1bc-8681081b77c0",
   "metadata": {},
   "source": [
    "# Distance"
   ]
  },
  {
   "cell_type": "code",
   "execution_count": 4,
   "id": "5f9fe7ca-d8ac-4dd6-b422-d9170fe15c59",
   "metadata": {},
   "outputs": [
    {
     "data": {
      "text/plain": [
       "2.220446049250313e-16"
      ]
     },
     "execution_count": 4,
     "metadata": {},
     "output_type": "execute_result"
    }
   ],
   "source": [
    "cosine_distance.distance(Vector(value=[1,2]), Vector(value=[1,2]))"
   ]
  },
  {
   "cell_type": "markdown",
   "id": "1da89716-8c92-40bb-8b1e-c97da843d747",
   "metadata": {},
   "source": [
    "# Serialization"
   ]
  },
  {
   "cell_type": "code",
   "execution_count": 5,
   "id": "56bae818-7309-4b29-978c-5cfdc6dd8a1b",
   "metadata": {},
   "outputs": [
    {
     "data": {
      "text/plain": [
       "True"
      ]
     },
     "execution_count": 5,
     "metadata": {},
     "output_type": "execute_result"
    }
   ],
   "source": [
    "cosine_distance.id == CosineDistance.model_validate_json(cosine_distance.model_dump_json()).id"
   ]
  }
 ],
 "metadata": {
  "kernelspec": {
   "display_name": "Python 3 (ipykernel)",
   "language": "python",
   "name": "python3"
  },
  "language_info": {
   "codemirror_mode": {
    "name": "ipython",
    "version": 3
   },
   "file_extension": ".py",
   "mimetype": "text/x-python",
   "name": "python",
   "nbconvert_exporter": "python",
   "pygments_lexer": "ipython3",
   "version": "3.10.11"
  }
 },
 "nbformat": 4,
 "nbformat_minor": 5
}
