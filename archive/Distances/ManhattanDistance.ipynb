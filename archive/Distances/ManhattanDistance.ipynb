{
 "cells": [
  {
   "cell_type": "markdown",
   "metadata": {},
   "source": [
    "# **Introduction to Manhattan Distance in Vector Space**\n",
    "\n",
    "In this notebook, we'll explore how to use the `ManhattanDistance` class from the swarmauri SDK to calculate the Manhattan distance between vectors. The Manhattan distance, also known as the L1 norm or taxicab distance, measures the absolute difference between the coordinates of two points. This metric is particularly useful in machine learning, data analysis, and computer vision, where it provides a simple yet effective way to measure differences or similarities between data points.\n",
    "\n",
    "# Step 1: Importing Required Libraries\n",
    "\n",
    "To begin, let's import the necessary libraries. The `ManhattanDistance` class provides the functionality to compute the Manhattan distance between two vectors. The `Vector` class is used to create vector representations of data points."
   ]
  },
  {
   "cell_type": "code",
   "execution_count": 1,
   "metadata": {},
   "outputs": [],
   "source": [
    "from swarmauri.standard.distances.concrete.ManhattanDistance import ManhattanDistance\n",
    "from swarmauri.standard.vectors.concrete.Vector import Vector\n",
    "\n"
   ]
  },
  {
   "cell_type": "markdown",
   "metadata": {},
   "source": [
    "# Step 2: Exploring the ManhattanDistance Class\n",
    "\n",
    "Understanding the Resource Attribute\n",
    "\n",
    "The `resource` attribute often provides valuable information about the configuration or metadata associated with the ManhattanDistance calculation. Let’s explore what resources are utilized or referenced by this distance metric."
   ]
  },
  {
   "cell_type": "code",
   "execution_count": 2,
   "metadata": {},
   "outputs": [
    {
     "data": {
      "text/plain": [
       "'Distance'"
      ]
     },
     "execution_count": 2,
     "metadata": {},
     "output_type": "execute_result"
    }
   ],
   "source": [
    "ManhattanDistance().resource \n"
   ]
  },
  {
   "cell_type": "markdown",
   "metadata": {},
   "source": [
    "Understanding the Type Attribute\n",
    "\n",
    "The `type` attribute indicates the specific distance metric type or class. This can help differentiate ManhattanDistance from other distance metrics available in the SDK."
   ]
  },
  {
   "cell_type": "code",
   "execution_count": 3,
   "metadata": {},
   "outputs": [
    {
     "data": {
      "text/plain": [
       "'ManhattanDistance'"
      ]
     },
     "execution_count": 3,
     "metadata": {},
     "output_type": "execute_result"
    }
   ],
   "source": [
    "ManhattanDistance().type  \n"
   ]
  },
  {
   "cell_type": "markdown",
   "metadata": {},
   "source": [
    "# Step 3: Ensuring Object Consistency Through Serialization\n",
    "\n",
    "Why Serialize and Deserialize?\n",
    "\n",
    "Serialization allows us to convert a `ManhattanDistance` object into a JSON string, which can be easily stored or transmitted. Deserialization is the reverse process, converting the JSON string back into a `ManhattanDistance` object. This is useful for saving and restoring configurations or model states."
   ]
  },
  {
   "cell_type": "code",
   "execution_count": 4,
   "metadata": {},
   "outputs": [
    {
     "data": {
      "text/plain": [
       "True"
      ]
     },
     "execution_count": 4,
     "metadata": {},
     "output_type": "execute_result"
    }
   ],
   "source": [
    "distance = ManhattanDistance() \n",
    "distance.id == ManhattanDistance.model_validate_json(distance.model_dump_json()).id\n",
    "\n"
   ]
  },
  {
   "cell_type": "markdown",
   "metadata": {},
   "source": [
    "# Step 4: Calculating Manhattan Distance Between Two Vectors\n",
    "\n",
    "Practical Example: Calculating Distance Between Vectors\n",
    "\n",
    "The `ManhattanDistance` class offers a `distance()` method to compute the Manhattan distance between two vectors. This distance is the sum of the absolute differences of their corresponding components. Let's compute the distance between two vectors representing points in a 2D space."
   ]
  },
  {
   "cell_type": "code",
   "execution_count": 6,
   "metadata": {},
   "outputs": [
    {
     "data": {
      "text/plain": [
       "True"
      ]
     },
     "execution_count": 6,
     "metadata": {},
     "output_type": "execute_result"
    }
   ],
   "source": [
    "# Define two identical vectors\n",
    "vector1 = Vector(value=[1, 2])\n",
    "vector2 = Vector(value=[1, 2])\n",
    "\n",
    "# Compute the Manhattan distance between the two vectors\n",
    "distance_result = ManhattanDistance().distance(vector1, vector2)\n",
    "\n",
    "# Verify the result is 0.0, as the vectors are identical\n",
    "distance_result == 0.0\n"
   ]
  },
  {
   "cell_type": "markdown",
   "metadata": {},
   "source": [
    "Explanation:\n",
    "\n",
    "- The Manhattan distance between two identical vectors `[1, 2]` and `[1, 2]` is `0.0`, as there is no difference between their respective coordinates.\n",
    "\n",
    "- This example illustrates the use of ManhattanDistance to compute distances in a straightforward case. In practice, Manhattan distance is often used to compare feature vectors in machine learning models, especially when dealing with high-dimensional data."
   ]
  },
  {
   "cell_type": "markdown",
   "metadata": {},
   "source": [
    "A More Complex Example: Distance Between Different Vectors\n",
    "\n",
    "Let’s see how the Manhattan distance works with two different vectors:"
   ]
  },
  {
   "cell_type": "code",
   "execution_count": 7,
   "metadata": {},
   "outputs": [
    {
     "data": {
      "text/plain": [
       "4.0"
      ]
     },
     "execution_count": 7,
     "metadata": {},
     "output_type": "execute_result"
    }
   ],
   "source": [
    "# Define two different vectors\n",
    "vector3 = Vector(value=[3, 4])\n",
    "vector4 = Vector(value=[1, 2])\n",
    "\n",
    "# Compute the Manhattan distance between the two vectors\n",
    "distance_result_complex = ManhattanDistance().distance(vector3, vector4)\n",
    "\n",
    "# Output the computed distance\n",
    "distance_result_complex\n"
   ]
  },
  {
   "cell_type": "markdown",
   "metadata": {},
   "source": [
    "The `ManhattanDistance` metric is a fundamental tool in various fields, including machine learning, data analysis, and computer vision. By understanding how to leverage it effectively, developers can improve their models' performance and make more accurate predictions based on spatial data."
   ]
  },
  {
   "cell_type": "code",
   "execution_count": null,
   "metadata": {},
   "outputs": [],
   "source": []
  }
 ],
 "metadata": {
  "kernelspec": {
   "display_name": ".venv",
   "language": "python",
   "name": "python3"
  },
  "language_info": {
   "codemirror_mode": {
    "name": "ipython",
    "version": 3
   },
   "file_extension": ".py",
   "mimetype": "text/x-python",
   "name": "python",
   "nbconvert_exporter": "python",
   "pygments_lexer": "ipython3",
   "version": "3.10.9"
  }
 },
 "nbformat": 4,
 "nbformat_minor": 2
}
