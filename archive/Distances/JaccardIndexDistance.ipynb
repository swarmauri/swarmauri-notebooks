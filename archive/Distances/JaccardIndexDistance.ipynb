{
 "cells": [
  {
   "cell_type": "markdown",
   "id": "5331048d-d2e2-489e-ae6e-49c013b65535",
   "metadata": {},
   "source": [
    "# Import Dependencies "
   ]
  },
  {
   "cell_type": "code",
   "execution_count": 1,
   "id": "374b3947-20a2-49b8-9d56-55d9933510a1",
   "metadata": {},
   "outputs": [],
   "source": [
    "from swarmauri.standard.distances.concrete.JaccardIndexDistance import JaccardIndexDistance\n",
    "from swarmauri.standard.vectors.concrete.Vector import Vector"
   ]
  },
  {
   "cell_type": "markdown",
   "id": "9046b8da-0f84-4f1d-ad49-87af4bb4d490",
   "metadata": {},
   "source": [
    "# Instantiate Distance"
   ]
  },
  {
   "cell_type": "code",
   "execution_count": 2,
   "id": "eca16cef-cd92-4d6c-b956-58ac57d25336",
   "metadata": {},
   "outputs": [],
   "source": [
    "jaccard_distance = JaccardIndexDistance() "
   ]
  },
  {
   "cell_type": "markdown",
   "id": "d21c282a-eaed-4934-8197-346332269b17",
   "metadata": {},
   "source": [
    "# Type and Resource of Distance"
   ]
  },
  {
   "cell_type": "code",
   "execution_count": 3,
   "id": "12d1b099-1e2e-409a-abdb-d5ffe9fb37ce",
   "metadata": {},
   "outputs": [
    {
     "name": "stdout",
     "output_type": "stream",
     "text": [
      "resource:Distance, type:JaccardIndexDistance\n"
     ]
    }
   ],
   "source": [
    "print(f'resource:{jaccard_distance.resource}, type:{jaccard_distance.type}')"
   ]
  },
  {
   "cell_type": "markdown",
   "id": "9951642d-e648-4001-9ecb-12b6c8ce6b9d",
   "metadata": {},
   "source": [
    "# Distance"
   ]
  },
  {
   "cell_type": "code",
   "execution_count": 4,
   "id": "d8d10165-12c6-4d72-ad8f-172c1a3f3d49",
   "metadata": {},
   "outputs": [
    {
     "data": {
      "text/plain": [
       "0.0"
      ]
     },
     "execution_count": 4,
     "metadata": {},
     "output_type": "execute_result"
    }
   ],
   "source": [
    "JaccardIndexDistance().distance(\n",
    "        Vector(value=[1,2]), \n",
    "        Vector(value=[1,2])\n",
    "        )"
   ]
  },
  {
   "cell_type": "markdown",
   "id": "1f0c5eba-08a9-4d4c-b73a-49d22623eeb0",
   "metadata": {},
   "source": [
    "# Serialization"
   ]
  },
  {
   "cell_type": "code",
   "execution_count": 5,
   "id": "fb109ab6-6756-4f7c-ab1b-ff53d50ab455",
   "metadata": {},
   "outputs": [
    {
     "data": {
      "text/plain": [
       "True"
      ]
     },
     "execution_count": 5,
     "metadata": {},
     "output_type": "execute_result"
    }
   ],
   "source": [
    "jaccard_distance.id == JaccardIndexDistance.model_validate_json(jaccard_distance.model_dump_json()).id"
   ]
  }
 ],
 "metadata": {
  "kernelspec": {
   "display_name": "Python 3 (ipykernel)",
   "language": "python",
   "name": "python3"
  },
  "language_info": {
   "codemirror_mode": {
    "name": "ipython",
    "version": 3
   },
   "file_extension": ".py",
   "mimetype": "text/x-python",
   "name": "python",
   "nbconvert_exporter": "python",
   "pygments_lexer": "ipython3",
   "version": "3.10.11"
  }
 },
 "nbformat": 4,
 "nbformat_minor": 5
}
