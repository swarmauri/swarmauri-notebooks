{
 "cells": [
  {
   "cell_type": "markdown",
   "metadata": {},
   "source": [
    "# Importing Required Libraries\n",
    "\n",
    "To start, we need to import the necessary libraries and modules. The `ChebyshevDistance` class will be used to compute the Chebyshev distance, a numerical measure between two vectors. The `Vector` class represents the vectors used in distance calculations."
   ]
  },
  {
   "cell_type": "code",
   "execution_count": 1,
   "metadata": {},
   "outputs": [],
   "source": [
    "from swarmauri.standard.distances.concrete.ChebyshevDistance import ChebyshevDistance\n",
    "from swarmauri.standard.vectors.concrete.Vector import Vector"
   ]
  },
  {
   "cell_type": "markdown",
   "metadata": {},
   "source": [
    "# Exploring ChebyshevDistance Class Attributes\n",
    "\n",
    "Checking Resource Attribute\n",
    "\n",
    "The resource attribute of the ChebyshevDistance class provides metadata or configurations related to the Chebyshev distance calculation. Let's inspect this attribute to understand what resources are utilized or referenced by this distance metric."
   ]
  },
  {
   "cell_type": "code",
   "execution_count": 2,
   "metadata": {},
   "outputs": [
    {
     "data": {
      "text/plain": [
       "'Distance'"
      ]
     },
     "execution_count": 2,
     "metadata": {},
     "output_type": "execute_result"
    }
   ],
   "source": [
    "ChebyshevDistance().resource "
   ]
  },
  {
   "cell_type": "markdown",
   "metadata": {},
   "source": [
    "Checking Type Attribute\n",
    "\n",
    "The type attribute typically indicates the type of distance metric or the class type. This can help differentiate between various distance metrics available in the SDK."
   ]
  },
  {
   "cell_type": "code",
   "execution_count": 3,
   "metadata": {},
   "outputs": [
    {
     "data": {
      "text/plain": [
       "'ChebyshevDistance'"
      ]
     },
     "execution_count": 3,
     "metadata": {},
     "output_type": "execute_result"
    }
   ],
   "source": [
    "ChebyshevDistance().type \n"
   ]
  },
  {
   "cell_type": "markdown",
   "metadata": {},
   "source": [
    "# Validating ChebyshevDistance Object Serialization\n",
    "\n",
    "Serializing and Deserializing ChebyshevDistance Object\n",
    "\n",
    "Serialization converts the ChebyshevDistance object to a JSON string, while deserialization converts it back to an object. This is useful for saving and loading configurations or states. Here, we ensure that the object remains consistent through this process."
   ]
  },
  {
   "cell_type": "code",
   "execution_count": 5,
   "metadata": {},
   "outputs": [
    {
     "data": {
      "text/plain": [
       "True"
      ]
     },
     "execution_count": 5,
     "metadata": {},
     "output_type": "execute_result"
    }
   ],
   "source": [
    "distance = ChebyshevDistance() \n",
    "distance.id == ChebyshevDistance.model_validate_json(distance.model_dump_json()).id\n"
   ]
  },
  {
   "cell_type": "markdown",
   "metadata": {},
   "source": [
    "Note:\n",
    "\n",
    "- `model_dump_json()` method converts the ChebyshevDistance object to a JSON string.\n",
    "\n",
    "- `model_validate_json()` method creates a new ChebyshevDistance object from the JSON string.\n",
    "\n",
    "- The `id` attribute is used to verify that the serialized and deserialized objects are the same."
   ]
  },
  {
   "cell_type": "markdown",
   "metadata": {},
   "source": [
    "# Calculating Chebyshev Distance Between Two Vectors\n",
    "\n",
    "Using the ChebyshevDistance to Compute Distance\n",
    "\n",
    "The `ChebyshevDistance` class provides a `distance()` method to compute the Chebyshev distance between two vectors. The Chebyshev distance between two vectors is the maximum absolute difference between their elements. Let's compute this distance between two identical vectors, which should result in a distance of `0.0`."
   ]
  },
  {
   "cell_type": "code",
   "execution_count": 7,
   "metadata": {},
   "outputs": [
    {
     "data": {
      "text/plain": [
       "True"
      ]
     },
     "execution_count": 7,
     "metadata": {},
     "output_type": "execute_result"
    }
   ],
   "source": [
    "# Create two identical vectors\n",
    "vector1 = Vector(value=[1, 2])\n",
    "vector2 = Vector(value=[1, 2])\n",
    "\n",
    "# Compute the Chebyshev distance between the two vectors\n",
    "distance_result = ChebyshevDistance().distance(vector1, vector2)\n",
    "\n",
    "# Verify that the distance between two identical vectors is 0.0\n",
    "distance_result == 0.0\n"
   ]
  },
  {
   "cell_type": "markdown",
   "metadata": {},
   "source": [
    "Explanation:\n",
    "\n",
    "- The `distance()` method calculates the Chebyshev distance between the two input vectors (`vector1` and `vector2`).\n",
    "\n",
    "- Since both vectors have the same values `[1, 2]`, the Chebyshev distance is `0.0`, indicating no difference between the vectors.\n"
   ]
  },
  {
   "cell_type": "markdown",
   "metadata": {},
   "source": [
    "# Summary\n",
    "\n",
    "In this notebook, we've covered the following steps:\n",
    "\n",
    "- Importing Required Libraries: We imported the necessary classes (`ChebyshevDistance` and `Vector`) from the SDK.\n",
    "\n",
    "- Exploring ChebyshevDistance Class Attributes: We checked the `resource` and `type` attributes of the `ChebyshevDistance` class.\n",
    "\n",
    "- Validating Object Serialization: We demonstrated how to serialize and deserialize a `ChebyshevDistance` object and verified object consistency.\n",
    "\n",
    "- Calculating Chebyshev Distance: We computed the Chebyshev distance between two vectors and verified the calculation for identical vectors.\n",
    "\n",
    "This notebook demonstrates how to use the `ChebyshevDistance` class to perform vector distance calculations, which is useful in many machine learning and data analysis workflows. Feel free to experiment with different vectors and explore other distance metrics available in the SDK."
   ]
  },
  {
   "cell_type": "code",
   "execution_count": null,
   "metadata": {},
   "outputs": [],
   "source": []
  }
 ],
 "metadata": {
  "kernelspec": {
   "display_name": ".venv",
   "language": "python",
   "name": "python3"
  },
  "language_info": {
   "codemirror_mode": {
    "name": "ipython",
    "version": 3
   },
   "file_extension": ".py",
   "mimetype": "text/x-python",
   "name": "python",
   "nbconvert_exporter": "python",
   "pygments_lexer": "ipython3",
   "version": "3.10.9"
  }
 },
 "nbformat": 4,
 "nbformat_minor": 2
}
