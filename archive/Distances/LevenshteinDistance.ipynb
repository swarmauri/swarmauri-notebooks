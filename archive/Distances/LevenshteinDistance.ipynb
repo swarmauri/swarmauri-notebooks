{
 "cells": [
  {
   "cell_type": "markdown",
   "id": "2d63d1ae-f7bd-4b3e-9ee3-142a99defeae",
   "metadata": {},
   "source": [
    "# Import Dependencies"
   ]
  },
  {
   "cell_type": "code",
   "execution_count": 1,
   "id": "1081dd57-4e2b-4e64-8ab7-c63c4cc97346",
   "metadata": {},
   "outputs": [],
   "source": [
    "from swarmauri.standard.distances.concrete.LevenshteinDistance import LevenshteinDistance\n",
    "from swarmauri.standard.vectors.concrete.Vector import Vector"
   ]
  },
  {
   "cell_type": "markdown",
   "id": "ddc74e84-2f91-46ec-83ea-7108bb78e333",
   "metadata": {},
   "source": [
    "# Instantiate Distance"
   ]
  },
  {
   "cell_type": "code",
   "execution_count": 2,
   "id": "e3b5e446-1002-4d58-8e54-6d0d9303f6a9",
   "metadata": {},
   "outputs": [],
   "source": [
    "levenshtein_distance = LevenshteinDistance() "
   ]
  },
  {
   "cell_type": "markdown",
   "id": "f142f865-29cb-446a-8ef4-de289b9df3d7",
   "metadata": {},
   "source": [
    "# Type and Resource of distance"
   ]
  },
  {
   "cell_type": "code",
   "execution_count": 3,
   "id": "5bfaf255-e1d1-426e-a009-f4eb2a1668c5",
   "metadata": {},
   "outputs": [
    {
     "name": "stdout",
     "output_type": "stream",
     "text": [
      "resource:Distance, type:LevenshteinDistance\n"
     ]
    }
   ],
   "source": [
    "print(f'resource:{levenshtein_distance.resource}, type:{levenshtein_distance.type}')"
   ]
  },
  {
   "cell_type": "markdown",
   "id": "1042aaae-01c6-4ea0-b5ca-fb840aeca22c",
   "metadata": {},
   "source": [
    "# Distance "
   ]
  },
  {
   "cell_type": "code",
   "execution_count": 4,
   "id": "55f6f892-45ac-4aa1-85d7-4e9abaf2c21b",
   "metadata": {},
   "outputs": [
    {
     "data": {
      "text/plain": [
       "0.0"
      ]
     },
     "execution_count": 4,
     "metadata": {},
     "output_type": "execute_result"
    }
   ],
   "source": [
    "LevenshteinDistance().distance(\n",
    "        Vector(value=[1,2]), \n",
    "        Vector(value=[1,2])\n",
    "        )"
   ]
  },
  {
   "cell_type": "markdown",
   "id": "4bd93c9a-862b-4322-b487-ed3a91743d01",
   "metadata": {},
   "source": [
    "# Serialization"
   ]
  },
  {
   "cell_type": "code",
   "execution_count": 5,
   "id": "67f08584-177e-4240-9de6-f562a84f8108",
   "metadata": {},
   "outputs": [
    {
     "data": {
      "text/plain": [
       "True"
      ]
     },
     "execution_count": 5,
     "metadata": {},
     "output_type": "execute_result"
    }
   ],
   "source": [
    "levenshtein_distance.id == LevenshteinDistance.model_validate_json(levenshtein_distance.model_dump_json()).id"
   ]
  }
 ],
 "metadata": {
  "kernelspec": {
   "display_name": "Python 3 (ipykernel)",
   "language": "python",
   "name": "python3"
  },
  "language_info": {
   "codemirror_mode": {
    "name": "ipython",
    "version": 3
   },
   "file_extension": ".py",
   "mimetype": "text/x-python",
   "name": "python",
   "nbconvert_exporter": "python",
   "pygments_lexer": "ipython3",
   "version": "3.10.11"
  }
 },
 "nbformat": 4,
 "nbformat_minor": 5
}
