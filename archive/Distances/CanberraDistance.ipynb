{
 "cells": [
  {
   "cell_type": "markdown",
   "metadata": {},
   "source": [
    "# Importing Required Libraries\n",
    "\n",
    "First, we need to import the necessary libraries and modules. The CanberraDistance class will be used to compute the Canberra distance, a numerical measure between two vectors. The Vector class represents the vectors used in distance calculations."
   ]
  },
  {
   "cell_type": "code",
   "execution_count": 2,
   "metadata": {},
   "outputs": [],
   "source": [
    "from swarmauri.standard.distances.concrete.CanberraDistance import CanberraDistance  \n",
    "from swarmauri.standard.vectors.concrete.Vector import Vector\n"
   ]
  },
  {
   "cell_type": "markdown",
   "metadata": {},
   "source": [
    "# Exploring CanberraDistance Class Attributes\n",
    "\n",
    "Checking Resource Attribute\n",
    "\n",
    "The resource attribute in the CanberraDistance class provides metadata or configurations related to the Canberra distance calculation. Let's inspect this attribute to understand what resources are utilized or referenced by this distance metric."
   ]
  },
  {
   "cell_type": "code",
   "execution_count": 4,
   "metadata": {},
   "outputs": [
    {
     "data": {
      "text/plain": [
       "'Distance'"
      ]
     },
     "execution_count": 4,
     "metadata": {},
     "output_type": "execute_result"
    }
   ],
   "source": [
    "CanberraDistance().resource"
   ]
  },
  {
   "cell_type": "markdown",
   "metadata": {},
   "source": [
    "Checking Type Attribute\n",
    "\n",
    "The type attribute typically indicates the type of distance metric or the class type. This can help differentiate between various distance metrics available in the SDK."
   ]
  },
  {
   "cell_type": "code",
   "execution_count": 5,
   "metadata": {},
   "outputs": [
    {
     "data": {
      "text/plain": [
       "'CanberraDistance'"
      ]
     },
     "execution_count": 5,
     "metadata": {},
     "output_type": "execute_result"
    }
   ],
   "source": [
    "CanberraDistance().type "
   ]
  },
  {
   "cell_type": "markdown",
   "metadata": {},
   "source": [
    "# Validating CanberraDistance Object Serialization\n",
    "\n",
    "Serializing and Deserializing CanberraDistance Object\n",
    "\n",
    "Serialization converts the CanberraDistance object to a JSON string, while deserialization converts it back to an object. This is useful for saving and loading configurations or states. Here, we ensure that the object remains consistent through this process."
   ]
  },
  {
   "cell_type": "code",
   "execution_count": 6,
   "metadata": {},
   "outputs": [
    {
     "data": {
      "text/plain": [
       "True"
      ]
     },
     "execution_count": 6,
     "metadata": {},
     "output_type": "execute_result"
    }
   ],
   "source": [
    "distance = CanberraDistance() \n",
    "distance.id == CanberraDistance.model_validate_json(distance.model_dump_json()).id"
   ]
  },
  {
   "cell_type": "markdown",
   "metadata": {},
   "source": [
    "Note:\n",
    "\n",
    "- `model_dump_json()` method converts the CanberraDistance object to a JSON string.\n",
    "\n",
    "- `model_validate_json()` method creates a new CanberraDistance object from the JSON string.\n",
    "\n",
    "- The `id` attribute is used to verify that the serialized and deserialized objects are the same."
   ]
  },
  {
   "cell_type": "markdown",
   "metadata": {},
   "source": [
    "# Calculating Canberra Distance Between Two Vectors\n",
    "\n",
    "Using the CanberraDistance to Compute Distance\n",
    "\n",
    "The CanberraDistance class provides a distance() method to compute the Canberra distance between two vectors. The Canberra distance between two vectors is a measure of the numerical distance between their elements. Let's compute this distance between two identical vectors, which should result in a distance of 0.0."
   ]
  },
  {
   "cell_type": "code",
   "execution_count": 8,
   "metadata": {},
   "outputs": [
    {
     "data": {
      "text/plain": [
       "0.0"
      ]
     },
     "execution_count": 8,
     "metadata": {},
     "output_type": "execute_result"
    }
   ],
   "source": [
    "CanberraDistance().distance(\n",
    "\t    Vector(value=[1,2]), \n",
    "\t    Vector(value=[1,2])\n",
    "\t    ) "
   ]
  },
  {
   "cell_type": "markdown",
   "metadata": {},
   "source": [
    "Explanation:\n",
    "\n",
    "- The `distance()` method calculates the Canberra distance between the two input vectors (`vector1` and `vector2`).\n",
    "\n",
    "- Since both vectors have the same values `[1, 2]`, the Canberra distance is `0.0`, indicating no difference between the vectors."
   ]
  },
  {
   "cell_type": "markdown",
   "metadata": {},
   "source": [
    "This notebook demonstrates how to use the `CanberraDistance` class to perform vector distance calculations, an essential task in many machine learning and data analysis workflows. Feel free to experiment with different vectors and explore other distance metrics available in the SDK."
   ]
  },
  {
   "cell_type": "code",
   "execution_count": null,
   "metadata": {},
   "outputs": [],
   "source": []
  }
 ],
 "metadata": {
  "kernelspec": {
   "display_name": ".venv",
   "language": "python",
   "name": "python3"
  },
  "language_info": {
   "codemirror_mode": {
    "name": "ipython",
    "version": 3
   },
   "file_extension": ".py",
   "mimetype": "text/x-python",
   "name": "python",
   "nbconvert_exporter": "python",
   "pygments_lexer": "ipython3",
   "version": "3.10.9"
  }
 },
 "nbformat": 4,
 "nbformat_minor": 2
}
