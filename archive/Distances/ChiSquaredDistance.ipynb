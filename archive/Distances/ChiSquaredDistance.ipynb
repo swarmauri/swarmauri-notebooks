{
 "cells": [
  {
   "cell_type": "markdown",
   "id": "a714600b-ebe3-4643-9bac-f08cbcc56a11",
   "metadata": {},
   "source": [
    "# Import Dependencies"
   ]
  },
  {
   "cell_type": "code",
   "execution_count": 1,
   "id": "6893ed75-a2b0-4a18-a17c-e7c5eac34224",
   "metadata": {},
   "outputs": [],
   "source": [
    "from swarmauri.standard.distances.concrete.ChiSquaredDistance import ChiSquaredDistance\n",
    "from swarmauri.standard.vectors.concrete.Vector import Vector"
   ]
  },
  {
   "cell_type": "markdown",
   "id": "cdd69c6b-953a-44ee-b9bf-83ebd1e0d079",
   "metadata": {},
   "source": [
    "# Instantiate Distance"
   ]
  },
  {
   "cell_type": "code",
   "execution_count": 2,
   "id": "c6a3131e-d607-41a3-9112-d47902fac6ec",
   "metadata": {},
   "outputs": [],
   "source": [
    "chi_squared_distance = ChiSquaredDistance()"
   ]
  },
  {
   "cell_type": "markdown",
   "id": "685b3ac5-964a-496a-83bb-92600cffec15",
   "metadata": {},
   "source": [
    "# Type and Resource of Distance"
   ]
  },
  {
   "cell_type": "code",
   "execution_count": 3,
   "id": "4f6cfecc-54b6-446a-9e59-816f6e4f518e",
   "metadata": {},
   "outputs": [
    {
     "name": "stdout",
     "output_type": "stream",
     "text": [
      "resource:Distance, type:ChiSquaredDistance\n"
     ]
    }
   ],
   "source": [
    "print(f'resource:{chi_squared_distance.resource}, type:{chi_squared_distance.type}')"
   ]
  },
  {
   "cell_type": "markdown",
   "id": "a76de0c4-f0dd-4682-a91e-848bd2bce002",
   "metadata": {},
   "source": [
    "# Distance"
   ]
  },
  {
   "cell_type": "code",
   "execution_count": 4,
   "id": "86097833-4514-4ac6-9a40-5fb4d1b58db5",
   "metadata": {},
   "outputs": [
    {
     "data": {
      "text/plain": [
       "0.0"
      ]
     },
     "execution_count": 4,
     "metadata": {},
     "output_type": "execute_result"
    }
   ],
   "source": [
    "chi_squared_distance.distance(Vector(value=[1, 2]), Vector(value=[1, 2]))"
   ]
  },
  {
   "cell_type": "markdown",
   "id": "4381eb6e-1abf-4dda-8861-7833e2f496ea",
   "metadata": {},
   "source": [
    "# Serialization"
   ]
  },
  {
   "cell_type": "code",
   "execution_count": 6,
   "id": "0915a2dc-37bb-47ea-bc17-18424f81085b",
   "metadata": {},
   "outputs": [
    {
     "data": {
      "text/plain": [
       "True"
      ]
     },
     "execution_count": 6,
     "metadata": {},
     "output_type": "execute_result"
    }
   ],
   "source": [
    "chi_squared_distance.id == ChiSquaredDistance.model_validate_json(chi_squared_distance.model_dump_json()).id"
   ]
  }
 ],
 "metadata": {
  "kernelspec": {
   "display_name": "Python 3 (ipykernel)",
   "language": "python",
   "name": "python3"
  },
  "language_info": {
   "codemirror_mode": {
    "name": "ipython",
    "version": 3
   },
   "file_extension": ".py",
   "mimetype": "text/x-python",
   "name": "python",
   "nbconvert_exporter": "python",
   "pygments_lexer": "ipython3",
   "version": "3.10.11"
  }
 },
 "nbformat": 4,
 "nbformat_minor": 5
}
