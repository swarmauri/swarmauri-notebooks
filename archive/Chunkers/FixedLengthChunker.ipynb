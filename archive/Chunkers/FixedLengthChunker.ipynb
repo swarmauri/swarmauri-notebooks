{
 "cells": [
  {
   "cell_type": "markdown",
   "id": "4bdaeae7-70de-4fcf-a3aa-e7872dda5b9d",
   "metadata": {},
   "source": [
    "# Import Dependencies"
   ]
  },
  {
   "cell_type": "code",
   "execution_count": 1,
   "id": "c0daac6f-f1bf-4a07-9d5e-c6f77d9fd1bb",
   "metadata": {},
   "outputs": [],
   "source": [
    "from swarmauri.standard.chunkers.concrete.FixedLengthChunker import FixedLengthChunker"
   ]
  },
  {
   "cell_type": "markdown",
   "id": "53f5d609-e1b4-4bca-8f0f-52775be8c848",
   "metadata": {},
   "source": [
    "# Instantiate Chunker "
   ]
  },
  {
   "cell_type": "code",
   "execution_count": 2,
   "id": "d46da8ff-3f7e-4029-b977-8d481a9f5dc9",
   "metadata": {},
   "outputs": [],
   "source": [
    "chunker = FixedLengthChunker() "
   ]
  },
  {
   "cell_type": "markdown",
   "id": "af7a08aa-4595-4a1b-af1d-46805de2371f",
   "metadata": {},
   "source": [
    "# Type and Resource of Chunker"
   ]
  },
  {
   "cell_type": "code",
   "execution_count": 3,
   "id": "fe738121-1b41-4a15-a28f-3cb8091fe494",
   "metadata": {},
   "outputs": [
    {
     "name": "stdout",
     "output_type": "stream",
     "text": [
      "resource:Chunker, type:FixedLengthChunker\n"
     ]
    }
   ],
   "source": [
    "print(f'resource:{chunker.resource}, type:{chunker.type}')"
   ]
  },
  {
   "cell_type": "markdown",
   "id": "72f51531-cd78-4d24-adb5-7ee731533db8",
   "metadata": {},
   "source": [
    "# Chunk Text "
   ]
  },
  {
   "cell_type": "code",
   "execution_count": 4,
   "id": "5ef7b3e6-ffbb-4b27-8bcd-4b8cabe7722b",
   "metadata": {},
   "outputs": [
    {
     "data": {
      "text/plain": [
       "6"
      ]
     },
     "execution_count": 4,
     "metadata": {},
     "output_type": "execute_result"
    }
   ],
   "source": [
    "text = 'ab '*512\n",
    "len(FixedLengthChunker().chunk_text('ab '*512))"
   ]
  },
  {
   "cell_type": "markdown",
   "id": "3d338236-a87f-402c-98f9-b9479477e065",
   "metadata": {},
   "source": [
    "# Serialization"
   ]
  },
  {
   "cell_type": "code",
   "execution_count": 5,
   "id": "e6018e85-f7ea-49b7-89ea-b9d61623a3f9",
   "metadata": {},
   "outputs": [
    {
     "data": {
      "text/plain": [
       "True"
      ]
     },
     "execution_count": 5,
     "metadata": {},
     "output_type": "execute_result"
    }
   ],
   "source": [
    "chunker.id == FixedLengthChunker.model_validate_json(chunker.model_dump_json()).id"
   ]
  }
 ],
 "metadata": {
  "kernelspec": {
   "display_name": "Python 3 (ipykernel)",
   "language": "python",
   "name": "python3"
  },
  "language_info": {
   "codemirror_mode": {
    "name": "ipython",
    "version": 3
   },
   "file_extension": ".py",
   "mimetype": "text/x-python",
   "name": "python",
   "nbconvert_exporter": "python",
   "pygments_lexer": "ipython3",
   "version": "3.11.3"
  }
 },
 "nbformat": 4,
 "nbformat_minor": 5
}
