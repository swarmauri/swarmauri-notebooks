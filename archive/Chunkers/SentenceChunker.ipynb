{
 "cells": [
  {
   "cell_type": "markdown",
   "id": "a742ce77-b157-411f-b2fe-05c102bc7ec9",
   "metadata": {},
   "source": [
    "# Import Dependencies "
   ]
  },
  {
   "cell_type": "code",
   "execution_count": 1,
   "id": "b39c894e-8b6a-4796-acb0-2debe3c39ebe",
   "metadata": {},
   "outputs": [],
   "source": [
    "from swarmauri.standard.chunkers.concrete.SentenceChunker import SentenceChunker"
   ]
  },
  {
   "cell_type": "markdown",
   "id": "c6636716-069a-4ec5-8f67-df8ac90dd434",
   "metadata": {},
   "source": [
    "# Instantiate Chunker"
   ]
  },
  {
   "cell_type": "code",
   "execution_count": 2,
   "id": "de7e23d8-be83-4e30-90dd-a1626cbc94c3",
   "metadata": {},
   "outputs": [],
   "source": [
    "chunker = SentenceChunker() "
   ]
  },
  {
   "cell_type": "markdown",
   "id": "53b83a94-0a64-443e-82d8-b542aa133ca4",
   "metadata": {},
   "source": [
    "# Type and Resource of Chunker"
   ]
  },
  {
   "cell_type": "code",
   "execution_count": 3,
   "id": "da969d9c-0d6c-4a57-be76-4e26801d94c8",
   "metadata": {},
   "outputs": [
    {
     "name": "stdout",
     "output_type": "stream",
     "text": [
      "resource:Chunker, type:SentenceChunker\n"
     ]
    }
   ],
   "source": [
    "print(f'resource:{chunker.resource}, type:{chunker.type}')"
   ]
  },
  {
   "cell_type": "markdown",
   "id": "739e6506-b170-4f07-986a-5cfe7f0dc6e3",
   "metadata": {},
   "source": [
    "# Chunk Text "
   ]
  },
  {
   "cell_type": "code",
   "execution_count": 4,
   "id": "b8fa5919-9539-4156-8147-cb92d86ff139",
   "metadata": {},
   "outputs": [
    {
     "data": {
      "text/plain": [
       "True"
      ]
     },
     "execution_count": 4,
     "metadata": {},
     "output_type": "execute_result"
    }
   ],
   "source": [
    "unchunked_text = 'A walk in the park is a nice start. After the walk, let us talk.'\n",
    "chunks = ['A walk in the park is a nice start.', 'After the walk, let us talk.']\n",
    "chunker.chunk_text(unchunked_text) == chunks"
   ]
  },
  {
   "cell_type": "markdown",
   "id": "94786b94-cb70-4543-8ddd-4fdb075786eb",
   "metadata": {},
   "source": [
    "# Serialization"
   ]
  },
  {
   "cell_type": "code",
   "execution_count": 5,
   "id": "85f03213-d9a8-41e3-98a7-f0b3efd0ba70",
   "metadata": {},
   "outputs": [
    {
     "data": {
      "text/plain": [
       "True"
      ]
     },
     "execution_count": 5,
     "metadata": {},
     "output_type": "execute_result"
    }
   ],
   "source": [
    "chunker.id == SentenceChunker.model_validate_json(chunker.model_dump_json()).id"
   ]
  },
  {
   "cell_type": "code",
   "execution_count": null,
   "id": "453429f8-6adc-48f5-aee9-da36526de930",
   "metadata": {},
   "outputs": [],
   "source": []
  }
 ],
 "metadata": {
  "kernelspec": {
   "display_name": "Python 3 (ipykernel)",
   "language": "python",
   "name": "python3"
  },
  "language_info": {
   "codemirror_mode": {
    "name": "ipython",
    "version": 3
   },
   "file_extension": ".py",
   "mimetype": "text/x-python",
   "name": "python",
   "nbconvert_exporter": "python",
   "pygments_lexer": "ipython3",
   "version": "3.11.3"
  }
 },
 "nbformat": 4,
 "nbformat_minor": 5
}
