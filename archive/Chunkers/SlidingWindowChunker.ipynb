{
 "cells": [
  {
   "cell_type": "markdown",
   "id": "c246e700-3b28-4a6d-b6de-a0f8aff4c1f2",
   "metadata": {},
   "source": [
    "# Import Dependencies"
   ]
  },
  {
   "cell_type": "code",
   "execution_count": 2,
   "id": "b1dfa990-8057-42ff-b030-8a2c31f1d88b",
   "metadata": {},
   "outputs": [],
   "source": [
    "from swarmauri.standard.chunkers.concrete.SlidingWindowChunker import SlidingWindowChunker"
   ]
  },
  {
   "cell_type": "markdown",
   "id": "22837c52-e7c0-4d01-bd98-095486f7b45e",
   "metadata": {},
   "source": [
    "# Instantiate Chuncker and test variable\n"
   ]
  },
  {
   "cell_type": "code",
   "execution_count": 3,
   "id": "a9515adc-1483-4727-8f98-e25fd6a9fca6",
   "metadata": {},
   "outputs": [],
   "source": [
    "chunker = SlidingWindowChunker()\n",
    "unchunked_text = 'abcdefghijklmnopqsrtuvwxyz012345 '"
   ]
  },
  {
   "cell_type": "markdown",
   "id": "2c7b2451-8ed1-4051-bfff-708a93e1bccf",
   "metadata": {},
   "source": [
    "# Type and Resource of Chunker"
   ]
  },
  {
   "cell_type": "code",
   "execution_count": 4,
   "id": "fb14373f-6276-44ec-9d4d-cf79737758e1",
   "metadata": {},
   "outputs": [
    {
     "name": "stdout",
     "output_type": "stream",
     "text": [
      "resource:Chunker, type:SlidingWindowChunker\n"
     ]
    }
   ],
   "source": [
    "print(f'resource:{chunker.resource}, type:{chunker.type}')"
   ]
  },
  {
   "cell_type": "markdown",
   "id": "4d1361fb-bb14-4623-8082-d7df5f9b28e1",
   "metadata": {},
   "source": [
    "# Chunk Text"
   ]
  },
  {
   "cell_type": "code",
   "execution_count": 5,
   "id": "40478cbf-5d78-4005-a7c4-8c16512255ba",
   "metadata": {},
   "outputs": [
    {
     "data": {
      "text/plain": [
       "2"
      ]
     },
     "execution_count": 5,
     "metadata": {},
     "output_type": "execute_result"
    }
   ],
   "source": [
    "len(chunker.chunk_text(unchunked_text*512))"
   ]
  },
  {
   "cell_type": "markdown",
   "id": "4814d12e-2ce5-4380-81b7-4efc9bd55ca4",
   "metadata": {},
   "source": [
    "# Chunk Overlap"
   ]
  },
  {
   "cell_type": "code",
   "execution_count": 6,
   "id": "c5346bd6-c128-470b-90f0-8b85765ba062",
   "metadata": {},
   "outputs": [
    {
     "data": {
      "text/plain": [
       "13"
      ]
     },
     "execution_count": 6,
     "metadata": {},
     "output_type": "execute_result"
    }
   ],
   "source": [
    "len(SlidingWindowChunker(overlap=True, \n",
    "\t\tstep_size=21).chunk_text(unchunked_text*512))"
   ]
  },
  {
   "cell_type": "markdown",
   "id": "83144d1d-23d5-4c10-9dc1-46ac4b9b96f0",
   "metadata": {},
   "source": [
    "# Serialization"
   ]
  },
  {
   "cell_type": "code",
   "execution_count": 7,
   "id": "48aa338f-c752-428d-ae8c-c3c153ae7db8",
   "metadata": {},
   "outputs": [
    {
     "name": "stdout",
     "output_type": "stream",
     "text": [
      "True\n",
      "Step Size: 21\n",
      "Overlap: True\n"
     ]
    }
   ],
   "source": [
    "step_size = 21 \n",
    "overlap = True \n",
    "chunker = SlidingWindowChunker(overlap=overlap, step_size=step_size)\n",
    "print(chunker.id == SlidingWindowChunker.model_validate_json(chunker.model_dump_json()).id)\n",
    "print('Step Size:', chunker.step_size)\n",
    "print('Overlap:', chunker.overlap)"
   ]
  },
  {
   "cell_type": "code",
   "execution_count": null,
   "id": "cfd4b039-eac1-4570-be38-7eb400d5961d",
   "metadata": {},
   "outputs": [],
   "source": []
  }
 ],
 "metadata": {
  "kernelspec": {
   "display_name": "Python 3 (ipykernel)",
   "language": "python",
   "name": "python3"
  },
  "language_info": {
   "codemirror_mode": {
    "name": "ipython",
    "version": 3
   },
   "file_extension": ".py",
   "mimetype": "text/x-python",
   "name": "python",
   "nbconvert_exporter": "python",
   "pygments_lexer": "ipython3",
   "version": "3.11.3"
  }
 },
 "nbformat": 4,
 "nbformat_minor": 5
}
