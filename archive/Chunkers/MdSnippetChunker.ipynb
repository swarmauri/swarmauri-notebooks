{
 "cells": [
  {
   "cell_type": "markdown",
   "id": "4d4d74e8-d0e7-4160-a172-66a80357868a",
   "metadata": {},
   "source": [
    "# Import Dependencies"
   ]
  },
  {
   "cell_type": "code",
   "execution_count": 1,
   "id": "4575c57e-8429-469c-931b-32b53cc44553",
   "metadata": {},
   "outputs": [],
   "source": [
    "from swarmauri.standard.chunkers.concrete.MdSnippetChunker import MdSnippetChunker"
   ]
  },
  {
   "cell_type": "markdown",
   "id": "bcd830f2-cdfd-4bde-be7b-3663c4b4e95d",
   "metadata": {},
   "source": [
    "# Instantiate Chunker Variable"
   ]
  },
  {
   "cell_type": "code",
   "execution_count": 2,
   "id": "f5fde847-df1a-4863-a273-20137d171b18",
   "metadata": {},
   "outputs": [],
   "source": [
    "chunker = MdSnippetChunker() "
   ]
  },
  {
   "cell_type": "markdown",
   "id": "ecfaaec5-2229-475c-9682-b7139ac8322a",
   "metadata": {},
   "source": [
    "# Type and Resource of Chunker"
   ]
  },
  {
   "cell_type": "code",
   "execution_count": 3,
   "id": "377b4f0c-1386-49bf-bde8-f67736025fc0",
   "metadata": {},
   "outputs": [
    {
     "name": "stdout",
     "output_type": "stream",
     "text": [
      "resource:Chunker, type:MdSnippetChunker\n"
     ]
    }
   ],
   "source": [
    "print(f'resource:{chunker.resource}, type:{chunker.type}')"
   ]
  },
  {
   "cell_type": "markdown",
   "id": "3216dd65-ee8f-4755-844e-164cfdaaac39",
   "metadata": {},
   "source": [
    "# Chunk Text 1"
   ]
  },
  {
   "cell_type": "code",
   "execution_count": 4,
   "id": "363572e0-7a6c-46c1-bf3a-03661c06e7a6",
   "metadata": {},
   "outputs": [],
   "source": [
    "unchunked_text = \"\"\"\n",
    "```python\n",
    "\n",
    "print('hello world')\n",
    "\n",
    "```\n",
    "\n",
    "Above is an example of some code.\n",
    "\n",
    "```bash\n",
    "echo 'test'\n",
    "```\n",
    "\n",
    "Here we have some text:\n",
    "\n",
    "```md\n",
    "# Hello\n",
    "- list item\n",
    "- list item\n",
    "```\n",
    "\"\"\""
   ]
  },
  {
   "cell_type": "code",
   "execution_count": 5,
   "id": "c55ba583-3f83-4e65-a90c-48567e572965",
   "metadata": {},
   "outputs": [],
   "source": [
    "chunks = [('', 'python', \"print('hello world')\")]"
   ]
  },
  {
   "cell_type": "code",
   "execution_count": 6,
   "id": "24611f73-bcd2-4f74-b9d0-67b13bc7dbc5",
   "metadata": {},
   "outputs": [
    {
     "data": {
      "text/plain": [
       "True"
      ]
     },
     "execution_count": 6,
     "metadata": {},
     "output_type": "execute_result"
    }
   ],
   "source": [
    "MdSnippetChunker(language='python').chunk_text(unchunked_text) == chunks"
   ]
  },
  {
   "cell_type": "markdown",
   "id": "90ee4aeb-23f0-46a6-9d29-1cc4a474de3f",
   "metadata": {},
   "source": [
    "# Chunk Text 2"
   ]
  },
  {
   "cell_type": "code",
   "execution_count": 7,
   "id": "75330479-682d-4b67-9ac8-fd7ad7571bad",
   "metadata": {},
   "outputs": [],
   "source": [
    "unchunked_text = \"\"\"\n",
    "```python\n",
    "\n",
    "print('hello world')\n",
    "\n",
    "```\n",
    "\n",
    "Above is an example of some code.\n",
    "\n",
    "```bash\n",
    "echo 'test'\n",
    "```\n",
    "\n",
    "Here we have some text:\n",
    "\n",
    "```md\n",
    "# Hello\n",
    "- list item\n",
    "- list item\n",
    "```\n",
    "\"\"\""
   ]
  },
  {
   "cell_type": "code",
   "execution_count": 8,
   "id": "a333c65c-d2d4-46ce-8568-22f1098950a2",
   "metadata": {},
   "outputs": [],
   "source": [
    "chunks = [('', 'python', \"print('hello world')\"),\n",
    "\t\t  ('', 'bash', \"echo 'test'\"),\n",
    "\t\t  ('Above is an example of some code.',\n",
    "\t\t  'md',\n",
    "\t\t  '# Hello\\n- list item\\n- list item')]"
   ]
  },
  {
   "cell_type": "code",
   "execution_count": 9,
   "id": "01b68694-c3cc-41d5-b11f-9aa4db8ba904",
   "metadata": {},
   "outputs": [
    {
     "data": {
      "text/plain": [
       "True"
      ]
     },
     "execution_count": 9,
     "metadata": {},
     "output_type": "execute_result"
    }
   ],
   "source": [
    "MdSnippetChunker().chunk_text(unchunked_text) == chunks"
   ]
  },
  {
   "cell_type": "markdown",
   "id": "09a724a1-cdb6-43cc-92a0-8695c93cca89",
   "metadata": {},
   "source": [
    "# Serialization"
   ]
  },
  {
   "cell_type": "code",
   "execution_count": 10,
   "id": "62314a0f-657e-4500-89ee-41634139bb43",
   "metadata": {},
   "outputs": [
    {
     "data": {
      "text/plain": [
       "True"
      ]
     },
     "execution_count": 10,
     "metadata": {},
     "output_type": "execute_result"
    }
   ],
   "source": [
    "chunker.id == MdSnippetChunker.model_validate_json(chunker.model_dump_json()).id"
   ]
  },
  {
   "cell_type": "code",
   "execution_count": null,
   "id": "05351dfa-4377-44da-b0a0-4ef19f4af4b4",
   "metadata": {},
   "outputs": [],
   "source": []
  }
 ],
 "metadata": {
  "kernelspec": {
   "display_name": "Python 3 (ipykernel)",
   "language": "python",
   "name": "python3"
  },
  "language_info": {
   "codemirror_mode": {
    "name": "ipython",
    "version": 3
   },
   "file_extension": ".py",
   "mimetype": "text/x-python",
   "name": "python",
   "nbconvert_exporter": "python",
   "pygments_lexer": "ipython3",
   "version": "3.11.3"
  }
 },
 "nbformat": 4,
 "nbformat_minor": 5
}
