{
 "cells": [
  {
   "cell_type": "markdown",
   "id": "6f05a34c-fdc7-4b17-8ff0-0920dde93ca1",
   "metadata": {},
   "source": [
    "# Import Dependencies "
   ]
  },
  {
   "cell_type": "code",
   "execution_count": 27,
   "id": "bdc6de4a-47a1-49ac-aeda-28de2ca6edef",
   "metadata": {},
   "outputs": [],
   "source": [
    "from swarmauri.standard.messages.concrete import SystemMessage, AgentMessage, HumanMessage, FunctionMessage\n",
    "from swarmauri.standard.conversations.concrete.SessionCacheConversation import SessionCacheConversation\n"
   ]
  },
  {
   "cell_type": "markdown",
   "id": "99fb3895",
   "metadata": {},
   "source": [
    "#Instantiate Object "
   ]
  },
  {
   "cell_type": "code",
   "execution_count": 28,
   "id": "4e0bd879",
   "metadata": {},
   "outputs": [],
   "source": [
    "conversation = SessionCacheConversation() "
   ]
  },
  {
   "cell_type": "markdown",
   "id": "c138e63a-453a-4ea0-bd46-50859675e25e",
   "metadata": {},
   "source": [
    "# Type and Resource of Conversation"
   ]
  },
  {
   "cell_type": "code",
   "execution_count": 29,
   "id": "47833e92-df77-4241-9d97-10fe57b5a71a",
   "metadata": {},
   "outputs": [
    {
     "data": {
      "text/plain": [
       "'SessionCacheConversation'"
      ]
     },
     "execution_count": 29,
     "metadata": {},
     "output_type": "execute_result"
    }
   ],
   "source": [
    "conversation.type"
   ]
  },
  {
   "cell_type": "code",
   "execution_count": 30,
   "id": "29f6f082-c6c1-43e2-b418-4a9748e66001",
   "metadata": {},
   "outputs": [
    {
     "data": {
      "text/plain": [
       "'Conversation'"
      ]
     },
     "execution_count": 30,
     "metadata": {},
     "output_type": "execute_result"
    }
   ],
   "source": [
    "conversation.resource"
   ]
  },
  {
   "cell_type": "markdown",
   "id": "00567559-8d69-435b-be37-5b70d0a59504",
   "metadata": {},
   "source": [
    "# Standard Alternating Agent Ending"
   ]
  },
  {
   "cell_type": "code",
   "execution_count": 31,
   "id": "b4f7c07b-352a-43c9-8f34-99bf7440698f",
   "metadata": {},
   "outputs": [],
   "source": [
    "def test(max_size):\n",
    "    conv = SessionCacheConversation(system_context=SystemMessage(content='systest'), max_size=max_size)\n",
    "    conv.add_message(HumanMessage(content='human'))\n",
    "    conv.add_message(AgentMessage(content='agent'))\n",
    "    conv.add_message(HumanMessage(content='human2'))\n",
    "    conv.add_message(AgentMessage(content='agent2'))\n",
    "    conv.add_message(HumanMessage(content='human3'))\n",
    "    conv.add_message(AgentMessage(content='agent3')) \n",
    "    print('Content:')\n",
    "    for i in range(max_size): \n",
    "        if i > 0: \n",
    "            print(', ', end='') \n",
    "        print(conv.history[i].content, end='')\n",
    "    print() \n",
    "    # print('Role:') \n",
    "    # for i in range(max_size): \n",
    "    #     if i > 0: \n",
    "    #         print(', ', end='') \n",
    "    #     print(conv.history[i].role, end='') "
   ]
  },
  {
   "cell_type": "code",
   "execution_count": 32,
   "id": "b3ab2084-302b-4e84-964c-2b03c2f8d138",
   "metadata": {},
   "outputs": [
    {
     "name": "stdout",
     "output_type": "stream",
     "text": [
      "Content:\n",
      "systest, human3\n"
     ]
    }
   ],
   "source": [
    "test(2) "
   ]
  },
  {
   "cell_type": "code",
   "execution_count": 33,
   "id": "b6cc5e5e-9cb2-42fa-90ad-4baead0c0a06",
   "metadata": {},
   "outputs": [
    {
     "name": "stdout",
     "output_type": "stream",
     "text": [
      "Content:\n",
      "systest, human3, agent3\n"
     ]
    }
   ],
   "source": [
    "test(3) "
   ]
  },
  {
   "cell_type": "code",
   "execution_count": 34,
   "id": "9e317569-3d3a-4f53-8358-16f10aa01d6e",
   "metadata": {},
   "outputs": [
    {
     "name": "stdout",
     "output_type": "stream",
     "text": [
      "Content:\n",
      "systest, human2, agent2, human3\n"
     ]
    }
   ],
   "source": [
    "test(4) "
   ]
  },
  {
   "cell_type": "code",
   "execution_count": 35,
   "id": "967bcb95-7615-477a-8725-a1b0819c69a2",
   "metadata": {},
   "outputs": [
    {
     "name": "stdout",
     "output_type": "stream",
     "text": [
      "Content:\n",
      "systest, human2, agent2, human3, agent3\n"
     ]
    }
   ],
   "source": [
    "test(5) "
   ]
  },
  {
   "cell_type": "code",
   "execution_count": 36,
   "id": "acb1e146-4646-49f9-a377-49646252af6a",
   "metadata": {},
   "outputs": [
    {
     "name": "stdout",
     "output_type": "stream",
     "text": [
      "Content:\n",
      "systest, human, agent, human2, agent2, human3\n"
     ]
    }
   ],
   "source": [
    "test(6) "
   ]
  },
  {
   "cell_type": "markdown",
   "id": "f4be4d6b-6439-4226-88a9-1347f3de24cb",
   "metadata": {},
   "source": [
    "# Standard Alternating Human Ending"
   ]
  },
  {
   "cell_type": "code",
   "execution_count": 37,
   "id": "347dae4b-5ce5-4cf8-b2b3-969c27db50be",
   "metadata": {},
   "outputs": [],
   "source": [
    "def test(max_size):\n",
    "    conv = SessionCacheConversation(system_context=SystemMessage(content='systest'), max_size=max_size)\n",
    "    conv.add_message(HumanMessage(content='human'))\n",
    "    conv.add_message(AgentMessage(content='agent'))\n",
    "    conv.add_message(HumanMessage(content='human2'))\n",
    "    conv.add_message(AgentMessage(content='agent2'))\n",
    "    conv.add_message(HumanMessage(content='human3'))\n",
    "    conv.add_message(AgentMessage(content='agent3'))\n",
    "     \n",
    "    for i in range(max_size): \n",
    "        if i > 0: \n",
    "            print(', ', end='') \n",
    "        print(conv.history[i].content, end='') "
   ]
  },
  {
   "cell_type": "code",
   "execution_count": 38,
   "id": "3fe15ce8-7855-4924-a83d-a81051d2f0f0",
   "metadata": {},
   "outputs": [
    {
     "name": "stdout",
     "output_type": "stream",
     "text": [
      "systest, human3"
     ]
    }
   ],
   "source": [
    "test(2)"
   ]
  },
  {
   "cell_type": "code",
   "execution_count": 39,
   "id": "276791e9-9d0c-412b-8ff5-40ebffbdd936",
   "metadata": {},
   "outputs": [
    {
     "name": "stdout",
     "output_type": "stream",
     "text": [
      "systest, human3, agent3"
     ]
    }
   ],
   "source": [
    "test(3) "
   ]
  },
  {
   "cell_type": "code",
   "execution_count": 40,
   "id": "0aaa39bf-3deb-4b98-ba4b-99dd0d73ef22",
   "metadata": {},
   "outputs": [
    {
     "name": "stdout",
     "output_type": "stream",
     "text": [
      "systest, human2, agent2, human3"
     ]
    }
   ],
   "source": [
    "test(4) "
   ]
  },
  {
   "cell_type": "code",
   "execution_count": 41,
   "id": "f4b8a58a-b2e5-4696-9234-f9ddd99901c0",
   "metadata": {},
   "outputs": [
    {
     "name": "stdout",
     "output_type": "stream",
     "text": [
      "systest, human2, agent2, human3, agent3"
     ]
    }
   ],
   "source": [
    "test(5) "
   ]
  },
  {
   "cell_type": "code",
   "execution_count": 42,
   "id": "7be7184e-bae1-4e8c-b4be-33ca3c0f0e04",
   "metadata": {},
   "outputs": [
    {
     "name": "stdout",
     "output_type": "stream",
     "text": [
      "systest, human, agent, human2, agent2, human3"
     ]
    }
   ],
   "source": [
    "test(6) "
   ]
  },
  {
   "cell_type": "markdown",
   "id": "b1ee9a17-c19d-40e7-bc88-e0478dc8c542",
   "metadata": {},
   "source": [
    "# Agent Message First Error"
   ]
  },
  {
   "cell_type": "code",
   "execution_count": 43,
   "id": "44ff1ae4-deb7-47d5-9ffd-606328ce7e4c",
   "metadata": {},
   "outputs": [],
   "source": [
    "conv = SessionCacheConversation(system_context=SystemMessage(content='systest'), max_size=3)"
   ]
  },
  {
   "cell_type": "code",
   "execution_count": 44,
   "id": "4bfde2f6-1b3d-4cc8-aac2-248c09762b8e",
   "metadata": {},
   "outputs": [
    {
     "name": "stdout",
     "output_type": "stream",
     "text": [
      "The first message in the history must be an HumanMessage.\n"
     ]
    }
   ],
   "source": [
    "try:\n",
    "    conv.add_message(AgentMessage(content='agent'))\n",
    "except Exception as e:     \n",
    "    print(str(e))"
   ]
  },
  {
   "cell_type": "markdown",
   "id": "7246d1f8-ed63-43f7-b19a-ac8d2211f647",
   "metadata": {},
   "source": [
    "# Consecutive Human Message Error"
   ]
  },
  {
   "cell_type": "code",
   "execution_count": 45,
   "id": "fd7b9e1e-67c0-44fe-b180-fa5ac3923e70",
   "metadata": {},
   "outputs": [],
   "source": [
    "conv = SessionCacheConversation(system_context=SystemMessage(content='systest'), max_size=3)"
   ]
  },
  {
   "cell_type": "code",
   "execution_count": 46,
   "id": "5c3591b2-b09d-4858-b287-7f528e1227f3",
   "metadata": {},
   "outputs": [
    {
     "name": "stdout",
     "output_type": "stream",
     "text": [
      "Cannot have two repeating HumanMessages.\n"
     ]
    }
   ],
   "source": [
    "try:\n",
    "    conv.add_message(HumanMessage(content='human'))\n",
    "    conv.add_message(AgentMessage(content='agent'))\n",
    "    conv.add_message(HumanMessage(content='human'))\n",
    "    conv.add_message(HumanMessage(content='human'))\n",
    "except Exception as e:     \n",
    "    print(str(e))"
   ]
  }
 ],
 "metadata": {
  "kernelspec": {
   "display_name": "Python 3 (ipykernel)",
   "language": "python",
   "name": "python3"
  },
  "language_info": {
   "codemirror_mode": {
    "name": "ipython",
    "version": 3
   },
   "file_extension": ".py",
   "mimetype": "text/x-python",
   "name": "python",
   "nbconvert_exporter": "python",
   "pygments_lexer": "ipython3",
   "version": "3.10.14"
  }
 },
 "nbformat": 4,
 "nbformat_minor": 5
}
