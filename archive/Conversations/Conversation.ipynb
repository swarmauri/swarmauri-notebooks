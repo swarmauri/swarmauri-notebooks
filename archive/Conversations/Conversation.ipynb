{
 "cells": [
  {
   "cell_type": "markdown",
   "id": "47738f5f-4eae-48ea-8470-f4e48e7f4a62",
   "metadata": {},
   "source": [
    "# Import Dependencies "
   ]
  },
  {
   "cell_type": "code",
   "execution_count": 11,
   "id": "86494942-48d7-4236-9829-0ea336260358",
   "metadata": {},
   "outputs": [],
   "source": [
    "from swarmauri.standard.conversations.concrete.Conversation import Conversation"
   ]
  },
  {
   "cell_type": "markdown",
   "id": "9100636b-fcc2-4448-ab27-28be77341298",
   "metadata": {},
   "source": [
    "# Instantiate Conversation"
   ]
  },
  {
   "cell_type": "code",
   "execution_count": 12,
   "id": "18f09283-88c0-44ec-bb94-3bf737827139",
   "metadata": {},
   "outputs": [],
   "source": [
    "conversation = Conversation() "
   ]
  },
  {
   "cell_type": "markdown",
   "id": "a7b9c22b-7839-45de-a0d2-93a5cd744b15",
   "metadata": {},
   "source": [
    "# Type and Resource of Conversation"
   ]
  },
  {
   "cell_type": "code",
   "execution_count": 13,
   "id": "7d7b3bab-708b-4ed5-bc0a-877c18fd044a",
   "metadata": {},
   "outputs": [
    {
     "data": {
      "text/plain": [
       "'Conversation'"
      ]
     },
     "execution_count": 13,
     "metadata": {},
     "output_type": "execute_result"
    }
   ],
   "source": [
    "conversation.type"
   ]
  },
  {
   "cell_type": "code",
   "execution_count": 14,
   "id": "3fbd3b31-d0f9-4465-bc81-c02020572245",
   "metadata": {},
   "outputs": [
    {
     "data": {
      "text/plain": [
       "'Conversation'"
      ]
     },
     "execution_count": 14,
     "metadata": {},
     "output_type": "execute_result"
    }
   ],
   "source": [
    "conversation.resource"
   ]
  },
  {
   "cell_type": "markdown",
   "id": "f2d0a80e-969e-4b12-8524-1149340341b3",
   "metadata": {},
   "source": [
    "# Serialization"
   ]
  },
  {
   "cell_type": "code",
   "execution_count": 15,
   "id": "220b697c-3044-4059-872d-cf6379021651",
   "metadata": {},
   "outputs": [
    {
     "data": {
      "text/plain": [
       "True"
      ]
     },
     "execution_count": 15,
     "metadata": {},
     "output_type": "execute_result"
    }
   ],
   "source": [
    "conversation.id == Conversation.model_validate_json(conversation.model_dump_json()).id"
   ]
  }
 ],
 "metadata": {
  "kernelspec": {
   "display_name": "Python 3 (ipykernel)",
   "language": "python",
   "name": "python3"
  },
  "language_info": {
   "codemirror_mode": {
    "name": "ipython",
    "version": 3
   },
   "file_extension": ".py",
   "mimetype": "text/x-python",
   "name": "python",
   "nbconvert_exporter": "python",
   "pygments_lexer": "ipython3",
   "version": "3.10.14"
  }
 },
 "nbformat": 4,
 "nbformat_minor": 5
}
