{
 "cells": [
  {
   "cell_type": "markdown",
   "metadata": {},
   "source": [
    "# Learn to Use the Swarmauri Package\n",
    "\n",
    "This notebook will guide you through the process of using various components from the Swarmauri package. We will explore Local Language Models (LLMs) with Cohere, conversations, tools, toolkits, and agents. Let's get started!"
   ]
  },
  {
   "cell_type": "markdown",
   "metadata": {},
   "source": [
    "## 1. Setting Up the CohereToolModel\n",
    "\n",
    "First, we need to set up and configure our Local Language Model (LLM) using the `CohereToolModel` from the Swarmauri package. Ensure you have your API key ready and available as an environment variable named `COHERE_API_KEY`."
   ]
  },
  {
   "cell_type": "code",
   "execution_count": 1,
   "metadata": {},
   "outputs": [
    {
     "name": "stdout",
     "output_type": "stream",
     "text": [
      "LLM Resource: LLM\n",
      "LLM Type: CohereToolModel\n"
     ]
    }
   ],
   "source": [
    "from dotenv import load_dotenv\n",
    "\n",
    "import os\n",
    "from swarmauri.standard.llms.concrete.CohereToolModel import CohereToolModel as LLM\n",
    "\n",
    "load_dotenv()\n",
    "# Retrieve the API key from environment variables\n",
    "API_KEY = os.getenv('COHERE_API_KEY')\n",
    "\n",
    "# Initialize the Cohere LLM\n",
    "llm = LLM(api_key=API_KEY)\n",
    "print('LLM Resource:', llm.resource)\n",
    "print('LLM Type:', llm.type)"
   ]
  },
  {
   "cell_type": "markdown",
   "metadata": {},
   "source": [
    "The `resource` attribute should be `LLM`, and the `type` should be `CohereToolModel`."
   ]
  },
  {
   "cell_type": "markdown",
   "metadata": {},
   "source": [
    "### 1.1 LLM Attributes\n",
    "\n",
    "Let's also verify the default name of the model."
   ]
  },
  {
   "cell_type": "code",
   "execution_count": 2,
   "metadata": {},
   "outputs": [
    {
     "name": "stdout",
     "output_type": "stream",
     "text": [
      "Default Model Name: command-r\n"
     ]
    }
   ],
   "source": [
    "# Check the default name of the model\n",
    "print('Default Model Name:', llm.name)"
   ]
  },
  {
   "cell_type": "markdown",
   "metadata": {},
   "source": [
    "To see the allowed models for the CohereToolModel use the `llm.allowed_models` attribute."
   ]
  },
  {
   "cell_type": "code",
   "execution_count": 3,
   "metadata": {},
   "outputs": [
    {
     "name": "stdout",
     "output_type": "stream",
     "text": [
      "Allowed Models: ['command-r', 'command-r-plus']\n"
     ]
    }
   ],
   "source": [
    "# Check the default name of the model\n",
    "print('Allowed Models:', llm.allowed_models)"
   ]
  },
  {
   "cell_type": "markdown",
   "metadata": {},
   "source": [
    "### 1.2 Serialization\n",
    "\n",
    "Serialization allows converting the model data into a JSON format and back, ensuring consistency and the ability to easily store or transfer the model data."
   ]
  },
  {
   "cell_type": "code",
   "execution_count": 4,
   "metadata": {},
   "outputs": [],
   "source": [
    "# Check serialization and deserialization of the model\n",
    "serialized_model_json = llm.model_dump_json()"
   ]
  },
  {
   "cell_type": "markdown",
   "metadata": {},
   "source": [
    "The JSON data string can then be used to reload the LLM component."
   ]
  },
  {
   "cell_type": "code",
   "execution_count": 5,
   "metadata": {},
   "outputs": [
    {
     "name": "stdout",
     "output_type": "stream",
     "text": [
      "Component ID: bae069c5-b18e-4f66-8d07-d64b4f5eb8cf\n"
     ]
    }
   ],
   "source": [
    "deserialized_model = LLM.model_validate_json(serialized_model_json)\n",
    "\n",
    "print('Component ID:', deserialized_model.id)"
   ]
  },
  {
   "cell_type": "markdown",
   "metadata": {},
   "source": [
    "## 2. Using Tools and Agents\n",
    "\n",
    "Next, let's explore how to use tools and agents within the Swarmauri package. We will use an `AdditionTool` to perform arithmetic operations and integrate it into a toolkit."
   ]
  },
  {
   "cell_type": "code",
   "execution_count": 6,
   "metadata": {},
   "outputs": [
    {
     "name": "stdout",
     "output_type": "stream",
     "text": [
      "Addition Result: 512 + 671 = **1183**.\n"
     ]
    }
   ],
   "source": [
    "from swarmauri.standard.conversations.concrete.Conversation import Conversation\n",
    "from swarmauri.standard.tools.concrete.AdditionTool import AdditionTool\n",
    "from swarmauri.standard.toolkits.concrete.Toolkit import Toolkit\n",
    "from swarmauri.standard.agents.concrete.ToolAgent import ToolAgent\n",
    "\n",
    "# Initialize components\n",
    "conversation = Conversation()\n",
    "toolkit = Toolkit()\n",
    "tool = AdditionTool()\n",
    "\n",
    "# Add the tool to the toolkit\n",
    "toolkit.add_tool(tool)\n",
    "\n",
    "# Initialize the agent\n",
    "agent = ToolAgent(llm=llm, conversation=conversation, toolkit=toolkit)\n",
    "\n",
    "# Execute a simple addition task\n",
    "result = agent.exec('Add 512+671')\n",
    "print('Addition Result:', result)"
   ]
  },
  {
   "cell_type": "markdown",
   "metadata": {},
   "source": [
    "Here, the `ToolAgent` uses the `AdditionTool` within the `Toolkit` to compute the sum of 512 and 671. The result should be returned as a string."
   ]
  },
  {
   "cell_type": "markdown",
   "metadata": {},
   "source": [
    "## Conclusion\n",
    "\n",
    "This notebook has demonstrated how to set up and use components from the Swarmauri package. We covered initialization of the CohereToolModel, serialization, and usage of tools and agents. Feel free to explore more tools and capabilities provided by Swarmauri to enhance your applications!"
   ]
  }
 ],
 "metadata": {
  "kernelspec": {
   "display_name": "swarmauri (v0.4.0)",
   "language": "python",
   "name": "swarmauri-v0.4"
  },
  "language_info": {
   "codemirror_mode": {
    "name": "ipython",
    "version": 3
   },
   "file_extension": ".py",
   "mimetype": "text/x-python",
   "name": "python",
   "nbconvert_exporter": "python",
   "pygments_lexer": "ipython3",
   "version": "3.10.14"
  }
 },
 "nbformat": 4,
 "nbformat_minor": 4
}
