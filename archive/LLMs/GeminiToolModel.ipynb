{
 "cells": [
  {
   "cell_type": "markdown",
   "id": "5c3c41fc",
   "metadata": {},
   "source": [
    "# Get Started with Swarmauri Package\n",
    "This notebook provides an introduction to using components from the Swarmauri package, including LLMs, Conversations, Tools and Toolkits, and Agents. Let's explore how to use these components in a practical scenario."
   ]
  },
  {
   "cell_type": "markdown",
   "id": "cf8d5db1",
   "metadata": {},
   "source": [
    "## Prerequisites and Setup\n",
    "To execute the following examples, you need to install the Swarmauri package. Also, make sure you have an API key for the Gemini Tool Model."
   ]
  },
  {
   "cell_type": "code",
   "execution_count": null,
   "id": "fd5e5d8e",
   "metadata": {},
   "outputs": [],
   "source": [
    "# Install Swarmauri package\n",
    "! pip install swarmauri[full]==0.4.0"
   ]
  },
  {
   "cell_type": "markdown",
   "id": "f471cb89",
   "metadata": {},
   "source": [
    "## Import Required Modules\n",
    "Ensure that you import all the necessary components from the Swarmauri package."
   ]
  },
  {
   "cell_type": "code",
   "execution_count": 1,
   "id": "ee06fb66",
   "metadata": {},
   "outputs": [
   ],
   "source": [
    "from dotenv import load_dotenv\n",
    "import os\n",
    "from swarmauri.standard.llms.concrete.GeminiToolModel import GeminiToolModel as LLM\n",
    "from swarmauri.standard.conversations.concrete.Conversation import Conversation\n",
    "from swarmauri.standard.tools.concrete.AdditionTool import AdditionTool\n",
    "from swarmauri.standard.toolkits.concrete.Toolkit import Toolkit\n",
    "from swarmauri.standard.agents.concrete.ToolAgent import ToolAgent"
   ]
  },
  {
   "cell_type": "markdown",
   "id": "f2482d46",
   "metadata": {},
   "source": [
    "## Initialize the Gemini Tool Model\n",
    "First, we need to initialize the `GeminiToolModel` with your API key."
   ]
  },
  {
   "cell_type": "code",
   "execution_count": 2,
   "id": "4e9b2d66",
   "metadata": {},
   "outputs": [
    {
     "data": {
      "text/plain": [
       "{'name': 'gemini-1.5-pro-latest',\n",
       " 'id': 'b320564a-2814-4c60-8cfb-2bab8ae1ef7c',\n",
       " 'members': [],\n",
       " 'owner': None,\n",
       " 'host': None,\n",
       " 'resource': 'LLM',\n",
       " 'version': '0.1.0',\n",
       " 'type': 'GeminiToolModel',\n",
       " 'allowed_models': ['gemini-1.5-pro-latest']}"
      ]
     },
     "execution_count": 2,
     "metadata": {},
     "output_type": "execute_result"
    }
   ],
   "source": [
    "load_dotenv()\n",
    "\n",
    "# Set your API Key\n",
    "API_KEY = os.getenv('GEMINI_API_KEY')\n",
    "\n",
    "# Initialize the Gemini Tool Model\n",
    "llm = LLM(api_key=API_KEY)\n",
    "llm.dict(exclude='api_key')"
   ]
  },
  {
   "cell_type": "markdown",
   "id": "560ca0e9",
   "metadata": {},
   "source": [
    "You can check the resource and type of the initialized model."
   ]
  },
  {
   "cell_type": "code",
   "execution_count": 3,
   "id": "1b510e50",
   "metadata": {},
   "outputs": [
    {
     "data": {
      "text/plain": [
       "('LLM', 'GeminiToolModel')"
      ]
     },
     "execution_count": 3,
     "metadata": {},
     "output_type": "execute_result"
    }
   ],
   "source": [
    "# Check the resource and type\n",
    "resource = llm.resource\n",
    "model_type = llm.type\n",
    "resource, model_type"
   ]
  },
  {
   "cell_type": "markdown",
   "id": "2f8a9bad",
   "metadata": {},
   "source": [
    "## Serialization and Default Name\n",
    "You may want to serialize the model and check its default name."
   ]
  },
  {
   "cell_type": "code",
   "execution_count": 4,
   "id": "9a81d99d",
   "metadata": {},
   "outputs": [
    {
     "data": {
      "text/plain": [
       "('b320564a-2814-4c60-8cfb-2bab8ae1ef7c', 'gemini-1.5-pro-latest')"
      ]
     },
     "execution_count": 4,
     "metadata": {},
     "output_type": "execute_result"
    }
   ],
   "source": [
    "# Serialization of the model\n",
    "serialized_id = LLM.model_validate_json(llm.model_dump_json()).id\n",
    "\n",
    "# Check default model name\n",
    "default_name = llm.name\n",
    "serialized_id, default_name"
   ]
  },
  {
   "cell_type": "markdown",
   "id": "374ced3a-0706-4081-8a28-2af35ffb7615",
   "metadata": {},
   "source": [
    "You can use the allowed_models property to check the available models."
   ]
  },
  {
   "cell_type": "code",
   "execution_count": 5,
   "id": "fda13781-ba14-43df-8372-9a6655b9fa4e",
   "metadata": {},
   "outputs": [
    {
     "data": {
      "text/plain": [
       "['gemini-1.5-pro-latest']"
      ]
     },
     "execution_count": 5,
     "metadata": {},
     "output_type": "execute_result"
    }
   ],
   "source": [
    "llm.allowed_models"
   ]
  },
  {
   "cell_type": "markdown",
   "id": "fbd9b246",
   "metadata": {},
   "source": [
    "## Using the ToolAgent with AdditionTool\n",
    "Finally, let's create an agent with a conversation and a toolkit that contains an addition tool, and execute a task."
   ]
  },
  {
   "cell_type": "code",
   "execution_count": 6,
   "id": "26e6acbf",
   "metadata": {},
   "outputs": [
    {
     "data": {
      "text/plain": [
       "'512 + 671 = 1183 \\n'"
      ]
     },
     "execution_count": 6,
     "metadata": {},
     "output_type": "execute_result"
    }
   ],
   "source": [
    "# Initialize Conversation, Toolkit, and AdditionTool\n",
    "conversation = Conversation()\n",
    "toolkit = Toolkit()\n",
    "tool = AdditionTool()\n",
    "toolkit.add_tool(tool)\n",
    "\n",
    "# Initialize ToolAgent\n",
    "agent = ToolAgent(llm=llm, conversation=conversation, toolkit=toolkit)\n",
    "\n",
    "# Execute an addition task\n",
    "result = agent.exec('Add 512+671')\n",
    "result"
   ]
  },
  {
   "cell_type": "markdown",
   "id": "baf98df0",
   "metadata": {},
   "source": [
    "That's it! You've now learned how to use the basic components of the Swarmauri package. Keep experimenting and exploring other features and capabilities!"
   ]
  }
 ],
 "metadata": {
  "kernelspec": {
   "display_name": "swarmauri (v0.4.0)",
   "language": "python",
   "name": "swarmauri-v0.4"
  },
  "language_info": {
   "codemirror_mode": {
    "name": "ipython",
    "version": 3
   },
   "file_extension": ".py",
   "mimetype": "text/x-python",
   "name": "python",
   "nbconvert_exporter": "python",
   "pygments_lexer": "ipython3",
   "version": "3.10.14"
  }
 },
 "nbformat": 4,
 "nbformat_minor": 5
}
