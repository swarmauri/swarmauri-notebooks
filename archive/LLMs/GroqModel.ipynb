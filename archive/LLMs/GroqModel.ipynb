{
 "cells": [
  {
   "cell_type": "markdown",
   "id": "2b23f410-bc73-491c-a8f5-c1dbc1e281c0",
   "metadata": {},
   "source": [
    "# Import Dependencies"
   ]
  },
  {
   "cell_type": "code",
   "execution_count": 1,
   "id": "0ccde154-ca6a-4243-9394-b7dcf7280715",
   "metadata": {},
   "outputs": [],
   "source": [
    "import os\n",
    "from swarmauri.standard.llms.concrete.GroqModel import GroqModel\n",
    "from swarmauri.standard.agents.concrete.QAAgent import QAAgent \n",
    "from dotenv import load_dotenv \n",
    "load_dotenv(); "
   ]
  },
  {
   "cell_type": "markdown",
   "id": "27edb30e-4b8c-4c19-bf35-092ea6fcc831",
   "metadata": {},
   "source": [
    "# Instantiate GroqModel "
   ]
  },
  {
   "cell_type": "code",
   "execution_count": 2,
   "id": "fa05be79-21cc-44e0-a942-34b97dbeae9d",
   "metadata": {},
   "outputs": [],
   "source": [
    "llm = GroqModel(api_key = os.getenv('API_KEY'))\n",
    "agent = QAAgent(llm=llm)"
   ]
  },
  {
   "cell_type": "markdown",
   "id": "0beadf2c-0a4a-444d-9a41-4eba45afa27b",
   "metadata": {},
   "source": [
    "# Type and Resource of GroqModel"
   ]
  },
  {
   "cell_type": "code",
   "execution_count": 3,
   "id": "3f52f643-8e88-482f-878b-10b9b64c7a71",
   "metadata": {},
   "outputs": [
    {
     "data": {
      "text/plain": [
       "'QAAgent'"
      ]
     },
     "execution_count": 3,
     "metadata": {},
     "output_type": "execute_result"
    }
   ],
   "source": [
    "agent.type"
   ]
  },
  {
   "cell_type": "code",
   "execution_count": 4,
   "id": "22a79fea-9e96-4f63-a388-4301c7a56e92",
   "metadata": {},
   "outputs": [
    {
     "data": {
      "text/plain": [
       "'Agent'"
      ]
     },
     "execution_count": 4,
     "metadata": {},
     "output_type": "execute_result"
    }
   ],
   "source": [
    "agent.resource"
   ]
  },
  {
   "cell_type": "markdown",
   "id": "08155e97-5299-4075-b498-0a9ebafb80b9",
   "metadata": {},
   "source": [
    "# Agent Execution"
   ]
  },
  {
   "cell_type": "code",
   "execution_count": 5,
   "id": "740c770e-9008-4a84-a6dd-39ee4dc95766",
   "metadata": {},
   "outputs": [
    {
     "data": {
      "text/plain": [
       "\"Hello! 👋 \\n\\nIt's great to hear from you. How can I help you today? 😊\""
      ]
     },
     "execution_count": 5,
     "metadata": {},
     "output_type": "execute_result"
    }
   ],
   "source": [
    "agent.exec('hello') "
   ]
  },
  {
   "cell_type": "markdown",
   "id": "d74c38bf-b18c-4887-8a8b-4aaa42b7b891",
   "metadata": {},
   "source": [
    "# Serialization"
   ]
  },
  {
   "cell_type": "code",
   "execution_count": 6,
   "id": "558d2cb2-2300-4d36-8748-da7c9652e7f7",
   "metadata": {},
   "outputs": [
    {
     "name": "stderr",
     "output_type": "stream",
     "text": [
      "C:\\Users\\lenovo\\AppData\\Local\\Programs\\Python\\Python310\\lib\\site-packages\\pydantic\\main.py:415: UserWarning: Pydantic serializer warnings:\n",
      "  Expected `enum` but got `str` - serialized value may not be as expected\n",
      "  Expected `enum` but got `str` - serialized value may not be as expected\n",
      "  return self.__pydantic_serializer__.to_json(\n"
     ]
    },
    {
     "data": {
      "text/plain": [
       "True"
      ]
     },
     "execution_count": 6,
     "metadata": {},
     "output_type": "execute_result"
    }
   ],
   "source": [
    "agent.id == QAAgent.model_validate_json(agent.model_dump_json()).id"
   ]
  }
 ],
 "metadata": {
  "kernelspec": {
   "display_name": "Python 3 (ipykernel)",
   "language": "python",
   "name": "python3"
  },
  "language_info": {
   "codemirror_mode": {
    "name": "ipython",
    "version": 3
   },
   "file_extension": ".py",
   "mimetype": "text/x-python",
   "name": "python",
   "nbconvert_exporter": "python",
   "pygments_lexer": "ipython3",
   "version": "3.10.11"
  }
 },
 "nbformat": 4,
 "nbformat_minor": 5
}
