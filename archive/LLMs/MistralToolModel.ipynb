{
 "cells": [
  {
   "cell_type": "markdown",
   "id": "c4f0fb7c",
   "metadata": {},
   "source": [
    "# Using the Swarmauri Package Components\n",
    "\n",
    "This notebook demonstrates how to use various components of the Swarmauri package, including the `MistralToolModel`, `Conversation`, `AdditionTool`, `Toolkit`, and `ToolAgent` classes. These examples will guide you through the setup and utilization of these components for common tasks."
   ]
  },
  {
   "cell_type": "markdown",
   "id": "4b2b1a65",
   "metadata": {},
   "source": [
    "## Setup\n",
    "\n",
    "Before using the components, make sure to have the necessary API keys set up as environment variables. In this notebook, we'll use the `MISTRAL_API_KEY` for initializing the `MistralToolModel`."
   ]
  },
  {
   "cell_type": "code",
   "execution_count": 1,
   "id": "f7eaa332",
   "metadata": {},
   "outputs": [
    {
     "data": {
      "text/plain": [
       "{'name': 'open-mixtral-8x22b',\n",
       " 'id': 'daea3b48-4529-4169-9d1a-5be62ee4a734',\n",
       " 'members': [],\n",
       " 'owner': None,\n",
       " 'host': None,\n",
       " 'resource': 'LLM',\n",
       " 'version': '0.1.0',\n",
       " 'type': 'MistralToolModel',\n",
       " 'allowed_models': ['open-mixtral-8x22b',\n",
       "  'mistral-small-latest',\n",
       "  'mistral-large-latest']}"
      ]
     },
     "execution_count": 1,
     "metadata": {},
     "output_type": "execute_result"
    }
   ],
   "source": [
    "from dotenv import load_dotenv\n",
    "\n",
    "import os\n",
    "from swarmauri.standard.llms.concrete.MistralToolModel import MistralToolModel as LLM\n",
    "from swarmauri.standard.conversations.concrete.Conversation import Conversation\n",
    "from swarmauri.standard.tools.concrete.AdditionTool import AdditionTool\n",
    "from swarmauri.standard.toolkits.concrete.Toolkit import Toolkit\n",
    "from swarmauri.standard.agents.concrete.ToolAgent import ToolAgent\n",
    "\n",
    "load_dotenv()\n",
    "\n",
    "# Set up the API key\n",
    "API_KEY = os.getenv('MISTRAL_API_KEY')\n",
    "\n",
    "# Initialize the MistralToolModel\n",
    "llm = LLM(api_key=API_KEY)\n",
    "llm.dict(exclude='api_key')"
   ]
  },
  {
   "cell_type": "markdown",
   "id": "5308d891",
   "metadata": {},
   "source": [
    "## Checking the LLM Resource and Type\n",
    "\n",
    "The `MistralToolModel` is a component that interacts with the underlying language model. It has several attributes that you can access to understand its configuration."
   ]
  },
  {
   "cell_type": "code",
   "execution_count": 2,
   "id": "272433ed",
   "metadata": {},
   "outputs": [
    {
     "name": "stdout",
     "output_type": "stream",
     "text": [
      "Resource: LLM\n",
      "Type: MistralToolModel\n"
     ]
    }
   ],
   "source": [
    "# Check the resource type\n",
    "print('Resource:', llm.resource)\n",
    "print('Type:', llm.type)"
   ]
  },
  {
   "cell_type": "markdown",
   "id": "31d6850a",
   "metadata": {},
   "source": [
    "## Model Serialization and Validation\n",
    "\n",
    "The `MistralToolModel` can be serialized to JSON and deserialized back, ensuring that the model's state can be saved and later restored or validated."
   ]
  },
  {
   "cell_type": "code",
   "execution_count": 3,
   "id": "984b1b2a-52f2-4d3f-9df9-3361008ef59c",
   "metadata": {},
   "outputs": [
    {
     "data": {
      "text/plain": [
       "'{\"name\":\"open-mixtral-8x22b\",\"id\":\"daea3b48-4529-4169-9d1a-5be62ee4a734\",\"members\":[],\"owner\":null,\"host\":null,\"resource\":\"LLM\",\"version\":\"0.1.0\",\"type\":\"MistralToolModel\",\"allowed_models\":[\"open-mixtral-8x22b\",\"mistral-small-latest\",\"mistral-large-latest\"]}'"
      ]
     },
     "execution_count": 3,
     "metadata": {},
     "output_type": "execute_result"
    }
   ],
   "source": [
    "# Serialize and validate the model\n",
    "serialized_model = llm.model_dump_json(exclude='api_key')\n",
    "serialized_model"
   ]
  },
  {
   "cell_type": "markdown",
   "id": "698cbf00-1cae-43d6-8c94-5820e0d1a8b1",
   "metadata": {},
   "source": [
    "Here we deserialize the JSON, using the JSON to reload the model."
   ]
  },
  {
   "cell_type": "code",
   "execution_count": 4,
   "id": "823a33d0-6711-4305-9453-d11b66eb9fad",
   "metadata": {},
   "outputs": [
    {
     "data": {
      "text/plain": [
       "True"
      ]
     },
     "execution_count": 4,
     "metadata": {},
     "output_type": "execute_result"
    }
   ],
   "source": [
    "validated_model = LLM.model_validate_json(llm.model_dump_json())\n",
    "validated_model.id == llm.id"
   ]
  },
  {
   "cell_type": "markdown",
   "id": "ea94c6e5",
   "metadata": {},
   "source": [
    "## Default Model Name\n",
    "\n",
    "The `MistralToolModel` has a default name which can be useful to identify the specific model being used."
   ]
  },
  {
   "cell_type": "code",
   "execution_count": 5,
   "id": "02431d6e",
   "metadata": {},
   "outputs": [
    {
     "name": "stdout",
     "output_type": "stream",
     "text": [
      "Model Name: open-mixtral-8x22b\n"
     ]
    }
   ],
   "source": [
    "# Check the default model name\n",
    "print('Model Name:', llm.name)"
   ]
  },
  {
   "cell_type": "markdown",
   "id": "9a3aebff-e5fc-4c0c-bc16-5b32e02d8abe",
   "metadata": {},
   "source": [
    "## Allowed Model Names\n",
    "\n",
    "The `MistralToolModel` has a default name which can be useful to identify the specific model being used."
   ]
  },
  {
   "cell_type": "code",
   "execution_count": 6,
   "id": "0f4c71d7-038b-4011-a87a-2d54a30e4dfe",
   "metadata": {},
   "outputs": [
    {
     "name": "stdout",
     "output_type": "stream",
     "text": [
      "Allowed Models: ['open-mixtral-8x22b', 'mistral-small-latest', 'mistral-large-latest']\n"
     ]
    }
   ],
   "source": [
    "print('Allowed Models:', llm.allowed_models)"
   ]
  },
  {
   "cell_type": "markdown",
   "id": "1a521d1b",
   "metadata": {},
   "source": [
    "## Using the ToolAgent to Perform Tasks\n",
    "\n",
    "The `ToolAgent` is a component that combines an LLM, a conversation context, and a toolkit to perform specific tasks. Here, we demonstrate how to set up a `ToolAgent` to perform a simple addition using the `AdditionTool`."
   ]
  },
  {
   "cell_type": "code",
   "execution_count": 7,
   "id": "5d380471",
   "metadata": {},
   "outputs": [
    {
     "name": "stdout",
     "output_type": "stream",
     "text": [
      "Result: The result of adding 512 and 671 is 1183.\n"
     ]
    }
   ],
   "source": [
    "# Initialize the conversation, toolkit, and tool\n",
    "conversation = Conversation()\n",
    "toolkit = Toolkit()\n",
    "addition_tool = AdditionTool()\n",
    "toolkit.add_tool(addition_tool)\n",
    "\n",
    "# Initialize the ToolAgent\n",
    "agent = ToolAgent(llm=llm, conversation=conversation, toolkit=toolkit)\n",
    "\n",
    "# Execute a command using the ToolAgent\n",
    "result = agent.exec('Add 512+671')\n",
    "print('Result:', result)"
   ]
  },
  {
   "cell_type": "markdown",
   "id": "c22f108d",
   "metadata": {},
   "source": [
    "The `ToolAgent` interprets the command and uses the appropriate tool from the toolkit to perform the task. In this case, it successfully adds the numbers 512 and 671."
   ]
  },
  {
   "cell_type": "markdown",
   "id": "05edefc4",
   "metadata": {},
   "source": [
    "## Conclusion\n",
    "\n",
    "This notebook has demonstrated how to initialize and use various components of the Swarmauri package. You can explore further by integrating other tools and models, or by creating more complex agents tailored to your specific needs."
   ]
  }
 ],
 "metadata": {
  "kernelspec": {
   "display_name": "swarmauri (v0.4.0)",
   "language": "python",
   "name": "swarmauri-v0.4"
  },
  "language_info": {
   "codemirror_mode": {
    "name": "ipython",
    "version": 3
   },
   "file_extension": ".py",
   "mimetype": "text/x-python",
   "name": "python",
   "nbconvert_exporter": "python",
   "pygments_lexer": "ipython3",
   "version": "3.10.14"
  }
 },
 "nbformat": 4,
 "nbformat_minor": 5
}
