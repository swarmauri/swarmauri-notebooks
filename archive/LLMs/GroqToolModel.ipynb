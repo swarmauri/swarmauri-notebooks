{
 "cells": [
  {
   "cell_type": "markdown",
   "metadata": {},
   "source": [
    "# Introduction to Swarmauri Package\n",
    "This notebook aims to provide an introduction to the components of the Swarmauri package. We will walk through how to use different parts including GroqToolModel, Conversation, AdditionTool, Toolkit, and ToolAgent."
   ]
  },
  {
   "cell_type": "markdown",
   "metadata": {},
   "source": [
    "## Setting Up\n",
    "First, ensure you have the necessary environment variable `GROQ_API_KEY`. This API key is needed to initialize the `GroqToolModel`."
   ]
  },
  {
   "cell_type": "code",
   "execution_count": 1,
   "metadata": {},
   "outputs": [

   ],
   "source": [
    "from dotenv import load_dotenv\n",
    "import os\n",
    "from swarmauri.standard.llms.concrete.GroqToolModel import GroqToolModel\n",
    "from swarmauri.standard.conversations.concrete.Conversation import Conversation\n",
    "from swarmauri.standard.tools.concrete.AdditionTool import AdditionTool\n",
    "from swarmauri.standard.toolkits.concrete.Toolkit import Toolkit\n",
    "from swarmauri.standard.agents.concrete.ToolAgent import ToolAgent\n",
    "\n",
    "load_dotenv()\n",
    "\n",
    "# Ensure you have the environment variable set\n",
    "API_KEY = os.getenv('GROQ_API_KEY')\n",
    "if API_KEY is None:\n",
    "    raise ValueError(\"GROQ_API_KEY environment variable is not set\")"
   ]
  },
  {
   "cell_type": "markdown",
   "metadata": {},
   "source": [
    "## GroqToolModel\n",
    "The `GroqToolModel` is a foundational component in Swarmauri. Let's start by initializing it."
   ]
  },
  {
   "cell_type": "code",
   "execution_count": 2,
   "metadata": {},
   "outputs": [
    {
     "name": "stdout",
     "output_type": "stream",
     "text": [
      "Resource Type: LLM\n"
     ]
    }
   ],
   "source": [
    "# Initialize the GroqToolModel\n",
    "llm = GroqToolModel(api_key=API_KEY)\n",
    "\n",
    "# Check resource type\n",
    "print(f\"Resource Type: {llm.resource}\")"
   ]
  },
  {
   "cell_type": "markdown",
   "metadata": {},
   "source": [
    "The resource attribute indicates that we are working with an LLM (Large Language Model)."
   ]
  },
  {
   "cell_type": "code",
   "execution_count": 3,
   "metadata": {},
   "outputs": [
    {
     "name": "stdout",
     "output_type": "stream",
     "text": [
      "Model Type: GroqToolModel\n"
     ]
    }
   ],
   "source": [
    "# Check model type\n",
    "print(f\"Model Type: {llm.type}\")"
   ]
  },
  {
   "cell_type": "markdown",
   "metadata": {},
   "source": [
    "The type attribute confirms we are using the `GroqToolModel`."
   ]
  },
  {
   "cell_type": "code",
   "execution_count": 4,
   "metadata": {},
   "outputs": [
    {
     "name": "stdout",
     "output_type": "stream",
     "text": [
      "Model serialization and validation successful.\n"
     ]
    }
   ],
   "source": [
    "# Model serialization\n",
    "assert llm.id == GroqToolModel.model_validate_json(llm.model_dump_json()).id\n",
    "print(\"Model serialization and validation successful.\")"
   ]
  },
  {
   "cell_type": "markdown",
   "metadata": {},
   "source": [
    "The above code block ensures that the model serialization and deserialization are working as expected."
   ]
  },
  {
   "cell_type": "code",
   "execution_count": 5,
   "metadata": {},
   "outputs": [
    {
     "name": "stdout",
     "output_type": "stream",
     "text": [
      "Default Model Name: gemma-7b-it\n"
     ]
    }
   ],
   "source": [
    "# Default model name\n",
    "print(f\"Default Model Name: {llm.name}\")"
   ]
  },
  {
   "cell_type": "markdown",
   "metadata": {},
   "source": [
    "The default model name for `GroqToolModel` is `gemma-7b-it`."
   ]
  },
  {
   "cell_type": "code",
   "execution_count": 6,
   "metadata": {},
   "outputs": [
    {
     "name": "stdout",
     "output_type": "stream",
     "text": [
      "Allowed Models: ['llama3-8b-8192', 'llama3-70b-8192', 'mixtral-8x7b-32768', 'gemma-7b-it']\n"
     ]
    }
   ],
   "source": [
    "# Default model name\n",
    "print(f\"Allowed Models: {llm.allowed_models}\")"
   ]
  },
  {
   "cell_type": "markdown",
   "metadata": {},
   "source": [
    "## Using ToolAgent with AdditionTool\n",
    "Now, let's set up a `ToolAgent` with an `AdditionTool` to perform addition operations dynamically."
   ]
  },
  {
   "cell_type": "code",
   "execution_count": null,
   "metadata": {},
   "outputs": [],
   "source": [
    "# Initialize Conversation, Toolkit and AdditionTool\n",
    "conversation = Conversation()\n",
    "toolkit = Toolkit()\n",
    "tool = AdditionTool()\n",
    "toolkit.add_tool(tool)\n",
    "\n",
    "# Initialize ToolAgent\n",
    "agent = ToolAgent(\n",
    "    llm=llm,\n",
    "    conversation=conversation,\n",
    "    toolkit=toolkit\n",
    ")\n",
    "\n",
    "# Execute a command using the agent\n",
    "result = agent.exec('Add 512+671')\n",
    "print(f\"Result: {result}\")"
   ]
  },
  {
   "cell_type": "markdown",
   "metadata": {},
   "source": [
    "The `ToolAgent` uses the `AdditionTool` to execute the addition command. The result is returned as a string."
   ]
  }
 ],
 "metadata": {
  "kernelspec": {
   "display_name": "Python 3 (ipykernel)",
   "language": "python",
   "name": "python3"
  },
  "language_info": {
   "codemirror_mode": {
    "name": "ipython",
    "version": 3
   },
   "file_extension": ".py",
   "mimetype": "text/x-python",
   "name": "python",
   "nbconvert_exporter": "python",
   "pygments_lexer": "ipython3",
   "version": "3.10.14"
  }
 },
 "nbformat": 4,
 "nbformat_minor": 4
}
