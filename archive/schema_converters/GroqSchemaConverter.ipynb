{
 "cells": [
  {
   "cell_type": "markdown",
   "id": "361b5642-32bb-420c-a441-88ae54a5d7f0",
   "metadata": {},
   "source": [
    "# Import Dependencies"
   ]
  },
  {
   "cell_type": "code",
   "execution_count": 1,
   "id": "21e7879f-48e3-4836-92f3-1e6cf4d4a430",
   "metadata": {},
   "outputs": [
    {
     "name": "stderr",
     "output_type": "stream",
     "text": [
      "WARNING:root:Subclass Parameter does not have a type annotation\n"
     ]
    }
   ],
   "source": [
    "from swarmauri.standard.tools.concrete.AdditionTool import AdditionTool  # Using AdditionTool as the example tool to be used\n",
    "from swarmauri.standard.toolkits.concrete.Toolkit import Toolkit\n",
    "from swarmauri.standard.agents.concrete.ToolAgent import ToolAgent\n",
    "\n",
    "from swarmauri.standard.schema_converters.concrete.GroqSchemaConverter import (\n",
    "    GroqSchemaConverter as Schema)"
   ]
  },
  {
   "cell_type": "markdown",
   "id": "d0045055-a214-4f46-bc04-ead16a685887",
   "metadata": {},
   "source": [
    "# Initialize your ToolKit and add the tool(s)"
   ]
  },
  {
   "cell_type": "code",
   "execution_count": 2,
   "id": "acf5978c-6366-46df-a0c8-4070f3f3a1e0",
   "metadata": {},
   "outputs": [],
   "source": [
    "toolkit = Toolkit()\n",
    "tool = AdditionTool()\n",
    "toolkit.add_tool(tool)"
   ]
  },
  {
   "cell_type": "markdown",
   "id": "132cfa12-1849-452c-9994-0350a2c1697e",
   "metadata": {},
   "source": [
    "# Convert the tool(s)"
   ]
  },
  {
   "cell_type": "code",
   "execution_count": 3,
   "id": "fbf9df94-c290-48a2-8df8-8441fd71eda8",
   "metadata": {},
   "outputs": [],
   "source": [
    "result = [Schema().convert(toolkit.tools[tool]) for tool in toolkit.tools]"
   ]
  },
  {
   "cell_type": "code",
   "execution_count": 4,
   "id": "faeddc76-5eda-4f13-aa87-6a7bbba67ec3",
   "metadata": {},
   "outputs": [
    {
     "data": {
      "text/plain": [
       "[{'type': 'function',\n",
       "  'function': {'name': 'AdditionTool',\n",
       "   'description': 'This tool has two numbers together',\n",
       "   'parameters': {'type': 'object',\n",
       "    'properties': {'x': {'type': 'integer', 'description': 'The left operand'},\n",
       "     'y': {'type': 'integer', 'description': 'The right operand'}},\n",
       "    'required': ['x', 'y']}}}]"
      ]
     },
     "execution_count": 4,
     "metadata": {},
     "output_type": "execute_result"
    }
   ],
   "source": [
    "result"
   ]
  }
 ],
 "metadata": {
  "kernelspec": {
   "display_name": "Python 3 (ipykernel)",
   "language": "python",
   "name": "python3"
  },
  "language_info": {
   "codemirror_mode": {
    "name": "ipython",
    "version": 3
   },
   "file_extension": ".py",
   "mimetype": "text/x-python",
   "name": "python",
   "nbconvert_exporter": "python",
   "pygments_lexer": "ipython3",
   "version": "3.10.14"
  }
 },
 "nbformat": 4,
 "nbformat_minor": 5
}
