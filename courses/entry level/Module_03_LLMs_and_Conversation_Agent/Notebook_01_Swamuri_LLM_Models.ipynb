{
 "cells": [
  {
   "cell_type": "markdown",
   "metadata": {},
   "source": [
    "# **Swarmauri LLM Models**\n",
    "---\n",
    "\n",
    "Swarmauri provides a broad range of models, from text generation to image generation, vision models, and audio generation.\n",
    "\n",
    "## **Text Generation Models**\n",
    "----\n",
    "1. **AI21Model**  \n",
    "2. **AnthropicModel**  \n",
    "3. **CohereModel**  \n",
    "4. **DeepInfraModel**  \n",
    "5. **DeepSeekModel**  \n",
    "6. **GeminiProModel**  \n",
    "7. **GroqModel**  \n",
    "8. **HyperbolicModel**  \n",
    "9. **MistralModel**  \n",
    "10. **OpenAIModel**  \n",
    "11. **PerplexityModel**  \n",
    "\n",
    "## **Image Generation Models**\n",
    "----\n",
    "1. **BlackForestImgGenModel**  \n",
    "2. **DeepInfraImgGenModel**  \n",
    "3. **FalAIImgGenModel**  \n",
    "4. **HyperbolicImgGenModel**  \n",
    "5. **OpenAIImgGenModel**\n",
    "\n",
    "## **Vision Models**\n",
    "----\n",
    "1. **FalAIVisionModel**  \n",
    "2. **GroqVisionModel**  \n",
    "3. **HyperbolicVisionModel**\n",
    "\n",
    "## **Audio Models**\n",
    "----\n",
    "1. **GroqAIAudio**  \n",
    "2. **HyperbolicAudioTTS**  \n",
    "3. **OpenAIAudio**  \n",
    "4. **OpenAIAudioTTS**  \n",
    "5. **PlayHTModel**  \n",
    "6. **WhisperLargeModel**\n",
    "\n",
    "More models are being integrated with time, so watch out for updates.\n",
    "#### **Note: To learn how to use these models, please visit our GENAI course. In the course, we will take you through how to build with various models.**"
   ]
  },
  {
   "cell_type": "markdown",
   "metadata": {},
   "source": [
    "## **NOTEBOOK METADATA**"
   ]
  },
  {
   "cell_type": "code",
   "execution_count": 1,
   "metadata": {},
   "outputs": [
    {
     "name": "stdout",
     "output_type": "stream",
     "text": [
      "Author: Victory Nnaji\n",
      "GitHub Username: 3rd-Son\n",
      "Notebook File: Notebook_01_Swamuri_LLM_Models.ipynb\n",
      "Last Modified: 2024-12-24 09:11:55.148380\n",
      "Platform: Darwin 24.1.0\n",
      "Python Version: 3.11.11 (main, Dec 11 2024, 10:25:04) [Clang 14.0.6 ]\n",
      "Swarmauri Version: 0.5.2\n",
      "None\n"
     ]
    }
   ],
   "source": [
    "from swarmauri.utils import print_notebook_metadata\n",
    "\n",
    "metadata = print_notebook_metadata.print_notebook_metadata(\"Victory Nnaji\", \"3rd-Son\")\n",
    "print(metadata) "
   ]
  }
 ],
 "metadata": {
  "kernelspec": {
   "display_name": "swarmauri-notebooks",
   "language": "python",
   "name": "python3"
  },
  "language_info": {
   "codemirror_mode": {
    "name": "ipython",
    "version": 3
   },
   "file_extension": ".py",
   "mimetype": "text/x-python",
   "name": "python",
   "nbconvert_exporter": "python",
   "pygments_lexer": "ipython3",
   "version": "3.11.11"
  }
 },
 "nbformat": 4,
 "nbformat_minor": 2
}
