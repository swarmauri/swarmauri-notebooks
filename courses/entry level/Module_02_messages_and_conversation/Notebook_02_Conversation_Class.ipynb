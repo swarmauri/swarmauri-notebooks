{
 "cells": [
  {
   "cell_type": "markdown",
   "metadata": {},
   "source": [
    "# **Conversation Class**"
   ]
  },
  {
   "cell_type": "markdown",
   "metadata": {},
   "source": [
    "The `Conversation` class is a concrete implementation of the `ConversationBase` class in the `swarmauri` framework. It represents the structure and functionality required to manage conversation history and interactions within the framework.\n",
    "\n",
    "### Purpose in `swarmauri`:\n",
    "- The `Conversation` class is used to handle and structure conversations between users and tools or models in the `swarmauri` framework.\n",
    "- It allows for:\n",
    "  - **Adding Messages**: Storing inputs (e.g., user prompts or messages) into the conversation history.\n",
    "  - **Context Management**: Maintaining the history of a conversation, which is critical for tools or language models that rely on context to generate meaningful responses.\n",
    "  - **Interfacing with Toolkits**: Facilitates smooth integration with toolkits and models to generate responses or perform specific actions.\n",
    "\n",
    "This class acts as a foundational piece in building conversational AI applications or systems within the `swarmauri` framework, enabling robust and contextual interactions.\n",
    "\n",
    "---\n"
   ]
  },
  {
   "cell_type": "markdown",
   "metadata": {},
   "source": [
    "\n",
    "\n",
    "### Core Features:\n",
    "\n",
    "#### 1. **Adding Messages**\n",
    "The `add_message` method allows you to add a message to the conversation history. Each message must be an instance of a `MessageBase` subclass, such as `HumanMessage`, `AgentMessage`, `FunctionMessage`, or `SystemMessage`.  \n"
   ]
  },
  {
   "cell_type": "code",
   "execution_count": 1,
   "metadata": {},
   "outputs": [],
   "source": [
    "from swarmauri.conversations.concrete.Conversation import Conversation\n",
    "from swarmauri.messages.concrete.HumanMessage import HumanMessage\n",
    "\n",
    "conversation = Conversation()\n",
    "human_message = HumanMessage(content=\"What is the weather like today?\")\n",
    "conversation.add_message(human_message)"
   ]
  },
  {
   "cell_type": "markdown",
   "metadata": {},
   "source": [
    "\n",
    "This will add the user's message to the history, making it available for subsequent processing or context retrieval.\n",
    "\n",
    "#### 2. **Adding Multiple Messages**\n",
    "The `add_messages` method provides a way to add multiple messages to the conversation history in one call.  "
   ]
  },
  {
   "cell_type": "code",
   "execution_count": 2,
   "metadata": {},
   "outputs": [],
   "source": [
    "from swarmauri.messages.concrete.AgentMessage import AgentMessage\n",
    "\n",
    "messages = [\n",
    "    HumanMessage(content=\"Tell me a joke\"),\n",
    "    AgentMessage(content=\"Why did the scarecrow win an award? Because he was outstanding in his field!\")\n",
    "]\n",
    "conversation.add_messages(messages)"
   ]
  },
  {
   "cell_type": "markdown",
   "metadata": {},
   "source": [
    "This is particularly useful for pre-loading a conversation history with predefined messages.\n",
    "\n",
    "#### 3. **Accessing Conversation History**\n",
    "The `history` property provides read-only access to the list of all messages in the conversation. This is crucial for applications that need to reference prior exchanges for maintaining context.  "
   ]
  },
  {
   "cell_type": "code",
   "execution_count": 3,
   "metadata": {},
   "outputs": [
    {
     "name": "stdout",
     "output_type": "stream",
     "text": [
      "What is the weather like today?\n",
      "Tell me a joke\n",
      "Why did the scarecrow win an award? Because he was outstanding in his field!\n"
     ]
    }
   ],
   "source": [
    "for message in conversation.history:\n",
    "    print(message.content)"
   ]
  },
  {
   "cell_type": "markdown",
   "metadata": {},
   "source": [
    "\n",
    "#### 4. **Getting the Last Message**\n",
    "The `get_last` method retrieves the most recent message in the conversation history. This is useful when you need to process or reference the latest user input or response.  "
   ]
  },
  {
   "cell_type": "code",
   "execution_count": 4,
   "metadata": {},
   "outputs": [
    {
     "name": "stdout",
     "output_type": "stream",
     "text": [
      "Why did the scarecrow win an award? Because he was outstanding in his field!\n"
     ]
    }
   ],
   "source": [
    "last_message = conversation.get_last()\n",
    "print(last_message.content if last_message else \"No messages yet.\")"
   ]
  },
  {
   "cell_type": "markdown",
   "metadata": {},
   "source": [
    "#### 5. **Removing a Message**\n",
    "The `remove_message` method enables the deletion of a specific message from the history.  "
   ]
  },
  {
   "cell_type": "code",
   "execution_count": 5,
   "metadata": {},
   "outputs": [],
   "source": [
    "conversation.remove_message(human_message)"
   ]
  },
  {
   "cell_type": "markdown",
   "metadata": {},
   "source": [
    "This is helpful when you want to adjust or clean up the conversation history dynamically.\n",
    "\n",
    "#### 6. **Clearing the History**\n",
    "The `clear_history` method completely wipes the conversation history. Use this method to start a new conversation or reset the context entirely.  "
   ]
  },
  {
   "cell_type": "code",
   "execution_count": 6,
   "metadata": {},
   "outputs": [],
   "source": [
    "conversation.clear_history()"
   ]
  },
  {
   "cell_type": "markdown",
   "metadata": {},
   "source": [
    "### Working with Different Message Types\n",
    "The `Conversation` class supports multiple message types, each fulfilling a specific role:  \n",
    "1. **`HumanMessage`**: Represents user input, such as questions, commands, or requests.  \n",
    "\n",
    "2. **`AgentMessage`**: Represents the assistant's response, typically generated by an AI model or tool.  \n",
    "\n",
    "3. **`FunctionMessage`**: Represents tool-generated responses or outputs. For example, data retrieved from a web service or computation results.  \n",
    "\n",
    "4. **`SystemMessage`**: Represents system-level instructions or guidelines for the conversation. For instance, defining behavior or context for the AI.  \n",
    "\n",
    "---\n",
    "\n",
    "### When to Use the `Conversation` Class:\n",
    "- **Building Conversational AI**: Use it to manage interactions between users and AI models, ensuring coherent and context-aware responses.\n",
    "- **Tool Integration**: Helps maintain context when integrating tools or APIs into a conversational workflow.\n",
    "- **Custom Applications**: Ideal for applications requiring a structured and extensible conversation framework.\n",
    "\n",
    "The `Conversation` class serves as the backbone for managing conversational interactions, enabling developers to build robust, context-aware, and user-centric applications within the `swarmauri` framework."
   ]
  },
  {
   "cell_type": "markdown",
   "metadata": {},
   "source": [
    "## Notebook Metadata"
   ]
  },
  {
   "cell_type": "code",
   "execution_count": 7,
   "metadata": {},
   "outputs": [
    {
     "name": "stdout",
     "output_type": "stream",
     "text": [
      "Author: Victory Nnaji\n",
      "GitHub Username: 3rd-Son\n",
      "Notebook File: Notebook_02_Conversation_Class.ipynb\n",
      "Last Modified: 2025-01-06 11:14:09.148315\n",
      "Platform: Darwin 24.1.0\n",
      "Python Version: 3.11.11 (main, Dec 11 2024, 10:25:04) [Clang 14.0.6 ]\n",
      "Swarmauri Version: 0.5.2\n",
      "None\n"
     ]
    }
   ],
   "source": [
    "from swarmauri.utils import print_notebook_metadata\n",
    "\n",
    "metadata = print_notebook_metadata.print_notebook_metadata(\"Victory Nnaji\", \"3rd-Son\")\n",
    "print(metadata) "
   ]
  }
 ],
 "metadata": {
  "kernelspec": {
   "display_name": "swarmauri-notebooks",
   "language": "python",
   "name": "python3"
  },
  "language_info": {
   "codemirror_mode": {
    "name": "ipython",
    "version": 3
   },
   "file_extension": ".py",
   "mimetype": "text/x-python",
   "name": "python",
   "nbconvert_exporter": "python",
   "pygments_lexer": "ipython3",
   "version": "3.11.11"
  }
 },
 "nbformat": 4,
 "nbformat_minor": 2
}
