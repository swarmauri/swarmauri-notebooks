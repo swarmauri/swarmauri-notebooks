{
 "cells": [
  {
   "cell_type": "markdown",
   "metadata": {},
   "source": [
    "## **Introduction to Tool Models in Swarmauri sdk**\n",
    "\n",
    "Tool Models are powerful components designed to integrate various tools seamlessly, enabling developers to achieve complex tasks with minimal effort."
   ]
  },
  {
   "cell_type": "markdown",
   "metadata": {},
   "source": [
    "#### **List of LLM Tool Classes in Swarmauri**  \n",
    "---\n",
    "Swarmauri provides a collection of LLM classes, each named after its corresponding llm provider. These include:  \n",
    "- **AnthropicToolModel**  \n",
    "- **CohereToolModel**  \n",
    "- **GeminiToolModel**  \n",
    "- **GroqToolModel**  \n",
    "- **MistralToolModel**  \n",
    "- **OpenAIToolModel**  \n",
    "\n",
    "Each class is tailored to support specific LLM providers, offering unique capabilities and methods to suit a variety of use cases.  "
   ]
  },
  {
   "cell_type": "markdown",
   "metadata": {},
   "source": [
    "#### **Working with Swarmauri Tool Models**"
   ]
  },
  {
   "cell_type": "markdown",
   "metadata": {},
   "source": [
    "**Import the `OpenAIToolModel` class**"
   ]
  },
  {
   "cell_type": "code",
   "execution_count": 24,
   "metadata": {},
   "outputs": [],
   "source": [
    "from swarmauri.llms.concrete.OpenAIToolModel import OpenAIToolModel"
   ]
  },
  {
   "cell_type": "markdown",
   "metadata": {},
   "source": [
    "**Load your API KEY from your environment variables**\n",
    "- Make sure you have python-dotenv installed if not, run `pip install python-dotenv` so you can install it.\n",
    "- Get your API KEY [HERE](https://platform.openai.com/api-keys)"
   ]
  },
  {
   "cell_type": "code",
   "execution_count": 25,
   "metadata": {},
   "outputs": [],
   "source": [
    "import os\n",
    "from dotenv import load_dotenv\n",
    "load_dotenv()\n",
    "OPENAI_API_KEY = os.getenv(\"OPENAI_API_KEY\")"
   ]
  },
  {
   "cell_type": "markdown",
   "metadata": {},
   "source": [
    "**Initialize OpenAIToolModel**\n",
    "- Note: You can as well input your api key directly, but it's better to load from env file\n",
    "- Also, the `name` arguments is an optional argument that allows you to input a model from the list of allowed_models. "
   ]
  },
  {
   "cell_type": "code",
   "execution_count": 26,
   "metadata": {},
   "outputs": [],
   "source": [
    "openai_tool_model = OpenAIToolModel(api_key=OPENAI_API_KEY) "
   ]
  },
  {
   "cell_type": "markdown",
   "metadata": {},
   "source": [
    "**Initailize a Tool class and Toolkit**\n",
    "- add `tool` instance to `toolkit`\n",
    "- we will use the `CalculatorTool` to show an exaample"
   ]
  },
  {
   "cell_type": "code",
   "execution_count": 33,
   "metadata": {},
   "outputs": [],
   "source": [
    "from swarmauri.tools.concrete.CalculatorTool import CalculatorTool #This is the AdittionTool, we already covered tools in the first module\n",
    "from swarmauri.toolkits.concrete.Toolkit import Toolkit  #This is the actual Toolkit class\n",
    "\n",
    "toolkit = Toolkit()\n",
    "calculator_tool = CalculatorTool()\n",
    "toolkit.add_tool(calculator_tool)"
   ]
  },
  {
   "cell_type": "markdown",
   "metadata": {},
   "source": [
    "**Initailize HumanMessage**\n",
    "- create an instance of HumanMessage to add the users message\n",
    "- this is to be added to conversation\n"
   ]
  },
  {
   "cell_type": "code",
   "execution_count": 34,
   "metadata": {},
   "outputs": [],
   "source": [
    "from swarmauri.messages.concrete.HumanMessage import HumanMessage\n",
    "\n",
    "input_data = \"Add this 512 and 671\"\n",
    "human_message = HumanMessage(content=input_data)\n"
   ]
  },
  {
   "cell_type": "markdown",
   "metadata": {},
   "source": [
    "**Initailize Conversation**\n",
    "- To main conversation history, messaages are added to convesation insatnce\n"
   ]
  },
  {
   "cell_type": "code",
   "execution_count": 29,
   "metadata": {},
   "outputs": [],
   "source": [
    "from swarmauri.conversations.concrete.Conversation import Conversation\n",
    "\n",
    "conversation = Conversation()\n",
    "conversation.add_message(human_message)"
   ]
  },
  {
   "cell_type": "markdown",
   "metadata": {},
   "source": [
    "**Use the `predict` method the llm tool model**\n",
    "- Use the `predict` method of the tool model `openai_tool_model` to make predictions and tool/function calls\n",
    "- retrieve the content of the model's prediction and tool/function call "
   ]
  },
  {
   "cell_type": "code",
   "execution_count": 31,
   "metadata": {},
   "outputs": [
    {
     "name": "stdout",
     "output_type": "stream",
     "text": [
      "The sum of 512 and 671 is 1183.\n"
     ]
    }
   ],
   "source": [
    "conversation = openai_tool_model.predict(conversation=conversation, toolkit=toolkit)\n",
    "print(conversation.get_last().content)"
   ]
  },
  {
   "cell_type": "markdown",
   "metadata": {},
   "source": [
    "To learn more about the Tool Models class and how to use it, you can refer to the course [AI Tools](https://github.com/swarmauri/swarmauri-notebooks/courses/AI_Tools)"
   ]
  },
  {
   "cell_type": "markdown",
   "metadata": {},
   "source": [
    "#### Lets now dive into using `ToolAgent` and how it can make it alot more easier to interact with `llm`, `conversation` and `tools` via `toolkit`"
   ]
  },
  {
   "cell_type": "markdown",
   "metadata": {},
   "source": [
    "### **What is `ToolAgent`?**\n",
    "The `ToolAgent` class in the Swarmauri SDK is a powerful subclass of the `AgentBase` that provides high-level interaction capabilities. It combines the ability to use tools from a toolkit, interact with large language models (LLMs), and manage conversations effectively."
   ]
  },
  {
   "cell_type": "markdown",
   "metadata": {},
   "source": [
    "**Create the ToolAgent**\n",
    "\n",
    "Instantiate the `ToolAgent` and pass the components needed: `llm`, `toolkit` and `conversation` for interaction with the Agent. "
   ]
  },
  {
   "cell_type": "code",
   "execution_count": 32,
   "metadata": {},
   "outputs": [],
   "source": [
    "from swarmauri.agents.concrete.ToolAgent import ToolAgent\n",
    "\n",
    "agent = ToolAgent(\n",
    "    llm=openai_tool_model,\n",
    "    toolkit=toolkit,\n",
    "    conversation=conversation\n",
    ")"
   ]
  },
  {
   "cell_type": "markdown",
   "metadata": {},
   "source": [
    "**Using the agent `exec` Method**"
   ]
  },
  {
   "cell_type": "code",
   "execution_count": null,
   "metadata": {},
   "outputs": [],
   "source": [
    "# Execute the agent\n",
    "response = agent.exec(input_data=input_data)\n",
    "\n",
    "# Output the response\n",
    "print(\"Agent Response:\", response)"
   ]
  },
  {
   "cell_type": "markdown",
   "metadata": {},
   "source": [
    "# **NOTEBOOK METADATA**"
   ]
  },
  {
   "cell_type": "code",
   "execution_count": 23,
   "metadata": {},
   "outputs": [
    {
     "name": "stdout",
     "output_type": "stream",
     "text": [
      "Author: Michael Nwogha\n",
      "GitHub Username: MichaelDecent\n",
      "Notebook File: Notebook_02_ToolModel_and_ToolAgent.ipynb\n",
      "Last Modified: 2025-01-06 16:18:44.929468\n",
      "Platform: Darwin 23.5.0\n",
      "Python Version: 3.11.11 (main, Dec 11 2024, 10:25:04) [Clang 14.0.6 ]\n",
      "Swarmauri Version: 0.5.2\n",
      "None\n"
     ]
    }
   ],
   "source": [
    "from swarmauri.utils import print_notebook_metadata\n",
    "\n",
    "metadata = print_notebook_metadata.print_notebook_metadata(\"Michael Nwogha\", \"MichaelDecent\")\n",
    "print(metadata) "
   ]
  },
  {
   "cell_type": "code",
   "execution_count": null,
   "metadata": {},
   "outputs": [],
   "source": []
  }
 ],
 "metadata": {
  "kernelspec": {
   "display_name": "swarmauri_notebook_env",
   "language": "python",
   "name": "python3"
  },
  "language_info": {
   "codemirror_mode": {
    "name": "ipython",
    "version": 3
   },
   "file_extension": ".py",
   "mimetype": "text/x-python",
   "name": "python",
   "nbconvert_exporter": "python",
   "pygments_lexer": "ipython3",
   "version": "3.11.11"
  }
 },
 "nbformat": 4,
 "nbformat_minor": 2
}
