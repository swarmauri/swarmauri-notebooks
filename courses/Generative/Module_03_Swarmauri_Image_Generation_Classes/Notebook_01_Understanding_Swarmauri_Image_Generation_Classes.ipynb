{
 "cells": [
  {
   "cell_type": "markdown",
   "id": "90269f19-b244-4d81-b2b2-adaa8ad8150e",
   "metadata": {},
   "source": [
    "# **Understanding Swarmauri Image Generation Classes**\n",
    "---\n",
    "\n",
    "In this notebook, we’ll explore the various **Image Generation Models** (ImgGenModels) provided by Swarmauri.  \n",
    "\n",
    "We’ll also cover:  \n",
    "- How to view the allowed/supported models for each Image Generation Model class.  \n",
    "- The methods available in these classes and their purposes.  \n",
    "\n",
    "This notebook serves as a comprehensive guide to understanding and working with Swarmauri’s Image Generation classes, helping you make the most of its powerful features.  \n",
    "\n",
    "---\n",
    "\n",
    "## **What Are Image Generation Models?**  \n",
    "\n",
    "Image generation models are AI-driven systems designed to create visual content, such as images or graphics, based on specific input prompts. These models use advanced deep learning techniques to interpret text descriptions or other forms of input and generate corresponding visual outputs.  \n",
    "\n",
    "### **Use Cases of Image Generation Models**  \n",
    "Image generation models have a wide range of applications across various industries. Below are some of the most notable use cases:  \n",
    "\n",
    "1. **Creative Design and Art**  \n",
    "   - Generating concept art for movies, games, and other creative projects.  \n",
    "   - Assisting artists in creating digital paintings or illustrations.  \n",
    "   - Producing unique visual art pieces for personal or commercial use.  \n",
    "\n",
    "2. **Marketing and Branding**  \n",
    "   - Designing logos, banners, and promotional materials.  \n",
    "   - Creating visually engaging content for advertisements and social media.  \n",
    "   - Generating product mockups or visual representations for e-commerce.  \n",
    "\n",
    "3. **Interior Design and Architecture**  \n",
    "   - Visualizing architectural concepts and interior layouts.  \n",
    "   - Producing photorealistic images of buildings or spaces before construction.  \n",
    "   - Exploring multiple design options quickly and efficiently.  \n",
    "\n",
    "4. **Education and Training**  \n",
    "   - Generating diagrams, illustrations, and visual aids for educational content.  \n",
    "   - Creating training simulations or virtual environments for specific learning scenarios.  \n",
    "\n",
    "5. **Gaming and Entertainment**  \n",
    "   - Designing characters, environments, and assets for video games.  \n",
    "   - Generating storyboards or visual sequences for movies and animation.  \n",
    "   - Producing immersive visuals for virtual or augmented reality experiences.  \n",
    "\n",
    "6. **Scientific Research and Data Visualization**  \n",
    "   - Generating visualizations of scientific phenomena or concepts.  \n",
    "   - Simulating realistic images for medical research, such as organ imaging.  \n",
    "   - Producing illustrative visuals for academic papers or presentations.  \n",
    "\n",
    "7. **Personalization**  \n",
    "   - Creating custom avatars, portraits, or profile images.  \n",
    "   - Designing personalized gifts or artwork based on user preferences.  \n",
    "   - Generating tailored visuals for individual users in apps or websites.  \n",
    "\n",
    "By leveraging these use cases, businesses and individuals can unlock innovative ways to communicate ideas, enhance creativity, and streamline workflows.  \n",
    "\n",
    "With this understanding, let’s dive deeper into the specific **ImgGenModels** provided by Swarmauri and the functionalities they offer.\n",
    "\n",
    "---"
   ]
  },
  {
   "cell_type": "markdown",
   "id": "861962e1-7ac8-4c49-930f-6bea55ac3bda",
   "metadata": {},
   "source": [
    "## List of Image Generation Classes in Swarmauri\n",
    "---\n",
    "\n",
    "Swarmauri provides the following Image Generation classes, named based on the providers of the models:\n",
    "\n",
    "1. **BlackForestImgGenModel**: Returns a url to the generated image.  \n",
    "2. **DeepInfraImgGenModel**: Returns the base64 string of the generated image. \n",
    "3. **FalAIImgGenModel**: Returns a url to the generated image.  \n",
    "4. **HyperbolicImgGenModel**: Returns the base64 string of the generated image.   \n",
    "5. **OpenAIImgGenModel**: Returns a url to the generated image.  \n",
    "\n",
    "\n",
    "### Provider Naming Convention  \n",
    "Swarmauri follows a *provider naming convention*. This means that the file and class names reflect the **provider** of the providers of the image generation models and not the actual image generation model."
   ]
  },
  {
   "cell_type": "markdown",
   "id": "60b845a2-e311-4ebc-b227-5cea02ce9ec0",
   "metadata": {},
   "source": [
    "## How to see the Allowed Models in Image Generation (ImageGen) class\n",
    "---"
   ]
  },
  {
   "cell_type": "markdown",
   "id": "6c5398cf-2187-4613-ac42-a4c8f190ee6e",
   "metadata": {},
   "source": [
    "1. ### Import the class \n",
    "\n",
    "- Here we will use BlackForestImgGenModel, you can use any other class of your choice from the List of Iamge Generation Classes in Swarmauri "
   ]
  },
  {
   "cell_type": "code",
   "execution_count": 11,
   "id": "17a28a79",
   "metadata": {},
   "outputs": [],
   "source": [
    "from swarmauri.llms.concrete.BlackForestImgGenModel import BlackForestImgGenModel"
   ]
  },
  {
   "cell_type": "markdown",
   "id": "185abd29",
   "metadata": {},
   "source": [
    "2. ### Instantiate the Model Class"
   ]
  },
  {
   "cell_type": "code",
   "execution_count": 12,
   "id": "f6852be6",
   "metadata": {},
   "outputs": [],
   "source": [
    "model = BlackForestImgGenModel(api_key=\"put your api key here\") # Note: You don't need an API key to see the allowed_model, you can leave it as it is"
   ]
  },
  {
   "cell_type": "markdown",
   "id": "8e8a4d1f",
   "metadata": {},
   "source": [
    "3. ### List all available models\n",
    "- To list the allowed models, we use the `allowed_models` class attribute, just like we did when working with LLMs"
   ]
  },
  {
   "cell_type": "code",
   "execution_count": 13,
   "id": "6ba159c5",
   "metadata": {},
   "outputs": [
    {
     "name": "stdout",
     "output_type": "stream",
     "text": [
      "['flux-pro-1.1', 'flux-pro', 'flux-dev']\n"
     ]
    }
   ],
   "source": [
    "available_models = model.allowed_models\n",
    "print(available_models)"
   ]
  },
  {
   "cell_type": "markdown",
   "id": "55532822",
   "metadata": {},
   "source": [
    "As you can see, the allowed models for the `BlackForestImgGenModel` class have been printed.  \n",
    "\n",
    "This approach is similar to how we worked with LLMs earlier. Swarmauri ensures consistency by allowing you to use the same methods and attributes across different classes in a unified manner. This design simplifies the process, making it more intuitive and efficient to build with Swarmauri."
   ]
  },
  {
   "cell_type": "markdown",
   "id": "a16dd8be",
   "metadata": {},
   "source": [
    "## Methods Available in Each Image Generation Class  \n",
    "---\n",
    "\n",
    "Each **Image Generation** class in **Swarmauri** provides a set of methods to interact with the models. These methods are designed to offer flexibility for both **synchronous** and **asynchronous** workflows, as well as batch processing.  \n",
    "\n",
    "1. **`generate`**:  \n",
    "   - **Description**: This method allows you to generate images synchronously (blocking).  \n",
    "   - **Use Case**: When you need immediate results for a single image generation request.  \n",
    "\n",
    "2. **`agenerate`**:  \n",
    "   - **Description**: The asynchronous counterpart of `generate`. It allows you to generate images without blocking the program.  \n",
    "   - **Use Case**: When running multiple tasks concurrently using `asyncio`.  \n",
    "\n",
    "3. **`batch`**:  \n",
    "   - **Description**: Enables processing multiple image generation requests at once in a synchronous manner.  \n",
    "   - **Use Case**: When you need to generate a batch of images for efficiency.  \n",
    "\n",
    "4. **`abatch`**:  \n",
    "   - **Description**: Asynchronous version of the `batch` method for processing multiple image generation requests concurrently.  \n",
    "   - **Use Case**: When you need to process a batch of image generation tasks in an asynchronous environment.  \n",
    "\n",
    "Unlike LLM classes, **Image Generation** classes do not support `stream` or `astream` methods, as images cannot be streamed incrementally while being generated. This streamlined method set ensures an intuitive experience tailored to the unique requirements of image generation workflows."
   ]
  },
  {
   "cell_type": "markdown",
   "id": "52b7fb01",
   "metadata": {},
   "source": [
    "### Summary Table of Methods for Image Generation Classes  \n",
    "\n",
    "| **Method**   | **Type**         | **Description**                                | **Use Case**                          |  \n",
    "|--------------|------------------|-----------------------------------------------|---------------------------------------|  \n",
    "| `generate`   | Synchronous      | Standard single-image generation.             | Immediate, single image results.      |  \n",
    "| `agenerate`  | Asynchronous     | Non-blocking single-image generation.         | Concurrent tasks with async.          |  \n",
    "| `batch`      | Synchronous      | Processes multiple image generation requests synchronously. | Batch image generation for efficiency. |  \n",
    "| `abatch`     | Asynchronous     | Processes multiple image generation requests asynchronously. | Async batch image generation.         |  \n",
    "\n",
    "These methods are tailored to the unique requirements of image generation workflows, providing tools for both synchronous and asynchronous operations, as well as batch processing.  \n",
    "\n",
    "Stay tuned for the next section, where we’ll go deep into the implementation details of these methods and how to use them effectively."
   ]
  },
  {
   "cell_type": "markdown",
   "id": "b4e2c54a-8566-49f0-926b-bcdfbeceeec9",
   "metadata": {},
   "source": [
    "# Notebook Metadata"
   ]
  },
  {
   "cell_type": "code",
   "execution_count": 1,
   "id": "7ccad65c-5b19-45d5-8d56-d4bbf5b79ace",
   "metadata": {},
   "outputs": [
    {
     "name": "stdout",
     "output_type": "stream",
     "text": [
      "Author: Victory Nnaji\n",
      "GitHub Username: 3rd-Son\n",
      "Notebook File: Notebook_01_Understanding_Swarmauri_Image_Generation_Classes.ipynb\n",
      "Last Modified: 2024-12-24 09:26:54.869867\n",
      "Platform: Darwin 24.1.0\n",
      "Python Version: 3.11.11 (main, Dec 11 2024, 10:25:04) [Clang 14.0.6 ]\n",
      "Swarmauri Version: 0.5.2\n",
      "None\n"
     ]
    }
   ],
   "source": [
    "from swarmauri.utils import print_notebook_metadata\n",
    "\n",
    "metadata = print_notebook_metadata.print_notebook_metadata(\"Victory Nnaji\", \"3rd-Son\")\n",
    "print(metadata) "
   ]
  }
 ],
 "metadata": {
  "kernelspec": {
   "display_name": "swarmauri-notebooks",
   "language": "python",
   "name": "python3"
  },
  "language_info": {
   "codemirror_mode": {
    "name": "ipython",
    "version": 3
   },
   "file_extension": ".py",
   "mimetype": "text/x-python",
   "name": "python",
   "nbconvert_exporter": "python",
   "pygments_lexer": "ipython3",
   "version": "3.11.11"
  }
 },
 "nbformat": 4,
 "nbformat_minor": 5
}
