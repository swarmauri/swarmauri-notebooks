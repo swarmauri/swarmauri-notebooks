{
 "cells": [
  {
   "cell_type": "markdown",
   "metadata": {},
   "source": [
    "\n",
    "---\n",
    "\n",
    "### **Introduction to the Generative Podcast Creator Capstone**\n",
    "\n",
    "Welcome to the Generative Podcast Creator Capstone Project! In this project, you'll embark on an exciting journey to develop a system that seamlessly combines cutting-edge generative AI techniques to produce engaging podcast episodes. This capstone challenges you to integrate text, audio, and music generation technologies into a cohesive pipeline, allowing users to input a topic and receive a fully generated podcast complete with narration and background music.\n",
    "\n",
    "#### **What You'll Learn**\n",
    "This project is designed to provide hands-on experience with:\n",
    "- **Text Generation**: Leveraging pre-trained language models to create structured and contextually relevant podcast scripts.\n",
    "- **Text-to-Speech Conversion**: Using text-to-speech technologies to bring the script to life with realistic narration.\n",
    "- **Audio Processing**: Enhancing the podcast with background music and sound effects to create a professional and engaging final product.\n",
    "- **Multimodal Integration**: Combining various AI and software components that process text, audio, and music into a seamless, end-to-end workflow.\"\n",
    "\n",
    "#### **Who Is This For?**\n",
    "This project is ideal for:\n",
    "- Learners with a basic understanding of Python and Swarmauri frameworks.\n",
    "- Those looking to gain practical experience in developing generative AI systems.\n",
    "- Aspiring developers interested in audio and multimedia content creation.\n",
    "\n",
    "#### **Outcome**\n",
    "Upon completion, you'll have a fully functional Generative Podcast Creator, demonstrating your ability to integrate AI models into real-world applications. You'll also gain valuable experience in designing systems that bridge AI and multimedia.\n",
    "\n",
    "---"
   ]
  },
  {
   "cell_type": "markdown",
   "metadata": {},
   "source": [
    "#### **Step 0. Setup & Dependencies**"
   ]
  },
  {
   "cell_type": "code",
   "execution_count": 9,
   "metadata": {},
   "outputs": [],
   "source": [
    "# Generative Podcast Creator\n",
    "\n",
    "from pydub import AudioSegment\n",
    "import os\n",
    "from swarmauri.conversations.concrete.Conversation import Conversation\n",
    "from swarmauri.messages.concrete.HumanMessage import HumanMessage\n",
    "from swarmauri.messages.concrete.SystemMessage import SystemMessage\n",
    "from swarmauri.llms.concrete.OpenAIAudioTTS import OpenAIAudioTTS\n",
    "from swarmauri.llms.concrete.OpenAIModel import OpenAIModel\n",
    "\n",
    "OPENAI_API_KEY = os.getenv(\"OPENAI_API_KEY\")"
   ]
  },
  {
   "cell_type": "markdown",
   "metadata": {},
   "source": [
    "#### **Step 1: Generate Podcast Script**\n",
    "- This function uses a language model to generate a podcast script based on the user's input topic."
   ]
  },
  {
   "cell_type": "code",
   "execution_count": 10,
   "metadata": {},
   "outputs": [],
   "source": [
    "def generate_script(topic, host_name):\n",
    "    text_gen_model = OpenAIModel(api_key=OPENAI_API_KEY)\n",
    "    system_context = \"You are a podcast host creating a script for an episode on a specific topic.\"\n",
    "    human_context = f\"Create a podcast script on the topic: {topic}. the name of the host is {host_name}.\"\n",
    "\n",
    "    conversation = Conversation()\n",
    "\n",
    "    conversation.add_messages([SystemMessage(content=system_context), HumanMessage(content=human_context)])\n",
    "    text_gen_model.predict(conversation=conversation)\n",
    "    return  conversation.get_last().content\n"
   ]
  },
  {
   "cell_type": "markdown",
   "metadata": {},
   "source": [
    "#### **Step 2: Convert Script to Audio**\n",
    "- This function converts the generated script into speech using OpenAI Audio Text to Speech model."
   ]
  },
  {
   "cell_type": "code",
   "execution_count": 11,
   "metadata": {},
   "outputs": [],
   "source": [
    "def script_to_audio(script, output_path=\"podcast_voice.mp3\"):\n",
    "    text_to_speech_model = OpenAIAudioTTS(api_key=OPENAI_API_KEY)\n",
    "\n",
    "    output_path = text_to_speech_model.predict(text=script, audio_path=output_path)\n",
    "\n",
    "    return output_path"
   ]
  },
  {
   "cell_type": "markdown",
   "metadata": {},
   "source": [
    "#### **Step 3: Add Background Music**\n",
    "- This function adds background music to the podcast voice."
   ]
  },
  {
   "cell_type": "code",
   "execution_count": 12,
   "metadata": {},
   "outputs": [],
   "source": [
    "def add_background_music(voice_path, music_path, output_path=\"final_podcast.mp3\"):\n",
    "    voice = AudioSegment.from_file(voice_path)\n",
    "    music = AudioSegment.from_file(music_path).low_pass_filter(3000).apply_gain(-15)\n",
    "\n",
    "    # Loop the background music if it's shorter than the voice\n",
    "    while len(music) < len(voice):\n",
    "        music += music\n",
    "\n",
    "    # Trim the music to match the length of the voice\n",
    "    music = music[:len(voice)]\n",
    "\n",
    "    # Combine voice and music\n",
    "    podcast = voice.overlay(music)\n",
    "    podcast.export(output_path, format=\"mp3\")\n",
    "    return output_path"
   ]
  },
  {
   "cell_type": "markdown",
   "metadata": {},
   "source": [
    "#### **Step 4: Generate Podcast Audio**\n",
    "- This function generates the podcast audio with and without background music, and the text script"
   ]
  },
  {
   "cell_type": "code",
   "execution_count": 13,
   "metadata": {},
   "outputs": [],
   "source": [
    "import gradio as gr\n",
    "\n",
    "# Function to generate podcast audio with and without background music, and the text script\n",
    "def generate_podcast(topic, host_name, background_music_path):\n",
    "    # Simulate generating the podcast audio\n",
    "\n",
    "    text_script = generate_script(topic, host_name)\n",
    "\n",
    "    audio_without_music = script_to_audio(text_script)\n",
    "\n",
    "    audio_with_music = add_background_music(audio_without_music, background_music_path)\n",
    "\n",
    "    return text_script, audio_without_music, audio_with_music"
   ]
  },
  {
   "cell_type": "markdown",
   "metadata": {},
   "source": [
    "### **Create the Gradio interface**"
   ]
  },
  {
   "cell_type": "code",
   "execution_count": 14,
   "metadata": {},
   "outputs": [
    {
     "name": "stdout",
     "output_type": "stream",
     "text": [
      "* Running on local URL:  http://127.0.0.1:7862\n",
      "\n",
      "To create a public link, set `share=True` in `launch()`.\n"
     ]
    },
    {
     "data": {
      "text/html": [
       "<div><iframe src=\"http://127.0.0.1:7862/\" width=\"100%\" height=\"500\" allow=\"autoplay; camera; microphone; clipboard-read; clipboard-write;\" frameborder=\"0\" allowfullscreen></iframe></div>"
      ],
      "text/plain": [
       "<IPython.core.display.HTML object>"
      ]
     },
     "metadata": {},
     "output_type": "display_data"
    }
   ],
   "source": [
    "# Create the Gradio interface\n",
    "with gr.Blocks() as demo:\n",
    "    with gr.Row():\n",
    "        with gr.Column():\n",
    "            # Input components\n",
    "            topic_input = gr.Textbox(label=\"Topic\")\n",
    "            host_name_input = gr.Textbox(label=\"Host Name\")\n",
    "            background_music_input = gr.Audio(label=\"Background Music\", type=\"filepath\", sources=[\"upload\"])\n",
    "            # Generate button\n",
    "            generate_button = gr.Button(\"Generate Podcast\")\n",
    "        with gr.Column():\n",
    "            # Output components\n",
    "            text_script_output = gr.Textbox(label=\"Podcast Text Script\")\n",
    "            audio_without_music_output = gr.Audio(label=\"Podcast without Background Music\", streaming=True)\n",
    "            audio_with_music_output = gr.Audio(label=\"Podcast with Background Music\", streaming=True)\n",
    "\n",
    "    # Define the event listener for the button click\n",
    "    generate_button.click(\n",
    "        fn=generate_podcast,\n",
    "        inputs=[topic_input, host_name_input, background_music_input],\n",
    "        outputs=[text_script_output, audio_without_music_output, audio_with_music_output]\n",
    "    )\n",
    "\n",
    "# Launch the Gradio app\n",
    "if __name__ == \"__main__\":\n",
    "    demo.launch(show_error=True)"
   ]
  },
  {
   "cell_type": "markdown",
   "metadata": {},
   "source": [
    "**Usage Instructions:**\n",
    "\n",
    "\n",
    "1. Enter the topic for your podcast\n",
    "2. Provide the host's name\n",
    "3. Upload background music file (MP3 format)\n",
    "4. Click \"Generate Podcast\"\n",
    "5. View/download:\n",
    "    - Generated script\n",
    "    - Audio without music\n",
    "    - Final podcast with background music\n",
    "\n",
    "The Gradio interface will be available at http://127.0.0.1:7861/ by default.\n"
   ]
  },
  {
   "cell_type": "code",
   "execution_count": null,
   "metadata": {},
   "outputs": [],
   "source": []
  }
 ],
 "metadata": {
  "kernelspec": {
   "display_name": "swarmauri_notebook_env",
   "language": "python",
   "name": "python3"
  },
  "language_info": {
   "codemirror_mode": {
    "name": "ipython",
    "version": 3
   },
   "file_extension": ".py",
   "mimetype": "text/x-python",
   "name": "python",
   "nbconvert_exporter": "python",
   "pygments_lexer": "ipython3",
   "version": "3.11.11"
  }
 },
 "nbformat": 4,
 "nbformat_minor": 2
}
