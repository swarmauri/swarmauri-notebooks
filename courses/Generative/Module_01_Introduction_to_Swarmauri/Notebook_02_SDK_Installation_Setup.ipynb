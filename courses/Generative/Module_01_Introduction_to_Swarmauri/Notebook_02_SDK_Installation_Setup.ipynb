{
 "cells": [
  {
   "cell_type": "markdown",
   "id": "b523c52b-9508-429e-9b59-aa536f9b4a38",
   "metadata": {},
   "source": [
    "## Introduction\n",
    "---\n",
    "\n",
    "This notebook provides step-by-step instructions for installing and setting up the Swarmauri SDK in your local development environment. By following these steps, you'll be able to install the necessary dependencies, configure the environment, and get started with building your own AI applications.\n"
   ]
  },
  {
   "cell_type": "markdown",
   "id": "a3b65381",
   "metadata": {},
   "source": [
    "## Environment Setup  \n",
    "---  \n",
    "\n",
    "1. **Install Python**:  \n",
    "   Ensure that Python 3.10 or above is installed on your system. You can download it from [here](https://www.python.org/).  \n",
    "\n",
    "2. **Create a Virtual Environment**:  \n",
    "   This is not a must but creating a virtual environment is a good practice to keep your project dependencies isolated from the base system Python environment.  \n",
    "\n",
    "   - **Recommended**: We suggest using conda for this so go ahead and download Anaconda Navigator from [here](https://www.anaconda.com/download).  \n",
    "   - **Alternative**: Use `venv` if Conda is not an option.  \n",
    "\n",
    "3. **Create a New Environment for Swarmauri**:  \n",
    "   Open a terminal and run the following command:  \n",
    "   ```bash  \n",
    "   conda create --name swarmauri-env python=3.10  \n",
    "   ```  \n",
    "   - Replace `swarmauri-env` with any name you prefer.  \n",
    "   - Ensure Python 3.10 or higher is specified.  \n",
    "\n",
    "4. **Activate the Environment**:  \n",
    "   Run the following command:  \n",
    "   ```bash  \n",
    "   conda activate swarmauri-env  \n",
    "   ```  \n",
    "\n",
    "5. **Add the Environment as a Jupyter Kernel**:  \n",
    "   If you’re using Jupyter for development, you can add the environment as a kernel:  \n",
    "   ```bash  \n",
    "   conda install -n swarmauri-env ipykernel  \n",
    "   python -m ipykernel install --user --name=swarmauri-env --display-name \"Python (swarmauri-env)\"  \n",
    "   ```  \n",
    "   - This will make the environment available in Jupyter Notebook or JupyterLab as \"Python (swarmauri-env)\".   "
   ]
  },
  {
   "cell_type": "markdown",
   "id": "e206590b-1ea1-4d52-adfb-5acfeb58e1f4",
   "metadata": {},
   "source": [
    "## Install Swarmauri\n",
    "---\n",
    "Run the following command in your terminal to install the latest swarmauri version:\n",
    "```bash\n",
    "pip install swarmauri\n",
    "```\n",
    "Now you are good to go."
   ]
  }
 ],
 "metadata": {
  "kernelspec": {
   "display_name": "swarmauri(0.5.1)",
   "language": "python",
   "name": "myenv"
  },
  "language_info": {
   "codemirror_mode": {
    "name": "ipython",
    "version": 3
   },
   "file_extension": ".py",
   "mimetype": "text/x-python",
   "name": "python",
   "nbconvert_exporter": "python",
   "pygments_lexer": "ipython3",
   "version": "3.12.7"
  }
 },
 "nbformat": 4,
 "nbformat_minor": 5
}
