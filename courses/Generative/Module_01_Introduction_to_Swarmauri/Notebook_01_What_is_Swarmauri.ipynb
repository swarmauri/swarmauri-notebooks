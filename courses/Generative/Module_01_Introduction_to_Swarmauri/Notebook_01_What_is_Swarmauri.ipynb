{
 "cells": [
  {
   "cell_type": "markdown",
   "id": "239f1458-084c-4510-abc7-e78ff44a7f1f",
   "metadata": {},
   "source": [
    "# What is Swarmauri\n",
    "---\n",
    "Swarmauri is an open-source AI platform designed to make it easier for developers to build, test, and deploy artificial intelligence models. \n",
    "With over 100 integrated models from various large language model (LLM) providers, Swarmauri offers a highly flexible and scalable solution. \n",
    "It supports a wide range of applications, from question-answering assistants to complex, tool-empowered AI agents.\n",
    "\n",
    "This notebook provides an overview of Swarmauri’s key features, architecture, and its multimodal capabilities, highlighting its versatility for both individual developers and enterprises."
   ]
  },
  {
   "cell_type": "markdown",
   "id": "cf30c51b",
   "metadata": {},
   "source": [
    "## Things You Can Build with Swarmauri  \n",
    "---\n",
    "\n",
    "- AI customer care chat  \n",
    "- AI artist  \n",
    "- Vision-based AI systems  \n",
    "- Audio transcription tools  \n",
    "- Multimodal assistants  \n",
    "\n",
    "**Swarmauri makes it easy for you. If you can think it, you can definitely build it with swarmauri.**"
   ]
  },
  {
   "cell_type": "markdown",
   "id": "220149da",
   "metadata": {},
   "source": [
    "# Some Other things Offered by Swarmauri\n",
    "---\n",
    "\n",
    "- [Swarmaurikit](https://github.com/swarmauri/swarmakit): A UI Component Library by Swarmauri.\n",
    "- [Crouton](https://github.com/swarmauri/crouton): A CRUD Router for Fast-Creation of CRUD Routes.\n",
    "- [RAG-Assistance](https://github.com/swarmauri/rag_assistant): A multi-provider, multi-model retrieval augmentation chatbot."
   ]
  }
 ],
 "metadata": {
  "kernelspec": {
   "display_name": "swarmauri-notebooks",
   "language": "python",
   "name": "python3"
  },
  "language_info": {
   "codemirror_mode": {
    "name": "ipython",
    "version": 3
   },
   "file_extension": ".py",
   "mimetype": "text/x-python",
   "name": "python",
   "nbconvert_exporter": "python",
   "pygments_lexer": "ipython3",
   "version": "3.11.11"
  }
 },
 "nbformat": 4,
 "nbformat_minor": 5
}
