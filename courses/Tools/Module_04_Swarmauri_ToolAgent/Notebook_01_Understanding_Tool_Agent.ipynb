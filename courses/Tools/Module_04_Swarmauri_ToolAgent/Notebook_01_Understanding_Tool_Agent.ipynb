{
 "cells": [
  {
   "cell_type": "markdown",
   "metadata": {},
   "source": [
    "## **Understanding `ToolAgent` Class in Swarmauri SDK**\n",
    "\n",
    "### **What is `ToolAgent`?**\n",
    "The `ToolAgent` class in the Swarmauri SDK is a powerful subclass of the `AgentBase` that provides high-level interaction capabilities. It combines the ability to use tools from a toolkit, interact with large language models (LLMs), and manage conversations effectively. This makes it an essential component for building AI agents capable of handling complex workflows.\n",
    "\n",
    "### **Key Features of `ToolAgent`**\n",
    "\n",
    "1. **Tool Integration**:  \n",
    "   `ToolAgent` uses the `AgentToolMixin`, which enables it to leverage tools from the toolkit. This allows the agent to perform specialized tasks such as text summarization, keyword extraction, or data processing.\n",
    "\n",
    "2. **LLM Interaction**:  \n",
    "   The `llm` attribute allows the `ToolAgent` to interact with LLM Tool Models, LLMs that support function calling, making it capable of generating intelligent responses, analyzing data, or driving conversations.\n",
    "\n",
    "3. **Conversation Management**:  \n",
    "   With the `AgentConversationMixin`, `ToolAgent` manages conversations by tracking and updating message history. This enables dynamic and context-aware interactions.\n",
    "\n",
    "4. **Dynamic Execution**:  \n",
    "   The `exec` method is a powerful mechanism for combining input data, tools, and LLMs to perform tasks or generate responses dynamically.\n"
   ]
  },
  {
   "cell_type": "markdown",
   "metadata": {},
   "source": [
    "---\n",
    "\n",
    "### **Key Components of `ToolAgent`**\n",
    "- **`llm`**: A reference to a subclass of `LLMBase` but particularly llms that support function calling, used for generating predictions and responses based on input and context.\n",
    "- **`toolkit`**: A reference to a `ToolkitBase` subclass, which contains tools the agent can use for specific tasks.\n",
    "- **`conversation`**: A placeholder for managing the conversation history and flow.\n",
    "- **`exec` Method**: Handles the agent's core logic, integrating input data, the LLM, and tools.\n"
   ]
  },
  {
   "cell_type": "markdown",
   "metadata": {},
   "source": [
    "---\n",
    "\n",
    "### **Example: Using `ToolAgent`**\n",
    "\n",
    "Below is an example of how to create and use a `ToolAgent` with a simple workflow:"
   ]
  },
  {
   "cell_type": "markdown",
   "metadata": {},
   "source": [
    "#### **Step 1: Set Up the Components**"
   ]
  },
  {
   "cell_type": "code",
   "execution_count": 15,
   "metadata": {},
   "outputs": [],
   "source": [
    "from swarmauri.llms.concrete.OpenAIToolModel import OpenAIToolModel\n",
    "from swarmauri.toolkits.base.ToolkitBase import ToolkitBase\n",
    "from swarmauri.conversations.concrete.Conversation import Conversation\n",
    "from swarmauri.agents.concrete.ToolAgent import ToolAgent\n",
    "from swarmauri.tools.concrete.CalculatorTool import CalculatorTool\n",
    "import os\n",
    "\n",
    "# Import the OpenAI API key\n",
    "OPENAI_API_KEY = os.getenv(\"OPENAI_API_KEY\")\n",
    "\n",
    "# Initialize the toolkit with a CalculatorTool\n",
    "toolkit = ToolkitBase()\n",
    "calculator_tool = CalculatorTool()\n",
    "toolkit.add_tool(calculator_tool)\n",
    "\n",
    "# Initialize a mock LLM\n",
    "llm = OpenAIToolModel(api_key=OPENAI_API_KEY)\n",
    "\n",
    "# Initialize a conversation manager\n",
    "conversation = Conversation()"
   ]
  },
  {
   "cell_type": "markdown",
   "metadata": {},
   "source": [
    "**Note**:  \n",
    "This step initializes all the components that the `ToolAgent` requires:  \n",
    "1. **Toolkit**: Holds tools like `CalculatorTool` that the agent can use.  \n",
    "2. **LLM**: Tool based LLM `OpenAIToolModel` that supports function calling.  \n",
    "3. **Conversation Manager**: Tracks the flow of conversation and stores context. "
   ]
  },
  {
   "cell_type": "markdown",
   "metadata": {},
   "source": [
    "#### **Step 2: Create the ToolAgent**"
   ]
  },
  {
   "cell_type": "code",
   "execution_count": 16,
   "metadata": {},
   "outputs": [],
   "source": [
    "agent = ToolAgent(\n",
    "    llm=llm,\n",
    "    toolkit=toolkit,\n",
    "    conversation=conversation\n",
    ")"
   ]
  },
  {
   "cell_type": "markdown",
   "metadata": {},
   "source": [
    "**Note**:  \n",
    "Here, we instantiate the `ToolAgent` and pass the components we initialized in Step 1. The agent is now aware of the tools, LLM, and conversation history it will use during interactions.  "
   ]
  },
  {
   "cell_type": "markdown",
   "metadata": {},
   "source": [
    "#### **Step 3: Use the `exec` Method**"
   ]
  },
  {
   "cell_type": "code",
   "execution_count": 17,
   "metadata": {},
   "outputs": [
    {
     "name": "stdout",
     "output_type": "stream",
     "text": [
      "Agent Response: 2 + 2 equals 4.\n"
     ]
    }
   ],
   "source": [
    "# Input data\n",
    "input_text = \"What is 2 + 2?\"\n",
    "\n",
    "# Execute the agent\n",
    "response = agent.exec(input_data=input_text)\n",
    "\n",
    "# Output the response\n",
    "print(\"Agent Response:\", response)"
   ]
  },
  {
   "cell_type": "markdown",
   "metadata": {},
   "source": [
    "#### **How the `exec` Method Works**\n",
    "\n",
    "1. **Input Handling**:  \n",
    "   The method accepts input as either a string or an `IMessage` instance. If it's a string, it converts it into a `HumanMessage`.\n",
    "\n",
    "2. **Conversation Update**:  \n",
    "   The input is added to the ongoing conversation, ensuring context is maintained.\n",
    "\n",
    "3. **Response Prediction**:  \n",
    "   The agent calls the LLM's `predict` method, which will make a function call to the tools added to the toolkit.\n"
   ]
  },
  {
   "cell_type": "markdown",
   "metadata": {},
   "source": [
    "---\n",
    "\n",
    "### **Benefits of `ToolAgent`**\n",
    "\n",
    "- **Versatility**: Combines tools, LLMs, and conversations for complex workflows.\n",
    "- **Scalability**: Easily extendable by adding new tools or capabilities.\n",
    "- **Context-Aware**: Manages and utilizes conversation history for intelligent responses.\n",
    "\n",
    "The `ToolAgent` class bridges the gap between individual tools and advanced conversational AI, making it a cornerstone of the Swarmauri SDK."
   ]
  }
 ],
 "metadata": {
  "kernelspec": {
   "display_name": "swarmauri_notebook_env",
   "language": "python",
   "name": "python3"
  },
  "language_info": {
   "codemirror_mode": {
    "name": "ipython",
    "version": 3
   },
   "file_extension": ".py",
   "mimetype": "text/x-python",
   "name": "python",
   "nbconvert_exporter": "python",
   "pygments_lexer": "ipython3",
   "version": "3.11.11"
  }
 },
 "nbformat": 4,
 "nbformat_minor": 2
}
