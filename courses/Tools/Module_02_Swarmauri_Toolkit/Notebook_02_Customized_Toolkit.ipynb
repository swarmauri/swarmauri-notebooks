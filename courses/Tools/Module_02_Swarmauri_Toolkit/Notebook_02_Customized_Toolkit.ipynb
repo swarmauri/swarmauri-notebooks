{
 "cells": [
  {
   "cell_type": "markdown",
   "metadata": {},
   "source": [
    "# **Customized Toolkit**\n",
    "\n",
    "### **When Do You Need a Customized Toolkit?**\n",
    "\n",
    "If you have developed multiple related tools and want to group them together for easier management, creating a customized toolkit is the way to go. A customized toolkit is essentially a subclass of the `ToolkitBase` class with a predefined set of tools already added. This approach is useful when you know the tools required for a specific task or use case, and you want to make them readily available for your Tool Agents without manually adding each tool every time.\n",
    "\n",
    "---\n",
    "\n",
    "### **Steps to Create a Custom Toolkit**\n",
    "\n",
    "1. **Define Your Custom Tools**: Develop the tools you want to include in the toolkit. These tools should inherit from the `ToolBase` class.  \n",
    "2. **Subclass ToolkitBase**: Create a new class that inherits from `ToolkitBase`.\n",
    "3. **Pre-add Tools**: Initialize your toolkit with the predefined tools in the constructor of the subclass.\n",
    "4. **Additional Customization**: Add methods or attributes specific to the custom toolkit if needed."
   ]
  },
  {
   "cell_type": "markdown",
   "metadata": {},
   "source": [
    "---\n",
    "\n",
    "### **Example: DataProcessingToolkit**\n",
    "\n",
    "Imagine you are building a toolkit for data processing that includes:\n",
    "- A tool for extracting key words.\n",
    "- A tool for counting words.\n",
    "\n",
    "Here’s how you can create a `DataProcessingToolkit`."
   ]
  },
  {
   "cell_type": "markdown",
   "metadata": {},
   "source": [
    "---\n",
    "### **Step 1: Create Custom Tools**\n",
    "\n",
    "**KeywordExtractorTool**\n",
    "\n",
    "Here we will create a `KeywordExtractorTool` class that processes input `text` and identifies the most frequently occurring words as keywords. You can adjust the `max_keywords` parameter to limit the number of extracted keywords."
   ]
  },
  {
   "cell_type": "code",
   "execution_count": 2,
   "metadata": {},
   "outputs": [],
   "source": [
    "from swarmauri.tools.base.ToolBase import ToolBase\n",
    "from swarmauri.tools.concrete.Parameter import Parameter\n",
    "from typing import List, Literal, Dict\n",
    "from pydantic import Field\n",
    "\n",
    "class KeywordExtractorTool(ToolBase):\n",
    "    version: str = \"1.0.0\"\n",
    "    parameters: List[Parameter] = Field(\n",
    "        default_factory=lambda: [\n",
    "            Parameter(\n",
    "                name=\"text\",\n",
    "                type=\"string\",\n",
    "                description=\"The text to extract keywords from.\",\n",
    "                required=True,\n",
    "            ),\n",
    "            Parameter(\n",
    "                name=\"max_keywords\",\n",
    "                type=\"integer\",\n",
    "                description=\"The maximum number of keywords to extract.\",\n",
    "                required=False,\n",
    "                default=5,\n",
    "            ),\n",
    "        ]\n",
    "    )\n",
    "    name: str = \"KeywordExtractorTool\"\n",
    "    description: str = \"Extracts key phrases from a given text.\"\n",
    "    type: Literal[\"KeywordExtractorTool\"] = \"KeywordExtractorTool\"\n",
    "\n",
    "    def __call__(self, text: str, max_keywords: int = 5) -> Dict[str, List[str]]:\n",
    "        try:\n",
    "            words = text.split()\n",
    "            word_frequency = {}\n",
    "\n",
    "            for word in words:\n",
    "                word = word.strip('.,!?()[]{}').lower()\n",
    "                if word not in word_frequency:\n",
    "                    word_frequency[word] = 0\n",
    "                word_frequency[word] += 1\n",
    "\n",
    "            # Sort by frequency, and take the top `max_keywords`\n",
    "            sorted_words = sorted(word_frequency.items(), key=lambda item: item[1], reverse=True)\n",
    "            keywords = [word for word, freq in sorted_words[:max_keywords]]\n",
    "\n",
    "            return {\"keywords\": keywords}\n",
    "        except Exception as e:\n",
    "            return {\"error\": f\"An error occurred: {str(e)}\"}"
   ]
  },
  {
   "cell_type": "markdown",
   "metadata": {},
   "source": [
    "**WordCounterTool**  \n",
    "\n",
    "The `WordCounterTool` class Counts the number of words in a given text."
   ]
  },
  {
   "cell_type": "code",
   "execution_count": 3,
   "metadata": {},
   "outputs": [],
   "source": [
    "class WordCounterTool(ToolBase):\n",
    "    version: str = \"1.0.0\"\n",
    "    parameters: List[Parameter] = Field(\n",
    "        default_factory=lambda: [\n",
    "            Parameter(\n",
    "                name=\"text\",\n",
    "                type=\"string\",\n",
    "                description=\"The text to count words in.\",\n",
    "                required=True,\n",
    "            )\n",
    "        ]\n",
    "    )\n",
    "    name: str = \"WordCounterTool\"\n",
    "    description: str = \"Counts the number of words in a given text.\"\n",
    "    type: Literal[\"WordCounterTool\"] = \"WordCounterTool\"\n",
    "\n",
    "    def __call__(self, text: str) -> Dict[str, int]:\n",
    "        word_count = len(text.split())\n",
    "        return {\"word_count\": word_count}"
   ]
  },
  {
   "cell_type": "markdown",
   "metadata": {},
   "source": [
    "---\n",
    "\n",
    "### **Custom Toolkit Class**\n",
    "\n",
    "we can now create the custom toolkit `DataProcessingToolkit` class which should be a sub-class of `ToolkitBase` class "
   ]
  },
  {
   "cell_type": "code",
   "execution_count": 4,
   "metadata": {},
   "outputs": [],
   "source": [
    "from swarmauri.toolkits.base.ToolkitBase import ToolkitBase\n",
    "\n",
    "class DataProcessingToolkit(ToolkitBase):\n",
    "    type: Literal[\"DataProcessingToolkit\"] = \"DataProcessingToolkit\"\n",
    "    def __init__(self):\n",
    "        super().__init__()\n",
    "        # Add tools to the toolkit\n",
    "        self.add_tool(KeywordExtractorTool())\n",
    "        self.add_tool(WordCounterTool())\n"
   ]
  },
  {
   "cell_type": "markdown",
   "metadata": {},
   "source": [
    "---\n",
    "### **Using the DataProcessingToolkit**"
   ]
  },
  {
   "cell_type": "code",
   "execution_count": 5,
   "metadata": {},
   "outputs": [
    {
     "name": "stdout",
     "output_type": "stream",
     "text": [
      "dict_keys(['KeywordExtractorTool', 'WordCounterTool'])\n",
      "{'keywords': ['artificial', 'intelligence', 'is']}\n",
      "{'word_count': 8}\n"
     ]
    }
   ],
   "source": [
    "# Initialize the custom toolkit\n",
    "data_toolkit = DataProcessingToolkit()\n",
    "\n",
    "# List tools in the toolkit\n",
    "print(data_toolkit.tools.keys())\n",
    "\n",
    "# Use the KeywordExtractorTool\n",
    "keyword_extractor = data_toolkit.get_tool_by_name(\"KeywordExtractorTool\")\n",
    "text = \"Artificial intelligence is revolutionizing industries. AI enables automation, enhances decision-making, and creates innovative solutions.\"\n",
    "keyword_result = keyword_extractor(text=text, max_keywords=3)\n",
    "print(keyword_result)\n",
    "\n",
    "\n",
    "# Use the WordCounterTool\n",
    "word_counter = data_toolkit.get_tool_by_name(\"WordCounterTool\")\n",
    "word_count_result = word_counter(text=\"This is a sample text to count words.\")\n",
    "print(word_count_result)\n"
   ]
  },
  {
   "cell_type": "markdown",
   "metadata": {},
   "source": [
    "---\n",
    "\n",
    "### **Advantages of a Customized Toolkit**\n",
    "\n",
    "1. **Pre-configured Setup**: Tools are already added, reducing setup time for repetitive tasks.\n",
    "2. **Reusability**: Custom toolkits can be reused across different parts of your application or by multiple Swarm Agents.\n",
    "3. **Consistency**: Ensures that related tools are always grouped together and readily accessible.\n",
    "\n",
    "### **Extending Custom Toolkits**\n",
    "\n",
    "You can further enhance your custom toolkit by:\n",
    "- Adding specific utility methods.\n",
    "- Overriding existing methods to implement custom behaviors.\n",
    "- Incorporating validation to ensure compatibility of tools within the toolkit.\n",
    "\n",
    "This approach simplifies tool management while offering the flexibility to adapt the toolkit to specific use cases.  \n"
   ]
  }
 ],
 "metadata": {
  "kernelspec": {
   "display_name": "swarmauri_notebook_env",
   "language": "python",
   "name": "python3"
  },
  "language_info": {
   "codemirror_mode": {
    "name": "ipython",
    "version": 3
   },
   "file_extension": ".py",
   "mimetype": "text/x-python",
   "name": "python",
   "nbconvert_exporter": "python",
   "pygments_lexer": "ipython3",
   "version": "3.11.11"
  }
 },
 "nbformat": 4,
 "nbformat_minor": 2
}
