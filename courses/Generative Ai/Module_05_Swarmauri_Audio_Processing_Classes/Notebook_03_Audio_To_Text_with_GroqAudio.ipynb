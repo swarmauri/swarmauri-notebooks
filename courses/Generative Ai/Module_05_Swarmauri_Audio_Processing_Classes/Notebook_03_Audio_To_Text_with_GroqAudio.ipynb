{
 "cells": [
  {
   "cell_type": "markdown",
   "id": "7b7ba101",
   "metadata": {},
   "source": [
    "# **Audio to Text with GroqAIAudio**"
   ]
  },
  {
   "cell_type": "markdown",
   "id": "3a516f32",
   "metadata": {},
   "source": [
    "### **Introduction:**  \n",
    "GroqAudio provides advanced audio processing models optimized for speed and accuracy, enabling efficient audio-to-text conversion tasks. GroqAudio's models are designed for developers and researchers who need high-performance solutions for transcribing audio content.  \n",
    "\n",
    "This notebook guides users through setting up and utilizing GroqAudio's models for various audio-to-text use cases."
   ]
  },
  {
   "cell_type": "markdown",
   "id": "5c86b680",
   "metadata": {},
   "source": [
    "This notebook will:  \n",
    "\n",
    "- Introduce the setup and initialization of GroqAIAudio within **Swarmauri**.  \n",
    "- Demonstrate **synchronous audio transcription**, **asynchronous** and **batch processing** for multiple audio files.    \n",
    "\n",
    "By the end of this notebook, you will have a comprehensive understanding of how to use GroqAudio's models to efficiently and effectively transcribe audio content."
   ]
  },
  {
   "cell_type": "markdown",
   "id": "8d2325bc",
   "metadata": {},
   "source": [
    "# **Setup and Configuration**\n",
    "\n",
    "## Import the GroqAIAudio class"
   ]
  },
  {
   "cell_type": "code",
   "execution_count": 3,
   "id": "61c07347",
   "metadata": {},
   "outputs": [],
   "source": [
    "from swarmauri.llms.concrete.GroqAIAudio import GroqAIAudio"
   ]
  },
  {
   "cell_type": "markdown",
   "id": "fc741a28",
   "metadata": {},
   "source": [
    "### Load your API KEY from your environment variables\n",
    "- Make sure you have python-dotenv installed if not, run `pip install python-dotenv` so you can install it.\n",
    "- Get your API KEY [HERE](https://console.groq.com/keys)"
   ]
  },
  {
   "cell_type": "code",
   "execution_count": 4,
   "id": "d7b5cadf",
   "metadata": {},
   "outputs": [],
   "source": [
    "import os\n",
    "from dotenv import load_dotenv\n",
    "load_dotenv()\n",
    "\n",
    "GROQ_API_KEY = os.getenv(\"GROQ_API_KEY\")"
   ]
  },
  {
   "cell_type": "markdown",
   "id": "73676eee",
   "metadata": {},
   "source": [
    "### Initialize GroqAIAudio Model\n",
    "- Note: You can as well input your api key directly, but it's better to load from env file\n",
    "- Also, the `name` argument is an optional argument that allows you to input a model from the list of allowed_models."
   ]
  },
  {
   "cell_type": "code",
   "execution_count": 5,
   "id": "c3f5652c",
   "metadata": {},
   "outputs": [],
   "source": [
    "model = GroqAIAudio(api_key=GROQ_API_KEY, name=\"distil-whisper-large-v3-en\") "
   ]
  },
  {
   "cell_type": "markdown",
   "id": "d38ef4f3",
   "metadata": {},
   "source": [
    "### Transcribe Audio using the `transcribe_audio` method from the GroqAIAudio class"
   ]
  },
  {
   "cell_type": "code",
   "execution_count": 6,
   "id": "38178819",
   "metadata": {},
   "outputs": [
    {
     "name": "stdout",
     "output_type": "stream",
     "text": [
      " Swarmory is a Python library designed for working with large language models, LLMs, image generation models, vision models, audio models, vector databases, tools, and agents. It provides a comprehensive framework for integrating and utilizing various AI models and tools in a seamless manner, enabling developers to build sophisticated AI applications efficiently.\n"
     ]
    }
   ],
   "source": [
    "# Add a simple audio file path\n",
    "audio_file_path = \"swarmauri.mp3\"\n",
    "\n",
    "# Transcribe the audio file\n",
    "transcription = model.predict(audio_file_path)\n",
    "\n",
    "print(transcription)"
   ]
  },
  {
   "cell_type": "markdown",
   "id": "189f90ec",
   "metadata": {},
   "source": [
    "As you can see, the `GroqAIAudio` model returns the transcribed text from the audio file.  "
   ]
  },
  {
   "cell_type": "markdown",
   "id": "db329d3f",
   "metadata": {},
   "source": [
    "#### To transcribe the audio file asynchronously, use the code below"
   ]
  },
  {
   "cell_type": "code",
   "execution_count": 18,
   "id": "cc6f276e",
   "metadata": {},
   "outputs": [],
   "source": [
    "transcription = await model.apredict(audio_file_path)"
   ]
  },
  {
   "cell_type": "markdown",
   "id": "a5d9890f",
   "metadata": {},
   "source": [
    "## Transcribing batch audio files \n",
    "\n",
    "To transcribe audio files in batch, we just have to use the `batch` method"
   ]
  },
  {
   "cell_type": "code",
   "execution_count": 11,
   "id": "18fe09c3",
   "metadata": {},
   "outputs": [],
   "source": [
    "path_task_dict = {\n",
    "    \"swarmauri.mp3\": \"translation\",\n",
    "    \"mission.mp3\": \"transcription\",\n",
    "}"
   ]
  },
  {
   "cell_type": "code",
   "execution_count": 12,
   "metadata": {},
   "outputs": [],
   "source": [
    "results = model.batch(path_task_dict=path_task_dict)"
   ]
  },
  {
   "cell_type": "code",
   "execution_count": 14,
   "id": "87dbd2d9",
   "metadata": {},
   "outputs": [
    {
     "name": "stdout",
     "output_type": "stream",
     "text": [
      " Swarmari is a Python library designed for working with large language models , image generation models, vision models, audio models, vector databases, tools, and agents. It provides a comprehensive framework for integrating and utilizing various AI models and tools in a seamless manner, enabling developers to build sophisticated AI applications efficiently.\n",
      " A man on a mission without a vision will end up in confusion.\n"
     ]
    }
   ],
   "source": [
    "for result in results:\n",
    "    print(result)"
   ]
  },
  {
   "cell_type": "markdown",
   "metadata": {},
   "source": [
    "Feel free to try this out with your own audio files"
   ]
  },
  {
   "cell_type": "markdown",
   "id": "768cee79",
   "metadata": {},
   "source": [
    "To asynchronously transcribe audio files in batch, we just have to use the `abatch` method. \n",
    "Run the code below to asynchronously transcribe audio files in batch."
   ]
  },
  {
   "cell_type": "code",
   "execution_count": null,
   "id": "025757ec",
   "metadata": {},
   "outputs": [],
   "source": [
    "result_transcriptions = await model.abatch_transcribe(path_task_dict)"
   ]
  },
  {
   "cell_type": "markdown",
   "id": "8f2c5d4f-8a64-4541-89af-ee6e69cbac81",
   "metadata": {},
   "source": [
    "# Notebook Metadata"
   ]
  },
  {
   "cell_type": "code",
   "execution_count": 15,
   "id": "80ec6550-bd7d-4a0d-8848-be2f66031472",
   "metadata": {},
   "outputs": [
    {
     "name": "stdout",
     "output_type": "stream",
     "text": [
      "Author: Victory Nnaji\n",
      "GitHub Username: 3rd-Son\n",
      "Notebook File: Notebook_03_Audio_To_Text_with_GroqAudio.ipynb\n",
      "Last Modified: 2024-12-30 13:10:57.651688\n",
      "Platform: Darwin 24.1.0\n",
      "Python Version: 3.11.11 (main, Dec 11 2024, 10:25:04) [Clang 14.0.6 ]\n",
      "Swarmauri Version: 0.5.2\n",
      "None\n"
     ]
    }
   ],
   "source": [
    "from swarmauri.utils import print_notebook_metadata\n",
    "\n",
    "metadata = print_notebook_metadata.print_notebook_metadata(\"Victory Nnaji\", \"3rd-Son\")\n",
    "print(metadata) "
   ]
  }
 ],
 "metadata": {
  "kernelspec": {
   "display_name": "swarmauri-notebooks",
   "language": "python",
   "name": "python3"
  },
  "language_info": {
   "codemirror_mode": {
    "name": "ipython",
    "version": 3
   },
   "file_extension": ".py",
   "mimetype": "text/x-python",
   "name": "python",
   "nbconvert_exporter": "python",
   "pygments_lexer": "ipython3",
   "version": "3.11.11"
  }
 },
 "nbformat": 4,
 "nbformat_minor": 2
}
