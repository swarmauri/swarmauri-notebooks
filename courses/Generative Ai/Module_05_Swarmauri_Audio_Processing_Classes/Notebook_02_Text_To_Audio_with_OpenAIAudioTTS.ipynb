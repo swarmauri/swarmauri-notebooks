{
 "cells": [
  {
   "cell_type": "markdown",
   "id": "7b7ba101",
   "metadata": {},
   "source": [
    "# **Text to Audio with OpenAIAudioTTS**"
   ]
  },
  {
   "cell_type": "markdown",
   "id": "3a516f32",
   "metadata": {},
   "source": [
    "### **Introduction:**  \n",
    "OpenAIAudioTTS provides advanced text-to-speech models optimized for speed and naturalness, enabling efficient text-to-audio conversion tasks. OpenAIAudioTTS's models are designed for developers and researchers who need high-performance solutions for generating audio content from text.  \n",
    "\n",
    "This notebook guides users through setting up and utilizing OpenAIAudioTTS's models for various text-to-audio use cases."
   ]
  },
  {
   "cell_type": "markdown",
   "id": "5c86b680",
   "metadata": {},
   "source": [
    "This notebook will:  \n",
    "\n",
    "- Introduce the setup and initialization of OpenAIAudioTTS within **Swarmauri**.  \n",
    "- Demonstrate **synchronous text-to-audio conversion**, **asynchronous** and **batch processing** for multiple text inputs.  \n",
    "\n",
    "By the end of this notebook, you will have a comprehensive understanding of how to use OpenAIAudioTTS's models to efficiently and effectively generate audio content from text."
   ]
  },
  {
   "cell_type": "markdown",
   "id": "8d2325bc",
   "metadata": {},
   "source": [
    "# **Setup and Configuration**\n",
    "\n",
    "## Import the OpenAIAudioTTS class"
   ]
  },
  {
   "cell_type": "code",
   "execution_count": 2,
   "id": "61c07347",
   "metadata": {},
   "outputs": [],
   "source": [
    "from swarmauri.llms.concrete.OpenAIAudioTTS import OpenAIAudioTTS"
   ]
  },
  {
   "cell_type": "markdown",
   "id": "fc741a28",
   "metadata": {},
   "source": [
    "### Load your API KEY from your environment variables\n",
    "- Make sure you have python-dotenv installed if not, run `pip install python-dotenv` so you can install it.\n",
    "- Get your API KEY [HERE](https://platform.openai.com/settings/organization/api-keys)"
   ]
  },
  {
   "cell_type": "code",
   "execution_count": 3,
   "id": "d7b5cadf",
   "metadata": {},
   "outputs": [],
   "source": [
    "import os\n",
    "from dotenv import load_dotenv\n",
    "load_dotenv()\n",
    "\n",
    "OPENAI_API_KEY = os.getenv(\"OPENAI_API_KEY\")"
   ]
  },
  {
   "cell_type": "markdown",
   "id": "73676eee",
   "metadata": {},
   "source": [
    "### Initialize OpenAIAudioTTS Model\n",
    "- Note: You can as well input your api key directly, but it's better to load from env file\n",
    "- Also, the `name` argument is an optional argument that allows you to input a model from the list of allowed_models.\n",
    "- Also, the `voice` argument let's you choose a a voice from the available voices"
   ]
  },
  {
   "cell_type": "code",
   "execution_count": 4,
   "id": "c3f5652c",
   "metadata": {},
   "outputs": [],
   "source": [
    "model = OpenAIAudioTTS(api_key=OPENAI_API_KEY, name=\"tts-1\", voice=\"alloy\") "
   ]
  },
  {
   "cell_type": "markdown",
   "id": "a2d1a066",
   "metadata": {},
   "source": [
    "#### To quickly see the allowed_voices, run the code below"
   ]
  },
  {
   "cell_type": "code",
   "execution_count": 5,
   "id": "a84c2e19",
   "metadata": {},
   "outputs": [
    {
     "name": "stdout",
     "output_type": "stream",
     "text": [
      "['alloy', 'echo', 'fable', 'onyx', 'nova', 'shimmer']\n"
     ]
    }
   ],
   "source": [
    "available_voices = model.allowed_voices\n",
    "print(available_voices)"
   ]
  },
  {
   "cell_type": "markdown",
   "id": "d38ef4f3",
   "metadata": {},
   "source": [
    "### Generate Audio using the `predict` method from the OpenAIAudioTTS class"
   ]
  },
  {
   "cell_type": "code",
   "execution_count": null,
   "id": "38178819",
   "metadata": {},
   "outputs": [
    {
     "name": "stdout",
     "output_type": "stream",
     "text": [
      "Successfully generated audio and saved it at swarmauri.mp3\n"
     ]
    }
   ],
   "source": [
    "# Add a simple text input\n",
    "input_text = \"Swarmauri is a Python library designed for working with large language models (LLMs), image generation models, vision models, audio models, vector databases, tools, and agents. It provides a comprehensive framework for integrating and utilizing various AI models and tools in a seamless manner, enabling developers to build sophisticated AI applications efficiently.\"\n",
    "file_path = \"swarmauri.mp3\"\n",
    "\n",
    "# Generate the audio file\n",
    "audio_file_path = model.predict(text=input_text, audio_path=file_path)\n",
    "\n",
    "print(f\"Successfully generated audio and saved it at {file_path}\")"
   ]
  },
  {
   "cell_type": "markdown",
   "id": "189f90ec",
   "metadata": {},
   "source": [
    "As you can see, the `OpenAIAudioTTS` model returns the path to the generated audio file and when you navigate there, you will see the audio and will be able to play it out."
   ]
  },
  {
   "cell_type": "markdown",
   "id": "db329d3f",
   "metadata": {},
   "source": [
    "#### To generate the audio file asynchronously, use the code below"
   ]
  },
  {
   "cell_type": "code",
   "execution_count": 18,
   "id": "cc6f276e",
   "metadata": {},
   "outputs": [],
   "source": [
    "audio_file_path = await model.apredict(text=input_text, audio_path=file_path)"
   ]
  },
  {
   "cell_type": "markdown",
   "id": "a5d9890f",
   "metadata": {},
   "source": [
    "## Generating batch audio files \n",
    "\n",
    "To generate audio files in batch, we just have to use the `batch` method"
   ]
  },
  {
   "cell_type": "code",
   "execution_count": 14,
   "id": "18fe09c3",
   "metadata": {},
   "outputs": [],
   "source": [
    "text_path_dict = {\n",
    "    \"Data is the new oil\": \"data.mp3\",\n",
    "    \"A man on a mission, without a vision, will end up in confusion\": \"mission.mp3\",\n",
    "    \"I am a python developer\": \"python.mp3\",\n",
    "}\n",
    "\n",
    "results = model.batch(text_path_dict=text_path_dict)"
   ]
  },
  {
   "cell_type": "markdown",
   "id": "385ed8d6",
   "metadata": {},
   "source": [
    "As you can see, the three audio files have been saved as .mp3 files"
   ]
  },
  {
   "cell_type": "markdown",
   "id": "768cee79",
   "metadata": {},
   "source": [
    "To asynchronously generate audio files in batch, we just have to use the `abatch` method. \n",
    "Run the code below to asynchronously generate audio files in batch."
   ]
  },
  {
   "cell_type": "code",
   "execution_count": null,
   "id": "025757ec",
   "metadata": {},
   "outputs": [],
   "source": [
    "result_audio_files = await model.abatch(text_path_dict=text_path_dict)"
   ]
  },
  {
   "cell_type": "markdown",
   "id": "8f2c5d4f-8a64-4541-89af-ee6e69cbac81",
   "metadata": {},
   "source": [
    "# Notebook Metadata"
   ]
  },
  {
   "cell_type": "code",
   "execution_count": 15,
   "id": "80ec6550-bd7d-4a0d-8848-be2f66031472",
   "metadata": {},
   "outputs": [
    {
     "name": "stdout",
     "output_type": "stream",
     "text": [
      "Author: Victory Nnaji\n",
      "GitHub Username: 3rd-Son\n",
      "Notebook File: Notebook_02_Text_To_Audio_with_OpenAIAudioTTS.ipynb\n",
      "Last Modified: 2024-12-30 13:59:54.410822\n",
      "Platform: Darwin 24.1.0\n",
      "Python Version: 3.11.11 (main, Dec 11 2024, 10:25:04) [Clang 14.0.6 ]\n",
      "Swarmauri Version: 0.5.2\n",
      "None\n"
     ]
    }
   ],
   "source": [
    "from swarmauri.utils import print_notebook_metadata\n",
    "\n",
    "metadata = print_notebook_metadata.print_notebook_metadata(\"Victory Nnaji\", \"3rd-Son\")\n",
    "print(metadata) "
   ]
  }
 ],
 "metadata": {
  "kernelspec": {
   "display_name": "swarmauri-notebooks",
   "language": "python",
   "name": "python3"
  },
  "language_info": {
   "codemirror_mode": {
    "name": "ipython",
    "version": 3
   },
   "file_extension": ".py",
   "mimetype": "text/x-python",
   "name": "python",
   "nbconvert_exporter": "python",
   "pygments_lexer": "ipython3",
   "version": "3.11.11"
  }
 },
 "nbformat": 4,
 "nbformat_minor": 5
}
