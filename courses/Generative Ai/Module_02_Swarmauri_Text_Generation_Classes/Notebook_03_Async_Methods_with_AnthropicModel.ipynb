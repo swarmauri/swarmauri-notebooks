{
 "cells": [
  {
   "cell_type": "markdown",
   "metadata": {},
   "source": [
    "## **Async Methods with AnthropicModel**\n",
    "\n",
    "## **Introduction:**\n",
    "\n",
    "Anthropic offers a suite of advanced **Large Language Models (LLMs)** optimized for safety, reliability, and contextual understanding, making them ideal for a wide range of conversational and text generation tasks. Models like *claude-3-haiku-20240307* and *Claude-2* are designed to handle complex NLP applications with efficiency and precision. This notebook focuses on using Anthropic's LLMs in **asynchronous** workflows, enabling concurrent processing and non-blocking execution for faster and more efficient task management.  \n",
    "\n",
    "**This notebook will:**\n",
    "\n",
    "- Introduce setup and initialization for Anthropic models within **Swarmauri**.  \n",
    "- Demonstrate **asynchronous** text generation, streaming responses, and contextual query handling.  \n",
    "- Provide examples showcasing Anthropic's model capabilities for managing concurrent conversations and batch processing.  \n",
    "\n",
    "By the end of this notebook, you will have a thorough understanding of how to leverage Anthropic's LLMs to build scalable and efficient NLP applications with asynchronous techniques. \n",
    "\n",
    "---"
   ]
  },
  {
   "cell_type": "markdown",
   "metadata": {},
   "source": [
    "### **One More Thing**\n",
    "\n",
    "Before diving into the implementation of asynchronous methods, let’s take a moment to understand asynchronous processing.\n",
    "\n",
    "---\n",
    "\n",
    "### **What is Asynchronous Processing?**\n",
    "\n",
    "Asynchronous processing allows tasks to run independently of the main program flow, enabling multiple operations to execute concurrently(at the same time) without blocking or waiting for one task to complete before starting another. \n",
    "\n",
    "---\n",
    "\n",
    "### **Why Use Asynchronous Methods?**  \n",
    "\n",
    "1. **Efficiency**: It improves performance when handling multiple requests, as it doesn't wait for one task to complete before starting the next.  \n",
    "2. **Scalability**: Ideal for real-time applications where fast response times are crucial.  \n",
    "3. **Non-Blocking I/O**: Particularly useful when working with APIs, databases, or other external services.  \n",
    "\n",
    "---\n",
    "\n",
    "### **When Should You Use Asynchronous Methods?**  \n",
    "\n",
    "- When building applications that need to handle multiple users simultaneously.  \n",
    "- When working on tasks that rely on external systems like APIs or databases, which may introduce latency.  \n",
    "- For real-time use cases like chat applications, where a fast and smooth user experience is essential.  \n",
    "\n",
    "---\n",
    "\n",
    "By now, you should know what asynchronous programming is and when you should use it. \n",
    "If you are still confused about it, a simple google search will surely give you more insights.\n",
    "\n",
    "**Let's now go into the practical side of things**"
   ]
  },
  {
   "cell_type": "markdown",
   "metadata": {},
   "source": [
    "# **Setup and Configuration**"
   ]
  },
  {
   "cell_type": "markdown",
   "metadata": {},
   "source": [
    "## Import the necessary classes"
   ]
  },
  {
   "cell_type": "code",
   "execution_count": 2,
   "metadata": {},
   "outputs": [],
   "source": [
    "from swarmauri.llms.concrete.AnthropicModel import AnthropicModel  # This is the actual AnthropicModel class\n",
    "from swarmauri.conversations.concrete.Conversation import Conversation  # For handling conversation logic and flow\n",
    "from swarmauri.messages.concrete.HumanMessage import HumanMessage  # For adding user input or human messages\n",
    "from swarmauri.messages.concrete.SystemMessage import SystemMessage  # For adding system-level instructions (System Prompts)"
   ]
  },
  {
   "cell_type": "markdown",
   "metadata": {},
   "source": [
    "### Load your API KEY from your environment variables\n",
    "- Make sure you have python-dotenv installed if not, run `pip install python-dotenv` so you can install it.\n",
    "- To get your API KEY, click [HERE](https://console.anthropic.com/settings/keys)"
   ]
  },
  {
   "cell_type": "code",
   "execution_count": 23,
   "metadata": {},
   "outputs": [],
   "source": [
    "import os\n",
    "from dotenv import load_dotenv\n",
    "load_dotenv()\n",
    "ANTHROPIC_API_KEY = os.getenv(\"ANTHROPIC_API_KEY\")  "
   ]
  },
  {
   "cell_type": "markdown",
   "metadata": {},
   "source": [
    "### Initialize Anthropic Model\n",
    "- Note: You can as well input your api key directly, but it's better to load from env file\n",
    "- Also, the `name` arguments is an optional argument that allows you to input a model from the list of allowed_models. "
   ]
  },
  {
   "cell_type": "code",
   "execution_count": 24,
   "metadata": {},
   "outputs": [],
   "source": [
    "model = AnthropicModel(api_key=ANTHROPIC_API_KEY, name=\"claude-3-haiku-20240307\")"
   ]
  },
  {
   "cell_type": "code",
   "execution_count": 29,
   "metadata": {},
   "outputs": [],
   "source": [
    "conversation = Conversation()\n",
    "conversation.add_message(HumanMessage(content=\"Who is the founder of Python Programming Language?.\"))"
   ]
  },
  {
   "cell_type": "code",
   "execution_count": 30,
   "metadata": {},
   "outputs": [
    {
     "name": "stdout",
     "output_type": "stream",
     "text": [
      "Answer: The Python programming language was created by Guido van Rossum.\n",
      "\n",
      "Guido van Rossum is a Dutch programmer who is best known as the creator and \"Benevolent Dictator for Life\" of the Python programming language. He started working on Python in the late 1980s at the National Research Institute for Mathematics and Computer Science (CWI) in the Netherlands.\n",
      "\n",
      "The first version of Python was released in 1991, and since then, Guido van Rossum has been the leading figure in the development and evolution of the language. He has guided the language's growth and direction, and his vision and leadership have been instrumental in making Python one of the most popular and widely-used programming languages today.\n",
      "\n",
      "Guido van Rossum's contributions to the development of Python, as well as his involvement in the Python community, have earned him recognition and respect in the programming world. He is widely regarded as the founder and principal architect of the Python programming language.\n"
     ]
    }
   ],
   "source": [
    "# Use the asynchronous method `apredict` to generate a response\n",
    "result = await model.apredict(conversation=conversation)\n",
    "\n",
    "# Retrieve and display the content of the prediction\n",
    "answer = result.get_last().content\n",
    "print(\"Answer:\", answer)"
   ]
  },
  {
   "cell_type": "markdown",
   "metadata": {},
   "source": [
    "### **2. Adding System Context to Your Conversation**\n",
    "\n",
    "System context allows you to guide the model's behavior by providing it with background instructions or a specific role to follow. By defining the system context, you can specify how the model should respond, the tone it should adopt, and the scope of its expertise. This ensures the model generates accurate and relevant responses tailored to your needs.\n",
    "\n",
    "For example, you can define the system context to:\n",
    "\n",
    "- Act as a Python programming tutor or expert.  \n",
    "- Provide step-by-step explanations for technical problems.  \n",
    "- Focus on a particular domain, such as data science or web development.  \n",
    "\n",
    "**Below, we will define a system context for a Python programming tutor specializing in beginner to advanced concepts.**"
   ]
  },
  {
   "cell_type": "code",
   "execution_count": 7,
   "metadata": {},
   "outputs": [],
   "source": [
    "python_tutor_system_context = \"\"\"\n",
    "You are a Python programming tutor with expertise ranging from beginner to advanced topics. \n",
    "Your role is to guide learners with clear, concise, and step-by-step explanations, \n",
    "helping them understand Python concepts, write efficient code, and solve problems. \n",
    "Be patient and provide practical examples when explaining concepts.\n",
    "\"\"\""
   ]
  },
  {
   "cell_type": "code",
   "execution_count": 15,
   "metadata": {},
   "outputs": [],
   "source": [
    "conversation.add_message(SystemMessage(content=python_tutor_system_context))\n",
    "conversation.add_message(HumanMessage(content=\"Can you explain the difference between a list and a tuple in Python?\"))"
   ]
  },
  {
   "cell_type": "code",
   "execution_count": 16,
   "metadata": {},
   "outputs": [
    {
     "name": "stdout",
     "output_type": "stream",
     "text": [
      "Answer: Certainly! The main differences between lists and tuples in Python are:\n",
      "\n",
      "1. Mutability:\n",
      "   - Lists are mutable, meaning you can add, remove, or modify elements in a list after it has been created.\n",
      "   - Tuples are immutable, meaning you cannot modify the elements in a tuple after it has been created.\n",
      "\n",
      "2. Syntax:\n",
      "   - Lists are defined using square brackets `[]`, e.g., `my_list = [1, 2, 3]`.\n",
      "   - Tuples are defined using parentheses `()`, e.g., `my_tuple = (1, 2, 3)`.\n",
      "\n",
      "3. Usage:\n",
      "   - Lists are commonly used when you need to store a collection of items that may need to be modified.\n",
      "   - Tuples are often used to represent a fixed set of values, such as coordinates, database records, or configuration settings.\n",
      "\n",
      "4. Performance:\n",
      "   - Tuples are generally faster than lists because they are immutable, and the interpreter can optimize their storage and access.\n",
      "\n",
      "5. Hashability:\n",
      "   - Tuples are hashable, meaning they can be used as\n"
     ]
    }
   ],
   "source": [
    "# Use the asynchronous method `apredict` to generate a response\n",
    "result = await model.apredict(conversation=conversation)\n",
    "\n",
    "# Retrieve and display the content of the prediction\n",
    "answer = result.get_last().content\n",
    "print(\"Answer:\", answer)"
   ]
  },
  {
   "cell_type": "markdown",
   "metadata": {},
   "source": [
    "---\n",
    "### **3. Advanced Asynchronous Processing Techniques**\n",
    "\n",
    "#### 1. **Asynchronous Streaming:**  \n",
    "Using the `astream` method, responses are generated and displayed **token by token** asynchronously as they are received. This is ideal for real-time applications where partial answers are required progressively without blocking other tasks in the process.\n",
    "\n",
    "For example, when using ChatGPT, you may notice that answers **appear gradually, word by word**, as the model processes and sends the response in real time. This behavior can be efficiently replicated using the `astream` method, allowing concurrent tasks to continue running while the response is being generated."
   ]
  },
  {
   "cell_type": "code",
   "execution_count": 17,
   "metadata": {},
   "outputs": [
    {
     "name": "stdout",
     "output_type": "stream",
     "text": [
      "Python is\n",
      " a versatile programming language that has found applications in a\n",
      " wide range of technology areas. Some of the key areas\n",
      " where Python thrives include:\n",
      "\n",
      "1. Data Science and Machine Learning\n",
      ":\n",
      "   - Python is a popular language for data analysis\n",
      ", statistical computing, and building machine learning models.\n",
      " Libraries like NumPy, Pandas,\n",
      " Matplotlib, Scikit-learn, and T\n",
      "ensorFlow make Python a go-to choice\n",
      " for data scientists and machine learning practitioners.\n",
      "\n",
      "2.\n",
      " Web Development:\n",
      "   - Python's web\n",
      " frameworks, such as Django, Flask, an\n",
      "d Pyramid, are widely used for building robust and scalable web\n",
      " applications.\n",
      "\n",
      "3. Automation and Scri\n",
      "pting:\n",
      "   - Python's simplicity an\n",
      "d readability make it an excellent choice for autom\n",
      "ating various tasks, from system administration to file management\n",
      " and web scraping.\n",
      "\n",
      "4. Scientific\n",
      " and Numerical Computing:\n",
      "   - Python's scientific\n",
      " computing libraries, including NumPy, S\n",
      "ciPy, and Matplotlib, are widely used in\n",
      " fields like physics, engineering, and mathematics.\n",
      "\n",
      "5.\n",
      " Data Visualization:\n",
      "   - Python's data\n",
      " visualization libraries, such as Matplotlib, Seaborn\n",
      ", and Plotly, provide powerful tools for creating\n"
     ]
    }
   ],
   "source": [
    "human_message = HumanMessage(content=\"In what areas of technology does python thrive?\")\n",
    "conversation.add_message(human_message)\n",
    "\n",
    "collected_tokens = []\n",
    "async for token in model.astream(conversation=conversation):\n",
    "    print(token) "
   ]
  },
  {
   "cell_type": "markdown",
   "metadata": {},
   "source": [
    "As you can see, the answer did not appear all at once when you ran the code. Instead, it appeared in parts, just as it would when using the Anthropic web interface.  \n",
    "\n",
    "This is the beauty of the `astream` method, as it allows users to see the answers as they are generated, keeping them engaged throughout the process."
   ]
  },
  {
   "cell_type": "markdown",
   "metadata": {},
   "source": [
    "#### **2. Abatch Processing Multiple Conversations**  \n",
    "Imagine you need to send **multiple questions** at once or handle queries from **several users simultaneously**. The `abatch` method allows you to process these requests **asynchronously** in a single call, enabling faster and more efficient handling of multiple conversations without blocking execution."
   ]
  },
  {
   "cell_type": "code",
   "execution_count": 19,
   "metadata": {},
   "outputs": [],
   "source": [
    "conversations = []\n",
    "for prompt in [\"If I want to learn python, how do I start?\", \"Is python still be relevant in 2025\"]:\n",
    "    conv = Conversation()\n",
    "    conv.add_message(HumanMessage(content=prompt))\n",
    "    conversations.append(conv)"
   ]
  },
  {
   "cell_type": "code",
   "execution_count": 20,
   "metadata": {},
   "outputs": [
    {
     "name": "stdout",
     "output_type": "stream",
     "text": [
      "Answer to question 1 is:\n",
      "Here are some steps to get started learning Python:\n",
      "\n",
      "1. Install Python:\n",
      "   - Go to the official Python website (https://www.python.org/) and download the latest version of Python for your operating system.\n",
      "   - Follow the installation instructions for your platform.\n",
      "\n",
      "2. Learn the basics:\n",
      "   - Start with learning the basic syntax and language constructs of Python, such as variables, data types, operators, control structures (if-else, loops), and functions.\n",
      "   - There are many free online resources, such as tutorials, documentation, and interactive coding platforms, that can help you learn the basics.\n",
      "\n",
      "3. Practice, practice, practice:\n",
      "   - The best way to learn Python is by writing and executing code. Start with simple programs and gradually work your way up to more complex projects.\n",
      "   - You can find a variety of beginner-friendly coding exercises and projects online to practice your skills.\n",
      "\n",
      "4. Explore Python libraries and modules:\n",
      "   - Python has a vast ecosystem of libraries and modules that extend its functionality. Learn about popular libraries like NumPy, Pandas, Matplotlib, and Django, which are used for data analysis, visualization, and web development, respectively.\n",
      "\n",
      "5.\n",
      "\n",
      "Answer to question 2 is:\n",
      "Yes, Python is likely to remain highly relevant in 2025 and beyond. Here are a few reasons why:\n",
      "\n",
      "1. Widespread Adoption and Popularity:\n",
      "   - Python has been consistently growing in popularity over the years and is currently one of the most widely used programming languages.\n",
      "   - According to the TIOBE Index, Python has been the third most popular programming language since 2020, and its popularity continues to rise.\n",
      "\n",
      "2. Versatility and Diverse Applications:\n",
      "   - Python is a versatile language that can be used for a wide range of applications, including web development, data science, machine learning, artificial intelligence, scripting, and more.\n",
      "   - This broad range of use cases ensures that Python will remain relevant across various industries and domains.\n",
      "\n",
      "3. Continuous Development and Improvements:\n",
      "   - The Python community is active and continuously working on improving the language, adding new features, and addressing any issues or shortcomings.\n",
      "   - The latest version, Python 3.11, was released in October 2022, and further updates and improvements are expected in the coming years.\n",
      "\n",
      "4. Growth in Data-Driven and AI-Centric Fields:\n",
      "   - The\n",
      "\n"
     ]
    }
   ],
   "source": [
    "batch_results = await model.abatch(conversations=conversations)\n",
    "for i, result in enumerate(batch_results, 1):\n",
    "    print(f\"Answer to question {i} is:\")\n",
    "    print(result.get_last().content)\n",
    "    print()  "
   ]
  },
  {
   "cell_type": "markdown",
   "metadata": {},
   "source": [
    "### **Conclusion:**  \n",
    "In this notebook, we were able to cover the asynchronous methods provided in the Swarmauri LLM classes. You will truly appreciate the beauty of the **async** methods when building real-world applications that require speed and need to handle a lot of tasks at the same time.  \n",
    "\n",
    "As you can see, the async methods are just like the sync methods, and that is one of the beauties of using Swarmauri. We make it very easy to use as all models have the same methods and the same way of interacting with them.  \n",
    "\n",
    "In this notebook, we used **Anthropic** as an example, but you can use any model of your choice, and the code will work perfectly as long as you import the correct class and instantiate it. In the previous example, we used **Groq**, but you could also use any other model there, and it would work just as well. Swarmauri ensures that the methods are straightforward and consistent, regardless of the model you choose.  \n",
    "\n",
    "Watch out for the next notebooks, where we will explore more exciting features of Swarmauri."
   ]
  },
  {
   "cell_type": "markdown",
   "metadata": {},
   "source": [
    "## **NOTEBOOK METADATA**"
   ]
  },
  {
   "cell_type": "code",
   "execution_count": 1,
   "metadata": {},
   "outputs": [
    {
     "name": "stdout",
     "output_type": "stream",
     "text": [
      "Author: Victory Nnaji\n",
      "GitHub Username: 3rd-Son\n",
      "Notebook File: Notebook_03_Async_Methods_with_AnthropicModel.ipynb\n",
      "Last Modified: 2024-12-30 07:38:51.784408\n",
      "Platform: Darwin 24.1.0\n",
      "Python Version: 3.11.11 (main, Dec 11 2024, 10:25:04) [Clang 14.0.6 ]\n",
      "Swarmauri Version: 0.5.2\n",
      "None\n"
     ]
    }
   ],
   "source": [
    "from swarmauri.utils import print_notebook_metadata\n",
    "\n",
    "metadata = print_notebook_metadata.print_notebook_metadata(\"Victory Nnaji\", \"3rd-Son\")\n",
    "print(metadata) "
   ]
  }
 ],
 "metadata": {
  "kernelspec": {
   "display_name": "swarmauri-notebooks",
   "language": "python",
   "name": "python3"
  },
  "language_info": {
   "codemirror_mode": {
    "name": "ipython",
    "version": 3
   },
   "file_extension": ".py",
   "mimetype": "text/x-python",
   "name": "python",
   "nbconvert_exporter": "python",
   "pygments_lexer": "ipython3",
   "version": "3.11.11"
  }
 },
 "nbformat": 4,
 "nbformat_minor": 2
}
