{
 "cells": [
  {
   "cell_type": "markdown",
   "metadata": {},
   "source": [
    "# **Understanding the Toolkit Class in Swarmauri SDK**\n",
    "\n",
    "The `Toolkit` class is a foundational component that simplifies the management of tools which are essential building blocks for Tool Agents. A toolkit acts like a container that organizes and provides access to tools, making it easy to add, remove, and retrieve tools based on specific requirements.  \n",
    "\n",
    "### **Key Features of Toolkit**\n",
    "\n",
    "1. **Tool Management**: Add, remove, or retrieve tools dynamically.\n",
    "2. **Querying Tools**: Retrieve a list of tools with optional filtering and field customization.\n",
    "3. **Compatibility**: Ensures tools conform to the `ToolBase` interface, ensuring consistency across the SDK.\n",
    "4. **Resource Categorization**: Categorizes tools for efficient resource handling.  \n",
    "\n",
    "#### Let’s dive into examples using the a tool: `CalculatorTool`, a simple tool that performs arithmetic operations.\n",
    "\n",
    "---"
   ]
  },
  {
   "cell_type": "markdown",
   "metadata": {},
   "source": [
    "### **1. Adding Tools to the Toolkit**  "
   ]
  },
  {
   "cell_type": "markdown",
   "metadata": {},
   "source": [
    "**Adding a Single Tool**\n",
    "\n",
    "The method `add_tool` adds a single tool to the `Toolkit` class."
   ]
  },
  {
   "cell_type": "code",
   "execution_count": 3,
   "metadata": {},
   "outputs": [
    {
     "name": "stdout",
     "output_type": "stream",
     "text": [
      "{'CalculatorTool': CalculatorTool(name='CalculatorTool', id='8ac147e2-e30c-43bb-8edc-d579fa21a5bb', members=[], owner=None, host=None, resource='Tool', version='1.0.0', type='CalculatorTool', description='Performs basic arithmetic operations.', parameters=[Parameter(name='operation', id='c50426b0-6514-4eec-8cea-92ffcbe13d12', members=[], owner=None, host=None, resource='Parameter', version='0.1.0', type='string', description=\"The arithmetic operation to perform ('add', 'subtract', 'multiply', 'divide').\", required=True, enum=['add', 'subtract', 'multiply', 'divide']), Parameter(name='x', id='151fff57-e2d9-4813-8d97-01ef771912eb', members=[], owner=None, host=None, resource='Parameter', version='0.1.0', type='number', description='The left operand for the operation.', required=True, enum=None), Parameter(name='y', id='4508d2a8-0234-4b36-9b01-06347a351fb4', members=[], owner=None, host=None, resource='Parameter', version='0.1.0', type='number', description='The right operand for the operation.', required=True, enum=None)])}\n"
     ]
    }
   ],
   "source": [
    "from swarmauri.tools.concrete.CalculatorTool import CalculatorTool\n",
    "from swarmauri.toolkits.concrete.Toolkit import Toolkit\n",
    "\n",
    "# Create an instance of the CalculatorTool\n",
    "calculator_tool = CalculatorTool()\n",
    "\n",
    "# Create a Toolkit instance\n",
    "toolkit = Toolkit()\n",
    "\n",
    "# Add the CalculatorTool to the toolkit\n",
    "toolkit.add_tool(calculator_tool)\n",
    "\n",
    "# Verify that the tool has been added\n",
    "print(toolkit.tools)"
   ]
  },
  {
   "cell_type": "markdown",
   "metadata": {},
   "source": [
    "**Adding Multiple Tools**\n",
    "\n",
    "The method `add_tools` adds multiple tools to `Toolkit` class."
   ]
  },
  {
   "cell_type": "code",
   "execution_count": 4,
   "metadata": {},
   "outputs": [
    {
     "name": "stdout",
     "output_type": "stream",
     "text": [
      "{'CalculatorTool': CalculatorTool(name='CalculatorTool', id='8ac147e2-e30c-43bb-8edc-d579fa21a5bb', members=[], owner=None, host=None, resource='Tool', version='1.0.0', type='CalculatorTool', description='Performs basic arithmetic operations.', parameters=[Parameter(name='operation', id='c50426b0-6514-4eec-8cea-92ffcbe13d12', members=[], owner=None, host=None, resource='Parameter', version='0.1.0', type='string', description=\"The arithmetic operation to perform ('add', 'subtract', 'multiply', 'divide').\", required=True, enum=['add', 'subtract', 'multiply', 'divide']), Parameter(name='x', id='151fff57-e2d9-4813-8d97-01ef771912eb', members=[], owner=None, host=None, resource='Parameter', version='0.1.0', type='number', description='The left operand for the operation.', required=True, enum=None), Parameter(name='y', id='4508d2a8-0234-4b36-9b01-06347a351fb4', members=[], owner=None, host=None, resource='Parameter', version='0.1.0', type='number', description='The right operand for the operation.', required=True, enum=None)]), 'WeatherTool': WeatherTool(name='WeatherTool', id='665394ef-7aad-4ff9-afe3-6e78ee339701', members=[], owner=None, host=None, resource='Tool', version='0.1.dev1', type='WeatherTool', description='Fetch current weather info for a location', parameters=[Parameter(name='location', id='c35162dd-02b3-4188-a9b6-99573230b5f6', members=[], owner=None, host=None, resource='Parameter', version='0.1.0', type='string', description='The location for which to fetch weather information', required=True, enum=None), Parameter(name='unit', id='c23188fc-3db9-4ae6-923c-bc3ee5b2684c', members=[], owner=None, host=None, resource='Parameter', version='0.1.0', type='string', description=\"The unit for temperature ('fahrenheit' or 'celsius')\", required=True, enum=['fahrenheit', 'celsius'])])}\n"
     ]
    }
   ],
   "source": [
    "from swarmauri.tools.concrete.WeatherTool import WeatherTool\n",
    "\n",
    "weather_tool = WeatherTool()\n",
    "\n",
    "# Add multiple tools to the toolkit at once\n",
    "toolkit.add_tools({\"CalculatorTool\": calculator_tool, \"WeatherTool\": weather_tool})\n",
    "\n",
    "# Verify the tools\n",
    "print(toolkit.tools)"
   ]
  },
  {
   "cell_type": "markdown",
   "metadata": {},
   "source": [
    "---\n",
    "### **2. Retrieving Tools**\n",
    "\n",
    "The `get_tools` method allows you to retrieve all tools in the toolkit, with options to include or exclude specific fields.\n",
    "\n",
    "**Getting All Tools**"
   ]
  },
  {
   "cell_type": "code",
   "execution_count": 5,
   "metadata": {},
   "outputs": [
    {
     "name": "stdout",
     "output_type": "stream",
     "text": [
      "[{'name': 'CalculatorTool', 'id': '8ac147e2-e30c-43bb-8edc-d579fa21a5bb', 'members': [], 'owner': None, 'host': None, 'resource': 'Tool', 'version': '1.0.0', 'type': 'CalculatorTool', 'description': 'Performs basic arithmetic operations.', 'parameters': [{'name': 'operation', 'id': 'c50426b0-6514-4eec-8cea-92ffcbe13d12', 'members': [], 'owner': None, 'host': None, 'resource': 'Parameter', 'version': '0.1.0', 'type': 'string', 'description': \"The arithmetic operation to perform ('add', 'subtract', 'multiply', 'divide').\", 'required': True, 'enum': ['add', 'subtract', 'multiply', 'divide']}, {'name': 'x', 'id': '151fff57-e2d9-4813-8d97-01ef771912eb', 'members': [], 'owner': None, 'host': None, 'resource': 'Parameter', 'version': '0.1.0', 'type': 'number', 'description': 'The left operand for the operation.', 'required': True, 'enum': None}, {'name': 'y', 'id': '4508d2a8-0234-4b36-9b01-06347a351fb4', 'members': [], 'owner': None, 'host': None, 'resource': 'Parameter', 'version': '0.1.0', 'type': 'number', 'description': 'The right operand for the operation.', 'required': True, 'enum': None}]}, {'name': 'WeatherTool', 'id': '665394ef-7aad-4ff9-afe3-6e78ee339701', 'members': [], 'owner': None, 'host': None, 'resource': 'Tool', 'version': '0.1.dev1', 'type': 'WeatherTool', 'description': 'Fetch current weather info for a location', 'parameters': [{'name': 'location', 'id': 'c35162dd-02b3-4188-a9b6-99573230b5f6', 'members': [], 'owner': None, 'host': None, 'resource': 'Parameter', 'version': '0.1.0', 'type': 'string', 'description': 'The location for which to fetch weather information', 'required': True, 'enum': None}, {'name': 'unit', 'id': 'c23188fc-3db9-4ae6-923c-bc3ee5b2684c', 'members': [], 'owner': None, 'host': None, 'resource': 'Parameter', 'version': '0.1.0', 'type': 'string', 'description': \"The unit for temperature ('fahrenheit' or 'celsius')\", 'required': True, 'enum': ['fahrenheit', 'celsius']}]}]\n"
     ]
    }
   ],
   "source": [
    "# Retrieve all tools in the toolkit\n",
    "all_tools = toolkit.get_tools()\n",
    "print(all_tools)"
   ]
  },
  {
   "cell_type": "markdown",
   "metadata": {},
   "source": [
    "**Filtering Tools by Fields**"
   ]
  },
  {
   "cell_type": "code",
   "execution_count": 6,
   "metadata": {},
   "outputs": [
    {
     "name": "stdout",
     "output_type": "stream",
     "text": [
      "[{'name': 'CalculatorTool', 'description': 'Performs basic arithmetic operations.'}, {'name': 'WeatherTool', 'description': 'Fetch current weather info for a location'}]\n"
     ]
    }
   ],
   "source": [
    "# Retrieve tools with specific fields\n",
    "filtered_tools = toolkit.get_tools(include=[\"name\", \"description\"])\n",
    "print(filtered_tools)"
   ]
  },
  {
   "cell_type": "markdown",
   "metadata": {},
   "source": [
    "---\n",
    "### **3. Removing Tools**  \n",
    "You can remove tools by their names using the `remove_tool` method.  \n"
   ]
  },
  {
   "cell_type": "code",
   "execution_count": 7,
   "metadata": {},
   "outputs": [
    {
     "name": "stdout",
     "output_type": "stream",
     "text": [
      "{'CalculatorTool': CalculatorTool(name='CalculatorTool', id='8ac147e2-e30c-43bb-8edc-d579fa21a5bb', members=[], owner=None, host=None, resource='Tool', version='1.0.0', type='CalculatorTool', description='Performs basic arithmetic operations.', parameters=[Parameter(name='operation', id='c50426b0-6514-4eec-8cea-92ffcbe13d12', members=[], owner=None, host=None, resource='Parameter', version='0.1.0', type='string', description=\"The arithmetic operation to perform ('add', 'subtract', 'multiply', 'divide').\", required=True, enum=['add', 'subtract', 'multiply', 'divide']), Parameter(name='x', id='151fff57-e2d9-4813-8d97-01ef771912eb', members=[], owner=None, host=None, resource='Parameter', version='0.1.0', type='number', description='The left operand for the operation.', required=True, enum=None), Parameter(name='y', id='4508d2a8-0234-4b36-9b01-06347a351fb4', members=[], owner=None, host=None, resource='Parameter', version='0.1.0', type='number', description='The right operand for the operation.', required=True, enum=None)])}\n"
     ]
    }
   ],
   "source": [
    "\n",
    "# Remove a tool by its name\n",
    "toolkit.remove_tool(\"WeatherTool\")\n",
    "\n",
    "# Verify that the tool has been removed\n",
    "print(toolkit.tools)"
   ]
  },
  {
   "cell_type": "markdown",
   "metadata": {},
   "source": [
    "---\n",
    "### **4. Accessing a Tool by Name**\n",
    "The `get_tool_by_name` method retrieves a specific tool by its name, allowing you to interact with it.  \n"
   ]
  },
  {
   "cell_type": "code",
   "execution_count": 8,
   "metadata": {},
   "outputs": [
    {
     "name": "stdout",
     "output_type": "stream",
     "text": [
      "{'operation': 'add', 'calculated_result': '30'}\n"
     ]
    }
   ],
   "source": [
    "# Retrieve a tool by its name\n",
    "calculator = toolkit.get_tool_by_name(\"CalculatorTool\")\n",
    "\n",
    "# Use the tool to perform an operation\n",
    "result = calculator(operation=\"add\", x=10, y=20)\n",
    "print(result) "
   ]
  },
  {
   "cell_type": "markdown",
   "metadata": {},
   "source": [
    "---\n",
    "### **5. Checking the Number of Tools**\n",
    "The `__len__` method provides the total number of tools in the toolkit.  "
   ]
  },
  {
   "cell_type": "code",
   "execution_count": 9,
   "metadata": {},
   "outputs": [
    {
     "name": "stdout",
     "output_type": "stream",
     "text": [
      "1\n"
     ]
    }
   ],
   "source": [
    "#Get the number of tools in the toolkit\n",
    "tool_count = len(toolkit)\n",
    "print(tool_count)  # Output: 1"
   ]
  },
  {
   "cell_type": "markdown",
   "metadata": {},
   "source": [
    "---\n",
    "### **Key Benefits of Toolkit**\n",
    "\n",
    "- **Flexibility**: Allows dynamic updates to tools during runtime.\n",
    "- **Scalability**: Enables handling of large toolsets without performance bottlenecks.\n",
    "- **Ease of Use**: Simplifies interaction with tools, abstracting away implementation complexities.  \n",
    "\n",
    "By using the `Toolkit` class, developers can seamlessly integrate and manage tools like `CalculatorTool`, which can empower LMMs to execute their tasks efficiently. "
   ]
  }
 ],
 "metadata": {
  "kernelspec": {
   "display_name": "swarmauri_notebook_env",
   "language": "python",
   "name": "python3"
  },
  "language_info": {
   "codemirror_mode": {
    "name": "ipython",
    "version": 3
   },
   "file_extension": ".py",
   "mimetype": "text/x-python",
   "name": "python",
   "nbconvert_exporter": "python",
   "pygments_lexer": "ipython3",
   "version": "3.11.11"
  }
 },
 "nbformat": 4,
 "nbformat_minor": 2
}
