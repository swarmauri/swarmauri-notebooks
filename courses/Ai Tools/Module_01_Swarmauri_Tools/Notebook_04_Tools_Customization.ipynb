{
 "cells": [
  {
   "cell_type": "markdown",
   "metadata": {},
   "source": [
    "## **Customized Tool Creation Using Swarmauri-SDK**\n",
    "\n",
    "One of the key strengths of the Swarmauri-SDK is its flexibility to allow developers to create custom tools tailored to their specific use cases. By extending from the `ToolBase` class, you can easily define your tool's unique parameters, logic, and behavior while maintaining compatibility with the broader Swarmauri ecosystem.\n"
   ]
  },
  {
   "cell_type": "markdown",
   "metadata": {},
   "source": [
    "### **Steps to Create a Custom Tool**\n",
    "1. **Inherit from `ToolBase`**: All custom tools must inherit from the `ToolBase` class.\n",
    "2. **Define Metadata**: Provide details like the tool's `name`, `version`, `description`, and `type`.\n",
    "3. **Define Parameters**: Specify the input parameters the tool requires using the `Parameter` class.\n",
    "4. **Implement the Logic**: Override the `__call__` method to define how the tool processes inputs and produces outputs.\n",
    "5. **Register the Tool**: Use the `SubclassUnion` to register the tool for seamless integration.\n",
    "\n",
    "---"
   ]
  },
  {
   "cell_type": "markdown",
   "metadata": {},
   "source": [
    "### **Example: GreetingTool**\n",
    "\n",
    "Here’s a simple example of a custom tool called `GreetingTool`, which generates a greeting message based on the provided name and greeting style.\n"
   ]
  },
  {
   "cell_type": "code",
   "execution_count": 3,
   "metadata": {},
   "outputs": [],
   "source": [
    "from swarmauri_core.typing import SubclassUnion\n",
    "from typing import List, Literal, Dict\n",
    "from pydantic import Field\n",
    "from swarmauri.tools.base.ToolBase import ToolBase\n",
    "from swarmauri.tools.concrete.Parameter import Parameter\n",
    "\n",
    "class GreetingTool(ToolBase):\n",
    "    version: str = \"1.0.0\"\n",
    "    name: str = \"GreetingTool\"\n",
    "    description: str = \"Generates a customized greeting message.\"\n",
    "    type: Literal[\"GreetingTool\"] = \"GreetingTool\"\n",
    "\n",
    "    # Define input parameters\n",
    "    parameters: List[Parameter] = Field(\n",
    "        default_factory=lambda: [\n",
    "            Parameter(\n",
    "                name=\"name\",\n",
    "                type=\"string\",\n",
    "                description=\"The name of the person to greet.\",\n",
    "                required=True,\n",
    "            ),\n",
    "            Parameter(\n",
    "                name=\"style\",\n",
    "                type=\"string\",\n",
    "                description=\"The style of the greeting ('formal', 'casual', or 'friendly').\",\n",
    "                required=True,\n",
    "                enum=[\"formal\", \"casual\", \"friendly\"],\n",
    "            ),\n",
    "        ]\n",
    "    )\n",
    "\n",
    "    # Define the tool's functionality\n",
    "    def __call__(self, name: str, style: str) -> Dict[str, str]:\n",
    "        try:\n",
    "            if style == \"formal\":\n",
    "                message = f\"Good day, {name}. It’s a pleasure to meet you.\"\n",
    "            elif style == \"casual\":\n",
    "                message = f\"Hey {name}! What's up?\"\n",
    "            elif style == \"friendly\":\n",
    "                message = f\"Hi {name}! How’s it going, my friend?\"\n",
    "            else:\n",
    "                return {\"error\": \"Invalid style. Please choose 'formal', 'casual', or 'friendly'.\"}\n",
    "            \n",
    "            return {\"name\": name, \"style\": style, \"message\": message}\n",
    "        except Exception as e:\n",
    "            return {\"error\": f\"An error occurred: {str(e)}\"}\n",
    "\n",
    "# Register the tool\n",
    "SubclassUnion.update(baseclass=ToolBase, type_name=\"GreetingTool\", obj=GreetingTool)"
   ]
  },
  {
   "cell_type": "markdown",
   "metadata": {},
   "source": [
    "### **How the `GreetingTool` Works**\n",
    "---\n",
    "1. **Metadata**:\n",
    "   - `version`: Specifies the tool's version.\n",
    "   - `name`: The identifier for the tool.\n",
    "   - `description`: Briefly explains the tool's purpose.\n",
    "   - `type`: Declares the tool's type using a `Literal`.\n",
    "\n",
    "2. **Parameters**:\n",
    "   - `name`: The name of the person to greet (required).\n",
    "   - `style`: The style of greeting, limited to predefined values (`formal`, `casual`, or `friendly`).\n",
    "\n",
    "3. **Logic**:\n",
    "   - The `__call__` method checks the style and generates the appropriate greeting message.\n",
    "   - Handles unexpected inputs gracefully, returning a helpful error message.\n",
    "\n",
    "4. **Output**:\n",
    "   - The tool returns a dictionary containing the name, style, and the generated greeting message.\n"
   ]
  },
  {
   "cell_type": "markdown",
   "metadata": {},
   "source": [
    "### **Using the Custom Tool**\n",
    "Once registered, the `GreetingTool` can be used like any other tool in the Swarmauri-SDK. Here's an example usage:"
   ]
  },
  {
   "cell_type": "code",
   "execution_count": 4,
   "metadata": {},
   "outputs": [
    {
     "name": "stdout",
     "output_type": "stream",
     "text": [
      "{'name': 'Alice', 'style': 'friendly', 'message': 'Hi Alice! How’s it going, my friend?'}\n"
     ]
    }
   ],
   "source": [
    "# Instantiate the tool\n",
    "greeting_tool = GreetingTool()\n",
    "\n",
    "# Call the tool with inputs\n",
    "result = greeting_tool(name=\"Alice\", style=\"friendly\")\n",
    "\n",
    "# Output the result\n",
    "print(result)"
   ]
  },
  {
   "cell_type": "markdown",
   "metadata": {},
   "source": [
    "### **Summary**\n",
    "Creating a custom tool in the Swarmauri-SDK is straightforward and highly customizable. By following the structure demonstrated above, you can build tools that seamlessly integrate into your workflows and address specific use cases. Whether it’s for data processing, text generation, or anything in between, custom tools empower you to unlock the full potential of the Swarmauri ecosystem."
   ]
  },
  {
   "cell_type": "markdown",
   "metadata": {},
   "source": [
    "## **NOTEBOOK METADATA**"
   ]
  },
  {
   "cell_type": "code",
   "execution_count": 1,
   "metadata": {},
   "outputs": [
    {
     "name": "stdout",
     "output_type": "stream",
     "text": [
      "Author: Victory Nnaji\n",
      "GitHub Username: 3rd-Son\n",
      "Notebook File: Notebook_04_Tools_Customization.ipynb\n",
      "Last Modified: 2025-01-02 11:51:42.908321\n",
      "Platform: Darwin 24.1.0\n",
      "Python Version: 3.11.11 (main, Dec 11 2024, 10:25:04) [Clang 14.0.6 ]\n",
      "Swarmauri Version: 0.5.2\n",
      "None\n"
     ]
    }
   ],
   "source": [
    "from swarmauri.utils import print_notebook_metadata\n",
    "\n",
    "metadata = print_notebook_metadata.print_notebook_metadata(\"Victory Nnaji\", \"3rd-Son\")\n",
    "print(metadata) "
   ]
  }
 ],
 "metadata": {
  "kernelspec": {
   "display_name": "swarmauri-notebooks",
   "language": "python",
   "name": "python3"
  },
  "language_info": {
   "codemirror_mode": {
    "name": "ipython",
    "version": 3
   },
   "file_extension": ".py",
   "mimetype": "text/x-python",
   "name": "python",
   "nbconvert_exporter": "python",
   "pygments_lexer": "ipython3",
   "version": "3.11.11"
  }
 },
 "nbformat": 4,
 "nbformat_minor": 2
}
