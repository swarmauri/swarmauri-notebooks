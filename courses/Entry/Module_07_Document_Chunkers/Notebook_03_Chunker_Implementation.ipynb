{
 "cells": [
  {
   "cell_type": "markdown",
   "id": "6ced2173-ce11-4b5c-99b7-a1974a0c0658",
   "metadata": {},
   "source": [
    "# Chunker Implementation: Serialization and Deserialization\n",
    "\n",
    "This notebook demonstrates how to serialize and deserialize various chunkers. Serialization is useful for saving the state of a chunker and restoring it later, enabling the same chunker configuration to be reused."
   ]
  },
  {
   "cell_type": "code",
   "execution_count": 1,
   "id": "9df5d4ec-d61b-43a2-84e5-15914afe2ee1",
   "metadata": {},
   "outputs": [],
   "source": [
    "# Importing necessary chunkers from the swarmauri library\n",
    "from swarmauri.chunkers.concrete.DelimiterBasedChunker import DelimiterBasedChunker\n",
    "from swarmauri.chunkers.concrete.FixedLengthChunker import FixedLengthChunker\n",
    "from swarmauri.chunkers.concrete.SentenceChunker import SentenceChunker\n",
    "from swarmauri.chunkers.concrete.SlidingWindowChunker import SlidingWindowChunker"
   ]
  },
  {
   "cell_type": "markdown",
   "id": "2d4ba158-071d-4b43-b27a-854cc421dc36",
   "metadata": {},
   "source": [
    "## Delimiter-Based Chunker Serialization\n",
    "\n",
    "We will first demonstrate how to serialize and deserialize a `DelimiterBasedChunker`."
   ]
  },
  {
   "cell_type": "code",
   "execution_count": 2,
   "id": "8b259d7b-b440-4717-a5dd-a2b2d08d669f",
   "metadata": {},
   "outputs": [
    {
     "name": "stdout",
     "output_type": "stream",
     "text": [
      "Original DelimiterBasedChunker ID: 93190809-364f-4fe5-bb35-d17ce1f31ab4\n",
      "Restored DelimiterBasedChunker ID: 93190809-364f-4fe5-bb35-d17ce1f31ab4\n"
     ]
    }
   ],
   "source": [
    "# DelimiterBasedChunker serialization\n",
    "delimiter_chunker = DelimiterBasedChunker()\n",
    "serialized_data = delimiter_chunker.model_dump_json()\n",
    "restored_chunker = DelimiterBasedChunker.model_validate_json(serialized_data)\n",
    "\n",
    "print(f\"Original DelimiterBasedChunker ID: {delimiter_chunker.id}\")\n",
    "print(f\"Restored DelimiterBasedChunker ID: {restored_chunker.id}\")"
   ]
  },
  {
   "cell_type": "markdown",
   "id": "21a4362f-69ee-4862-8527-2babbec3b989",
   "metadata": {},
   "source": [
    "## Fixed-Length Chunker Serialization\n",
    "\n",
    "Now, let's demonstrate serialization and deserialization for the `FixedLengthChunker`."
   ]
  },
  {
   "cell_type": "code",
   "execution_count": 3,
   "id": "380a0ba1-7747-44d3-9395-b7979ce9b974",
   "metadata": {},
   "outputs": [
    {
     "name": "stdout",
     "output_type": "stream",
     "text": [
      "Original FixedLengthChunker ID: 72cda408-01e7-48c6-bb98-0396d09030a4\n",
      "Restored FixedLengthChunker ID: 72cda408-01e7-48c6-bb98-0396d09030a4\n"
     ]
    }
   ],
   "source": [
    "# FixedLengthChunker serialization\n",
    "fixed_chunker = FixedLengthChunker()\n",
    "serialized_data = fixed_chunker.model_dump_json()\n",
    "restored_fixed_chunker = FixedLengthChunker.model_validate_json(serialized_data)\n",
    "\n",
    "print(f\"Original FixedLengthChunker ID: {fixed_chunker.id}\")\n",
    "print(f\"Restored FixedLengthChunker ID: {restored_fixed_chunker.id}\")"
   ]
  },
  {
   "cell_type": "markdown",
   "id": "6cce260b-561b-4973-8775-ec5b60b77485",
   "metadata": {},
   "source": [
    "## Sentence-Based Chunker Serialization\n",
    "\n",
    "Next, we will serialize and deserialize a `SentenceChunker`."
   ]
  },
  {
   "cell_type": "code",
   "execution_count": 4,
   "id": "2c782c40-636d-40f5-a62f-3695d3c9fc82",
   "metadata": {},
   "outputs": [
    {
     "name": "stdout",
     "output_type": "stream",
     "text": [
      "Original SentenceChunker ID: a3f7dcb2-d2d9-4deb-834f-224e810fbadb\n",
      "Restored SentenceChunker ID: a3f7dcb2-d2d9-4deb-834f-224e810fbadb\n"
     ]
    }
   ],
   "source": [
    "# SentenceChunker serialization\n",
    "sentence_chunker = SentenceChunker()\n",
    "serialized_data = sentence_chunker.model_dump_json()\n",
    "restored_sentence_chunker = SentenceChunker.model_validate_json(serialized_data)\n",
    "\n",
    "print(f\"Original SentenceChunker ID: {sentence_chunker.id}\")\n",
    "print(f\"Restored SentenceChunker ID: {restored_sentence_chunker.id}\")"
   ]
  },
  {
   "cell_type": "markdown",
   "id": "089b702c-2b22-45c7-9fb7-68e44b5dc58c",
   "metadata": {},
   "source": [
    "## Sliding Window Chunker Serialization\n",
    "\n",
    "Lastly, we will serialize and deserialize a `SlidingWindowChunker`, showcasing how to handle chunkers with special settings like overlap."
   ]
  },
  {
   "cell_type": "code",
   "execution_count": 5,
   "id": "ba33d60a-e85c-4786-ba0c-f33d7017805b",
   "metadata": {},
   "outputs": [
    {
     "name": "stdout",
     "output_type": "stream",
     "text": [
      "Original SlidingWindowChunker ID: 178a35a9-f29b-475a-adca-c74dfc625017\n",
      "Restored SlidingWindowChunker ID: 178a35a9-f29b-475a-adca-c74dfc625017\n"
     ]
    }
   ],
   "source": [
    "# SlidingWindowChunker serialization\n",
    "sliding_chunker = SlidingWindowChunker(overlap=True, step_size=21)\n",
    "serialized_data = sliding_chunker.model_dump_json()\n",
    "restored_sliding_chunker = SlidingWindowChunker.model_validate_json(serialized_data)\n",
    "\n",
    "print(f\"Original SlidingWindowChunker ID: {sliding_chunker.id}\")\n",
    "print(f\"Restored SlidingWindowChunker ID: {restored_sliding_chunker.id}\")"
   ]
  },
  {
   "cell_type": "markdown",
   "id": "5e7b2981-7259-442b-9d26-4073ff2dcdda",
   "metadata": {},
   "source": [
    "## Notebook Metadata"
   ]
  },
  {
   "cell_type": "code",
   "execution_count": 9,
   "id": "76ebf3a6-9c49-48a3-bbb9-7fd7bcc272e7",
   "metadata": {},
   "outputs": [
    {
     "name": "stdout",
     "output_type": "stream",
     "text": [
      "Author: Huzaifa Irshad \n",
      "GitHub Username: irshadhuzaifa\n",
      "Last Modified: 2024-10-17 10:53:58.977674\n",
      "Platform: Windows 11\n",
      "Python Version: 3.12.7 | packaged by Anaconda, Inc. | (main, Oct  4 2024, 13:17:27) [MSC v.1929 64 bit (AMD64)]\n",
      "Swarmauri Version: 0.5.0\n"
     ]
    }
   ],
   "source": [
    "import os\n",
    "import platform\n",
    "import sys\n",
    "from datetime import datetime\n",
    "\n",
    "author_name = \"Huzaifa Irshad \" \n",
    "github_username = \"irshadhuzaifa\"\n",
    "\n",
    "print(f\"Author: {author_name}\")\n",
    "print(f\"GitHub Username: {github_username}\")\n",
    "\n",
    "notebook_file = \"Notebook_03_Chunker_Implementation.ipynb\"\n",
    "try:\n",
    "    last_modified_time = os.path.getmtime(notebook_file)\n",
    "    last_modified_datetime = datetime.fromtimestamp(last_modified_time)\n",
    "    print(f\"Last Modified: {last_modified_datetime}\")\n",
    "except Exception as e:\n",
    "    print(f\"Could not retrieve last modified datetime: {e}\")\n",
    "\n",
    "print(f\"Platform: {platform.system()} {platform.release()}\")\n",
    "print(f\"Python Version: {sys.version}\")\n",
    "\n",
    "try:\n",
    "    import swarmauri\n",
    "    print(f\"Swarmauri Version: {swarmauri.__version__}\")\n",
    "except ImportError:\n",
    "    print(\"Swarmauri is not installed.\")"
   ]
  },
  {
   "cell_type": "code",
   "execution_count": null,
   "id": "ba743d85-8420-4d7b-8031-6b02c6cbc903",
   "metadata": {},
   "outputs": [],
   "source": []
  }
 ],
 "metadata": {
  "kernelspec": {
   "display_name": "swarmauri(0.5)",
   "language": "python",
   "name": "swarmauri-0.5.0"
  },
  "language_info": {
   "codemirror_mode": {
    "name": "ipython",
    "version": 3
   },
   "file_extension": ".py",
   "mimetype": "text/x-python",
   "name": "python",
   "nbconvert_exporter": "python",
   "pygments_lexer": "ipython3",
   "version": "3.12.7"
  }
 },
 "nbformat": 4,
 "nbformat_minor": 5
}
