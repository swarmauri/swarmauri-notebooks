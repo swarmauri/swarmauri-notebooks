{
 "cells": [
  {
   "cell_type": "markdown",
   "id": "3dc7617d-c0f3-49ed-aebf-92a40b0eee6d",
   "metadata": {},
   "source": [
    "# Chunking Basics with Delimiter and Fixed Length Chunkers\n",
    "\n",
    "This notebook introduces two basic chunkers: \n",
    "- **Delimiter-Based Chunker**\n",
    "- **Fixed-Length Chunker**\n",
    "\n",
    "We'll explore how to initialize these chunkers, examine their attributes, and use them to split text into smaller chunks."
   ]
  },
  {
   "cell_type": "code",
   "execution_count": 35,
   "id": "d2e0d6dc-8f1a-4c8c-b7f8-6fe6a4ff601f",
   "metadata": {},
   "outputs": [],
   "source": [
    "# Importing necessary chunkers from the swarmauri library\n",
    "from swarmauri.chunkers.concrete.DelimiterBasedChunker import DelimiterBasedChunker\n",
    "from swarmauri.chunkers.concrete.FixedLengthChunker import FixedLengthChunker"
   ]
  },
  {
   "cell_type": "markdown",
   "id": "754da7aa-c39b-4679-b36a-5a7e184e130f",
   "metadata": {},
   "source": [
    "## Delimiter-Based Chunking\n",
    "\n",
    "A `DelimiterBasedChunker` divides a string based on specified delimiters (e.g., punctuation marks). Let's see how it works in practice."
   ]
  },
  {
   "cell_type": "code",
   "execution_count": 2,
   "id": "ef2da918-6e40-41c5-9d5a-910b33aae487",
   "metadata": {},
   "outputs": [
    {
     "name": "stdout",
     "output_type": "stream",
     "text": [
      "Resource: Chunker\n",
      "Type: DelimiterBasedChunker\n"
     ]
    }
   ],
   "source": [
    "# Basic usage of DelimiterBasedChunker\n",
    "chunker = DelimiterBasedChunker()\n",
    "\n",
    "# Checking the resource and type attributes\n",
    "print(f\"Resource: {chunker.resource}\")\n",
    "print(f\"Type: {chunker.type}\")"
   ]
  },
  {
   "cell_type": "markdown",
   "id": "9d220faf-0ba3-445a-ae92-4c1c6ae72012",
   "metadata": {},
   "source": [
    "### Chunking Text Using Delimiters\n",
    "\n",
    "We will now chunk a text using default delimiters (e.g., question marks, periods)."
   ]
  },
  {
   "cell_type": "code",
   "execution_count": 3,
   "id": "b7937874-01bd-4e85-9c55-f3241707af47",
   "metadata": {},
   "outputs": [
    {
     "name": "stdout",
     "output_type": "stream",
     "text": [
      "Chunks: ['question?', 'test!', 'period.', 'run on']\n"
     ]
    }
   ],
   "source": [
    "# Demonstrating the chunking of text based on delimiters\n",
    "unchunked_text = 'question? test! period. run on'\n",
    "chunks = chunker.chunk_text(unchunked_text)\n",
    "print(f\"Chunks: {chunks}\")"
   ]
  },
  {
   "cell_type": "markdown",
   "id": "123b8121-61da-4e64-bfeb-14c3bd17a81c",
   "metadata": {},
   "source": [
    "## Fixed-Length Chunking\n",
    "\n",
    "A `FixedLengthChunker` splits the text into chunks of a fixed size, which is useful for dividing content into uniform parts."
   ]
  },
  {
   "cell_type": "code",
   "execution_count": 5,
   "id": "82c9a420-2df1-4a53-9dcb-1b2766cceedc",
   "metadata": {},
   "outputs": [
    {
     "name": "stdout",
     "output_type": "stream",
     "text": [
      "Resource: Chunker\n",
      "Type: FixedLengthChunker\n"
     ]
    }
   ],
   "source": [
    "# Basic usage of FixedLengthChunker\n",
    "fixed_chunker = FixedLengthChunker()\n",
    "\n",
    "# Checking the resource and type attributes\n",
    "print(f\"Resource: {fixed_chunker.resource}\")\n",
    "print(f\"Type: {fixed_chunker.type}\")"
   ]
  },
  {
   "cell_type": "markdown",
   "id": "5b1aeeb8-c543-4e06-af30-e7949b5e33f6",
   "metadata": {},
   "source": [
    "### Chunking Text Based on Fixed Length\n",
    "\n",
    "Let's now see how the `FixedLengthChunker` works by chunking a text of repeated patterns into equal-sized chunks."
   ]
  },
  {
   "cell_type": "code",
   "execution_count": 6,
   "id": "a3f4db25-653a-4dfa-b1a2-a5faf18882b5",
   "metadata": {},
   "outputs": [
    {
     "name": "stdout",
     "output_type": "stream",
     "text": [
      "Number of chunks: 6\n"
     ]
    }
   ],
   "source": [
    "# Demonstrating the chunking of text based on fixed lengths\n",
    "unchunked_text = 'ab ' * 512  # Sample text with a repeated pattern\n",
    "chunks = fixed_chunker.chunk_text(unchunked_text)\n",
    "print(f\"Number of chunks: {len(chunks)}\")"
   ]
  },
  {
   "cell_type": "markdown",
   "id": "a32da263-3f97-43b2-8f45-a63a8ca51951",
   "metadata": {},
   "source": [
    "## Notebook Metadata"
   ]
  },
  {
   "cell_type": "code",
   "execution_count": 38,
   "id": "cad6ab49-e184-45e7-b7e5-45eaf436ff34",
   "metadata": {},
   "outputs": [
    {
     "name": "stdout",
     "output_type": "stream",
     "text": [
      "Author: Huzaifa Irshad \n",
      "GitHub Username: irshadhuzaifa\n",
      "Last Modified: 2024-10-17 10:53:51.087449\n",
      "Platform: Windows 11\n",
      "Python Version: 3.12.7 | packaged by Anaconda, Inc. | (main, Oct  4 2024, 13:17:27) [MSC v.1929 64 bit (AMD64)]\n",
      "Swarmauri Version: 0.5.0\n"
     ]
    }
   ],
   "source": [
    "import os\n",
    "import platform\n",
    "import sys\n",
    "from datetime import datetime\n",
    "\n",
    "author_name = \"Huzaifa Irshad \" \n",
    "github_username = \"irshadhuzaifa\"\n",
    "\n",
    "print(f\"Author: {author_name}\")\n",
    "print(f\"GitHub Username: {github_username}\")\n",
    "\n",
    "notebook_file = \"Notebook_01_Chunking_Basics.ipynb\"\n",
    "try:\n",
    "    last_modified_time = os.path.getmtime(notebook_file)\n",
    "    last_modified_datetime = datetime.fromtimestamp(last_modified_time)\n",
    "    print(f\"Last Modified: {last_modified_datetime}\")\n",
    "except Exception as e:\n",
    "    print(f\"Could not retrieve last modified datetime: {e}\")\n",
    "\n",
    "print(f\"Platform: {platform.system()} {platform.release()}\")\n",
    "print(f\"Python Version: {sys.version}\")\n",
    "\n",
    "try:\n",
    "    import swarmauri\n",
    "    print(f\"Swarmauri Version: {swarmauri.__version__}\")\n",
    "except ImportError:\n",
    "    print(\"Swarmauri is not installed.\")"
   ]
  },
  {
   "cell_type": "code",
   "execution_count": null,
   "id": "5d5eda4d-be96-4b97-afbd-b0de682dffc1",
   "metadata": {},
   "outputs": [],
   "source": []
  }
 ],
 "metadata": {
  "kernelspec": {
   "display_name": "swarmauri(0.5)",
   "language": "python",
   "name": "swarmauri-0.5.0"
  },
  "language_info": {
   "codemirror_mode": {
    "name": "ipython",
    "version": 3
   },
   "file_extension": ".py",
   "mimetype": "text/x-python",
   "name": "python",
   "nbconvert_exporter": "python",
   "pygments_lexer": "ipython3",
   "version": "3.12.7"
  }
 },
 "nbformat": 4,
 "nbformat_minor": 5
}
