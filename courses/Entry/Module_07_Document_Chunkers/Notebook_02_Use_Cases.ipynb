{
 "cells": [
  {
   "cell_type": "markdown",
   "id": "af3375e2-92c2-4d6f-a986-37244585643f",
   "metadata": {},
   "source": [
    "# Chunking Use Cases with Sentence and Sliding Window Chunkers\n",
    "\n",
    "In this notebook, we'll explore how to chunk text using more complex strategies:\n",
    "- **Sentence-Based Chunking**: Dividing text into sentences.\n",
    "- **Sliding Window Chunking**: Dividing text into chunks based on a sliding window, with and without overlap.\n",
    "- **Markdown Snippet Chunker**: Splits markdown documents into logical sections based on their structure."
   ]
  },
  {
   "cell_type": "code",
   "execution_count": 26,
   "id": "65fdadc7-65a6-4dd4-8806-0f0d87b615c1",
   "metadata": {},
   "outputs": [],
   "source": [
    "# Importing necessary chunkers from the swarmauri library\n",
    "from swarmauri.chunkers.concrete.SentenceChunker import SentenceChunker\n",
    "from swarmauri.chunkers.concrete.SlidingWindowChunker import SlidingWindowChunker\n",
    "from swarmauri.chunkers.concrete.MdSnippetChunker import MdSnippetChunker"
   ]
  },
  {
   "cell_type": "markdown",
   "id": "c1752422-b8ef-40b7-9bde-cfa067968a61",
   "metadata": {},
   "source": [
    "## Sentence-Based Chunking\n",
    "\n",
    "A `SentenceChunker` splits a text into sentences based on punctuation marks. This is useful for linguistic processing or document analysis."
   ]
  },
  {
   "cell_type": "code",
   "execution_count": 10,
   "id": "ee901f83-caed-4b3e-9c3a-abaa82372336",
   "metadata": {},
   "outputs": [
    {
     "name": "stdout",
     "output_type": "stream",
     "text": [
      "Sentence-based chunks: ['A walk in the park is a nice start.', 'After the walk, let us talk.']\n"
     ]
    }
   ],
   "source": [
    "# SentenceChunker usage example\n",
    "sentence_chunker = SentenceChunker()\n",
    "\n",
    "# Chunking text based on sentence boundaries\n",
    "text = 'A walk in the park is a nice start. After the walk, let us talk.'\n",
    "chunks = sentence_chunker.chunk_text(text)\n",
    "print(f\"Sentence-based chunks: {chunks}\")"
   ]
  },
  {
   "cell_type": "markdown",
   "id": "bc418fa8-05d3-4f14-97cf-8453db671404",
   "metadata": {},
   "source": [
    "## Sliding Window Chunking\n",
    "\n",
    "The `SlidingWindowChunker` divides a text into overlapping or non-overlapping chunks of a fixed size. It can be used for tasks like document scanning, where overlapping chunks help maintain context."
   ]
  },
  {
   "cell_type": "code",
   "execution_count": 11,
   "id": "265dc2aa-bdd5-4169-9b6e-d3363cf7ad23",
   "metadata": {},
   "outputs": [
    {
     "name": "stdout",
     "output_type": "stream",
     "text": [
      "Number of sliding window chunks (no overlap): 2\n"
     ]
    }
   ],
   "source": [
    "# SlidingWindowChunker usage without overlap\n",
    "sliding_chunker = SlidingWindowChunker()\n",
    "\n",
    "# Defining text to chunk\n",
    "unchunked_text = 'abcd ' * 512\n",
    "chunks = sliding_chunker.chunk_text(unchunked_text)\n",
    "print(f\"Number of sliding window chunks (no overlap): {len(chunks)}\")"
   ]
  },
  {
   "cell_type": "markdown",
   "id": "4d4706df-1b61-4a7f-bb40-0acbb02c8802",
   "metadata": {},
   "source": [
    "### Chunking Text with Overlap\n",
    "\n",
    "When overlap is enabled, chunks will have overlapping content. Let's see how enabling overlap affects the chunking process."
   ]
  },
  {
   "cell_type": "code",
   "execution_count": 12,
   "id": "51e9a944-101b-4abc-9f87-0585eedfd064",
   "metadata": {},
   "outputs": [
    {
     "name": "stdout",
     "output_type": "stream",
     "text": [
      "Number of sliding window chunks (with overlap): 13\n"
     ]
    }
   ],
   "source": [
    "# SlidingWindowChunker usage with overlap\n",
    "sliding_chunker_overlap = SlidingWindowChunker(overlap=True, step_size=21)\n",
    "\n",
    "# Chunking with overlap\n",
    "chunks_overlap = sliding_chunker_overlap.chunk_text(unchunked_text)\n",
    "print(f\"Number of sliding window chunks (with overlap): {len(chunks_overlap)}\")"
   ]
  },
  {
   "cell_type": "markdown",
   "id": "96846478-13d3-4abd-b2bd-47f604bccafd",
   "metadata": {},
   "source": [
    "## Markdown Snippet Chunking\n",
    "\n",
    "The `MdSnippetChunker` is specialized for chunking markdown files into logical sections such as headers, paragraphs, and code blocks. This chunker is ideal for processing markdown documents."
   ]
  },
  {
   "cell_type": "code",
   "execution_count": 23,
   "id": "846df300-a423-4ddc-bd16-afcf1fb3a1cf",
   "metadata": {},
   "outputs": [
    {
     "name": "stdout",
     "output_type": "stream",
     "text": [
      "Resource: Chunker\n",
      "Type: MdSnippetChunker\n"
     ]
    }
   ],
   "source": [
    "# Initialize MdSnippetChunker and check its resource and type\n",
    "md_chunker = MdSnippetChunker()\n",
    "print(f\"Resource: {md_chunker.resource}\")\n",
    "print(f\"Type: {md_chunker.type}\")"
   ]
  },
  {
   "cell_type": "markdown",
   "id": "59697ed9-8b83-4362-a7f3-b21e074ce361",
   "metadata": {},
   "source": [
    "### Chunking a Markdown Document\n",
    "\n",
    "Let's chunk a sample markdown text into logical sections."
   ]
  },
  {
   "cell_type": "code",
   "execution_count": 24,
   "id": "a1000540-af0c-42eb-96ea-bf045b974d45",
   "metadata": {},
   "outputs": [],
   "source": [
    "# Define a markdown document to chunk\n",
    "markdown_text = \"\"\"\n",
    "```python\n",
    "\n",
    "print('hello world')\n",
    "\n",
    "```\n",
    "\n",
    "Above is an example of some code.\n",
    "\n",
    "```bash\n",
    "echo 'test'\n",
    "```\n",
    "\n",
    "Here we have some text:\n",
    "\n",
    "```md\n",
    "# Hello\n",
    "- list item\n",
    "- list item\n",
    "```\n",
    "\"\"\""
   ]
  },
  {
   "cell_type": "markdown",
   "id": "cca59b05-9796-4135-a62d-74b56634a69b",
   "metadata": {},
   "source": [
    "### Chunk the markdown text using MdSnippetChunker"
   ]
  },
  {
   "cell_type": "code",
   "execution_count": 25,
   "id": "2fe79f06-7c48-4676-89a1-4127d4f8f313",
   "metadata": {},
   "outputs": [
    {
     "name": "stdout",
     "output_type": "stream",
     "text": [
      "Markdown chunks: [('', 'python', \"print('hello world')\"), ('', 'bash', \"echo 'test'\"), ('Above is an example of some code.', 'md', '# Hello\\n- list item\\n- list item')]\n"
     ]
    }
   ],
   "source": [
    "chunks = md_chunker.chunk_text(markdown_text) \n",
    "print(f\"Markdown chunks: {chunks}\")"
   ]
  },
  {
   "cell_type": "markdown",
   "id": "a8a61b2c-757e-4b8f-bbe2-3a74b3a13049",
   "metadata": {},
   "source": [
    "## Notebook Metadata"
   ]
  },
  {
   "cell_type": "code",
   "execution_count": 27,
   "id": "ee6cdaec-e949-4340-ba88-58094bc98d78",
   "metadata": {},
   "outputs": [
    {
     "name": "stdout",
     "output_type": "stream",
     "text": [
      "Author: Huzaifa Irshad \n",
      "GitHub Username: irshadhuzaifa\n",
      "Last Modified: 2024-10-17 10:50:40.937606\n",
      "Platform: Windows 11\n",
      "Python Version: 3.12.7 | packaged by Anaconda, Inc. | (main, Oct  4 2024, 13:17:27) [MSC v.1929 64 bit (AMD64)]\n",
      "Swarmauri Version: 0.5.0\n"
     ]
    }
   ],
   "source": [
    "import os\n",
    "import platform\n",
    "import sys\n",
    "from datetime import datetime\n",
    "\n",
    "author_name = \"Huzaifa Irshad \" \n",
    "github_username = \"irshadhuzaifa\"\n",
    "\n",
    "print(f\"Author: {author_name}\")\n",
    "print(f\"GitHub Username: {github_username}\")\n",
    "\n",
    "notebook_file = \"Notebook_02_Use_Cases.ipynb\"\n",
    "try:\n",
    "    last_modified_time = os.path.getmtime(notebook_file)\n",
    "    last_modified_datetime = datetime.fromtimestamp(last_modified_time)\n",
    "    print(f\"Last Modified: {last_modified_datetime}\")\n",
    "except Exception as e:\n",
    "    print(f\"Could not retrieve last modified datetime: {e}\")\n",
    "\n",
    "print(f\"Platform: {platform.system()} {platform.release()}\")\n",
    "print(f\"Python Version: {sys.version}\")\n",
    "\n",
    "try:\n",
    "    import swarmauri\n",
    "    print(f\"Swarmauri Version: {swarmauri.__version__}\")\n",
    "except ImportError:\n",
    "    print(\"Swarmauri is not installed.\")"
   ]
  },
  {
   "cell_type": "code",
   "execution_count": null,
   "id": "a021bf28-5fb3-47ed-8611-5e53de93946c",
   "metadata": {},
   "outputs": [],
   "source": []
  }
 ],
 "metadata": {
  "kernelspec": {
   "display_name": "swarmauri(0.5)",
   "language": "python",
   "name": "swarmauri-0.5.0"
  },
  "language_info": {
   "codemirror_mode": {
    "name": "ipython",
    "version": 3
   },
   "file_extension": ".py",
   "mimetype": "text/x-python",
   "name": "python",
   "nbconvert_exporter": "python",
   "pygments_lexer": "ipython3",
   "version": "3.12.7"
  }
 },
 "nbformat": 4,
 "nbformat_minor": 5
}
