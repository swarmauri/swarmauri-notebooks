{
 "cells": [
  {
   "cell_type": "markdown",
   "metadata": {},
   "source": [
    "## **Tools Class in Swarmauri SDK**"
   ]
  },
  {
   "cell_type": "markdown",
   "metadata": {},
   "source": [
    "### **What Are Tools?**  \n",
    "Tools, in the context of LLMs, are external functionalities or modules that extend the capabilities of the model. They act as \"helpers\" that the LLM can invoke to perform specific tasks, retrieve data, or execute actions beyond its native reasoning ability.  \n",
    "\n",
    "---\n",
    "\n",
    "Examples of tools include:  \n",
    "- **Calculators:** For performing mathematical computations.  \n",
    "- **APIs:** For retrieving real-time or domain-specific data (e.g., weather, stock prices, translations).  \n",
    "- **Databases:** For searching, updating, or managing structured data.  \n",
    "- **Custom Code:** For executing domain-specific logic or workflows.  "
   ]
  },
  {
   "cell_type": "markdown",
   "metadata": {},
   "source": [
    "### **Prebuilt Tools in the Swarmauri SDK**  \n",
    "The Swarmauri SDK provides the following tools out of the box:  \n",
    "\n",
    "1. **RequestTool**  \n",
    "   - A powerful tool that uses Python's `requests` library to perform HTTP operations like GET, POST, PUT, DELETE, and more.  \n",
    "   - Ideal for making API calls, retrieving web data, and interacting with external services.  \n",
    "\n",
    "2. **CodeExtractorTool**  \n",
    "   - Extracts and processes code snippets from text input, allowing users to analyze, debug, or transform code blocks directly.  \n",
    "   - Useful for tasks like code parsing, refactoring, or documentation generation.  \n",
    "\n",
    "3. **CodeInterpreterTool**  \n",
    "   - Executes Python code snippets dynamically and returns the results.  \n",
    "   - Ideal for tasks like mathematical computations, algorithm testing, or simulating Python workflows.  \n",
    "\n",
    "4. **WeatherTool**  \n",
    "   - Retrieves real-time weather data for any location by integrating with weather APIs.  \n",
    "   - Perfect for applications that need up-to-date weather information.  \n",
    "\n",
    "5. **And Many More!**  \n",
    "   - The Swarmauri SDK includes many other tools to address a wide range of use cases.  "
   ]
  },
  {
   "cell_type": "markdown",
   "metadata": {},
   "source": [
    "#### **Using Swarmauri Tools**\n",
    "To begin, let's start with a simple example using the `CalculatorTool`. This tool allows us to perform basic arithmetic operations like addition, subtraction, multiplication, and division programmatically."
   ]
  },
  {
   "cell_type": "markdown",
   "metadata": {},
   "source": [
    "**First, we import the `CalculatorTool` and instantiate it**"
   ]
  },
  {
   "cell_type": "code",
   "execution_count": 2,
   "metadata": {},
   "outputs": [],
   "source": [
    "from swarmauri.tools.concrete.CalculatorTool import CalculatorTool  \n",
    "calculator_tool = CalculatorTool()"
   ]
  },
  {
   "cell_type": "markdown",
   "metadata": {},
   "source": [
    "To quickly see a description of any tool, we can use `.description`"
   ]
  },
  {
   "cell_type": "code",
   "execution_count": 3,
   "metadata": {},
   "outputs": [
    {
     "data": {
      "text/plain": [
       "'Performs basic arithmetic operations.'"
      ]
     },
     "execution_count": 3,
     "metadata": {},
     "output_type": "execute_result"
    }
   ],
   "source": [
    "calculator_tool.description"
   ]
  },
  {
   "cell_type": "markdown",
   "metadata": {},
   "source": [
    "**Define parameters for the tool**"
   ]
  },
  {
   "cell_type": "code",
   "execution_count": 4,
   "metadata": {},
   "outputs": [],
   "source": [
    "operation = \"add\"  # You can change this to \"subtract\", \"multiply\", or \"divide\"\n",
    "x = 10\n",
    "y = 5"
   ]
  },
  {
   "cell_type": "markdown",
   "metadata": {},
   "source": [
    "**Use the tool to perform the operation**"
   ]
  },
  {
   "cell_type": "code",
   "execution_count": 6,
   "metadata": {},
   "outputs": [
    {
     "name": "stdout",
     "output_type": "stream",
     "text": [
      "Calculator Tool Output: {'operation': 'add', 'calculated_result': '15'}\n"
     ]
    }
   ],
   "source": [
    "# Call the calculator tool\n",
    "result = calculator_tool(operation=operation, x=x, y=y)\n",
    "# Print the result\n",
    "print(f\"Calculator Tool Output: {result}\")\n"
   ]
  },
  {
   "cell_type": "markdown",
   "metadata": {},
   "source": [
    "To learn more about the Tools class and how to use it, you can refer to the course [AI Tools](https://github.com/swarmauri/swarmauri-notebooks/courses/AI_Tools)"
   ]
  },
  {
   "cell_type": "markdown",
   "metadata": {},
   "source": [
    "## **Toolkit Class in Swarmauri SDK**\n",
    "\n",
    "The `Toolkit` class is a foundational component that simplifies the management of tools which are essential building blocks for Tool Agents. A toolkit acts like a container that organizes and provides access to tools, making it easy to add, remove, and retrieve tools based on specific requirements."
   ]
  },
  {
   "cell_type": "markdown",
   "metadata": {},
   "source": [
    "#### **Let’s dive into the methods of toolkit, how it can be used to manage tools, like a : `CalculatorTool` and more**"
   ]
  },
  {
   "cell_type": "markdown",
   "metadata": {},
   "source": [
    "**1. Adding a Single Tool**\n",
    "\n",
    "The method `add_tool` adds a single tool to the `Toolkit` class."
   ]
  },
  {
   "cell_type": "code",
   "execution_count": 8,
   "metadata": {},
   "outputs": [
    {
     "name": "stdout",
     "output_type": "stream",
     "text": [
      "{'CalculatorTool': CalculatorTool(name='CalculatorTool', id='63fb810b-b4d4-4497-a7b4-f839bbf8e54f', members=[], owner=None, host=None, resource='Tool', version='1.0.0', type='CalculatorTool', description='Performs basic arithmetic operations.', parameters=[Parameter(name='operation', id='03783572-06c4-4342-9300-5fd7172e5ebc', members=[], owner=None, host=None, resource='Parameter', version='0.1.0', type='string', description=\"The arithmetic operation to perform ('add', 'subtract', 'multiply', 'divide').\", required=True, enum=['add', 'subtract', 'multiply', 'divide']), Parameter(name='x', id='03c2485c-480b-44a8-9496-0bb64442039b', members=[], owner=None, host=None, resource='Parameter', version='0.1.0', type='number', description='The left operand for the operation.', required=True, enum=None), Parameter(name='y', id='cd07baee-34d4-428f-9dc1-3f72a6ec82e6', members=[], owner=None, host=None, resource='Parameter', version='0.1.0', type='number', description='The right operand for the operation.', required=True, enum=None)])}\n"
     ]
    }
   ],
   "source": [
    "from swarmauri.tools.concrete.CalculatorTool import CalculatorTool\n",
    "from swarmauri.toolkits.concrete.Toolkit import Toolkit\n",
    "\n",
    "# Create an instance of the CalculatorTool\n",
    "calculator_tool = CalculatorTool()\n",
    "\n",
    "# Create a Toolkit instance\n",
    "toolkit = Toolkit()\n",
    "\n",
    "# Add the CalculatorTool to the toolkit\n",
    "toolkit.add_tool(calculator_tool)\n",
    "\n",
    "# Verify that the tool has been added\n",
    "print(toolkit.tools)"
   ]
  },
  {
   "cell_type": "markdown",
   "metadata": {},
   "source": [
    "**2. Adding Multiple Tools**\n",
    "\n",
    "The method `add_tools` adds multiple tools to `Toolkit` class."
   ]
  },
  {
   "cell_type": "code",
   "execution_count": 9,
   "metadata": {},
   "outputs": [
    {
     "name": "stdout",
     "output_type": "stream",
     "text": [
      "{'CalculatorTool': CalculatorTool(name='CalculatorTool', id='63fb810b-b4d4-4497-a7b4-f839bbf8e54f', members=[], owner=None, host=None, resource='Tool', version='1.0.0', type='CalculatorTool', description='Performs basic arithmetic operations.', parameters=[Parameter(name='operation', id='03783572-06c4-4342-9300-5fd7172e5ebc', members=[], owner=None, host=None, resource='Parameter', version='0.1.0', type='string', description=\"The arithmetic operation to perform ('add', 'subtract', 'multiply', 'divide').\", required=True, enum=['add', 'subtract', 'multiply', 'divide']), Parameter(name='x', id='03c2485c-480b-44a8-9496-0bb64442039b', members=[], owner=None, host=None, resource='Parameter', version='0.1.0', type='number', description='The left operand for the operation.', required=True, enum=None), Parameter(name='y', id='cd07baee-34d4-428f-9dc1-3f72a6ec82e6', members=[], owner=None, host=None, resource='Parameter', version='0.1.0', type='number', description='The right operand for the operation.', required=True, enum=None)]), 'WeatherTool': WeatherTool(name='WeatherTool', id='8901d792-d0de-458d-b0b6-cbb6bd198deb', members=[], owner=None, host=None, resource='Tool', version='0.1.dev1', type='WeatherTool', description='Fetch current weather info for a location', parameters=[Parameter(name='location', id='521989be-4555-4840-a5f5-c114054da543', members=[], owner=None, host=None, resource='Parameter', version='0.1.0', type='string', description='The location for which to fetch weather information', required=True, enum=None), Parameter(name='unit', id='b110db52-1da1-4d81-8d0e-cc5fe70bb1dd', members=[], owner=None, host=None, resource='Parameter', version='0.1.0', type='string', description=\"The unit for temperature ('fahrenheit' or 'celsius')\", required=True, enum=['fahrenheit', 'celsius'])])}\n"
     ]
    }
   ],
   "source": [
    "from swarmauri.tools.concrete.WeatherTool import WeatherTool\n",
    "\n",
    "weather_tool = WeatherTool()\n",
    "\n",
    "# Add multiple tools to the toolkit at once\n",
    "toolkit.add_tools({\"CalculatorTool\": calculator_tool, \"WeatherTool\": weather_tool})\n",
    "\n",
    "# Verify the tools\n",
    "print(toolkit.tools)"
   ]
  },
  {
   "cell_type": "markdown",
   "metadata": {},
   "source": [
    "**3. Retrieving Tools**\n",
    "\n",
    "The `get_tools` method allows you to retrieve all tools in the toolkit, with options to include or exclude specific fields."
   ]
  },
  {
   "cell_type": "code",
   "execution_count": 11,
   "metadata": {},
   "outputs": [
    {
     "name": "stdout",
     "output_type": "stream",
     "text": [
      "[{'name': 'CalculatorTool', 'id': '63fb810b-b4d4-4497-a7b4-f839bbf8e54f', 'members': [], 'owner': None, 'host': None, 'resource': 'Tool', 'version': '1.0.0', 'type': 'CalculatorTool', 'description': 'Performs basic arithmetic operations.', 'parameters': [{'name': 'operation', 'id': '03783572-06c4-4342-9300-5fd7172e5ebc', 'members': [], 'owner': None, 'host': None, 'resource': 'Parameter', 'version': '0.1.0', 'type': 'string', 'description': \"The arithmetic operation to perform ('add', 'subtract', 'multiply', 'divide').\", 'required': True, 'enum': ['add', 'subtract', 'multiply', 'divide']}, {'name': 'x', 'id': '03c2485c-480b-44a8-9496-0bb64442039b', 'members': [], 'owner': None, 'host': None, 'resource': 'Parameter', 'version': '0.1.0', 'type': 'number', 'description': 'The left operand for the operation.', 'required': True, 'enum': None}, {'name': 'y', 'id': 'cd07baee-34d4-428f-9dc1-3f72a6ec82e6', 'members': [], 'owner': None, 'host': None, 'resource': 'Parameter', 'version': '0.1.0', 'type': 'number', 'description': 'The right operand for the operation.', 'required': True, 'enum': None}]}]\n"
     ]
    }
   ],
   "source": [
    "# Retrieve all tools in the toolkit\n",
    "all_tools = toolkit.get_tools()\n",
    "print(all_tools)"
   ]
  },
  {
   "cell_type": "markdown",
   "metadata": {},
   "source": [
    "**4. Removing Tools**\n",
    "\n",
    "You can remove tools by their names using the `remove_tool` method.  "
   ]
  },
  {
   "cell_type": "code",
   "execution_count": 10,
   "metadata": {},
   "outputs": [
    {
     "name": "stdout",
     "output_type": "stream",
     "text": [
      "{'CalculatorTool': CalculatorTool(name='CalculatorTool', id='63fb810b-b4d4-4497-a7b4-f839bbf8e54f', members=[], owner=None, host=None, resource='Tool', version='1.0.0', type='CalculatorTool', description='Performs basic arithmetic operations.', parameters=[Parameter(name='operation', id='03783572-06c4-4342-9300-5fd7172e5ebc', members=[], owner=None, host=None, resource='Parameter', version='0.1.0', type='string', description=\"The arithmetic operation to perform ('add', 'subtract', 'multiply', 'divide').\", required=True, enum=['add', 'subtract', 'multiply', 'divide']), Parameter(name='x', id='03c2485c-480b-44a8-9496-0bb64442039b', members=[], owner=None, host=None, resource='Parameter', version='0.1.0', type='number', description='The left operand for the operation.', required=True, enum=None), Parameter(name='y', id='cd07baee-34d4-428f-9dc1-3f72a6ec82e6', members=[], owner=None, host=None, resource='Parameter', version='0.1.0', type='number', description='The right operand for the operation.', required=True, enum=None)])}\n"
     ]
    }
   ],
   "source": [
    "\n",
    "# Remove a tool by its name\n",
    "toolkit.remove_tool(\"WeatherTool\")\n",
    "\n",
    "# Verify that the tool has been removed\n",
    "print(toolkit.tools)"
   ]
  },
  {
   "cell_type": "markdown",
   "metadata": {},
   "source": [
    "**N/B**: To learn more about the Toolkit class and how to use it, you can refer to the course [AI Tools](https://github.com/swarmauri/swarmauri-notebooks/courses/AI_Tools)"
   ]
  },
  {
   "cell_type": "code",
   "execution_count": 12,
   "metadata": {},
   "outputs": [
    {
     "name": "stdout",
     "output_type": "stream",
     "text": [
      "Author: Michael Nwogha\n",
      "GitHub Username: MichaelDecent\n",
      "Notebook File: Notebook_01_Tools_and_Toolkit.ipynb\n",
      "Last Modified: 2025-01-06 16:17:15.692273\n",
      "Platform: Darwin 23.5.0\n",
      "Python Version: 3.11.11 (main, Dec 11 2024, 10:25:04) [Clang 14.0.6 ]\n",
      "Swarmauri Version: 0.5.2\n",
      "None\n"
     ]
    }
   ],
   "source": [
    "from swarmauri.utils import print_notebook_metadata\n",
    "\n",
    "metadata = print_notebook_metadata.print_notebook_metadata(\"Michael Nwogha\", \"MichaelDecent\")\n",
    "print(metadata) "
   ]
  },
  {
   "cell_type": "code",
   "execution_count": null,
   "metadata": {},
   "outputs": [],
   "source": []
  }
 ],
 "metadata": {
  "kernelspec": {
   "display_name": "swarmauri_notebook_env",
   "language": "python",
   "name": "python3"
  },
  "language_info": {
   "codemirror_mode": {
    "name": "ipython",
    "version": 3
   },
   "file_extension": ".py",
   "mimetype": "text/x-python",
   "name": "python",
   "nbconvert_exporter": "python",
   "pygments_lexer": "ipython3",
   "version": "3.11.11"
  }
 },
 "nbformat": 4,
 "nbformat_minor": 2
}
