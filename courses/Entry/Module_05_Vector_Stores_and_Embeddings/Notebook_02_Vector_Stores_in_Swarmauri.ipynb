{
 "cells": [
  {
   "cell_type": "markdown",
   "metadata": {},
   "source": [
    "## **Vector Stores in Swarmauri**\n",
    "\n",
    "Swarmauri supports multiple vector storage options, making it easy to integrate vector search capabilities into your workflows. These are divided into:  \n",
    "\n",
    "1. **Core Vector Stores**: Available in the `swarmauri/vector_stores/concrete` module.  \n",
    "2. **Community Vector Stores**: Found in the `swarmauri_community/vector_stores/concrete` module.  \n",
    "\n",
    "### **Core Vector Stores**  \n",
    "\n",
    "The following vector store implementations are part of the core Swarmauri library:  \n",
    "\n",
    "- **SqliteVectorStore**  \n",
    "   A lightweight and file-based vector store that uses SQLite for storage. Ideal for small-scale projects or prototyping.  \n",
    "\n",
    "- **TfidfVectorStore**  \n",
    "   A simple implementation based on TF-IDF vectors, suitable for quick experimentation or baseline comparisons.  \n",
    "\n",
    "### **Community Vector Stores**  \n",
    "\n",
    "The `swarmauri_community` package offers advanced and scalable vector store solutions:  \n",
    "\n",
    "- **AnnoyVectorStore**  \n",
    "   A fast and memory-efficient library for approximate nearest neighbor search, ideal for large datasets.  \n",
    "\n",
    "- **CloudQdrantVectorStore**  \n",
    "   A hosted version of Qdrant, enabling scalable vector search with cloud support.  \n",
    "\n",
    "- **CloudWeaviateVectorStore**  \n",
    "   Integrates with the Weaviate cloud service for robust and scalable vector storage.  \n",
    "\n",
    "- **Neo4jVectorStore**  \n",
    "   Combines graph database capabilities with vector storage, useful for knowledge graph-based search and retrieval.  \n",
    "\n",
    "- **PersistentChromaDBVectorStore**  \n",
    "   Stores vectors in a persistent ChromaDB database, ensuring durability and high performance.  \n",
    "\n",
    "- **PersistentQdrantVectorStore**  \n",
    "   Offers persistent storage with Qdrant, an open-source vector database optimized for speed and scalability.  \n",
    "\n",
    "- **PineconeVectorStore**  \n",
    "   Leverages Pinecone’s powerful cloud-based vector database for real-time similarity search.  \n",
    "\n",
    "And many more!  \n",
    "\n",
    "### **Conclusion**  \n",
    "\n",
    "Whether you need lightweight solutions or enterprise-scale capabilities, Swarmauri’s vector store and embedding options provide the flexibility to handle diverse use cases. Explore these tools to build efficient and scalable applications tailored to your needs.  "
   ]
  },
  {
   "cell_type": "markdown",
   "metadata": {},
   "source": [
    "# **NOTEBOOK METADATA**"
   ]
  },
  {
   "cell_type": "code",
   "execution_count": 5,
   "metadata": {},
   "outputs": [
    {
     "name": "stdout",
     "output_type": "stream",
     "text": [
      "Author: Victory Nnaji\n",
      "GitHub Username: 3rd-Son\n",
      "Notebook File: Notebook_02_Vector_Stores_in_Swarmauri.ipynb\n",
      "Last Modified: 2025-01-07 09:48:51.599575\n",
      "Platform: Darwin 24.1.0\n",
      "Python Version: 3.11.11 (main, Dec 11 2024, 10:25:04) [Clang 14.0.6 ]\n",
      "Swarmauri Version: 0.5.2\n",
      "None\n"
     ]
    }
   ],
   "source": [
    "from swarmauri.utils import print_notebook_metadata\n",
    "\n",
    "metadata = print_notebook_metadata.print_notebook_metadata(\"Victory Nnaji\", \"3rd-Son\")\n",
    "print(metadata) \n"
   ]
  }
 ],
 "metadata": {
  "kernelspec": {
   "display_name": "swarmauri-notebooks",
   "language": "python",
   "name": "python3"
  },
  "language_info": {
   "codemirror_mode": {
    "name": "ipython",
    "version": 3
   },
   "file_extension": ".py",
   "mimetype": "text/x-python",
   "name": "python",
   "nbconvert_exporter": "python",
   "pygments_lexer": "ipython3",
   "version": "3.11.11"
  }
 },
 "nbformat": 4,
 "nbformat_minor": 2
}
