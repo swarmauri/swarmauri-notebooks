{
 "cells": [
  {
   "cell_type": "markdown",
   "metadata": {},
   "source": [
    "## **Embedding Models in Swarmauri**\n",
    "\n",
    "Swarmauri provides seamless integration with various embedding models, allowing you to transform text into vector representations for machine learning and information retrieval tasks. These embeddings are available in two categories:  \n",
    "\n",
    "1. **Core Embeddings**: Offered in the `swarmauri/embeddings/concrete` module.  \n",
    "2. **Community Embeddings**: Found in the `swarmauri_community/embeddings/concrete` module.\n",
    "\n",
    "### **Core Embeddings**  \n",
    "---\n",
    "\n",
    "The following embedding models are included in the core `swarmauri` package:  \n",
    "\n",
    "- **CohereEmbedding**  \n",
    "   Generates high-quality embeddings using Cohere's API for semantic search and natural language tasks.  \n",
    "\n",
    "- **OpenAIEmbedding**  \n",
    "   Leverages OpenAI's state-of-the-art embeddings for text understanding and similarity tasks.  \n",
    "\n",
    "- **MistralEmbedding**  \n",
    "   Provides embeddings with a focus on speed and efficiency.  \n",
    "\n",
    "- **GeminiEmbedding**  \n",
    "   Specialized for handling multilingual content and diverse datasets.  \n",
    "\n",
    "- **VoyageEmbedding**  \n",
    "   A general-purpose embedding model designed for robust text representation.\n",
    "\n",
    "### **Community Embeddings**  \n",
    "---\n",
    "\n",
    "The `swarmauri_community` module extends the functionality of embeddings, offering more specialized tools:  \n",
    "\n",
    "- **Doc2VecEmbedding**  \n",
    "   A neural network-based embedding model that generates document-level vector representations, making it suitable for document classification and retrieval.  \n",
    "\n",
    "- **MlmEmbedding**  \n",
    "   Based on Masked Language Models (MLMs), this embedding is highly effective for capturing contextual information within text.  \n",
    "\n",
    "By combining these embeddings with Swarmauri's tools, you can create powerful pipelines for a wide range of applications, including search engines, clustering, and classification.\n"
   ]
  },
  {
   "cell_type": "markdown",
   "metadata": {},
   "source": [
    "## Example usage using OpenAIEmbedding Class\n",
    "### Import the OpenAIEmbedding Class"
   ]
  },
  {
   "cell_type": "code",
   "execution_count": 2,
   "metadata": {},
   "outputs": [],
   "source": [
    "from swarmauri.embeddings.concrete.OpenAIEmbedding import OpenAIEmbedding\n",
    "import os\n",
    "from dotenv import load_dotenv"
   ]
  },
  {
   "cell_type": "code",
   "execution_count": 3,
   "metadata": {},
   "outputs": [],
   "source": [
    "# Load environment variables\n",
    "load_dotenv()\n",
    "OPENAI_API_KEY = os.getenv(\"OPENAI_API_KEY\")"
   ]
  },
  {
   "cell_type": "markdown",
   "metadata": {},
   "source": [
    "### Initialize the OpenAIEmbedding class"
   ]
  },
  {
   "cell_type": "code",
   "execution_count": 4,
   "metadata": {},
   "outputs": [],
   "source": [
    "openai_embedding = OpenAIEmbedding(api_key=OPENAI_API_KEY)"
   ]
  },
  {
   "cell_type": "code",
   "execution_count": 6,
   "metadata": {},
   "outputs": [
    {
     "name": "stdout",
     "output_type": "stream",
     "text": [
      "Text: Hello, world!\n",
      "Embedding: [-0.019143932, -0.025292054, -0.0017211713, 0.018834507, -0.033821393]... (truncated)\n",
      "--------------------------------------------------\n",
      "Text: Data science is awesome.\n",
      "Embedding: [-0.016720703, -0.022658665, -0.003726754, 0.021702131, 0.0564479]... (truncated)\n",
      "--------------------------------------------------\n",
      "Text: AI is transforming the world.\n",
      "Embedding: [-0.014297752, -0.0074625984, 0.041171115, 0.036899146, 0.01747503]... (truncated)\n",
      "--------------------------------------------------\n"
     ]
    }
   ],
   "source": [
    "# List of text data to generate embeddings for\n",
    "texts = [\"Hello, world!\", \"Data science is awesome.\", \"AI is transforming the world.\"]\n",
    "\n",
    "\n",
    "embeddings = openai_embedding.infer_vector(texts) # we use the infer_vector method to generate embeddings\n",
    "\n",
    "# Display the results\n",
    "for i, vector in enumerate(embeddings):\n",
    "    print(f\"Text: {texts[i]}\")\n",
    "    print(f\"Embedding: {vector.value[:5]}... (truncated)\")\n",
    "    print(\"-\" * 50)"
   ]
  },
  {
   "cell_type": "markdown",
   "metadata": {},
   "source": [
    "### Conlusion\n",
    "With this example, we have demonstrated how to generate embeddings using the OpenAI API. The embeddings generated can be used for various NLP tasks such as text classification, clustering, and similarity search.\n",
    "With this same pattern, you can use other embedding models provided by swamauri to generate embeddings for your text data, pdfs, docx, etc"
   ]
  },
  {
   "cell_type": "markdown",
   "metadata": {},
   "source": [
    "# **NOTEBOOK METADATA**"
   ]
  },
  {
   "cell_type": "code",
   "execution_count": 8,
   "metadata": {},
   "outputs": [
    {
     "name": "stdout",
     "output_type": "stream",
     "text": [
      "Author: Victory Nnaji\n",
      "GitHub Username: 3rd-Son\n",
      "Notebook File: Notebook_01_Embedding_Models_in_Swarmauri.ipynb\n",
      "Last Modified: 2025-01-07 08:26:08.393557\n",
      "Platform: Darwin 24.1.0\n",
      "Python Version: 3.11.11 (main, Dec 11 2024, 10:25:04) [Clang 14.0.6 ]\n",
      "Swarmauri Version: 0.5.2\n",
      "None\n"
     ]
    }
   ],
   "source": [
    "from swarmauri.utils import print_notebook_metadata\n",
    "\n",
    "metadata = print_notebook_metadata.print_notebook_metadata(\"Victory Nnaji\", \"3rd-Son\")\n",
    "print(metadata) "
   ]
  }
 ],
 "metadata": {
  "kernelspec": {
   "display_name": "swarmauri-notebooks",
   "language": "python",
   "name": "python3"
  },
  "language_info": {
   "codemirror_mode": {
    "name": "ipython",
    "version": 3
   },
   "file_extension": ".py",
   "mimetype": "text/x-python",
   "name": "python",
   "nbconvert_exporter": "python",
   "pygments_lexer": "ipython3",
   "version": "3.11.11"
  }
 },
 "nbformat": 4,
 "nbformat_minor": 2
}
