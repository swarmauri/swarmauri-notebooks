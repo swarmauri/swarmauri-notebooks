{
 "cells": [
  {
   "cell_type": "markdown",
   "id": "846801c8-cc16-4818-a06d-ca588103b35c",
   "metadata": {},
   "source": [
    "# Notebook 01: Building the Simple Conversation Agent\n",
    "\n",
    "## Introduction\n",
    "In this notebook, we will cover the basic construction of the `SimpleConversationAgent`, which uses the `OpenAIModel` large language model (LLM) to handle conversations. The agent also utilizes a `Conversation` class to manage dialogues.\n",
    "\n",
    "## Setting Up the Agent\n",
    "\n",
    "First let us import the necessary modules and set up the agent."
   ]
  },
  {
   "cell_type": "code",
   "execution_count": 7,
   "id": "31aed653-59b2-4ec1-b4eb-8f80b1942517",
   "metadata": {},
   "outputs": [],
   "source": [
    "import os\n",
    "from swarmauri.llms.concrete.OpenAIModel import OpenAIModel\n",
    "from swarmauri.conversations.concrete.Conversation import Conversation\n",
    "from swarmauri.agents.concrete.SimpleConversationAgent import SimpleConversationAgent\n",
    "from dotenv import load_dotenv"
   ]
  },
  {
   "cell_type": "code",
   "execution_count": 2,
   "id": "a83bed62",
   "metadata": {},
   "outputs": [],
   "source": [
    "# Load environment variables\n",
    "load_dotenv()\n",
    "OPENAI_API_KEY = os.getenv(\"OPENAI_API_KEY\")"
   ]
  },
  {
   "cell_type": "code",
   "execution_count": 3,
   "id": "c49aee96",
   "metadata": {},
   "outputs": [],
   "source": [
    "model = OpenAIModel(api_key=OPENAI_API_KEY)"
   ]
  },
  {
   "cell_type": "code",
   "execution_count": 4,
   "id": "231161bb-aa1b-49ed-84d2-f9dd26e12314",
   "metadata": {},
   "outputs": [
    {
     "data": {
      "text/plain": [
       "'1. Online tutorials and courses: There are many online resources available that offer free or paid tutorials and courses on Python. Websites like Codecademy, Udemy, Coursera, and Khan Academy offer comprehensive courses on Python for beginners.\\n\\n2. Books: There are many books available on Python programming for beginners. Some popular books include \"Python Crash Course\" by Eric Matthes, \"Automate the Boring Stuff with Python\" by Al Sweigart, and \"Learning Python\" by Mark Lutz.\\n\\n3. Practice coding: The best way to learn Python is by practicing coding regularly. You can start by solving coding challenges on websites like LeetCode, HackerRank, and CodeSignal. You can also work on personal projects to apply what you have learned.\\n\\n4. Attend workshops and meetups: Look for local workshops, meetups, and coding events where you can learn Python from experts and network with other Python enthusiasts.\\n\\n5. Join online communities: Join online forums, discussion groups, and social media communities dedicated to Python programming. Websites like Stack Overflow, Reddit, and Python.org have active communities where you can ask questions, seek help, and share your knowledge.\\n\\n6. Take a formal course: If you prefer a more structured learning approach, you can enroll in'"
      ]
     },
     "execution_count": 4,
     "metadata": {},
     "output_type": "execute_result"
    }
   ],
   "source": [
    "conversation = Conversation()\n",
    "agent = SimpleConversationAgent(conversation=conversation, llm=model)\n",
    "agent.exec(\"How can I learn Python?\")"
   ]
  },
  {
   "cell_type": "code",
   "execution_count": 5,
   "id": "87f656c3",
   "metadata": {},
   "outputs": [
    {
     "data": {
      "text/plain": [
       "'If you are coming from a JavaScript background, you may find it easier to transition to learning Python since both languages share some similarities in terms of syntax and basic programming concepts. Here are some tips for learning Python coming from a JavaScript background:\\n\\n1. Focus on the differences: While Python and JavaScript share similarities, they also have key differences in terms of syntax, data structures, and programming paradigms. Take the time to familiarize yourself with these differences to avoid confusion.\\n\\n2. Embrace the Pythonic way: Python has its own set of best practices and conventions known as \"Pythonic\" code. Embrace these practices and learn how to write clean, readable, and efficient Python code.\\n\\n3. Understand Python\\'s data structures: Python has built-in data structures like lists, dictionaries, sets, and tuples that differ from JavaScript\\'s data structures. Familiarize yourself with these data structures and learn how to manipulate and work with them effectively.\\n\\n4. Learn about Python libraries and frameworks: Python has a rich ecosystem of libraries and frameworks that can help you build applications more efficiently. Explore popular libraries like NumPy, Pandas, Django, and Flask to see how they can be used in Python development.\\n\\n5. Practice, practice, practice: Just like with any programming language,'"
      ]
     },
     "execution_count": 5,
     "metadata": {},
     "output_type": "execute_result"
    }
   ],
   "source": [
    "agent.exec(\"What if I am coming from a javascript background?\")"
   ]
  },
  {
   "cell_type": "markdown",
   "id": "111e63d0-29d4-4209-8cfa-a8de3fba6983",
   "metadata": {},
   "source": [
    "## Explanation"
   ]
  },
  {
   "cell_type": "markdown",
   "id": "9578e61b-83b8-43e3-ad97-5d3e1d0782c1",
   "metadata": {},
   "source": [
    "- `OpenAIModel`: This is the large language model that the agent will interact with to generate responses.\n",
    "- `Conversation`: This class helps manage and store dialogues between the user and the agent.\n",
    "- `SimpleConversationAgent`: The core agent that ties everything together, connecting the `OpenAIModel` and `Conversation`."
   ]
  },
  {
   "cell_type": "markdown",
   "id": "e65a1c9e-d806-47ea-8b10-e7363f649538",
   "metadata": {},
   "source": [
    "## Notebook Metadata"
   ]
  },
  {
   "cell_type": "code",
   "execution_count": 6,
   "id": "058378d7-e5df-486e-8edc-d5b216d28d61",
   "metadata": {},
   "outputs": [
    {
     "name": "stdout",
     "output_type": "stream",
     "text": [
      "Author: Victory Nnaji\n",
      "GitHub Username: 3rd-Son\n",
      "Notebook File: Notebook_03_Building_Agent.ipynb\n",
      "Last Modified: 2025-01-06 11:14:07.431383\n",
      "Platform: Darwin 24.1.0\n",
      "Python Version: 3.11.11 (main, Dec 11 2024, 10:25:04) [Clang 14.0.6 ]\n",
      "Swarmauri Version: 0.5.2\n",
      "None\n"
     ]
    }
   ],
   "source": [
    "from swarmauri.utils import print_notebook_metadata\n",
    "\n",
    "metadata = print_notebook_metadata.print_notebook_metadata(\"Victory Nnaji\", \"3rd-Son\")\n",
    "print(metadata) "
   ]
  }
 ],
 "metadata": {
  "kernelspec": {
   "display_name": "swarmauri-notebooks",
   "language": "python",
   "name": "python3"
  },
  "language_info": {
   "codemirror_mode": {
    "name": "ipython",
    "version": 3
   },
   "file_extension": ".py",
   "mimetype": "text/x-python",
   "name": "python",
   "nbconvert_exporter": "python",
   "pygments_lexer": "ipython3",
   "version": "3.11.11"
  }
 },
 "nbformat": 4,
 "nbformat_minor": 5
}
