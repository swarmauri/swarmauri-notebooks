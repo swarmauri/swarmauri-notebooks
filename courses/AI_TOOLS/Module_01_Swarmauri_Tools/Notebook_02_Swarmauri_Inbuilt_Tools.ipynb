{
 "cells": [
  {
   "cell_type": "markdown",
   "metadata": {
    "vscode": {
     "languageId": "plaintext"
    }
   },
   "source": [
    "## **Swarmauri Inbuilt Tools**\n",
    "---"
   ]
  },
  {
   "cell_type": "markdown",
   "metadata": {
    "vscode": {
     "languageId": "plaintext"
    }
   },
   "source": [
    "In this notebook, we will explore the tools already provided by the Swarmauri SDK, which you can leverage to extend the functionality of your LLM-powered applications effortlessly.  \n",
    "\n",
    "The Swarmauri SDK comes with a rich collection of prebuilt tools designed to handle various tasks, enabling seamless integration with external systems and custom workflows.  \n",
    "\n",
    "---"
   ]
  },
  {
   "cell_type": "markdown",
   "metadata": {},
   "source": [
    "### **Prebuilt Tools in the Swarmauri SDK**  \n",
    "The Swarmauri SDK provides the following tools out of the box:  \n",
    "\n",
    "1. **RequestTool**  \n",
    "   - A powerful tool that uses Python's `requests` library to perform HTTP operations like GET, POST, PUT, DELETE, and more.  \n",
    "   - Ideal for making API calls, retrieving web data, and interacting with external services.  \n",
    "\n",
    "2. **CodeExtractorTool**  \n",
    "   - Extracts and processes code snippets from text input, allowing users to analyze, debug, or transform code blocks directly.  \n",
    "   - Useful for tasks like code parsing, refactoring, or documentation generation.  \n",
    "\n",
    "3. **CodeInterpreterTool**  \n",
    "   - Executes Python code snippets dynamically and returns the results.  \n",
    "   - Ideal for tasks like mathematical computations, algorithm testing, or simulating Python workflows.  \n",
    "\n",
    "4. **WeatherTool**  \n",
    "   - Retrieves real-time weather data for any location by integrating with weather APIs.  \n",
    "   - Perfect for applications that need up-to-date weather information.  \n",
    "\n",
    "5. **And Many More!**  \n",
    "   - The Swarmauri SDK includes many other tools to address a wide range of use cases.  "
   ]
  },
  {
   "cell_type": "markdown",
   "metadata": {},
   "source": [
    "### **Community Tools in the Swarmauri_Community Package**  \n",
    "In addition to the tools in **Swarmauri-SDK**, the **Swarmauri_Community** package offers even more specialized tools.\n",
    "These include:  \n",
    "\n",
    "1. **CaptchaGeneratorTool**  \n",
    "   - Generates CAPTCHAs for verification purposes.  \n",
    "   - Useful for security and authentication workflows.  \n",
    "\n",
    "2. **GitHubTool**  \n",
    "   - Interacts with GitHub repositories, enabling operations like cloning, creating issues, and fetching repository data.  \n",
    "   - Essential for developers working with GitHub integrations.  \n",
    "\n",
    "3. **GmailReadTool**  \n",
    "   - Reads emails from a Gmail account.  \n",
    "   - Great for automating email parsing and data extraction.  \n",
    "\n",
    "4. **GmailSendTool**  \n",
    "   - Sends emails via Gmail.  \n",
    "   - Ideal for automating email communication.  \n",
    "\n",
    "5. **WebScrapingTool**  \n",
    "   - Extracts information from websites using web scraping techniques.  \n",
    "   - Perfect for tasks like data mining, price tracking, and competitive analysis.  \n",
    "\n",
    "6. **And Many More!**  \n",
    "   - The community package contains additional tools for various niche requirements, ensuring flexibility and scalability for your projects.  \n"
   ]
  },
  {
   "cell_type": "markdown",
   "metadata": {},
   "source": [
    "### **Conclusion**  \n",
    "Whether you are working with the tools in the core Swarmauri SDK or exploring the community-contributed tools, you’ll find prebuilt solutions to enhance your LLM applications without reinventing the wheel.  \n",
    "\n",
    "#### Watch out for the next notebook where we will see these tools in action"
   ]
  },
  {
   "cell_type": "markdown",
   "metadata": {},
   "source": [
    "## **NOTEBOOK METADATA**"
   ]
  },
  {
   "cell_type": "code",
   "execution_count": 1,
   "metadata": {},
   "outputs": [
    {
     "name": "stdout",
     "output_type": "stream",
     "text": [
      "Author: Victory Nnaji\n",
      "GitHub Username: 3rd-Son\n",
      "Notebook File: Notebook_02_Swarmauri_Inbuilt_Tools.ipynb\n",
      "Last Modified: 2025-01-02 10:17:39.992017\n",
      "Platform: Darwin 24.1.0\n",
      "Python Version: 3.11.11 (main, Dec 11 2024, 10:25:04) [Clang 14.0.6 ]\n",
      "Swarmauri Version: 0.5.2\n",
      "None\n"
     ]
    }
   ],
   "source": [
    "from swarmauri.utils import print_notebook_metadata\n",
    "\n",
    "metadata = print_notebook_metadata.print_notebook_metadata(\"Victory Nnaji\", \"3rd-Son\")\n",
    "print(metadata) "
   ]
  }
 ],
 "metadata": {
  "kernelspec": {
   "display_name": "swarmauri-notebooks",
   "language": "python",
   "name": "python3"
  },
  "language_info": {
   "codemirror_mode": {
    "name": "ipython",
    "version": 3
   },
   "file_extension": ".py",
   "mimetype": "text/x-python",
   "name": "python",
   "nbconvert_exporter": "python",
   "pygments_lexer": "ipython3",
   "version": "3.11.11"
  }
 },
 "nbformat": 4,
 "nbformat_minor": 2
}
