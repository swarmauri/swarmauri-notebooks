{
 "cells": [
  {
   "cell_type": "markdown",
   "metadata": {
    "vscode": {
     "languageId": "plaintext"
    }
   },
   "source": [
    "## **Using Swarmauri Tools**"
   ]
  },
  {
   "cell_type": "markdown",
   "metadata": {},
   "source": [
    "In this notebook, we will explore how to use some of the tools provided by the `swarmauri` library. These tools are designed to simplify various tasks and workflows by offering pre-built functionalities.\n",
    "\n",
    "To begin, let's start with a simple example using the `CalculatorTool`. This tool allows us to perform basic arithmetic operations like addition, subtraction, multiplication, and division programmatically."
   ]
  },
  {
   "cell_type": "markdown",
   "metadata": {},
   "source": [
    "#### First, we import the `CalculatorTool` and instantiate it"
   ]
  },
  {
   "cell_type": "code",
   "execution_count": 3,
   "metadata": {},
   "outputs": [],
   "source": [
    "from swarmauri.tools.concrete.CalculatorTool import CalculatorTool  \n",
    "calculator_tool = CalculatorTool()"
   ]
  },
  {
   "cell_type": "markdown",
   "metadata": {},
   "source": [
    "#### To quickly see a description of any tool, we can use `.description`"
   ]
  },
  {
   "cell_type": "code",
   "execution_count": 6,
   "metadata": {},
   "outputs": [
    {
     "data": {
      "text/plain": [
       "'Performs basic arithmetic operations.'"
      ]
     },
     "execution_count": 6,
     "metadata": {},
     "output_type": "execute_result"
    }
   ],
   "source": [
    "calculator_tool.description"
   ]
  },
  {
   "cell_type": "markdown",
   "metadata": {},
   "source": [
    "#### Define parameters for the tool"
   ]
  },
  {
   "cell_type": "code",
   "execution_count": 7,
   "metadata": {},
   "outputs": [],
   "source": [
    "operation = \"add\"  # You can change this to \"subtract\", \"multiply\", or \"divide\"\n",
    "x = 10\n",
    "y = 5"
   ]
  },
  {
   "cell_type": "markdown",
   "metadata": {},
   "source": [
    "#### Use the tool to perform the operation"
   ]
  },
  {
   "cell_type": "code",
   "execution_count": 9,
   "metadata": {},
   "outputs": [],
   "source": [
    "result = calculator_tool(operation=operation, x=x, y=y)"
   ]
  },
  {
   "cell_type": "code",
   "execution_count": 10,
   "metadata": {},
   "outputs": [
    {
     "name": "stdout",
     "output_type": "stream",
     "text": [
      "Calculator Tool Output:\n",
      "{'operation': 'add', 'calculated_result': '15'}\n"
     ]
    }
   ],
   "source": [
    "# Print the result\n",
    "print(\"Calculator Tool Output:\")\n",
    "print(result)"
   ]
  },
  {
   "cell_type": "markdown",
   "metadata": {},
   "source": [
    "You can see, the tool was able to perform the calculation correctly."
   ]
  },
  {
   "cell_type": "markdown",
   "metadata": {},
   "source": [
    "#### Let's see another example using `JSONRequestTool` - This tool allows you perform HTTP operations."
   ]
  },
  {
   "cell_type": "code",
   "execution_count": 12,
   "metadata": {},
   "outputs": [],
   "source": [
    "# Import the JSONRequestsTool\n",
    "from swarmauri.tools.concrete.JSONRequestsTool import JSONRequestsTool \n",
    "# Instantiate the tool\n",
    "json_requests_tool = JSONRequestsTool()"
   ]
  },
  {
   "cell_type": "code",
   "execution_count": 13,
   "metadata": {},
   "outputs": [
    {
     "name": "stdout",
     "output_type": "stream",
     "text": [
      "GET Response:\n",
      "{'userId': 1, 'id': 1, 'title': 'sunt aut facere repellat provident occaecati excepturi optio reprehenderit', 'body': 'quia et suscipit\\nsuscipit recusandae consequuntur expedita et cum\\nreprehenderit molestiae ut ut quas totam\\nnostrum rerum est autem sunt rem eveniet architecto'}\n"
     ]
    }
   ],
   "source": [
    "# Example usage: Perform a GET request\n",
    "url = \"https://jsonplaceholder.typicode.com/posts/1\"\n",
    "get_response = json_requests_tool(method=\"get\", url=url)\n",
    "print(\"GET Response:\")\n",
    "print(get_response)"
   ]
  },
  {
   "cell_type": "code",
   "execution_count": 14,
   "metadata": {},
   "outputs": [
    {
     "name": "stdout",
     "output_type": "stream",
     "text": [
      "\n",
      "POST Response:\n",
      "{'title': 'foo', 'body': 'bar', 'userId': 1, 'id': 101}\n"
     ]
    }
   ],
   "source": [
    "# Example usage: Perform a POST request\n",
    "url = \"https://jsonplaceholder.typicode.com/posts\"\n",
    "post_data = {\n",
    "    \"title\": \"foo\",\n",
    "    \"body\": \"bar\",\n",
    "    \"userId\": 1\n",
    "}\n",
    "post_response = json_requests_tool(method=\"post\", url=url, json=post_data)\n",
    "print(\"\\nPOST Response:\")\n",
    "print(post_response)"
   ]
  },
  {
   "cell_type": "code",
   "execution_count": 15,
   "metadata": {},
   "outputs": [
    {
     "name": "stdout",
     "output_type": "stream",
     "text": [
      "\n",
      "PUT Response:\n",
      "{'id': 1, 'title': 'foo', 'body': 'updated bar', 'userId': 1}\n"
     ]
    }
   ],
   "source": [
    "# Example usage: Perform a PUT request\n",
    "url = \"https://jsonplaceholder.typicode.com/posts/1\"\n",
    "put_data = {\n",
    "    \"id\": 1,\n",
    "    \"title\": \"foo\",\n",
    "    \"body\": \"updated bar\",\n",
    "    \"userId\": 1\n",
    "}\n",
    "put_response = json_requests_tool(method=\"put\", url=url, json=put_data)\n",
    "print(\"\\nPUT Response:\")\n",
    "print(put_response)"
   ]
  },
  {
   "cell_type": "code",
   "execution_count": 16,
   "metadata": {},
   "outputs": [
    {
     "name": "stdout",
     "output_type": "stream",
     "text": [
      "\n",
      "DELETE Response:\n",
      "{}\n"
     ]
    }
   ],
   "source": [
    "# Example usage: Perform a DELETE request\n",
    "url = \"https://jsonplaceholder.typicode.com/posts/1\"\n",
    "delete_response = json_requests_tool(method=\"delete\", url=url)\n",
    "print(\"\\nDELETE Response:\")\n",
    "print(delete_response)"
   ]
  },
  {
   "cell_type": "markdown",
   "metadata": {},
   "source": [
    "### In Conclusion\n",
    "---\n",
    "\n",
    "The examples above demonstrate how to use some of the tools provided by `swarmauri`, such as the `CalculatorTool` and `JSONRequestsTool`, to perform specific tasks effortlessly. These tools are designed to save time, improve efficiency, and streamline workflows by abstracting complex functionalities into simple interfaces.\n",
    "\n",
    "These are just a few examples of the tools available in the `swarmauri` library. There’s a wide range of tools to explore, each tailored for different tasks and scenarios, such as making HTTP requests, text analysis, or working with AI models. \n",
    "\n",
    "Feel free to dive deeper into the library and experiment with other tools to unlock the full potential of `swarmauri` in your projects."
   ]
  },
  {
   "cell_type": "markdown",
   "metadata": {},
   "source": [
    "## **NOTEBOOK METADATA**"
   ]
  },
  {
   "cell_type": "code",
   "execution_count": 17,
   "metadata": {},
   "outputs": [
    {
     "name": "stdout",
     "output_type": "stream",
     "text": [
      "Author: Victory Nnaji\n",
      "GitHub Username: 3rd-Son\n",
      "Notebook File: Notebook_03_Using_Swarmauri_Tools.ipynb\n",
      "Last Modified: 2025-01-02 12:05:11.020794\n",
      "Platform: Darwin 24.1.0\n",
      "Python Version: 3.11.11 (main, Dec 11 2024, 10:25:04) [Clang 14.0.6 ]\n",
      "Swarmauri Version: 0.5.2\n",
      "None\n"
     ]
    }
   ],
   "source": [
    "from swarmauri.utils import print_notebook_metadata\n",
    "\n",
    "metadata = print_notebook_metadata.print_notebook_metadata(\"Victory Nnaji\", \"3rd-Son\")\n",
    "print(metadata) "
   ]
  }
 ],
 "metadata": {
  "kernelspec": {
   "display_name": "swarmauri-notebooks",
   "language": "python",
   "name": "python3"
  },
  "language_info": {
   "codemirror_mode": {
    "name": "ipython",
    "version": 3
   },
   "file_extension": ".py",
   "mimetype": "text/x-python",
   "name": "python",
   "nbconvert_exporter": "python",
   "pygments_lexer": "ipython3",
   "version": "3.11.11"
  }
 },
 "nbformat": 4,
 "nbformat_minor": 2
}
