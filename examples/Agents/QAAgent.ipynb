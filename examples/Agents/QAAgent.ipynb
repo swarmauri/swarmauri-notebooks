{
 "cells": [
  {
   "cell_type": "markdown",
   "id": "c7ea3636-cc30-4303-b0a0-9ebe936bc2c2",
   "metadata": {},
   "source": [
    "# Import Dependencies "
   ]
  },
  {
   "cell_type": "code",
   "execution_count": 1,
   "id": "d6250bdf-175f-4f84-bb2d-5741f83c8223",
   "metadata": {},
   "outputs": [
    {
     "data": {
      "text/plain": [
       "True"
      ]
     },
     "execution_count": 1,
     "metadata": {},
     "output_type": "execute_result"
    }
   ],
   "source": [
    "import os\n",
    "from swarmauri.standard.llms.concrete.GroqModel import GroqModel\n",
    "from swarmauri.standard.agents.concrete.QAAgent import QAAgent\n",
    "from dotenv import load_dotenv \n",
    "load_dotenv(); "
   ]
  },
  {
   "cell_type": "markdown",
   "id": "6f0cadf9-0885-409f-a758-4301e06d296f",
   "metadata": {},
   "source": [
    "# Instantiate QAAgent"
   ]
  },
  {
   "cell_type": "code",
   "execution_count": 2,
   "id": "d6c180a9-ac23-4360-abf1-53fbf5fa4a69",
   "metadata": {},
   "outputs": [],
   "source": [
    "llm = GroqModel(api_key = os.getenv('API_KEY'))\n",
    "agent = QAAgent(llm=llm)"
   ]
  },
  {
   "cell_type": "markdown",
   "id": "56087d53-9d3a-45e7-94d0-4135a6150b55",
   "metadata": {},
   "source": [
    "# Type and Resource of Agent"
   ]
  },
  {
   "cell_type": "code",
   "execution_count": 3,
   "id": "792568ec-58d4-43f1-8700-8fd84a0b70de",
   "metadata": {},
   "outputs": [
    {
     "data": {
      "text/plain": [
       "'Agent'"
      ]
     },
     "execution_count": 3,
     "metadata": {},
     "output_type": "execute_result"
    }
   ],
   "source": [
    "agent.resource"
   ]
  },
  {
   "cell_type": "code",
   "execution_count": 4,
   "id": "99f484dc-fc4a-47aa-92f6-d766ebd6e9d4",
   "metadata": {},
   "outputs": [
    {
     "data": {
      "text/plain": [
       "'QAAgent'"
      ]
     },
     "execution_count": 4,
     "metadata": {},
     "output_type": "execute_result"
    }
   ],
   "source": [
    "agent.type"
   ]
  },
  {
   "cell_type": "markdown",
   "id": "95f02b32-8bb3-43c7-86a3-2e18dd32322a",
   "metadata": {},
   "source": [
    "# Agent Execution"
   ]
  },
  {
   "cell_type": "code",
   "execution_count": 5,
   "id": "53813867-6fb8-4da6-b71b-97c467569ac7",
   "metadata": {},
   "outputs": [
    {
     "data": {
      "text/plain": [
       "\"Hello! 👋 It's great to hear from you. How can I help you today? 😊\""
      ]
     },
     "execution_count": 5,
     "metadata": {},
     "output_type": "execute_result"
    }
   ],
   "source": [
    "agent.exec('hello') "
   ]
  },
  {
   "cell_type": "markdown",
   "id": "f897fc96-37c3-4a21-93a2-7ddb80f2b222",
   "metadata": {},
   "source": [
    "# Serialization"
   ]
  },
  {
   "cell_type": "code",
   "execution_count": 6,
   "id": "d07f6b33-2724-44fa-9e34-2dd41fc573b6",
   "metadata": {},
   "outputs": [
    {
     "name": "stderr",
     "output_type": "stream",
     "text": [
      "C:\\Users\\lenovo\\AppData\\Local\\Programs\\Python\\Python310\\lib\\site-packages\\pydantic\\main.py:415: UserWarning: Pydantic serializer warnings:\n",
      "  Expected `enum` but got `str` - serialized value may not be as expected\n",
      "  Expected `enum` but got `str` - serialized value may not be as expected\n",
      "  return self.__pydantic_serializer__.to_json(\n"
     ]
    },
    {
     "data": {
      "text/plain": [
       "True"
      ]
     },
     "execution_count": 6,
     "metadata": {},
     "output_type": "execute_result"
    }
   ],
   "source": [
    "agent.id == QAAgent.model_validate_json(agent.model_dump_json()).id"
   ]
  }
 ],
 "metadata": {
  "kernelspec": {
   "display_name": "Python 3 (ipykernel)",
   "language": "python",
   "name": "python3"
  },
  "language_info": {
   "codemirror_mode": {
    "name": "ipython",
    "version": 3
   },
   "file_extension": ".py",
   "mimetype": "text/x-python",
   "name": "python",
   "nbconvert_exporter": "python",
   "pygments_lexer": "ipython3",
   "version": "3.10.11"
  }
 },
 "nbformat": 4,
 "nbformat_minor": 5
}
