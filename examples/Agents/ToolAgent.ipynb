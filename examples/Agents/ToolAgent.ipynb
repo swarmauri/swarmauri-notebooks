{
 "cells": [
  {
   "cell_type": "markdown",
   "id": "f99ed5ad-afd0-4fc9-93f3-3b478ee89615",
   "metadata": {},
   "source": [
    "# Import Dependencies "
   ]
  },
  {
   "cell_type": "code",
   "execution_count": 1,
   "id": "d7f16f98-b9a4-49be-b5d2-a89642841b7d",
   "metadata": {},
   "outputs": [
    {
     "name": "stderr",
     "output_type": "stream",
     "text": [
      "WARNING:root:Subclass Parameter does not have a type annotation\n"
     ]
    }
   ],
   "source": [
    "import os\n",
    "from swarmauri.standard.llms.concrete.GroqToolModel import GroqToolModel\n",
    "from swarmauri.standard.conversations.concrete.Conversation import Conversation\n",
    "from swarmauri.standard.tools.concrete.AdditionTool import AdditionTool\n",
    "from swarmauri.standard.toolkits.concrete.Toolkit import Toolkit\n",
    "from swarmauri.standard.agents.concrete.ToolAgent import ToolAgent \n",
    "from dotenv import load_dotenv \n",
    "load_dotenv(); "
   ]
  },
  {
   "cell_type": "markdown",
   "id": "a1c27ccc-a84c-455c-92ff-ff3f7a7bf2b9",
   "metadata": {},
   "source": [
    "# Instantiate Agent"
   ]
  },
  {
   "cell_type": "code",
   "execution_count": 2,
   "id": "dc171ea3-6fad-425f-89d3-c4a0daf66456",
   "metadata": {},
   "outputs": [],
   "source": [
    "llm = GroqToolModel(api_key = os.getenv('API_KEY'))\n",
    "conversation = Conversation()\n",
    "toolkit = Toolkit()\n",
    "tool = AdditionTool()\n",
    "toolkit.add_tool(tool)\n",
    "\n",
    "agent = ToolAgent(llm=llm, conversation=conversation, toolkit=toolkit)"
   ]
  },
  {
   "cell_type": "markdown",
   "id": "1d63eadd-38d0-48f3-8435-b26d3537b6ae",
   "metadata": {},
   "source": [
    "# Type and Resource of Agent"
   ]
  },
  {
   "cell_type": "code",
   "execution_count": 3,
   "id": "b015d869-f61c-4349-82cf-5f7a359cfdd7",
   "metadata": {},
   "outputs": [
    {
     "data": {
      "text/plain": [
       "'ToolAgent'"
      ]
     },
     "execution_count": 3,
     "metadata": {},
     "output_type": "execute_result"
    }
   ],
   "source": [
    "agent.type"
   ]
  },
  {
   "cell_type": "code",
   "execution_count": 4,
   "id": "36f3d9ed-2d70-4cb0-9ca8-d9c647c91c15",
   "metadata": {},
   "outputs": [
    {
     "data": {
      "text/plain": [
       "'Agent'"
      ]
     },
     "execution_count": 4,
     "metadata": {},
     "output_type": "execute_result"
    }
   ],
   "source": [
    "agent.resource"
   ]
  },
  {
   "cell_type": "markdown",
   "id": "4a3740c4-4769-4401-890b-d0ec4c13aa79",
   "metadata": {},
   "source": [
    "# Serialization"
   ]
  },
  {
   "cell_type": "code",
   "execution_count": 5,
   "id": "7c7d1644-645f-4d13-91b8-e38385126091",
   "metadata": {},
   "outputs": [
    {
     "name": "stderr",
     "output_type": "stream",
     "text": [
      "C:\\Users\\lenovo\\AppData\\Local\\Programs\\Python\\Python310\\lib\\site-packages\\pydantic\\main.py:415: UserWarning: Pydantic serializer warnings:\n",
      "  Expected `enum` but got `str` - serialized value may not be as expected\n",
      "  Expected `Union[ConversationBase, Conversation]` but got `Conversation` - serialized value may not be as expected\n",
      "  Expected `enum` but got `str` - serialized value may not be as expected\n",
      "  return self.__pydantic_serializer__.to_json(\n"
     ]
    },
    {
     "data": {
      "text/plain": [
       "True"
      ]
     },
     "execution_count": 5,
     "metadata": {},
     "output_type": "execute_result"
    }
   ],
   "source": [
    "agent.id == ToolAgent.model_validate_json(agent.model_dump_json()).id"
   ]
  },
  {
   "cell_type": "markdown",
   "id": "eec7da21-0227-4fe9-a109-e2b48b65b681",
   "metadata": {},
   "source": [
    "# Agent Execution"
   ]
  },
  {
   "cell_type": "code",
   "execution_count": null,
   "id": "8aa80186-48e4-4438-8fa6-ab8e7b2cf767",
   "metadata": {},
   "outputs": [],
   "source": [
    "result = agent.exec('Add 512+671')"
   ]
  }
 ],
 "metadata": {
  "kernelspec": {
   "display_name": "Python 3 (ipykernel)",
   "language": "python",
   "name": "python3"
  },
  "language_info": {
   "codemirror_mode": {
    "name": "ipython",
    "version": 3
   },
   "file_extension": ".py",
   "mimetype": "text/x-python",
   "name": "python",
   "nbconvert_exporter": "python",
   "pygments_lexer": "ipython3",
   "version": "3.10.11"
  }
 },
 "nbformat": 4,
 "nbformat_minor": 5
}
