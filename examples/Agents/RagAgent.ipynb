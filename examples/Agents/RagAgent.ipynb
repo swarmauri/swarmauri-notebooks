{
 "cells": [
  {
   "cell_type": "markdown",
   "id": "b928702c-b0bd-4971-8e0b-5592f6122c15",
   "metadata": {},
   "source": [
    "# Import Dependencies"
   ]
  },
  {
   "cell_type": "code",
   "execution_count": 1,
   "id": "7f4e7207-eec7-40b6-b2cb-3090eb6cf0e9",
   "metadata": {},
   "outputs": [],
   "source": [
    "from swarmauri.standard.llms.concrete.GroqModel import GroqModel\n",
    "from swarmauri.standard.conversations.concrete.MaxSystemContextConversation import MaxSystemContextConversation\n",
    "from swarmauri.standard.vector_stores.concrete.TfidfVectorStore import TfidfVectorStore\n",
    "from swarmauri.standard.messages.concrete.SystemMessage import SystemMessage\n",
    "from swarmauri.standard.documents.concrete.Document import Document\n",
    "from swarmauri.standard.agents.concrete.RagAgent import RagAgent\n",
    "\n",
    "from dotenv import load_dotenv \n",
    "load_dotenv(); "
   ]
  },
  {
   "cell_type": "markdown",
   "id": "4d6fd09c-d905-4e9f-bdc8-d8091ad25ba6",
   "metadata": {},
   "source": [
    "# Instantiate Agent"
   ]
  },
  {
   "cell_type": "code",
   "execution_count": 2,
   "id": "b0629363-e056-47a0-9eae-059492e3bba3",
   "metadata": {},
   "outputs": [
    {
     "ename": "NameError",
     "evalue": "name 'os' is not defined",
     "output_type": "error",
     "traceback": [
      "\u001b[1;31m---------------------------------------------------------------------------\u001b[0m",
      "\u001b[1;31mNameError\u001b[0m                                 Traceback (most recent call last)",
      "Cell \u001b[1;32mIn[2], line 1\u001b[0m\n\u001b[1;32m----> 1\u001b[0m llm \u001b[38;5;241m=\u001b[39m GroqModel(api_key \u001b[38;5;241m=\u001b[39m \u001b[43mos\u001b[49m\u001b[38;5;241m.\u001b[39mgetenv(\u001b[38;5;124m'\u001b[39m\u001b[38;5;124mAPI_KEY\u001b[39m\u001b[38;5;124m'\u001b[39m))\n\u001b[0;32m      2\u001b[0m system_context \u001b[38;5;241m=\u001b[39m SystemMessage(content\u001b[38;5;241m=\u001b[39m\u001b[38;5;124m'\u001b[39m\u001b[38;5;124mYour name is Jeff.\u001b[39m\u001b[38;5;124m'\u001b[39m)\n\u001b[0;32m      3\u001b[0m conversation \u001b[38;5;241m=\u001b[39m MaxSystemContextConversation(system_context\u001b[38;5;241m=\u001b[39msystem_context, max_size\u001b[38;5;241m=\u001b[39m\u001b[38;5;241m4\u001b[39m)\n",
      "\u001b[1;31mNameError\u001b[0m: name 'os' is not defined"
     ]
    }
   ],
   "source": [
    "llm = GroqModel(api_key = os.getenv('API_KEY'))\n",
    "system_context = SystemMessage(content='Your name is Jeff.')\n",
    "conversation = MaxSystemContextConversation(system_context=system_context, max_size=4)\n",
    "vector_store = TfidfVectorStore()\n",
    "documents = [Document(content=\"Their sister's name is Jane.\"),\n",
    "    Document(content=\"Their mother's name is Jean.\"),\n",
    "    Document(content=\"Their father's name is Joseph.\"),\n",
    "    Document(content=\"Their grandather's name is Alex.\")]\n",
    "vector_store.add_documents(documents)\n",
    "\n",
    "\n",
    "agent = RagAgent(llm=llm, \n",
    "    conversation=conversation,\n",
    "    system_context=system_context,\n",
    "    vector_store=vector_store\n",
    ")"
   ]
  },
  {
   "cell_type": "markdown",
   "id": "bd658589-5429-40ba-b343-56705a7c2d0f",
   "metadata": {},
   "source": [
    "# Type and Resource of Agent"
   ]
  },
  {
   "cell_type": "code",
   "execution_count": null,
   "id": "0036a7b5-eb5a-4dbd-8890-4a8254d55988",
   "metadata": {},
   "outputs": [],
   "source": [
    "agent.type"
   ]
  },
  {
   "cell_type": "code",
   "execution_count": null,
   "id": "8e6fd847-7491-42cb-8e56-02c32d9dd7d3",
   "metadata": {},
   "outputs": [],
   "source": [
    "agent.resource"
   ]
  },
  {
   "cell_type": "markdown",
   "id": "ffe99211-e478-4c6d-8305-59154461f071",
   "metadata": {},
   "source": [
    "# Serialization"
   ]
  },
  {
   "cell_type": "code",
   "execution_count": null,
   "id": "c59ee2ea-7747-4ba8-9dbd-7e06c5aaa493",
   "metadata": {},
   "outputs": [],
   "source": [
    "agent.id == RagAgent.model_validate_json(agent.model_dump_json()).id"
   ]
  },
  {
   "cell_type": "markdown",
   "id": "dd2f12fc-176a-48a8-911c-554785fcf5d0",
   "metadata": {},
   "source": [
    "# Agent Execution"
   ]
  },
  {
   "cell_type": "code",
   "execution_count": null,
   "id": "ab09ca25-d26b-4b96-8e18-649b35cc46dc",
   "metadata": {},
   "outputs": [],
   "source": [
    "agent.exec(\"What is the name of their grandfather?\")"
   ]
  }
 ],
 "metadata": {
  "kernelspec": {
   "display_name": "Python 3 (ipykernel)",
   "language": "python",
   "name": "python3"
  },
  "language_info": {
   "codemirror_mode": {
    "name": "ipython",
    "version": 3
   },
   "file_extension": ".py",
   "mimetype": "text/x-python",
   "name": "python",
   "nbconvert_exporter": "python",
   "pygments_lexer": "ipython3",
   "version": "3.10.11"
  }
 },
 "nbformat": 4,
 "nbformat_minor": 5
}
