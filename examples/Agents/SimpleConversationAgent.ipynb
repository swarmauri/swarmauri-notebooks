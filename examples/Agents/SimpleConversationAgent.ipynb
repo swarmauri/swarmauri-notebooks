{
 "cells": [
  {
   "cell_type": "markdown",
   "id": "4c8d3a86-be77-4480-9396-bcb5514d7ed8",
   "metadata": {},
   "source": [
    "# Import Dependencies "
   ]
  },
  {
   "cell_type": "code",
   "execution_count": 1,
   "id": "d1800ba5-9d41-4bd2-a26c-668a91ff7356",
   "metadata": {},
   "outputs": [],
   "source": [
    "import os\n",
    "from swarmauri.standard.llms.concrete.GroqModel import GroqModel\n",
    "from swarmauri.standard.conversations.concrete.Conversation import Conversation\n",
    "from swarmauri.standard.agents.concrete.SimpleConversationAgent import SimpleConversationAgent \n",
    "from dotenv import load_dotenv \n",
    "load_dotenv(); "
   ]
  },
  {
   "cell_type": "markdown",
   "id": "c476be7a-4a5c-4097-ad56-6b51d879ad35",
   "metadata": {},
   "source": [
    "# Instantiate Agent"
   ]
  },
  {
   "cell_type": "code",
   "execution_count": 3,
   "id": "28810405-2f22-4383-8d0e-67d5be976657",
   "metadata": {},
   "outputs": [],
   "source": [
    "llm = GroqModel(api_key = os.getenv('API_KEY'))\n",
    "conversation=Conversation()\n",
    "agent = SimpleConversationAgent(conversation=conversation, llm=llm)"
   ]
  },
  {
   "cell_type": "markdown",
   "id": "77863a89-0357-4a23-817f-f9230065fc78",
   "metadata": {},
   "source": [
    "# Type and Resource of Agent"
   ]
  },
  {
   "cell_type": "code",
   "execution_count": 5,
   "id": "6dd4d976-dc4c-47cf-9d0f-d0ab08dcd19e",
   "metadata": {},
   "outputs": [
    {
     "data": {
      "text/plain": [
       "'SimpleConversationAgent'"
      ]
     },
     "execution_count": 5,
     "metadata": {},
     "output_type": "execute_result"
    }
   ],
   "source": [
    "agent.type"
   ]
  },
  {
   "cell_type": "code",
   "execution_count": 6,
   "id": "634b823d-8662-46ae-9227-b0da76a02fbd",
   "metadata": {},
   "outputs": [
    {
     "data": {
      "text/plain": [
       "'Agent'"
      ]
     },
     "execution_count": 6,
     "metadata": {},
     "output_type": "execute_result"
    }
   ],
   "source": [
    "agent.resource"
   ]
  },
  {
   "cell_type": "markdown",
   "id": "57db9771-67c9-42a2-8cd3-e2b9f78d100c",
   "metadata": {},
   "source": [
    "# Serialization"
   ]
  },
  {
   "cell_type": "code",
   "execution_count": 8,
   "id": "4d0b9970-7520-4156-aa30-1a20ffe7eed2",
   "metadata": {},
   "outputs": [
    {
     "name": "stderr",
     "output_type": "stream",
     "text": [
      "C:\\Users\\lenovo\\AppData\\Local\\Programs\\Python\\Python310\\lib\\site-packages\\pydantic\\main.py:415: UserWarning: Pydantic serializer warnings:\n",
      "  Expected `enum` but got `str` - serialized value may not be as expected\n",
      "  Expected `Union[ConversationBase, Conversation]` but got `Conversation` - serialized value may not be as expected\n",
      "  Expected `enum` but got `str` - serialized value may not be as expected\n",
      "  return self.__pydantic_serializer__.to_json(\n"
     ]
    },
    {
     "data": {
      "text/plain": [
       "True"
      ]
     },
     "execution_count": 8,
     "metadata": {},
     "output_type": "execute_result"
    }
   ],
   "source": [
    "agent.id == SimpleConversationAgent.model_validate_json(agent.model_dump_json()).id"
   ]
  },
  {
   "cell_type": "markdown",
   "id": "2ba85fd1-1d84-4d0f-a277-1545efb00a69",
   "metadata": {},
   "source": [
    "# Agent Execution"
   ]
  },
  {
   "cell_type": "code",
   "execution_count": 9,
   "id": "092d8302-b3ed-4fb7-ad0a-7ff2536abc77",
   "metadata": {},
   "outputs": [
    {
     "data": {
      "text/plain": [
       "\"Hello! 👋 It's great to hear from you. How can I help you today? 😊\""
      ]
     },
     "execution_count": 9,
     "metadata": {},
     "output_type": "execute_result"
    }
   ],
   "source": [
    "agent.exec('hello')"
   ]
  }
 ],
 "metadata": {
  "kernelspec": {
   "display_name": "Python 3 (ipykernel)",
   "language": "python",
   "name": "python3"
  },
  "language_info": {
   "codemirror_mode": {
    "name": "ipython",
    "version": 3
   },
   "file_extension": ".py",
   "mimetype": "text/x-python",
   "name": "python",
   "nbconvert_exporter": "python",
   "pygments_lexer": "ipython3",
   "version": "3.10.11"
  }
 },
 "nbformat": 4,
 "nbformat_minor": 5
}
