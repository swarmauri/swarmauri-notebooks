{
 "cells": [
  {
   "cell_type": "markdown",
   "id": "a5d01e86-6308-4cf1-87cb-5ddcfa6a91b8",
   "metadata": {},
   "source": [
    "# Import Dependencies"
   ]
  },
  {
   "cell_type": "code",
   "execution_count": 1,
   "id": "8f63a21e-a620-4464-a151-126d38486929",
   "metadata": {},
   "outputs": [],
   "source": [
    "from swarmauri.standard.vectors.concrete.Vector import Vector"
   ]
  },
  {
   "cell_type": "markdown",
   "id": "8b30d3e7-b28c-46f9-9389-4cd0a6700cb7",
   "metadata": {},
   "source": [
    "# Instantiate Vector "
   ]
  },
  {
   "cell_type": "code",
   "execution_count": 2,
   "id": "21b3be10-c6df-455d-b5c9-0187ccb24497",
   "metadata": {},
   "outputs": [],
   "source": [
    "vector = Vector(value=[1, 2]) "
   ]
  },
  {
   "cell_type": "markdown",
   "id": "00cde2ea-74ac-4d5b-8c45-a7b723a5f678",
   "metadata": {},
   "source": [
    "# Type and Resource of Vector "
   ]
  },
  {
   "cell_type": "code",
   "execution_count": 3,
   "id": "5747e498-c1ec-45ea-9b05-a2ef4e0aaa20",
   "metadata": {},
   "outputs": [
    {
     "data": {
      "text/plain": [
       "'Vector'"
      ]
     },
     "execution_count": 3,
     "metadata": {},
     "output_type": "execute_result"
    }
   ],
   "source": [
    "vector.type "
   ]
  },
  {
   "cell_type": "code",
   "execution_count": 4,
   "id": "5d1f643c-2ee7-4e27-83a3-ceb0dfaa4faa",
   "metadata": {},
   "outputs": [
    {
     "data": {
      "text/plain": [
       "'Vector'"
      ]
     },
     "execution_count": 4,
     "metadata": {},
     "output_type": "execute_result"
    }
   ],
   "source": [
    "vector.resource"
   ]
  },
  {
   "cell_type": "markdown",
   "id": "07093316-9064-4d58-a0bc-da1c31272ffe",
   "metadata": {},
   "source": [
    "# Serialization"
   ]
  },
  {
   "cell_type": "code",
   "execution_count": 5,
   "id": "333bfdf7-8c61-4fc5-9e86-cf3d57fa3d21",
   "metadata": {},
   "outputs": [
    {
     "data": {
      "text/plain": [
       "True"
      ]
     },
     "execution_count": 5,
     "metadata": {},
     "output_type": "execute_result"
    }
   ],
   "source": [
    "vector.id == Vector.model_validate_json(vector.model_dump_json()).id"
   ]
  },
  {
   "cell_type": "markdown",
   "id": "cea9864c-f2bb-49bc-b188-67f148238fef",
   "metadata": {},
   "source": [
    "# Value of Vector"
   ]
  },
  {
   "cell_type": "code",
   "execution_count": 7,
   "id": "e03fb3a8-010d-4ca0-91fe-837e4354e216",
   "metadata": {},
   "outputs": [
    {
     "data": {
      "text/plain": [
       "[1.0, 2.0]"
      ]
     },
     "execution_count": 7,
     "metadata": {},
     "output_type": "execute_result"
    }
   ],
   "source": [
    "vector.value"
   ]
  },
  {
   "cell_type": "code",
   "execution_count": null,
   "id": "fe1d06f2-2e8b-4b0d-b136-34510b3ba2d8",
   "metadata": {},
   "outputs": [],
   "source": []
  }
 ],
 "metadata": {
  "kernelspec": {
   "display_name": "Python 3 (ipykernel)",
   "language": "python",
   "name": "python3"
  },
  "language_info": {
   "codemirror_mode": {
    "name": "ipython",
    "version": 3
   },
   "file_extension": ".py",
   "mimetype": "text/x-python",
   "name": "python",
   "nbconvert_exporter": "python",
   "pygments_lexer": "ipython3",
   "version": "3.10.10"
  }
 },
 "nbformat": 4,
 "nbformat_minor": 5
}
