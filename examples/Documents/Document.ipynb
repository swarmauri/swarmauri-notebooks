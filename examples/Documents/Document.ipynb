{
 "cells": [
  {
   "cell_type": "markdown",
   "id": "c3f32936-175b-48fe-87c1-aafa03571eed",
   "metadata": {},
   "source": [
    "# Import Dependencies"
   ]
  },
  {
   "cell_type": "code",
   "execution_count": 11,
   "id": "d86ee4d7-e016-479b-a3e5-fb217eb354ec",
   "metadata": {},
   "outputs": [],
   "source": [
    "from swarmauri.standard.documents.concrete.Document import Document"
   ]
  },
  {
   "cell_type": "markdown",
   "id": "430a89af-d419-4b27-b476-e1f8e2f1427b",
   "metadata": {},
   "source": [
    "# Instantiate Document"
   ]
  },
  {
   "cell_type": "code",
   "execution_count": 12,
   "id": "ed58f30d-6520-4036-9bcf-f4fa0822aca4",
   "metadata": {},
   "outputs": [],
   "source": [
    "document = Document(content=\"test\")"
   ]
  },
  {
   "cell_type": "markdown",
   "id": "e6c5dd51-8b8a-4060-891c-6e17b6d76b9b",
   "metadata": {},
   "source": [
    "# Type and Resource of Document"
   ]
  },
  {
   "cell_type": "code",
   "execution_count": 13,
   "id": "ef691499-d0bd-43da-9717-494d83fff089",
   "metadata": {},
   "outputs": [
    {
     "name": "stdout",
     "output_type": "stream",
     "text": [
      "resource:Document, type:Document\n"
     ]
    }
   ],
   "source": [
    "print(f'resource:{document.resource}, type:{document.type}')"
   ]
  },
  {
   "cell_type": "markdown",
   "id": "da23f9bc-3a38-4746-b179-f1892aa9b6aa",
   "metadata": {},
   "source": [
    "# Content"
   ]
  },
  {
   "cell_type": "code",
   "execution_count": 14,
   "id": "5804325d-0f9b-4929-b737-a4b945e034e5",
   "metadata": {},
   "outputs": [
    {
     "data": {
      "text/plain": [
       "'test'"
      ]
     },
     "execution_count": 14,
     "metadata": {},
     "output_type": "execute_result"
    }
   ],
   "source": [
    "document.content"
   ]
  },
  {
   "cell_type": "markdown",
   "id": "3c4ea70c-b792-48cb-86ce-0314da0f9d74",
   "metadata": {},
   "source": [
    "# Serialization"
   ]
  },
  {
   "cell_type": "code",
   "execution_count": 15,
   "id": "a7820a59-083d-4db6-b35c-ffc6eea62078",
   "metadata": {},
   "outputs": [
    {
     "data": {
      "text/plain": [
       "True"
      ]
     },
     "execution_count": 15,
     "metadata": {},
     "output_type": "execute_result"
    }
   ],
   "source": [
    "document.id == Document.model_validate_json(document.model_dump_json()).id"
   ]
  }
 ],
 "metadata": {
  "kernelspec": {
   "display_name": "Python 3 (ipykernel)",
   "language": "python",
   "name": "python3"
  },
  "language_info": {
   "codemirror_mode": {
    "name": "ipython",
    "version": 3
   },
   "file_extension": ".py",
   "mimetype": "text/x-python",
   "name": "python",
   "nbconvert_exporter": "python",
   "pygments_lexer": "ipython3",
   "version": "3.10.14"
  }
 },
 "nbformat": 4,
 "nbformat_minor": 5
}
