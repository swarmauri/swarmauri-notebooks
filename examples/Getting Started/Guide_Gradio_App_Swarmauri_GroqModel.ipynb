{
 "cells": [
  {
   "cell_type": "markdown",
   "id": "7f21ad4f-18f9-43a7-9fd1-166459193c03",
   "metadata": {},
   "source": [
    "# Step-by-Step Guide to Create a Gradio Application Using Swarmauri’s GroqModel"
   ]
  },
  {
   "cell_type": "markdown",
   "id": "edc6f626-c45d-4086-bfb7-969eceff16df",
   "metadata": {},
   "source": [
    "## Step 1: Environment Setup\n",
    "\n",
    "Before starting, ensure you have installed the necessary libraries and\n",
    "packages. You will need Swarmauri’s swarmauri-sdk python package. Please\n",
    "note, the swarmauri-sdk is currently in beta.\n",
    "To install these dependencies, run the following commands:"
   ]
  },
  {
   "cell_type": "markdown",
   "id": "2ee79422-3ce4-47b9-bb04-aa5d7da4bef7",
   "metadata": {},
   "source": [
    "```sh\n",
    "pip install swarmauri[full]==0.4.0\n",
    "```"
   ]
  },
  {
   "cell_type": "markdown",
   "id": "f050431b-ef9d-4a73-9018-ef1c7db7bdac",
   "metadata": {},
   "source": [
    "## Step 2:Import Neccessary Libraries"
   ]
  },
  {
   "cell_type": "code",
   "execution_count": 1,
   "id": "5442662d-f4eb-46ac-b2eb-655e10ae7795",
   "metadata": {
    "scrolled": true
   },
   "outputs": [],
   "source": [
    "import os\n",
    "import gradio as gr\n",
    "from swarmauri.standard.llms.concrete.GroqModel import GroqModel\n",
    "from swarmauri.standard.agents.concrete.SimpleConversationAgent import SimpleConversationAgent\n",
    "from swarmauri.standard.conversations.concrete.Conversation import Conversation"
   ]
  },
  {
   "cell_type": "markdown",
   "id": "8736a82c-0779-4e96-bb1e-2339e21488f0",
   "metadata": {},
   "source": [
    "## Step 3: Initialize the GroqModel"
   ]
  },
  {
   "cell_type": "code",
   "execution_count": 2,
   "id": "25ab8e9e-830c-4f1a-9f83-d2d2f15a1257",
   "metadata": {},
   "outputs": [
    {
     "ename": "ValidationError",
     "evalue": "1 validation error for GroqModel\napi_key\n  Input should be a valid string [type=string_type, input_value=None, input_type=NoneType]\n    For further information visit https://errors.pydantic.dev/2.8/v/string_type",
     "output_type": "error",
     "traceback": [
      "\u001b[1;31m---------------------------------------------------------------------------\u001b[0m",
      "\u001b[1;31mValidationError\u001b[0m                           Traceback (most recent call last)",
      "Cell \u001b[1;32mIn[2], line 5\u001b[0m\n\u001b[0;32m      2\u001b[0m API_KEY \u001b[38;5;241m=\u001b[39m os\u001b[38;5;241m.\u001b[39mgetenv(\u001b[38;5;124m'\u001b[39m\u001b[38;5;124mGROQ_API_KEY\u001b[39m\u001b[38;5;124m'\u001b[39m)\n\u001b[0;32m      4\u001b[0m \u001b[38;5;66;03m# Initialize the GroqModel\u001b[39;00m\n\u001b[1;32m----> 5\u001b[0m llm \u001b[38;5;241m=\u001b[39m \u001b[43mGroqModel\u001b[49m\u001b[43m(\u001b[49m\u001b[43mapi_key\u001b[49m\u001b[38;5;241;43m=\u001b[39;49m\u001b[43mAPI_KEY\u001b[49m\u001b[43m)\u001b[49m\n\u001b[0;32m      7\u001b[0m \u001b[38;5;66;03m# Create a SimpleConversationAgent with the GroqModel\u001b[39;00m\n\u001b[0;32m      8\u001b[0m conversation \u001b[38;5;241m=\u001b[39m Conversation()\n",
      "File \u001b[1;32mc:\\Users\\OREOLUWA\\anaconda3\\envs\\swarmauri-0.4.1\\lib\\site-packages\\pydantic\\main.py:193\u001b[0m, in \u001b[0;36mBaseModel.__init__\u001b[1;34m(self, **data)\u001b[0m\n\u001b[0;32m    191\u001b[0m \u001b[38;5;66;03m# `__tracebackhide__` tells pytest and some other tools to omit this function from tracebacks\u001b[39;00m\n\u001b[0;32m    192\u001b[0m __tracebackhide__ \u001b[38;5;241m=\u001b[39m \u001b[38;5;28;01mTrue\u001b[39;00m\n\u001b[1;32m--> 193\u001b[0m \u001b[38;5;28;43mself\u001b[39;49m\u001b[38;5;241;43m.\u001b[39;49m\u001b[43m__pydantic_validator__\u001b[49m\u001b[38;5;241;43m.\u001b[39;49m\u001b[43mvalidate_python\u001b[49m\u001b[43m(\u001b[49m\u001b[43mdata\u001b[49m\u001b[43m,\u001b[49m\u001b[43m \u001b[49m\u001b[43mself_instance\u001b[49m\u001b[38;5;241;43m=\u001b[39;49m\u001b[38;5;28;43mself\u001b[39;49m\u001b[43m)\u001b[49m\n",
      "\u001b[1;31mValidationError\u001b[0m: 1 validation error for GroqModel\napi_key\n  Input should be a valid string [type=string_type, input_value=None, input_type=NoneType]\n    For further information visit https://errors.pydantic.dev/2.8/v/string_type"
     ]
    }
   ],
   "source": [
    "# Fetch the API key from environment variables or define it directly (Not recomm\n",
    "API_KEY = os.getenv('GROQ_API_KEY')\n",
    "\n",
    "# Initialize the GroqModel\n",
    "llm = GroqModel(api_key=API_KEY)\n",
    "\n",
    "# Create a SimpleConversationAgent with the GroqModel\n",
    "conversation = Conversation()\n",
    "agent = SimpleConversationAgent(llm=llm, conversation=conversation)"
   ]
  },
  {
   "cell_type": "markdown",
   "id": "625ce0d6-cb2f-49f2-aea3-787cf29f50c1",
   "metadata": {},
   "source": [
    "## Step 4:Define the Gradio Interface"
   ]
  },
  {
   "cell_type": "code",
   "execution_count": null,
   "id": "4022a594-591b-46d1-8290-3f0990e4c0a0",
   "metadata": {},
   "outputs": [],
   "source": [
    "# Define the function to be executed for the gradio interface\n",
    "def converse(input_text, history):\n",
    "    result = agent.exec(input_text)\n",
    "    return result\n",
    "\n",
    "# Create the Gradio interface components\n",
    "demo = gr.ChatInterface(\n",
    "    fn=converse,\n",
    "    examples=[\"Hello!\"],\n",
    "    title=\"Ask me anything!\",\n",
    "    multimodal=False,\n",
    ")"
   ]
  },
  {
   "cell_type": "markdown",
   "id": "1b352984-ed05-4740-8cb3-1a9e0c8bec3e",
   "metadata": {},
   "source": [
    "## Step 5: Launch the Application"
   ]
  },
  {
   "cell_type": "code",
   "execution_count": null,
   "id": "af2d55ac-5f97-4f9d-8992-3886421230f6",
   "metadata": {},
   "outputs": [],
   "source": [
    "if __name__ == \"__main__\":\n",
    "    demo.launch(share=True)"
   ]
  },
  {
   "cell_type": "code",
   "execution_count": null,
   "id": "7d48a844-04a9-42e6-b45c-ca609a3cb078",
   "metadata": {},
   "outputs": [],
   "source": []
  }
 ],
 "metadata": {
  "kernelspec": {
   "display_name": "swarmauri(0.4.1)",
   "language": "python",
   "name": "swarmauri-0.4.1"
  },
  "language_info": {
   "codemirror_mode": {
    "name": "ipython",
    "version": 3
   },
   "file_extension": ".py",
   "mimetype": "text/x-python",
   "name": "python",
   "nbconvert_exporter": "python",
   "pygments_lexer": "ipython3",
   "version": "3.10.14"
  }
 },
 "nbformat": 4,
 "nbformat_minor": 5
}
