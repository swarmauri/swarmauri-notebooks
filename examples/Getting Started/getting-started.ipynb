{
 "cells": [
  {
   "cell_type": "markdown",
   "id": "aed61d84-99ae-4605-a538-bbc2a24243a9",
   "metadata": {},
   "source": [
    "```markdown\n",
    "# Install SwarmaURI SDK\n",
    "```"
   ]
  },
  {
   "cell_type": "code",
   "execution_count": null,
   "id": "d58fda81-6e45-4885-bea9-127f008a52ff",
   "metadata": {},
   "outputs": [],
   "source": [
    "pip install swarmauri[full]==0.4.1\n"
   ]
  },
  {
   "cell_type": "markdown",
   "id": "a9ede6b8-ffd9-42ef-a2cd-d44ac82bb501",
   "metadata": {},
   "source": [
    "```markdown\n",
    "# Verify Python Version\n",
    "\n",
    "```"
   ]
  },
  {
   "cell_type": "code",
   "execution_count": null,
   "id": "c9fd2235-a986-487e-bc28-920ceff37a20",
   "metadata": {},
   "outputs": [],
   "source": [
    "import platform"
   ]
  },
  {
   "cell_type": "code",
   "execution_count": null,
   "id": "8d4c6b34-a0c3-44b4-baf4-1de4e0266e17",
   "metadata": {},
   "outputs": [],
   "source": [
    "print(platform.python_version())"
   ]
  },
  {
   "cell_type": "markdown",
   "id": "5c093cd6-8214-4f5a-9d4c-b27ccaecbb68",
   "metadata": {},
   "source": [
    "```markdown\n",
    "# Verify SwarmaURI SDK Version\n",
    "\n",
    "```"
   ]
  },
  {
   "cell_type": "code",
   "execution_count": null,
   "id": "459cd037-2d84-4e32-bdff-0e2afd673dc8",
   "metadata": {},
   "outputs": [],
   "source": [
    "import swarmauri"
   ]
  },
  {
   "cell_type": "code",
   "execution_count": null,
   "id": "62ba7264-f5bc-4400-8ad9-3c8937d32704",
   "metadata": {},
   "outputs": [],
   "source": [
    "print(swarmauri.__version__)\n"
   ]
  },
  {
   "cell_type": "code",
   "execution_count": null,
   "id": "da4cf073-e211-4c89-914d-351c3745f5af",
   "metadata": {},
   "outputs": [],
   "source": []
  }
 ],
 "metadata": {
  "kernelspec": {
   "display_name": "swarmauri-0.4.1",
   "language": "python",
   "name": "python3"
  },
  "language_info": {
   "codemirror_mode": {
    "name": "ipython",
    "version": 3
   },
   "file_extension": ".py",
   "mimetype": "text/x-python",
   "name": "python",
   "nbconvert_exporter": "python",
   "pygments_lexer": "ipython3",
   "version": "3.10.14"
  }
 },
 "nbformat": 4,
 "nbformat_minor": 5
}
