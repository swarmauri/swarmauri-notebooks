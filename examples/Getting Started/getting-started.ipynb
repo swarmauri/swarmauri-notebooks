{
 "cells": [
  {
   "cell_type": "markdown",
   "id": "aed61d84-99ae-4605-a538-bbc2a24243a9",
   "metadata": {},
   "source": [
    "```markdown\n",
    "# Install SwarmaURI SDK\n",
    "The distribution files can be found in the \"dist\" library of the SwarmaURI SDK Github Repository.\n",
    "```"
   ]
  },
  {
   "cell_type": "code",
   "execution_count": 7,
   "id": "d58fda81-6e45-4885-bea9-127f008a52ff",
   "metadata": {},
   "outputs": [
    {
     "name": "stdout",
     "output_type": "stream",
     "text": [
      "Requirement already satisfied: swarmauri==0.4.1 in /Volumes/Cyberhub/EXTERNAL_PRJTS/swarmauri/swarmauri-notebooks/.venv/lib/python3.12/site-packages (from swarmauri[full]==0.4.1) (0.4.1)\n",
      "Requirement already satisfied: numpy in /Volumes/Cyberhub/EXTERNAL_PRJTS/swarmauri/swarmauri-notebooks/.venv/lib/python3.12/site-packages (from swarmauri==0.4.1->swarmauri[full]==0.4.1) (2.1.0)\n",
      "Requirement already satisfied: requests in /Volumes/Cyberhub/EXTERNAL_PRJTS/swarmauri/swarmauri-notebooks/.venv/lib/python3.12/site-packages (from swarmauri==0.4.1->swarmauri[full]==0.4.1) (2.32.3)\n",
      "Requirement already satisfied: pydantic in /Volumes/Cyberhub/EXTERNAL_PRJTS/swarmauri/swarmauri-notebooks/.venv/lib/python3.12/site-packages (from swarmauri==0.4.1->swarmauri[full]==0.4.1) (2.8.2)\n",
      "Collecting ai21>=2.2.0 (from swarmauri[full]==0.4.1)\n",
      "  Using cached ai21-2.14.1-py3-none-any.whl.metadata (22 kB)\n",
      "Collecting shuttleai (from swarmauri[full]==0.4.1)\n",
      "  Using cached shuttleai-4.5.7-py3-none-any.whl.metadata (6.4 kB)\n",
      "Collecting transformers (from swarmauri[full]==0.4.1)\n",
      "  Using cached transformers-4.44.2-py3-none-any.whl.metadata (43 kB)\n",
      "Collecting tensorflow (from swarmauri[full]==0.4.1)\n",
      "  Using cached tensorflow-2.17.0-cp312-cp312-macosx_12_0_arm64.whl.metadata (4.1 kB)\n",
      "Requirement already satisfied: typing-extensions in /Volumes/Cyberhub/EXTERNAL_PRJTS/swarmauri/swarmauri-notebooks/.venv/lib/python3.12/site-packages (from swarmauri[full]==0.4.1) (4.12.2)\n",
      "Collecting google-api-python-client (from swarmauri[full]==0.4.1)\n",
      "  Using cached google_api_python_client-2.142.0-py2.py3-none-any.whl.metadata (6.7 kB)\n",
      "Collecting google-auth-httplib2 (from swarmauri[full]==0.4.1)\n",
      "  Using cached google_auth_httplib2-0.2.0-py2.py3-none-any.whl.metadata (2.2 kB)\n",
      "Collecting google-auth-oauthlib (from swarmauri[full]==0.4.1)\n",
      "  Using cached google_auth_oauthlib-1.2.1-py2.py3-none-any.whl.metadata (2.7 kB)\n",
      "Collecting boto3 (from swarmauri[full]==0.4.1)\n",
      "  Using cached boto3-1.35.7-py3-none-any.whl.metadata (6.6 kB)\n",
      "Requirement already satisfied: yake in /Volumes/Cyberhub/EXTERNAL_PRJTS/swarmauri/swarmauri-notebooks/.venv/lib/python3.12/site-packages (from swarmauri[full]==0.4.1) (0.4.8)\n",
      "Collecting torch (from swarmauri[full]==0.4.1)\n",
      "  Using cached torch-2.4.0-cp312-none-macosx_11_0_arm64.whl.metadata (26 kB)\n",
      "Collecting scikit-learn (from swarmauri[full]==0.4.1)\n",
      "  Using cached scikit_learn-1.5.1-cp312-cp312-macosx_12_0_arm64.whl.metadata (12 kB)\n",
      "Collecting gensim (from swarmauri[full]==0.4.1)\n",
      "  Using cached gensim-4.3.3-cp312-cp312-macosx_11_0_arm64.whl.metadata (8.1 kB)\n",
      "Collecting textblob (from swarmauri[full]==0.4.1)\n",
      "  Using cached textblob-0.18.0.post0-py3-none-any.whl.metadata (4.5 kB)\n",
      "Collecting spacy==3.7.4 (from swarmauri[full]==0.4.1)\n",
      "  Using cached spacy-3.7.4-cp312-cp312-macosx_11_0_arm64.whl.metadata (27 kB)\n",
      "Requirement already satisfied: pygments in /Volumes/Cyberhub/EXTERNAL_PRJTS/swarmauri/swarmauri-notebooks/.venv/lib/python3.12/site-packages (from swarmauri[full]==0.4.1) (2.18.0)\n",
      "Collecting gradio (from swarmauri[full]==0.4.1)\n",
      "  Using cached gradio-4.42.0-py3-none-any.whl.metadata (15 kB)\n",
      "Collecting websockets (from swarmauri[full]==0.4.1)\n",
      "  Using cached websockets-13.0-cp312-cp312-macosx_11_0_arm64.whl.metadata (6.7 kB)\n",
      "Collecting openai (from swarmauri[full]==0.4.1)\n",
      "  Using cached openai-1.42.0-py3-none-any.whl.metadata (22 kB)\n",
      "Collecting groq (from swarmauri[full]==0.4.1)\n",
      "  Using cached groq-0.10.0-py3-none-any.whl.metadata (13 kB)\n",
      "Collecting mistralai (from swarmauri[full]==0.4.1)\n",
      "  Using cached mistralai-1.0.2-py3-none-any.whl.metadata (19 kB)\n",
      "Collecting cohere (from swarmauri[full]==0.4.1)\n",
      "  Using cached cohere-5.8.1-py3-none-any.whl.metadata (3.4 kB)\n",
      "Collecting google-generativeai (from swarmauri[full]==0.4.1)\n",
      "  Using cached google_generativeai-0.7.2-py3-none-any.whl.metadata (4.0 kB)\n",
      "Collecting anthropic (from swarmauri[full]==0.4.1)\n",
      "  Using cached anthropic-0.34.1-py3-none-any.whl.metadata (18 kB)\n",
      "INFO: pip is looking at multiple versions of swarmauri[full] to determine which version is compatible with other requirements. This could take a while.\n",
      "\u001b[31mERROR: Ignored the following yanked versions: 1.11.0, 1.14.0rc1\u001b[0m\u001b[31m\n",
      "\u001b[0m\u001b[31mERROR: Ignored the following versions that require a different python version: 1.10.0 Requires-Python <3.12,>=3.8; 1.10.0rc1 Requires-Python <3.12,>=3.8; 1.10.0rc2 Requires-Python <3.12,>=3.8; 1.10.1 Requires-Python <3.12,>=3.8; 1.6.2 Requires-Python >=3.7,<3.10; 1.6.3 Requires-Python >=3.7,<3.10; 1.7.0 Requires-Python >=3.7,<3.10; 1.7.1 Requires-Python >=3.7,<3.10; 1.7.2 Requires-Python >=3.7,<3.11; 1.7.3 Requires-Python >=3.7,<3.11; 1.8.0 Requires-Python >=3.8,<3.11; 1.8.0rc1 Requires-Python >=3.8,<3.11; 1.8.0rc2 Requires-Python >=3.8,<3.11; 1.8.0rc3 Requires-Python >=3.8,<3.11; 1.8.0rc4 Requires-Python >=3.8,<3.11; 1.8.1 Requires-Python >=3.8,<3.11; 1.9.0 Requires-Python >=3.8,<3.12; 1.9.0rc1 Requires-Python >=3.8,<3.12; 1.9.0rc2 Requires-Python >=3.8,<3.12; 1.9.0rc3 Requires-Python >=3.8,<3.12; 1.9.1 Requires-Python >=3.8,<3.12; 4.0.0 Requires-Python >=3.7,<3.11\u001b[0m\u001b[31m\n",
      "\u001b[0m\u001b[31mERROR: Could not find a version that satisfies the requirement scipy==1.10.0; extra == \"full\" (from swarmauri[full]) (from versions: 0.8.0, 0.9.0, 0.10.0, 0.10.1, 0.11.0, 0.12.0, 0.12.1, 0.13.0, 0.13.1, 0.13.2, 0.13.3, 0.14.0, 0.14.1, 0.15.0, 0.15.1, 0.16.0, 0.16.1, 0.17.0, 0.17.1, 0.18.0, 0.18.1, 0.19.0, 0.19.1, 1.0.0, 1.0.1, 1.1.0, 1.2.0, 1.2.1, 1.2.2, 1.2.3, 1.3.0, 1.3.1, 1.3.2, 1.3.3, 1.4.0, 1.4.1, 1.5.0, 1.5.1, 1.5.2, 1.5.3, 1.5.4, 1.6.0, 1.6.1, 1.9.2, 1.9.3, 1.11.0rc1, 1.11.0rc2, 1.11.1, 1.11.2, 1.11.3, 1.11.4, 1.12.0rc1, 1.12.0rc2, 1.12.0, 1.13.0rc1, 1.13.0, 1.13.1, 1.14.0rc2, 1.14.0, 1.14.1)\u001b[0m\u001b[31m\n",
      "\u001b[0m\u001b[31mERROR: No matching distribution found for scipy==1.10.0; extra == \"full\"\u001b[0m\u001b[31m\n",
      "\u001b[0mNote: you may need to restart the kernel to use updated packages.\n"
     ]
    }
   ],
   "source": [
    "pip install 'swarmauri[full]==0.4.1' # type: ignore"
   ]
  },
  {
   "cell_type": "markdown",
   "id": "a9ede6b8-ffd9-42ef-a2cd-d44ac82bb501",
   "metadata": {},
   "source": [
    "```markdown\n",
    "# Verify Python Version\n",
    "\n",
    "```"
   ]
  },
  {
   "cell_type": "code",
   "execution_count": 8,
   "id": "c9fd2235-a986-487e-bc28-920ceff37a20",
   "metadata": {},
   "outputs": [],
   "source": [
    "import platform"
   ]
  },
  {
   "cell_type": "code",
   "execution_count": 9,
   "id": "8d4c6b34-a0c3-44b4-baf4-1de4e0266e17",
   "metadata": {},
   "outputs": [
    {
     "name": "stdout",
     "output_type": "stream",
     "text": [
      "3.12.5\n"
     ]
    }
   ],
   "source": [
    "print(platform.python_version())"
   ]
  },
  {
   "cell_type": "markdown",
   "id": "5c093cd6-8214-4f5a-9d4c-b27ccaecbb68",
   "metadata": {},
   "source": [
    "```markdown\n",
    "# Verify SwarmaURI SDK Version\n",
    "\n",
    "```"
   ]
  },
  {
   "cell_type": "code",
   "execution_count": 10,
   "id": "459cd037-2d84-4e32-bdff-0e2afd673dc8",
   "metadata": {},
   "outputs": [],
   "source": [
    "import swarmauri"
   ]
  },
  {
   "cell_type": "code",
   "execution_count": 11,
   "id": "62ba7264-f5bc-4400-8ad9-3c8937d32704",
   "metadata": {},
   "outputs": [
    {
     "name": "stdout",
     "output_type": "stream",
     "text": [
      "0.4.1\n"
     ]
    }
   ],
   "source": [
    "print(swarmauri.__version__)\n"
   ]
  },
  {
   "cell_type": "code",
   "execution_count": null,
   "id": "da4cf073-e211-4c89-914d-351c3745f5af",
   "metadata": {},
   "outputs": [],
   "source": []
  }
 ],
 "metadata": {
  "kernelspec": {
   "display_name": "Python 3",
   "language": "python",
   "name": "python3"
  },
  "language_info": {
   "codemirror_mode": {
    "name": "ipython",
    "version": 3
   },
   "file_extension": ".py",
   "mimetype": "text/x-python",
   "name": "python",
   "nbconvert_exporter": "python",
   "pygments_lexer": "ipython3",
   "version": "3.12.5"
  }
 },
 "nbformat": 4,
 "nbformat_minor": 5
}
