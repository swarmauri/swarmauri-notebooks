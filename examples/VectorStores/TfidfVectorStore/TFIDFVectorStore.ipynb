{
 "cells": [
  {
   "cell_type": "markdown",
   "id": "752959e1-d97c-4706-90fc-a4c9ed4454d2",
   "metadata": {},
   "source": [
    "# Import Dependencies"
   ]
  },
  {
   "cell_type": "code",
   "execution_count": 1,
   "id": "4162aa48-9b22-40de-bd18-98215c811d4d",
   "metadata": {},
   "outputs": [],
   "source": [
    "from swarmauri.standard.documents.concrete.Document import Document\n",
    "from swarmauri.standard.vector_stores.concrete.TfidfVectorStore import TfidfVectorStore"
   ]
  },
  {
   "cell_type": "markdown",
   "id": "c8f8878d-55a8-4f00-8228-1e13b94c25a4",
   "metadata": {},
   "source": [
    "# Instantiate Vector Store and Documents List"
   ]
  },
  {
   "cell_type": "code",
   "execution_count": 2,
   "id": "3ef595ce-a924-4b58-ba5e-2ab4f4b31978",
   "metadata": {},
   "outputs": [],
   "source": [
    "vs = TfidfVectorStore()\n",
    "documents = [Document(content=\"test\"),\n",
    "     Document(content='test1'),\n",
    "     Document(content='test2'),\n",
    "     Document(content='pickle')]"
   ]
  },
  {
   "cell_type": "markdown",
   "id": "e1ca4768-abc6-4907-acf6-b49de2ad9e4a",
   "metadata": {},
   "source": [
    "# Add Documents"
   ]
  },
  {
   "cell_type": "code",
   "execution_count": 3,
   "id": "2c6240f0-6ba7-4a65-b589-b7a2b3e012e4",
   "metadata": {},
   "outputs": [],
   "source": [
    "vs.add_documents(documents)"
   ]
  },
  {
   "cell_type": "markdown",
   "id": "4f795200-eb2c-48fa-9102-b8e5e09dc20f",
   "metadata": {},
   "source": [
    "# Retrieve"
   ]
  },
  {
   "cell_type": "code",
   "execution_count": 4,
   "id": "1c9a8788-cada-4c4c-b606-ea359855f228",
   "metadata": {},
   "outputs": [
    {
     "data": {
      "text/plain": [
       "[Document(name=None, id='66ef0905-7bb4-4c8b-84d0-10aef72cec20', members=[], owner=None, host=None, resource='Document', version='0.1.0', type='Document', content='test', metadata={}, embedding=None)]"
      ]
     },
     "execution_count": 4,
     "metadata": {},
     "output_type": "execute_result"
    }
   ],
   "source": [
    "vs.retrieve('test', top_k=1)"
   ]
  }
 ],
 "metadata": {
  "kernelspec": {
   "display_name": "swarmauri(0.4.1)",
   "language": "python",
   "name": "swarmauri-0.4.1"
  },
  "language_info": {
   "codemirror_mode": {
    "name": "ipython",
    "version": 3
   },
   "file_extension": ".py",
   "mimetype": "text/x-python",
   "name": "python",
   "nbconvert_exporter": "python",
   "pygments_lexer": "ipython3",
   "version": "3.10.14"
  }
 },
 "nbformat": 4,
 "nbformat_minor": 5
}
